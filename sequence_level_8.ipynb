{
 "cells": [
  {
   "cell_type": "code",
   "execution_count": 1,
   "metadata": {},
   "outputs": [],
   "source": [
    "from google.cloud import bigquery\n",
    "import pandas as pd\n",
    "import matplotlib.pyplot as plt\n",
    "import seaborn as sns\n",
    "import numpy as np\n",
    "\n",
    "project_id = 'crazy-coffee-jam'\n",
    "\n",
    "from google.cloud import bigquery\n",
    "\n",
    "# Initialize the BigQuery client\n",
    "client = bigquery.Client(project=project_id)"
   ]
  },
  {
   "cell_type": "code",
   "execution_count": null,
   "metadata": {},
   "outputs": [],
   "source": []
  },
  {
   "cell_type": "markdown",
   "metadata": {},
   "source": [
    "## Check sequence user drop by inter level 8"
   ]
  },
  {
   "cell_type": "code",
   "execution_count": null,
   "metadata": {},
   "outputs": [],
   "source": []
  },
  {
   "cell_type": "code",
   "execution_count": null,
   "metadata": {},
   "outputs": [],
   "source": []
  },
  {
   "cell_type": "code",
   "execution_count": 14,
   "metadata": {},
   "outputs": [],
   "source": [
    "query = f\"\"\"\n",
    "SELECT\n",
    "  user_pseudo_id,\n",
    "  event_name,\n",
    "  event_timestamp,\n",
    "  ev.key,\n",
    "  COALESCE(ev.value.string_value,\n",
    "           CAST(ev.value.int_value AS STRING),\n",
    "           CAST(ev.value.float_value AS STRING),\n",
    "           CAST(ev.value.double_value AS STRING)\n",
    "  ) AS value\n",
    "FROM\n",
    "  `crazy-coffee-jam.analytics_483028617.events_intraday_*`,\n",
    "  UNNEST(event_params) AS ev\n",
    "WHERE\n",
    "  _TABLE_SUFFIX BETWEEN '20250422' AND '20250519'\n",
    "  and user_pseudo_id in ('{(\"','\".join(drop_after_inter_users))}')\n",
    "  and key not in ('firebase_event_origin','firebase_screen_class','ga_session_number', 'engaged_session_event', 'firebase_screen_id', 'ga_session_id', 'firebase_event_id',\n",
    "  'engagement_time_msec', 'system_app', 'previous_first_open_count', 'system_app_update', 'firebase_conversion', 'update_with_analytics', 'level_percent','IsLoop',\n",
    "  'value', 'ad_platform', 'ad_unit_name', 'currency','ad_source')\n",
    "ORDER BY\n",
    "  user_pseudo_id,\n",
    "  event_timestamp\n",
    "\"\"\"\n",
    "sequence_user = client.query(query).to_dataframe()"
   ]
  },
  {
   "cell_type": "code",
   "execution_count": 15,
   "metadata": {},
   "outputs": [
    {
     "data": {
      "text/html": [
       "<div>\n",
       "<style scoped>\n",
       "    .dataframe tbody tr th:only-of-type {\n",
       "        vertical-align: middle;\n",
       "    }\n",
       "\n",
       "    .dataframe tbody tr th {\n",
       "        vertical-align: top;\n",
       "    }\n",
       "\n",
       "    .dataframe thead th {\n",
       "        text-align: right;\n",
       "    }\n",
       "</style>\n",
       "<table border=\"1\" class=\"dataframe\">\n",
       "  <thead>\n",
       "    <tr style=\"text-align: right;\">\n",
       "      <th></th>\n",
       "      <th>user_pseudo_id</th>\n",
       "      <th>event_name</th>\n",
       "      <th>event_timestamp</th>\n",
       "      <th>key</th>\n",
       "      <th>value</th>\n",
       "    </tr>\n",
       "  </thead>\n",
       "  <tbody>\n",
       "    <tr>\n",
       "      <th>0</th>\n",
       "      <td>001a9c6f17af62e29f81d897699c7682</td>\n",
       "      <td>screen_view</td>\n",
       "      <td>1747259109613089</td>\n",
       "      <td>entrances</td>\n",
       "      <td>1</td>\n",
       "    </tr>\n",
       "    <tr>\n",
       "      <th>1</th>\n",
       "      <td>001a9c6f17af62e29f81d897699c7682</td>\n",
       "      <td>firebase_campaign</td>\n",
       "      <td>1747259109983088</td>\n",
       "      <td>campaign_info_source</td>\n",
       "      <td>referrer API v2</td>\n",
       "    </tr>\n",
       "    <tr>\n",
       "      <th>2</th>\n",
       "      <td>001a9c6f17af62e29f81d897699c7682</td>\n",
       "      <td>firebase_campaign</td>\n",
       "      <td>1747259109983088</td>\n",
       "      <td>medium</td>\n",
       "      <td>(not set)</td>\n",
       "    </tr>\n",
       "    <tr>\n",
       "      <th>3</th>\n",
       "      <td>001a9c6f17af62e29f81d897699c7682</td>\n",
       "      <td>firebase_campaign</td>\n",
       "      <td>1747259109983088</td>\n",
       "      <td>source</td>\n",
       "      <td>(not set)</td>\n",
       "    </tr>\n",
       "    <tr>\n",
       "      <th>4</th>\n",
       "      <td>001a9c6f17af62e29f81d897699c7682</td>\n",
       "      <td>start_level</td>\n",
       "      <td>1747259117918091</td>\n",
       "      <td>level</td>\n",
       "      <td>1</td>\n",
       "    </tr>\n",
       "    <tr>\n",
       "      <th>...</th>\n",
       "      <td>...</td>\n",
       "      <td>...</td>\n",
       "      <td>...</td>\n",
       "      <td>...</td>\n",
       "      <td>...</td>\n",
       "    </tr>\n",
       "    <tr>\n",
       "      <th>153684</th>\n",
       "      <td>fff7b258d6cddb69af658de0b448b768</td>\n",
       "      <td>resource_gain</td>\n",
       "      <td>1747202533623263</td>\n",
       "      <td>resource_amount</td>\n",
       "      <td>10</td>\n",
       "    </tr>\n",
       "    <tr>\n",
       "      <th>153685</th>\n",
       "      <td>fff7b258d6cddb69af658de0b448b768</td>\n",
       "      <td>screen_view</td>\n",
       "      <td>1747202541288265</td>\n",
       "      <td>firebase_previous_id</td>\n",
       "      <td>-2488493241754808185</td>\n",
       "    </tr>\n",
       "    <tr>\n",
       "      <th>153686</th>\n",
       "      <td>fff7b258d6cddb69af658de0b448b768</td>\n",
       "      <td>screen_view</td>\n",
       "      <td>1747202541288265</td>\n",
       "      <td>firebase_previous_class</td>\n",
       "      <td>MessagingUnityPlayerActivity</td>\n",
       "    </tr>\n",
       "    <tr>\n",
       "      <th>153687</th>\n",
       "      <td>fff7b258d6cddb69af658de0b448b768</td>\n",
       "      <td>ad_impression</td>\n",
       "      <td>1747202542502252</td>\n",
       "      <td>ad_format</td>\n",
       "      <td>INTER</td>\n",
       "    </tr>\n",
       "    <tr>\n",
       "      <th>153688</th>\n",
       "      <td>fff7b258d6cddb69af658de0b448b768</td>\n",
       "      <td>ad_cgteam_impression</td>\n",
       "      <td>1747202542502267</td>\n",
       "      <td>ad_format</td>\n",
       "      <td>INTER</td>\n",
       "    </tr>\n",
       "  </tbody>\n",
       "</table>\n",
       "<p>153689 rows × 5 columns</p>\n",
       "</div>"
      ],
      "text/plain": [
       "                          user_pseudo_id            event_name  \\\n",
       "0       001a9c6f17af62e29f81d897699c7682           screen_view   \n",
       "1       001a9c6f17af62e29f81d897699c7682     firebase_campaign   \n",
       "2       001a9c6f17af62e29f81d897699c7682     firebase_campaign   \n",
       "3       001a9c6f17af62e29f81d897699c7682     firebase_campaign   \n",
       "4       001a9c6f17af62e29f81d897699c7682           start_level   \n",
       "...                                  ...                   ...   \n",
       "153684  fff7b258d6cddb69af658de0b448b768         resource_gain   \n",
       "153685  fff7b258d6cddb69af658de0b448b768           screen_view   \n",
       "153686  fff7b258d6cddb69af658de0b448b768           screen_view   \n",
       "153687  fff7b258d6cddb69af658de0b448b768         ad_impression   \n",
       "153688  fff7b258d6cddb69af658de0b448b768  ad_cgteam_impression   \n",
       "\n",
       "         event_timestamp                      key  \\\n",
       "0       1747259109613089                entrances   \n",
       "1       1747259109983088     campaign_info_source   \n",
       "2       1747259109983088                   medium   \n",
       "3       1747259109983088                   source   \n",
       "4       1747259117918091                    level   \n",
       "...                  ...                      ...   \n",
       "153684  1747202533623263          resource_amount   \n",
       "153685  1747202541288265     firebase_previous_id   \n",
       "153686  1747202541288265  firebase_previous_class   \n",
       "153687  1747202542502252                ad_format   \n",
       "153688  1747202542502267                ad_format   \n",
       "\n",
       "                               value  \n",
       "0                                  1  \n",
       "1                    referrer API v2  \n",
       "2                          (not set)  \n",
       "3                          (not set)  \n",
       "4                                  1  \n",
       "...                              ...  \n",
       "153684                            10  \n",
       "153685          -2488493241754808185  \n",
       "153686  MessagingUnityPlayerActivity  \n",
       "153687                         INTER  \n",
       "153688                         INTER  \n",
       "\n",
       "[153689 rows x 5 columns]"
      ]
     },
     "execution_count": 15,
     "metadata": {},
     "output_type": "execute_result"
    }
   ],
   "source": [
    "sequence_user"
   ]
  },
  {
   "cell_type": "code",
   "execution_count": 16,
   "metadata": {},
   "outputs": [
    {
     "data": {
      "text/html": [
       "<div>\n",
       "<style scoped>\n",
       "    .dataframe tbody tr th:only-of-type {\n",
       "        vertical-align: middle;\n",
       "    }\n",
       "\n",
       "    .dataframe tbody tr th {\n",
       "        vertical-align: top;\n",
       "    }\n",
       "\n",
       "    .dataframe thead th {\n",
       "        text-align: right;\n",
       "    }\n",
       "</style>\n",
       "<table border=\"1\" class=\"dataframe\">\n",
       "  <thead>\n",
       "    <tr style=\"text-align: right;\">\n",
       "      <th></th>\n",
       "      <th>user_pseudo_id</th>\n",
       "      <th>event_name</th>\n",
       "      <th>event_timestamp</th>\n",
       "      <th>key</th>\n",
       "      <th>value</th>\n",
       "    </tr>\n",
       "  </thead>\n",
       "  <tbody>\n",
       "    <tr>\n",
       "      <th>125</th>\n",
       "      <td>001a9c6f17af62e29f81d897699c7682</td>\n",
       "      <td>start_level</td>\n",
       "      <td>1747259435318251</td>\n",
       "      <td>level</td>\n",
       "      <td>8</td>\n",
       "    </tr>\n",
       "    <tr>\n",
       "      <th>126</th>\n",
       "      <td>001a9c6f17af62e29f81d897699c7682</td>\n",
       "      <td>booster_gain</td>\n",
       "      <td>1747259437823252</td>\n",
       "      <td>level</td>\n",
       "      <td>8</td>\n",
       "    </tr>\n",
       "    <tr>\n",
       "      <th>127</th>\n",
       "      <td>001a9c6f17af62e29f81d897699c7682</td>\n",
       "      <td>booster_gain</td>\n",
       "      <td>1747259437823252</td>\n",
       "      <td>booster_type</td>\n",
       "      <td>Frezze</td>\n",
       "    </tr>\n",
       "    <tr>\n",
       "      <th>128</th>\n",
       "      <td>001a9c6f17af62e29f81d897699c7682</td>\n",
       "      <td>booster_gain</td>\n",
       "      <td>1747259437823252</td>\n",
       "      <td>booster_method</td>\n",
       "      <td>Free</td>\n",
       "    </tr>\n",
       "    <tr>\n",
       "      <th>129</th>\n",
       "      <td>001a9c6f17af62e29f81d897699c7682</td>\n",
       "      <td>booster_use</td>\n",
       "      <td>1747259439858253</td>\n",
       "      <td>booster_type</td>\n",
       "      <td>Frezze</td>\n",
       "    </tr>\n",
       "    <tr>\n",
       "      <th>...</th>\n",
       "      <td>...</td>\n",
       "      <td>...</td>\n",
       "      <td>...</td>\n",
       "      <td>...</td>\n",
       "      <td>...</td>\n",
       "    </tr>\n",
       "    <tr>\n",
       "      <th>153684</th>\n",
       "      <td>fff7b258d6cddb69af658de0b448b768</td>\n",
       "      <td>resource_gain</td>\n",
       "      <td>1747202533623263</td>\n",
       "      <td>resource_amount</td>\n",
       "      <td>10</td>\n",
       "    </tr>\n",
       "    <tr>\n",
       "      <th>153685</th>\n",
       "      <td>fff7b258d6cddb69af658de0b448b768</td>\n",
       "      <td>screen_view</td>\n",
       "      <td>1747202541288265</td>\n",
       "      <td>firebase_previous_id</td>\n",
       "      <td>-2488493241754808185</td>\n",
       "    </tr>\n",
       "    <tr>\n",
       "      <th>153686</th>\n",
       "      <td>fff7b258d6cddb69af658de0b448b768</td>\n",
       "      <td>screen_view</td>\n",
       "      <td>1747202541288265</td>\n",
       "      <td>firebase_previous_class</td>\n",
       "      <td>MessagingUnityPlayerActivity</td>\n",
       "    </tr>\n",
       "    <tr>\n",
       "      <th>153687</th>\n",
       "      <td>fff7b258d6cddb69af658de0b448b768</td>\n",
       "      <td>INTER</td>\n",
       "      <td>1747202542502252</td>\n",
       "      <td>ad_format</td>\n",
       "      <td>INTER</td>\n",
       "    </tr>\n",
       "    <tr>\n",
       "      <th>153688</th>\n",
       "      <td>fff7b258d6cddb69af658de0b448b768</td>\n",
       "      <td>ad_cgteam_impression</td>\n",
       "      <td>1747202542502267</td>\n",
       "      <td>ad_format</td>\n",
       "      <td>INTER</td>\n",
       "    </tr>\n",
       "  </tbody>\n",
       "</table>\n",
       "<p>28390 rows × 5 columns</p>\n",
       "</div>"
      ],
      "text/plain": [
       "                          user_pseudo_id            event_name  \\\n",
       "125     001a9c6f17af62e29f81d897699c7682           start_level   \n",
       "126     001a9c6f17af62e29f81d897699c7682          booster_gain   \n",
       "127     001a9c6f17af62e29f81d897699c7682          booster_gain   \n",
       "128     001a9c6f17af62e29f81d897699c7682          booster_gain   \n",
       "129     001a9c6f17af62e29f81d897699c7682           booster_use   \n",
       "...                                  ...                   ...   \n",
       "153684  fff7b258d6cddb69af658de0b448b768         resource_gain   \n",
       "153685  fff7b258d6cddb69af658de0b448b768           screen_view   \n",
       "153686  fff7b258d6cddb69af658de0b448b768           screen_view   \n",
       "153687  fff7b258d6cddb69af658de0b448b768                 INTER   \n",
       "153688  fff7b258d6cddb69af658de0b448b768  ad_cgteam_impression   \n",
       "\n",
       "         event_timestamp                      key  \\\n",
       "125     1747259435318251                    level   \n",
       "126     1747259437823252                    level   \n",
       "127     1747259437823252             booster_type   \n",
       "128     1747259437823252           booster_method   \n",
       "129     1747259439858253             booster_type   \n",
       "...                  ...                      ...   \n",
       "153684  1747202533623263          resource_amount   \n",
       "153685  1747202541288265     firebase_previous_id   \n",
       "153686  1747202541288265  firebase_previous_class   \n",
       "153687  1747202542502252                ad_format   \n",
       "153688  1747202542502267                ad_format   \n",
       "\n",
       "                               value  \n",
       "125                                8  \n",
       "126                                8  \n",
       "127                           Frezze  \n",
       "128                             Free  \n",
       "129                           Frezze  \n",
       "...                              ...  \n",
       "153684                            10  \n",
       "153685          -2488493241754808185  \n",
       "153686  MessagingUnityPlayerActivity  \n",
       "153687                         INTER  \n",
       "153688                         INTER  \n",
       "\n",
       "[28390 rows x 5 columns]"
      ]
     },
     "execution_count": 16,
     "metadata": {},
     "output_type": "execute_result"
    }
   ],
   "source": [
    "# Chỉ lấy các event sau khi user bắt đầu level 8\n",
    "# Get the timestamp when each user started level 8\n",
    "level_8_start_times = sequence_user[\n",
    "    (sequence_user['event_name'] == 'start_level') &\n",
    "    (sequence_user['key'] == 'level') &\n",
    "    (sequence_user['value'] == '8')\n",
    "].groupby('user_pseudo_id')['event_timestamp'].min()\n",
    "\n",
    "# Filter sequence_user to only include events after each user's level 8 start\n",
    "sequence_user = sequence_user.merge(\n",
    "    level_8_start_times.reset_index(),\n",
    "    on='user_pseudo_id',\n",
    "    suffixes=('', '_level8_start')\n",
    ")\n",
    "sequence_user = sequence_user[\n",
    "    sequence_user['event_timestamp'] >= sequence_user['event_timestamp_level8_start']\n",
    "].drop('event_timestamp_level8_start', axis=1)\n",
    "\n",
    "# Bỏ các dòng có event_name là booster_use và key là level và value là 8\n",
    "sequence_user = sequence_user[\n",
    "    ~((sequence_user['event_name'] == 'booster_use') &\n",
    "      (sequence_user['key'] == 'level') &\n",
    "      (sequence_user['value'] == '8'))\n",
    "]\n",
    "\n",
    "# Drop rows where value is 'BANNER'\n",
    "sequence_user = sequence_user[sequence_user['value'] != 'BANNER']\n",
    "sequence_user = sequence_user[sequence_user['value'] != 'LEADER']\n",
    "\n",
    "# For ad_impression events, replace event_name with the corresponding value\n",
    "sequence_user.loc[sequence_user['event_name'] == 'ad_impression', 'event_name'] = sequence_user.loc[sequence_user['event_name'] == 'ad_impression', 'value']\n",
    "\n",
    "sequence_user"
   ]
  },
  {
   "cell_type": "code",
   "execution_count": 18,
   "metadata": {},
   "outputs": [
    {
     "name": "stdout",
     "output_type": "stream",
     "text": [
      "Level counts:\n",
      "  value  count\n",
      "0    01      8\n",
      "1     6      9\n",
      "2     7      2\n",
      "3     8  11039\n",
      "4     9    645\n"
     ]
    }
   ],
   "source": [
    "# Count number of rows for each level value where key = 'level'\n",
    "level_counts = sequence_user[sequence_user['key'] == 'level'].groupby('value').size().reset_index(name='count')\n",
    "print(\"Level counts:\")\n",
    "print(level_counts)"
   ]
  },
  {
   "cell_type": "code",
   "execution_count": 19,
   "metadata": {},
   "outputs": [
    {
     "name": "stdout",
     "output_type": "stream",
     "text": [
      "Rows with key='level' and value != '8':\n",
      "                          user_pseudo_id     event_name   event_timestamp  \\\n",
      "171     001a9c6f17af62e29f81d897699c7682  resource_gain  1747259542054282   \n",
      "387     002d60067763bd3fb22ffd24ad1dd424  resource_gain  1747346674205913   \n",
      "621     01016693579df9c72c3c0b94fcb9609c  resource_gain  1747072524648806   \n",
      "846     01a131f975505e3eec9ff4f499cd3826  resource_gain  1746648693573755   \n",
      "1079    01c5688a99cd703075ac8847025d2ae3  resource_gain  1746729932428475   \n",
      "...                                  ...            ...               ...   \n",
      "152787  ff73128446a78f62a5e088fd76236069  resource_gain  1747507230338784   \n",
      "153018  ff78eeca154db2b41a8a39eacc9f4ad2  resource_gain  1746420571387366   \n",
      "153224  ff8ea320a832ac7f4f52e98a2660bd7a  resource_gain  1746294256059304   \n",
      "153427  ff9785c48aa0a3cb80f06202a5acdd0d  resource_gain  1747480718226752   \n",
      "153681  fff7b258d6cddb69af658de0b448b768  resource_gain  1747202533623263   \n",
      "\n",
      "          key value  \n",
      "171     level     9  \n",
      "387     level     9  \n",
      "621     level     9  \n",
      "846     level     9  \n",
      "1079    level     9  \n",
      "...       ...   ...  \n",
      "152787  level     9  \n",
      "153018  level     9  \n",
      "153224  level     9  \n",
      "153427  level     9  \n",
      "153681  level     9  \n",
      "\n",
      "[664 rows x 5 columns]\n"
     ]
    }
   ],
   "source": [
    "print(\"Rows with key='level' and value != '8':\")\n",
    "print(sequence_user[(sequence_user['key'] == 'level') & (sequence_user['value'] != '8')])"
   ]
  },
  {
   "cell_type": "code",
   "execution_count": 20,
   "metadata": {},
   "outputs": [
    {
     "name": "stdout",
     "output_type": "stream",
     "text": [
      "Number of users who reached level 9:\n",
      "642\n"
     ]
    }
   ],
   "source": [
    "print(\"Number of users who reached level 9:\")\n",
    "print(sequence_user[\n",
    "    (sequence_user['key'] == 'level') & \n",
    "    (sequence_user['value'] == '9')\n",
    "]['user_pseudo_id'].nunique())"
   ]
  },
  {
   "cell_type": "code",
   "execution_count": 21,
   "metadata": {},
   "outputs": [
    {
     "data": {
      "text/plain": [
       "array(['resource_gain'], dtype=object)"
      ]
     },
     "execution_count": 21,
     "metadata": {},
     "output_type": "execute_result"
    }
   ],
   "source": [
    "level9 = sequence_user[(sequence_user['key'] == 'level') & (sequence_user['value'] == '9')]\n",
    "level9['event_name'].unique()"
   ]
  },
  {
   "cell_type": "code",
   "execution_count": 23,
   "metadata": {},
   "outputs": [],
   "source": [
    "df = sequence_user.sort_values(['user_pseudo_id', 'event_timestamp'], ascending=[True, True])"
   ]
  },
  {
   "cell_type": "code",
   "execution_count": 25,
   "metadata": {},
   "outputs": [
    {
     "data": {
      "text/html": [
       "<div>\n",
       "<style scoped>\n",
       "    .dataframe tbody tr th:only-of-type {\n",
       "        vertical-align: middle;\n",
       "    }\n",
       "\n",
       "    .dataframe tbody tr th {\n",
       "        vertical-align: top;\n",
       "    }\n",
       "\n",
       "    .dataframe thead th {\n",
       "        text-align: right;\n",
       "    }\n",
       "</style>\n",
       "<table border=\"1\" class=\"dataframe\">\n",
       "  <thead>\n",
       "    <tr style=\"text-align: right;\">\n",
       "      <th></th>\n",
       "      <th>user_pseudo_id</th>\n",
       "      <th>event_name</th>\n",
       "      <th>event_timestamp</th>\n",
       "      <th>key</th>\n",
       "      <th>value</th>\n",
       "    </tr>\n",
       "  </thead>\n",
       "  <tbody>\n",
       "    <tr>\n",
       "      <th>125</th>\n",
       "      <td>001a9c6f17af62e29f81d897699c7682</td>\n",
       "      <td>start_level</td>\n",
       "      <td>1747259435318251</td>\n",
       "      <td>level</td>\n",
       "      <td>8</td>\n",
       "    </tr>\n",
       "    <tr>\n",
       "      <th>126</th>\n",
       "      <td>001a9c6f17af62e29f81d897699c7682</td>\n",
       "      <td>booster_gain</td>\n",
       "      <td>1747259437823252</td>\n",
       "      <td>level</td>\n",
       "      <td>8</td>\n",
       "    </tr>\n",
       "    <tr>\n",
       "      <th>127</th>\n",
       "      <td>001a9c6f17af62e29f81d897699c7682</td>\n",
       "      <td>booster_gain</td>\n",
       "      <td>1747259437823252</td>\n",
       "      <td>booster_type</td>\n",
       "      <td>Frezze</td>\n",
       "    </tr>\n",
       "    <tr>\n",
       "      <th>128</th>\n",
       "      <td>001a9c6f17af62e29f81d897699c7682</td>\n",
       "      <td>booster_gain</td>\n",
       "      <td>1747259437823252</td>\n",
       "      <td>booster_method</td>\n",
       "      <td>Free</td>\n",
       "    </tr>\n",
       "    <tr>\n",
       "      <th>129</th>\n",
       "      <td>001a9c6f17af62e29f81d897699c7682</td>\n",
       "      <td>booster_use</td>\n",
       "      <td>1747259439858253</td>\n",
       "      <td>booster_type</td>\n",
       "      <td>Frezze</td>\n",
       "    </tr>\n",
       "    <tr>\n",
       "      <th>133</th>\n",
       "      <td>001a9c6f17af62e29f81d897699c7682</td>\n",
       "      <td>box_complete</td>\n",
       "      <td>1747259454186256</td>\n",
       "      <td>level</td>\n",
       "      <td>8</td>\n",
       "    </tr>\n",
       "    <tr>\n",
       "      <th>134</th>\n",
       "      <td>001a9c6f17af62e29f81d897699c7682</td>\n",
       "      <td>box_complete</td>\n",
       "      <td>1747259454186256</td>\n",
       "      <td>box_id</td>\n",
       "      <td>5</td>\n",
       "    </tr>\n",
       "    <tr>\n",
       "      <th>135</th>\n",
       "      <td>001a9c6f17af62e29f81d897699c7682</td>\n",
       "      <td>box_complete</td>\n",
       "      <td>1747259459632257</td>\n",
       "      <td>box_id</td>\n",
       "      <td>1</td>\n",
       "    </tr>\n",
       "    <tr>\n",
       "      <th>136</th>\n",
       "      <td>001a9c6f17af62e29f81d897699c7682</td>\n",
       "      <td>box_complete</td>\n",
       "      <td>1747259459632257</td>\n",
       "      <td>level</td>\n",
       "      <td>8</td>\n",
       "    </tr>\n",
       "    <tr>\n",
       "      <th>139</th>\n",
       "      <td>001a9c6f17af62e29f81d897699c7682</td>\n",
       "      <td>box_complete</td>\n",
       "      <td>1747259464417260</td>\n",
       "      <td>level</td>\n",
       "      <td>8</td>\n",
       "    </tr>\n",
       "    <tr>\n",
       "      <th>140</th>\n",
       "      <td>001a9c6f17af62e29f81d897699c7682</td>\n",
       "      <td>box_complete</td>\n",
       "      <td>1747259464417260</td>\n",
       "      <td>box_id</td>\n",
       "      <td>4</td>\n",
       "    </tr>\n",
       "    <tr>\n",
       "      <th>143</th>\n",
       "      <td>001a9c6f17af62e29f81d897699c7682</td>\n",
       "      <td>box_complete</td>\n",
       "      <td>1747259496371263</td>\n",
       "      <td>box_id</td>\n",
       "      <td>6</td>\n",
       "    </tr>\n",
       "    <tr>\n",
       "      <th>144</th>\n",
       "      <td>001a9c6f17af62e29f81d897699c7682</td>\n",
       "      <td>box_complete</td>\n",
       "      <td>1747259496371263</td>\n",
       "      <td>level</td>\n",
       "      <td>8</td>\n",
       "    </tr>\n",
       "    <tr>\n",
       "      <th>147</th>\n",
       "      <td>001a9c6f17af62e29f81d897699c7682</td>\n",
       "      <td>box_complete</td>\n",
       "      <td>1747259507129266</td>\n",
       "      <td>box_id</td>\n",
       "      <td>8</td>\n",
       "    </tr>\n",
       "    <tr>\n",
       "      <th>148</th>\n",
       "      <td>001a9c6f17af62e29f81d897699c7682</td>\n",
       "      <td>box_complete</td>\n",
       "      <td>1747259507129266</td>\n",
       "      <td>level</td>\n",
       "      <td>8</td>\n",
       "    </tr>\n",
       "    <tr>\n",
       "      <th>149</th>\n",
       "      <td>001a9c6f17af62e29f81d897699c7682</td>\n",
       "      <td>box_complete</td>\n",
       "      <td>1747259509576267</td>\n",
       "      <td>box_id</td>\n",
       "      <td>0</td>\n",
       "    </tr>\n",
       "    <tr>\n",
       "      <th>150</th>\n",
       "      <td>001a9c6f17af62e29f81d897699c7682</td>\n",
       "      <td>box_complete</td>\n",
       "      <td>1747259509576267</td>\n",
       "      <td>level</td>\n",
       "      <td>8</td>\n",
       "    </tr>\n",
       "    <tr>\n",
       "      <th>151</th>\n",
       "      <td>001a9c6f17af62e29f81d897699c7682</td>\n",
       "      <td>box_complete</td>\n",
       "      <td>1747259517659268</td>\n",
       "      <td>level</td>\n",
       "      <td>8</td>\n",
       "    </tr>\n",
       "    <tr>\n",
       "      <th>152</th>\n",
       "      <td>001a9c6f17af62e29f81d897699c7682</td>\n",
       "      <td>box_complete</td>\n",
       "      <td>1747259517659268</td>\n",
       "      <td>box_id</td>\n",
       "      <td>7</td>\n",
       "    </tr>\n",
       "    <tr>\n",
       "      <th>155</th>\n",
       "      <td>001a9c6f17af62e29f81d897699c7682</td>\n",
       "      <td>box_complete</td>\n",
       "      <td>1747259527854271</td>\n",
       "      <td>box_id</td>\n",
       "      <td>2</td>\n",
       "    </tr>\n",
       "    <tr>\n",
       "      <th>156</th>\n",
       "      <td>001a9c6f17af62e29f81d897699c7682</td>\n",
       "      <td>box_complete</td>\n",
       "      <td>1747259527854271</td>\n",
       "      <td>level</td>\n",
       "      <td>8</td>\n",
       "    </tr>\n",
       "    <tr>\n",
       "      <th>157</th>\n",
       "      <td>001a9c6f17af62e29f81d897699c7682</td>\n",
       "      <td>box_complete</td>\n",
       "      <td>1747259534394272</td>\n",
       "      <td>level</td>\n",
       "      <td>8</td>\n",
       "    </tr>\n",
       "    <tr>\n",
       "      <th>158</th>\n",
       "      <td>001a9c6f17af62e29f81d897699c7682</td>\n",
       "      <td>box_complete</td>\n",
       "      <td>1747259534394272</td>\n",
       "      <td>box_id</td>\n",
       "      <td>3</td>\n",
       "    </tr>\n",
       "    <tr>\n",
       "      <th>159</th>\n",
       "      <td>001a9c6f17af62e29f81d897699c7682</td>\n",
       "      <td>box_complete</td>\n",
       "      <td>1747259537301273</td>\n",
       "      <td>box_id</td>\n",
       "      <td>10</td>\n",
       "    </tr>\n",
       "    <tr>\n",
       "      <th>160</th>\n",
       "      <td>001a9c6f17af62e29f81d897699c7682</td>\n",
       "      <td>box_complete</td>\n",
       "      <td>1747259537301273</td>\n",
       "      <td>level</td>\n",
       "      <td>8</td>\n",
       "    </tr>\n",
       "    <tr>\n",
       "      <th>163</th>\n",
       "      <td>001a9c6f17af62e29f81d897699c7682</td>\n",
       "      <td>win_level_time</td>\n",
       "      <td>1747259539975278</td>\n",
       "      <td>level</td>\n",
       "      <td>8</td>\n",
       "    </tr>\n",
       "    <tr>\n",
       "      <th>164</th>\n",
       "      <td>001a9c6f17af62e29f81d897699c7682</td>\n",
       "      <td>win_level_time</td>\n",
       "      <td>1747259539975278</td>\n",
       "      <td>Count</td>\n",
       "      <td>97</td>\n",
       "    </tr>\n",
       "    <tr>\n",
       "      <th>165</th>\n",
       "      <td>001a9c6f17af62e29f81d897699c7682</td>\n",
       "      <td>all_play_level_time</td>\n",
       "      <td>1747259539976279</td>\n",
       "      <td>level</td>\n",
       "      <td>8</td>\n",
       "    </tr>\n",
       "    <tr>\n",
       "      <th>166</th>\n",
       "      <td>001a9c6f17af62e29f81d897699c7682</td>\n",
       "      <td>all_play_level_time</td>\n",
       "      <td>1747259539976279</td>\n",
       "      <td>Count</td>\n",
       "      <td>97</td>\n",
       "    </tr>\n",
       "    <tr>\n",
       "      <th>167</th>\n",
       "      <td>001a9c6f17af62e29f81d897699c7682</td>\n",
       "      <td>box_complete</td>\n",
       "      <td>1747259540275280</td>\n",
       "      <td>box_id</td>\n",
       "      <td>9</td>\n",
       "    </tr>\n",
       "    <tr>\n",
       "      <th>168</th>\n",
       "      <td>001a9c6f17af62e29f81d897699c7682</td>\n",
       "      <td>box_complete</td>\n",
       "      <td>1747259540275280</td>\n",
       "      <td>level</td>\n",
       "      <td>8</td>\n",
       "    </tr>\n",
       "    <tr>\n",
       "      <th>169</th>\n",
       "      <td>001a9c6f17af62e29f81d897699c7682</td>\n",
       "      <td>win_level</td>\n",
       "      <td>1747259542046281</td>\n",
       "      <td>level</td>\n",
       "      <td>8</td>\n",
       "    </tr>\n",
       "    <tr>\n",
       "      <th>170</th>\n",
       "      <td>001a9c6f17af62e29f81d897699c7682</td>\n",
       "      <td>resource_gain</td>\n",
       "      <td>1747259542054282</td>\n",
       "      <td>resource_amount</td>\n",
       "      <td>10</td>\n",
       "    </tr>\n",
       "    <tr>\n",
       "      <th>171</th>\n",
       "      <td>001a9c6f17af62e29f81d897699c7682</td>\n",
       "      <td>resource_gain</td>\n",
       "      <td>1747259542054282</td>\n",
       "      <td>level</td>\n",
       "      <td>9</td>\n",
       "    </tr>\n",
       "    <tr>\n",
       "      <th>172</th>\n",
       "      <td>001a9c6f17af62e29f81d897699c7682</td>\n",
       "      <td>resource_gain</td>\n",
       "      <td>1747259542054282</td>\n",
       "      <td>resource_type</td>\n",
       "      <td>Coin</td>\n",
       "    </tr>\n",
       "    <tr>\n",
       "      <th>173</th>\n",
       "      <td>001a9c6f17af62e29f81d897699c7682</td>\n",
       "      <td>resource_gain</td>\n",
       "      <td>1747259542054282</td>\n",
       "      <td>resource_gain_source</td>\n",
       "      <td>Win</td>\n",
       "    </tr>\n",
       "    <tr>\n",
       "      <th>174</th>\n",
       "      <td>001a9c6f17af62e29f81d897699c7682</td>\n",
       "      <td>screen_view</td>\n",
       "      <td>1747259544743284</td>\n",
       "      <td>firebase_previous_class</td>\n",
       "      <td>MessagingUnityPlayerActivity</td>\n",
       "    </tr>\n",
       "    <tr>\n",
       "      <th>175</th>\n",
       "      <td>001a9c6f17af62e29f81d897699c7682</td>\n",
       "      <td>screen_view</td>\n",
       "      <td>1747259544743284</td>\n",
       "      <td>firebase_previous_id</td>\n",
       "      <td>-8812458038913848249</td>\n",
       "    </tr>\n",
       "    <tr>\n",
       "      <th>176</th>\n",
       "      <td>001a9c6f17af62e29f81d897699c7682</td>\n",
       "      <td>INTER</td>\n",
       "      <td>1747259545941243</td>\n",
       "      <td>ad_format</td>\n",
       "      <td>INTER</td>\n",
       "    </tr>\n",
       "    <tr>\n",
       "      <th>177</th>\n",
       "      <td>001a9c6f17af62e29f81d897699c7682</td>\n",
       "      <td>ad_cgteam_impression</td>\n",
       "      <td>1747259545942286</td>\n",
       "      <td>ad_format</td>\n",
       "      <td>INTER</td>\n",
       "    </tr>\n",
       "    <tr>\n",
       "      <th>178</th>\n",
       "      <td>001a9c6f17af62e29f81d897699c7682</td>\n",
       "      <td>screen_view</td>\n",
       "      <td>1747259557230287</td>\n",
       "      <td>firebase_previous_id</td>\n",
       "      <td>-8812458038913848164</td>\n",
       "    </tr>\n",
       "    <tr>\n",
       "      <th>179</th>\n",
       "      <td>001a9c6f17af62e29f81d897699c7682</td>\n",
       "      <td>screen_view</td>\n",
       "      <td>1747259557230287</td>\n",
       "      <td>firebase_previous_class</td>\n",
       "      <td>MBRewardVideoActivity</td>\n",
       "    </tr>\n",
       "    <tr>\n",
       "      <th>180</th>\n",
       "      <td>001a9c6f17af62e29f81d897699c7682</td>\n",
       "      <td>ads_inter_show</td>\n",
       "      <td>1747259557425288</td>\n",
       "      <td>placement</td>\n",
       "      <td>WinGame</td>\n",
       "    </tr>\n",
       "    <tr>\n",
       "      <th>181</th>\n",
       "      <td>001a9c6f17af62e29f81d897699c7682</td>\n",
       "      <td>watch_3_ads</td>\n",
       "      <td>1747259557433290</td>\n",
       "      <td>ad_format</td>\n",
       "      <td>INTER</td>\n",
       "    </tr>\n",
       "    <tr>\n",
       "      <th>182</th>\n",
       "      <td>001a9c6f17af62e29f81d897699c7682</td>\n",
       "      <td>session_start</td>\n",
       "      <td>1747510589507609</td>\n",
       "      <td>session_engaged</td>\n",
       "      <td>1</td>\n",
       "    </tr>\n",
       "    <tr>\n",
       "      <th>183</th>\n",
       "      <td>001a9c6f17af62e29f81d897699c7682</td>\n",
       "      <td>screen_view</td>\n",
       "      <td>1747510589559610</td>\n",
       "      <td>entrances</td>\n",
       "      <td>1</td>\n",
       "    </tr>\n",
       "  </tbody>\n",
       "</table>\n",
       "</div>"
      ],
      "text/plain": [
       "                       user_pseudo_id            event_name   event_timestamp  \\\n",
       "125  001a9c6f17af62e29f81d897699c7682           start_level  1747259435318251   \n",
       "126  001a9c6f17af62e29f81d897699c7682          booster_gain  1747259437823252   \n",
       "127  001a9c6f17af62e29f81d897699c7682          booster_gain  1747259437823252   \n",
       "128  001a9c6f17af62e29f81d897699c7682          booster_gain  1747259437823252   \n",
       "129  001a9c6f17af62e29f81d897699c7682           booster_use  1747259439858253   \n",
       "133  001a9c6f17af62e29f81d897699c7682          box_complete  1747259454186256   \n",
       "134  001a9c6f17af62e29f81d897699c7682          box_complete  1747259454186256   \n",
       "135  001a9c6f17af62e29f81d897699c7682          box_complete  1747259459632257   \n",
       "136  001a9c6f17af62e29f81d897699c7682          box_complete  1747259459632257   \n",
       "139  001a9c6f17af62e29f81d897699c7682          box_complete  1747259464417260   \n",
       "140  001a9c6f17af62e29f81d897699c7682          box_complete  1747259464417260   \n",
       "143  001a9c6f17af62e29f81d897699c7682          box_complete  1747259496371263   \n",
       "144  001a9c6f17af62e29f81d897699c7682          box_complete  1747259496371263   \n",
       "147  001a9c6f17af62e29f81d897699c7682          box_complete  1747259507129266   \n",
       "148  001a9c6f17af62e29f81d897699c7682          box_complete  1747259507129266   \n",
       "149  001a9c6f17af62e29f81d897699c7682          box_complete  1747259509576267   \n",
       "150  001a9c6f17af62e29f81d897699c7682          box_complete  1747259509576267   \n",
       "151  001a9c6f17af62e29f81d897699c7682          box_complete  1747259517659268   \n",
       "152  001a9c6f17af62e29f81d897699c7682          box_complete  1747259517659268   \n",
       "155  001a9c6f17af62e29f81d897699c7682          box_complete  1747259527854271   \n",
       "156  001a9c6f17af62e29f81d897699c7682          box_complete  1747259527854271   \n",
       "157  001a9c6f17af62e29f81d897699c7682          box_complete  1747259534394272   \n",
       "158  001a9c6f17af62e29f81d897699c7682          box_complete  1747259534394272   \n",
       "159  001a9c6f17af62e29f81d897699c7682          box_complete  1747259537301273   \n",
       "160  001a9c6f17af62e29f81d897699c7682          box_complete  1747259537301273   \n",
       "163  001a9c6f17af62e29f81d897699c7682        win_level_time  1747259539975278   \n",
       "164  001a9c6f17af62e29f81d897699c7682        win_level_time  1747259539975278   \n",
       "165  001a9c6f17af62e29f81d897699c7682   all_play_level_time  1747259539976279   \n",
       "166  001a9c6f17af62e29f81d897699c7682   all_play_level_time  1747259539976279   \n",
       "167  001a9c6f17af62e29f81d897699c7682          box_complete  1747259540275280   \n",
       "168  001a9c6f17af62e29f81d897699c7682          box_complete  1747259540275280   \n",
       "169  001a9c6f17af62e29f81d897699c7682             win_level  1747259542046281   \n",
       "170  001a9c6f17af62e29f81d897699c7682         resource_gain  1747259542054282   \n",
       "171  001a9c6f17af62e29f81d897699c7682         resource_gain  1747259542054282   \n",
       "172  001a9c6f17af62e29f81d897699c7682         resource_gain  1747259542054282   \n",
       "173  001a9c6f17af62e29f81d897699c7682         resource_gain  1747259542054282   \n",
       "174  001a9c6f17af62e29f81d897699c7682           screen_view  1747259544743284   \n",
       "175  001a9c6f17af62e29f81d897699c7682           screen_view  1747259544743284   \n",
       "176  001a9c6f17af62e29f81d897699c7682                 INTER  1747259545941243   \n",
       "177  001a9c6f17af62e29f81d897699c7682  ad_cgteam_impression  1747259545942286   \n",
       "178  001a9c6f17af62e29f81d897699c7682           screen_view  1747259557230287   \n",
       "179  001a9c6f17af62e29f81d897699c7682           screen_view  1747259557230287   \n",
       "180  001a9c6f17af62e29f81d897699c7682        ads_inter_show  1747259557425288   \n",
       "181  001a9c6f17af62e29f81d897699c7682           watch_3_ads  1747259557433290   \n",
       "182  001a9c6f17af62e29f81d897699c7682         session_start  1747510589507609   \n",
       "183  001a9c6f17af62e29f81d897699c7682           screen_view  1747510589559610   \n",
       "\n",
       "                         key                         value  \n",
       "125                    level                             8  \n",
       "126                    level                             8  \n",
       "127             booster_type                        Frezze  \n",
       "128           booster_method                          Free  \n",
       "129             booster_type                        Frezze  \n",
       "133                    level                             8  \n",
       "134                   box_id                             5  \n",
       "135                   box_id                             1  \n",
       "136                    level                             8  \n",
       "139                    level                             8  \n",
       "140                   box_id                             4  \n",
       "143                   box_id                             6  \n",
       "144                    level                             8  \n",
       "147                   box_id                             8  \n",
       "148                    level                             8  \n",
       "149                   box_id                             0  \n",
       "150                    level                             8  \n",
       "151                    level                             8  \n",
       "152                   box_id                             7  \n",
       "155                   box_id                             2  \n",
       "156                    level                             8  \n",
       "157                    level                             8  \n",
       "158                   box_id                             3  \n",
       "159                   box_id                            10  \n",
       "160                    level                             8  \n",
       "163                    level                             8  \n",
       "164                    Count                            97  \n",
       "165                    level                             8  \n",
       "166                    Count                            97  \n",
       "167                   box_id                             9  \n",
       "168                    level                             8  \n",
       "169                    level                             8  \n",
       "170          resource_amount                            10  \n",
       "171                    level                             9  \n",
       "172            resource_type                          Coin  \n",
       "173     resource_gain_source                           Win  \n",
       "174  firebase_previous_class  MessagingUnityPlayerActivity  \n",
       "175     firebase_previous_id          -8812458038913848249  \n",
       "176                ad_format                         INTER  \n",
       "177                ad_format                         INTER  \n",
       "178     firebase_previous_id          -8812458038913848164  \n",
       "179  firebase_previous_class         MBRewardVideoActivity  \n",
       "180                placement                       WinGame  \n",
       "181                ad_format                         INTER  \n",
       "182          session_engaged                             1  \n",
       "183                entrances                             1  "
      ]
     },
     "execution_count": 25,
     "metadata": {},
     "output_type": "execute_result"
    }
   ],
   "source": [
    "df[df['user_pseudo_id'] == '001a9c6f17af62e29f81d897699c7682']"
   ]
  },
  {
   "cell_type": "code",
   "execution_count": 28,
   "metadata": {},
   "outputs": [
    {
     "data": {
      "text/html": [
       "<div>\n",
       "<style scoped>\n",
       "    .dataframe tbody tr th:only-of-type {\n",
       "        vertical-align: middle;\n",
       "    }\n",
       "\n",
       "    .dataframe tbody tr th {\n",
       "        vertical-align: top;\n",
       "    }\n",
       "\n",
       "    .dataframe thead th {\n",
       "        text-align: right;\n",
       "    }\n",
       "</style>\n",
       "<table border=\"1\" class=\"dataframe\">\n",
       "  <thead>\n",
       "    <tr style=\"text-align: right;\">\n",
       "      <th></th>\n",
       "      <th>user_pseudo_id</th>\n",
       "      <th>event_name</th>\n",
       "      <th>event_timestamp</th>\n",
       "      <th>key</th>\n",
       "      <th>value</th>\n",
       "    </tr>\n",
       "  </thead>\n",
       "  <tbody>\n",
       "    <tr>\n",
       "      <th>0</th>\n",
       "      <td>001b3ded69198cfa4b187c7640ce78d6</td>\n",
       "      <td>win_level</td>\n",
       "      <td>1746738567942991</td>\n",
       "      <td>level</td>\n",
       "      <td>1</td>\n",
       "    </tr>\n",
       "    <tr>\n",
       "      <th>1</th>\n",
       "      <td>001b3ded69198cfa4b187c7640ce78d6</td>\n",
       "      <td>resource_gain</td>\n",
       "      <td>1746738567943992</td>\n",
       "      <td>level</td>\n",
       "      <td>2</td>\n",
       "    </tr>\n",
       "    <tr>\n",
       "      <th>2</th>\n",
       "      <td>001b3ded69198cfa4b187c7640ce78d6</td>\n",
       "      <td>win_level</td>\n",
       "      <td>1746738577551000</td>\n",
       "      <td>level</td>\n",
       "      <td>2</td>\n",
       "    </tr>\n",
       "    <tr>\n",
       "      <th>3</th>\n",
       "      <td>001b3ded69198cfa4b187c7640ce78d6</td>\n",
       "      <td>resource_gain</td>\n",
       "      <td>1746738577552001</td>\n",
       "      <td>level</td>\n",
       "      <td>3</td>\n",
       "    </tr>\n",
       "    <tr>\n",
       "      <th>4</th>\n",
       "      <td>001b3ded69198cfa4b187c7640ce78d6</td>\n",
       "      <td>win_level</td>\n",
       "      <td>1746738588234008</td>\n",
       "      <td>level</td>\n",
       "      <td>3</td>\n",
       "    </tr>\n",
       "    <tr>\n",
       "      <th>...</th>\n",
       "      <td>...</td>\n",
       "      <td>...</td>\n",
       "      <td>...</td>\n",
       "      <td>...</td>\n",
       "      <td>...</td>\n",
       "    </tr>\n",
       "    <tr>\n",
       "      <th>142479</th>\n",
       "      <td>ffe28580ce67ac3e3c8ed05f6cff80db</td>\n",
       "      <td>win_level</td>\n",
       "      <td>1747497951870185</td>\n",
       "      <td>level</td>\n",
       "      <td>36</td>\n",
       "    </tr>\n",
       "    <tr>\n",
       "      <th>142480</th>\n",
       "      <td>ffe28580ce67ac3e3c8ed05f6cff80db</td>\n",
       "      <td>resource_gain</td>\n",
       "      <td>1747497951873186</td>\n",
       "      <td>level</td>\n",
       "      <td>37</td>\n",
       "    </tr>\n",
       "    <tr>\n",
       "      <th>142481</th>\n",
       "      <td>ffe28580ce67ac3e3c8ed05f6cff80db</td>\n",
       "      <td>resource_gain</td>\n",
       "      <td>1747671406466974</td>\n",
       "      <td>level</td>\n",
       "      <td>37</td>\n",
       "    </tr>\n",
       "    <tr>\n",
       "      <th>142482</th>\n",
       "      <td>ffe28580ce67ac3e3c8ed05f6cff80db</td>\n",
       "      <td>win_level</td>\n",
       "      <td>1747671812808125</td>\n",
       "      <td>level</td>\n",
       "      <td>37</td>\n",
       "    </tr>\n",
       "    <tr>\n",
       "      <th>142483</th>\n",
       "      <td>ffe28580ce67ac3e3c8ed05f6cff80db</td>\n",
       "      <td>resource_gain</td>\n",
       "      <td>1747671812810126</td>\n",
       "      <td>level</td>\n",
       "      <td>38</td>\n",
       "    </tr>\n",
       "  </tbody>\n",
       "</table>\n",
       "<p>142484 rows × 5 columns</p>\n",
       "</div>"
      ],
      "text/plain": [
       "                          user_pseudo_id     event_name   event_timestamp  \\\n",
       "0       001b3ded69198cfa4b187c7640ce78d6      win_level  1746738567942991   \n",
       "1       001b3ded69198cfa4b187c7640ce78d6  resource_gain  1746738567943992   \n",
       "2       001b3ded69198cfa4b187c7640ce78d6      win_level  1746738577551000   \n",
       "3       001b3ded69198cfa4b187c7640ce78d6  resource_gain  1746738577552001   \n",
       "4       001b3ded69198cfa4b187c7640ce78d6      win_level  1746738588234008   \n",
       "...                                  ...            ...               ...   \n",
       "142479  ffe28580ce67ac3e3c8ed05f6cff80db      win_level  1747497951870185   \n",
       "142480  ffe28580ce67ac3e3c8ed05f6cff80db  resource_gain  1747497951873186   \n",
       "142481  ffe28580ce67ac3e3c8ed05f6cff80db  resource_gain  1747671406466974   \n",
       "142482  ffe28580ce67ac3e3c8ed05f6cff80db      win_level  1747671812808125   \n",
       "142483  ffe28580ce67ac3e3c8ed05f6cff80db  resource_gain  1747671812810126   \n",
       "\n",
       "          key value  \n",
       "0       level     1  \n",
       "1       level     2  \n",
       "2       level     2  \n",
       "3       level     3  \n",
       "4       level     3  \n",
       "...       ...   ...  \n",
       "142479  level    36  \n",
       "142480  level    37  \n",
       "142481  level    37  \n",
       "142482  level    37  \n",
       "142483  level    38  \n",
       "\n",
       "[142484 rows x 5 columns]"
      ]
     },
     "execution_count": 28,
     "metadata": {},
     "output_type": "execute_result"
    }
   ],
   "source": [
    "query = f\"\"\"\n",
    "SELECT\n",
    "  user_pseudo_id,\n",
    "  event_name,\n",
    "  event_timestamp,\n",
    "  ev.key,\n",
    "  COALESCE(ev.value.string_value,\n",
    "           CAST(ev.value.int_value AS STRING),\n",
    "           CAST(ev.value.float_value AS STRING),\n",
    "           CAST(ev.value.double_value AS STRING)\n",
    "  ) AS value\n",
    "FROM\n",
    "  `crazy-coffee-jam.analytics_483028617.events_intraday_*`,\n",
    "  UNNEST(event_params) AS ev\n",
    "WHERE\n",
    "  _TABLE_SUFFIX BETWEEN '20250422' AND '20250519'\n",
    "  and key  in ('level')\n",
    "  and event_name in ('win_level', 'resource_gain')\n",
    "  and user_pseudo_id in (select distinct user_pseudo_id from `crazy-coffee-jam.flatten_table.win_level` where event_date between '2025-05-10' and '2025-05-12' and level between 10 and 15)\n",
    "ORDER BY\n",
    "  user_pseudo_id,\n",
    "  event_timestamp\n",
    "\"\"\"\n",
    "sequence_user = client.query(query).to_dataframe()\n",
    "sequence_user"
   ]
  },
  {
   "cell_type": "code",
   "execution_count": 29,
   "metadata": {},
   "outputs": [
    {
     "data": {
      "text/html": [
       "<div>\n",
       "<style scoped>\n",
       "    .dataframe tbody tr th:only-of-type {\n",
       "        vertical-align: middle;\n",
       "    }\n",
       "\n",
       "    .dataframe tbody tr th {\n",
       "        vertical-align: top;\n",
       "    }\n",
       "\n",
       "    .dataframe thead th {\n",
       "        text-align: right;\n",
       "    }\n",
       "</style>\n",
       "<table border=\"1\" class=\"dataframe\">\n",
       "  <thead>\n",
       "    <tr style=\"text-align: right;\">\n",
       "      <th></th>\n",
       "      <th>user_pseudo_id</th>\n",
       "      <th>event_name</th>\n",
       "      <th>event_timestamp</th>\n",
       "      <th>key</th>\n",
       "      <th>value</th>\n",
       "    </tr>\n",
       "  </thead>\n",
       "  <tbody>\n",
       "    <tr>\n",
       "      <th>0</th>\n",
       "      <td>001b3ded69198cfa4b187c7640ce78d6</td>\n",
       "      <td>win_level</td>\n",
       "      <td>1746738567942991</td>\n",
       "      <td>level</td>\n",
       "      <td>1</td>\n",
       "    </tr>\n",
       "    <tr>\n",
       "      <th>1</th>\n",
       "      <td>001b3ded69198cfa4b187c7640ce78d6</td>\n",
       "      <td>resource_gain</td>\n",
       "      <td>1746738567943992</td>\n",
       "      <td>level</td>\n",
       "      <td>2</td>\n",
       "    </tr>\n",
       "    <tr>\n",
       "      <th>2</th>\n",
       "      <td>001b3ded69198cfa4b187c7640ce78d6</td>\n",
       "      <td>win_level</td>\n",
       "      <td>1746738577551000</td>\n",
       "      <td>level</td>\n",
       "      <td>2</td>\n",
       "    </tr>\n",
       "    <tr>\n",
       "      <th>3</th>\n",
       "      <td>001b3ded69198cfa4b187c7640ce78d6</td>\n",
       "      <td>resource_gain</td>\n",
       "      <td>1746738577552001</td>\n",
       "      <td>level</td>\n",
       "      <td>3</td>\n",
       "    </tr>\n",
       "    <tr>\n",
       "      <th>4</th>\n",
       "      <td>001b3ded69198cfa4b187c7640ce78d6</td>\n",
       "      <td>win_level</td>\n",
       "      <td>1746738588234008</td>\n",
       "      <td>level</td>\n",
       "      <td>3</td>\n",
       "    </tr>\n",
       "    <tr>\n",
       "      <th>...</th>\n",
       "      <td>...</td>\n",
       "      <td>...</td>\n",
       "      <td>...</td>\n",
       "      <td>...</td>\n",
       "      <td>...</td>\n",
       "    </tr>\n",
       "    <tr>\n",
       "      <th>142479</th>\n",
       "      <td>ffe28580ce67ac3e3c8ed05f6cff80db</td>\n",
       "      <td>win_level</td>\n",
       "      <td>1747497951870185</td>\n",
       "      <td>level</td>\n",
       "      <td>36</td>\n",
       "    </tr>\n",
       "    <tr>\n",
       "      <th>142480</th>\n",
       "      <td>ffe28580ce67ac3e3c8ed05f6cff80db</td>\n",
       "      <td>resource_gain</td>\n",
       "      <td>1747497951873186</td>\n",
       "      <td>level</td>\n",
       "      <td>37</td>\n",
       "    </tr>\n",
       "    <tr>\n",
       "      <th>142481</th>\n",
       "      <td>ffe28580ce67ac3e3c8ed05f6cff80db</td>\n",
       "      <td>resource_gain</td>\n",
       "      <td>1747671406466974</td>\n",
       "      <td>level</td>\n",
       "      <td>37</td>\n",
       "    </tr>\n",
       "    <tr>\n",
       "      <th>142482</th>\n",
       "      <td>ffe28580ce67ac3e3c8ed05f6cff80db</td>\n",
       "      <td>win_level</td>\n",
       "      <td>1747671812808125</td>\n",
       "      <td>level</td>\n",
       "      <td>37</td>\n",
       "    </tr>\n",
       "    <tr>\n",
       "      <th>142483</th>\n",
       "      <td>ffe28580ce67ac3e3c8ed05f6cff80db</td>\n",
       "      <td>resource_gain</td>\n",
       "      <td>1747671812810126</td>\n",
       "      <td>level</td>\n",
       "      <td>38</td>\n",
       "    </tr>\n",
       "  </tbody>\n",
       "</table>\n",
       "<p>142484 rows × 5 columns</p>\n",
       "</div>"
      ],
      "text/plain": [
       "                          user_pseudo_id     event_name   event_timestamp  \\\n",
       "0       001b3ded69198cfa4b187c7640ce78d6      win_level  1746738567942991   \n",
       "1       001b3ded69198cfa4b187c7640ce78d6  resource_gain  1746738567943992   \n",
       "2       001b3ded69198cfa4b187c7640ce78d6      win_level  1746738577551000   \n",
       "3       001b3ded69198cfa4b187c7640ce78d6  resource_gain  1746738577552001   \n",
       "4       001b3ded69198cfa4b187c7640ce78d6      win_level  1746738588234008   \n",
       "...                                  ...            ...               ...   \n",
       "142479  ffe28580ce67ac3e3c8ed05f6cff80db      win_level  1747497951870185   \n",
       "142480  ffe28580ce67ac3e3c8ed05f6cff80db  resource_gain  1747497951873186   \n",
       "142481  ffe28580ce67ac3e3c8ed05f6cff80db  resource_gain  1747671406466974   \n",
       "142482  ffe28580ce67ac3e3c8ed05f6cff80db      win_level  1747671812808125   \n",
       "142483  ffe28580ce67ac3e3c8ed05f6cff80db  resource_gain  1747671812810126   \n",
       "\n",
       "          key value  \n",
       "0       level     1  \n",
       "1       level     2  \n",
       "2       level     2  \n",
       "3       level     3  \n",
       "4       level     3  \n",
       "...       ...   ...  \n",
       "142479  level    36  \n",
       "142480  level    37  \n",
       "142481  level    37  \n",
       "142482  level    37  \n",
       "142483  level    38  \n",
       "\n",
       "[142484 rows x 5 columns]"
      ]
     },
     "execution_count": 29,
     "metadata": {},
     "output_type": "execute_result"
    }
   ],
   "source": [
    "sequence_user.sort_values(['user_pseudo_id', 'event_timestamp'], ascending=[True, True])"
   ]
  },
  {
   "cell_type": "code",
   "execution_count": 30,
   "metadata": {},
   "outputs": [],
   "source": []
  },
  {
   "cell_type": "markdown",
   "metadata": {},
   "source": [
    "# Sequence of user drop level 8"
   ]
  },
  {
   "cell_type": "code",
   "execution_count": 2,
   "metadata": {},
   "outputs": [],
   "source": [
    "query = \"\"\"\n",
    "with a as (\n",
    "select distinct user_pseudo_id\n",
    "from `crazy-coffee-jam.flatten_table.start_level`\n",
    "where level >= 9\n",
    "and user_pseudo_id in (select distinct user_pseudo_id from `crazy-coffee-jam.flatten_table.first_open` where event_date >= '2025-05-01')\n",
    ")\n",
    "select distinct user_pseudo_id\n",
    "from `crazy-coffee-jam.flatten_table.start_level`\n",
    "where event_date >= '2025-05-01'\n",
    "and level = 8\n",
    "and user_pseudo_id not in (select user_pseudo_id from a)\n",
    "and user_pseudo_id in (select distinct user_pseudo_id from `crazy-coffee-jam.flatten_table.first_open` where event_date >= '2025-05-01')\n",
    "\"\"\"\n",
    "user_drop_level_8 = client.query(query).to_dataframe()\n",
    "user_drop_level_8_list = user_drop_level_8['user_pseudo_id'].tolist()"
   ]
  },
  {
   "cell_type": "code",
   "execution_count": 3,
   "metadata": {},
   "outputs": [],
   "source": [
    "query = f\"\"\"\n",
    "SELECT\n",
    "  user_pseudo_id,\n",
    "  event_name,\n",
    "  event_timestamp,\n",
    "  ev.key,\n",
    "  COALESCE(ev.value.string_value,\n",
    "           CAST(ev.value.int_value AS STRING),\n",
    "           CAST(ev.value.float_value AS STRING),\n",
    "           CAST(ev.value.double_value AS STRING)\n",
    "  ) AS value\n",
    "FROM\n",
    "  `crazy-coffee-jam.analytics_483028617.events_intraday_*`,\n",
    "  UNNEST(event_params) AS ev\n",
    "WHERE\n",
    "  _TABLE_SUFFIX BETWEEN '20250501' AND '20250525'\n",
    "  and user_pseudo_id in ('{(\"','\".join(user_drop_level_8_list))}')\n",
    "  and event_name in ('start_level', 'win_level', 'booster_use','ad_impression','box_complete')\n",
    "  and key in ('level','ad_format')\n",
    "ORDER BY\n",
    "  user_pseudo_id,   \n",
    "  event_timestamp\n",
    "\"\"\"\n",
    "sequence_user = client.query(query).to_dataframe()"
   ]
  },
  {
   "cell_type": "code",
   "execution_count": 4,
   "metadata": {},
   "outputs": [
    {
     "data": {
      "text/html": [
       "<div>\n",
       "<style scoped>\n",
       "    .dataframe tbody tr th:only-of-type {\n",
       "        vertical-align: middle;\n",
       "    }\n",
       "\n",
       "    .dataframe tbody tr th {\n",
       "        vertical-align: top;\n",
       "    }\n",
       "\n",
       "    .dataframe thead th {\n",
       "        text-align: right;\n",
       "    }\n",
       "</style>\n",
       "<table border=\"1\" class=\"dataframe\">\n",
       "  <thead>\n",
       "    <tr style=\"text-align: right;\">\n",
       "      <th></th>\n",
       "      <th>user_pseudo_id</th>\n",
       "      <th>event_name</th>\n",
       "      <th>event_timestamp</th>\n",
       "      <th>key</th>\n",
       "      <th>value</th>\n",
       "    </tr>\n",
       "  </thead>\n",
       "  <tbody>\n",
       "    <tr>\n",
       "      <th>0</th>\n",
       "      <td>0005abff796753973e9ef6241e02d636</td>\n",
       "      <td>ad_impression</td>\n",
       "      <td>1746450163534886</td>\n",
       "      <td>ad_format</td>\n",
       "      <td>BANNER</td>\n",
       "    </tr>\n",
       "    <tr>\n",
       "      <th>1</th>\n",
       "      <td>0005abff796753973e9ef6241e02d636</td>\n",
       "      <td>start_level</td>\n",
       "      <td>1746450164459890</td>\n",
       "      <td>level</td>\n",
       "      <td>1</td>\n",
       "    </tr>\n",
       "    <tr>\n",
       "      <th>2</th>\n",
       "      <td>0005abff796753973e9ef6241e02d636</td>\n",
       "      <td>box_complete</td>\n",
       "      <td>1746450171810700</td>\n",
       "      <td>level</td>\n",
       "      <td>1</td>\n",
       "    </tr>\n",
       "    <tr>\n",
       "      <th>3</th>\n",
       "      <td>0005abff796753973e9ef6241e02d636</td>\n",
       "      <td>box_complete</td>\n",
       "      <td>1746450173927703</td>\n",
       "      <td>level</td>\n",
       "      <td>1</td>\n",
       "    </tr>\n",
       "    <tr>\n",
       "      <th>4</th>\n",
       "      <td>0005abff796753973e9ef6241e02d636</td>\n",
       "      <td>win_level</td>\n",
       "      <td>1746450175884704</td>\n",
       "      <td>level</td>\n",
       "      <td>1</td>\n",
       "    </tr>\n",
       "    <tr>\n",
       "      <th>...</th>\n",
       "      <td>...</td>\n",
       "      <td>...</td>\n",
       "      <td>...</td>\n",
       "      <td>...</td>\n",
       "      <td>...</td>\n",
       "    </tr>\n",
       "    <tr>\n",
       "      <th>165623</th>\n",
       "      <td>fff7b258d6cddb69af658de0b448b768</td>\n",
       "      <td>ad_impression</td>\n",
       "      <td>1747202520923251</td>\n",
       "      <td>ad_format</td>\n",
       "      <td>BANNER</td>\n",
       "    </tr>\n",
       "    <tr>\n",
       "      <th>165624</th>\n",
       "      <td>fff7b258d6cddb69af658de0b448b768</td>\n",
       "      <td>box_complete</td>\n",
       "      <td>1747202527616258</td>\n",
       "      <td>level</td>\n",
       "      <td>8</td>\n",
       "    </tr>\n",
       "    <tr>\n",
       "      <th>165625</th>\n",
       "      <td>fff7b258d6cddb69af658de0b448b768</td>\n",
       "      <td>box_complete</td>\n",
       "      <td>1747202531617261</td>\n",
       "      <td>level</td>\n",
       "      <td>8</td>\n",
       "    </tr>\n",
       "    <tr>\n",
       "      <th>165626</th>\n",
       "      <td>fff7b258d6cddb69af658de0b448b768</td>\n",
       "      <td>win_level</td>\n",
       "      <td>1747202533570262</td>\n",
       "      <td>level</td>\n",
       "      <td>8</td>\n",
       "    </tr>\n",
       "    <tr>\n",
       "      <th>165627</th>\n",
       "      <td>fff7b258d6cddb69af658de0b448b768</td>\n",
       "      <td>ad_impression</td>\n",
       "      <td>1747202542502252</td>\n",
       "      <td>ad_format</td>\n",
       "      <td>INTER</td>\n",
       "    </tr>\n",
       "  </tbody>\n",
       "</table>\n",
       "<p>165628 rows × 5 columns</p>\n",
       "</div>"
      ],
      "text/plain": [
       "                          user_pseudo_id     event_name   event_timestamp  \\\n",
       "0       0005abff796753973e9ef6241e02d636  ad_impression  1746450163534886   \n",
       "1       0005abff796753973e9ef6241e02d636    start_level  1746450164459890   \n",
       "2       0005abff796753973e9ef6241e02d636   box_complete  1746450171810700   \n",
       "3       0005abff796753973e9ef6241e02d636   box_complete  1746450173927703   \n",
       "4       0005abff796753973e9ef6241e02d636      win_level  1746450175884704   \n",
       "...                                  ...            ...               ...   \n",
       "165623  fff7b258d6cddb69af658de0b448b768  ad_impression  1747202520923251   \n",
       "165624  fff7b258d6cddb69af658de0b448b768   box_complete  1747202527616258   \n",
       "165625  fff7b258d6cddb69af658de0b448b768   box_complete  1747202531617261   \n",
       "165626  fff7b258d6cddb69af658de0b448b768      win_level  1747202533570262   \n",
       "165627  fff7b258d6cddb69af658de0b448b768  ad_impression  1747202542502252   \n",
       "\n",
       "              key   value  \n",
       "0       ad_format  BANNER  \n",
       "1           level       1  \n",
       "2           level       1  \n",
       "3           level       1  \n",
       "4           level       1  \n",
       "...           ...     ...  \n",
       "165623  ad_format  BANNER  \n",
       "165624      level       8  \n",
       "165625      level       8  \n",
       "165626      level       8  \n",
       "165627  ad_format   INTER  \n",
       "\n",
       "[165628 rows x 5 columns]"
      ]
     },
     "execution_count": 4,
     "metadata": {},
     "output_type": "execute_result"
    }
   ],
   "source": [
    "sequence_user"
   ]
  },
  {
   "cell_type": "code",
   "execution_count": 5,
   "metadata": {},
   "outputs": [],
   "source": [
    "# Chỉ lấy các event sau khi user bắt đầu level 8\n",
    "# Get the timestamp when each user started level 8\n",
    "level_8_start_times = sequence_user[\n",
    "    (sequence_user['event_name'] == 'start_level') &\n",
    "    (sequence_user['key'] == 'level') &\n",
    "    (sequence_user['value'] == '8')\n",
    "].groupby('user_pseudo_id')['event_timestamp'].min()\n",
    "\n",
    "# Filter sequence_user to only include events after each user's level 8 start\n",
    "sequence_user = sequence_user.merge(\n",
    "    level_8_start_times.reset_index(),\n",
    "    on='user_pseudo_id',\n",
    "    suffixes=('', '_level8_start')\n",
    ")\n",
    "sequence_user = sequence_user[\n",
    "    sequence_user['event_timestamp'] >= sequence_user['event_timestamp_level8_start']\n",
    "].drop('event_timestamp_level8_start', axis=1)\n",
    "\n",
    "# # Bỏ các dòng có event_name là booster_use và key là level và value là 8\n",
    "# sequence_user = sequence_user[\n",
    "#     ~((sequence_user['event_name'] == 'booster_use') &\n",
    "#       (sequence_user['key'] == 'level') &\n",
    "#       (sequence_user['value'] == '8'))\n",
    "# ]"
   ]
  },
  {
   "cell_type": "code",
   "execution_count": 6,
   "metadata": {},
   "outputs": [
    {
     "name": "stdout",
     "output_type": "stream",
     "text": [
      "Level counts:\n",
      "  value  count\n",
      "0     1     17\n",
      "1    10      7\n",
      "2     2      8\n",
      "3     3     10\n",
      "4     4     12\n",
      "5     5     16\n",
      "6     6     26\n",
      "7     7      8\n",
      "8     8  22354\n"
     ]
    }
   ],
   "source": [
    "# Count number of rows for each level value where key = 'level'\n",
    "level_counts = sequence_user[sequence_user['key'] == 'level'].groupby('value').size().reset_index(name='count')\n",
    "print(\"Level counts:\")\n",
    "print(level_counts)"
   ]
  },
  {
   "cell_type": "code",
   "execution_count": 7,
   "metadata": {},
   "outputs": [],
   "source": [
    "# prompt: sequence_user: Bỏ đi các dòng có key = level và value ứng với level đó != 8\n",
    "\n",
    "sequence_user = sequence_user[\n",
    "    ~((sequence_user['key'] == 'level') &\n",
    "      (pd.to_numeric(sequence_user['value'], errors='coerce') != 8))\n",
    "]"
   ]
  },
  {
   "cell_type": "code",
   "execution_count": 118,
   "metadata": {},
   "outputs": [
    {
     "name": "stdout",
     "output_type": "stream",
     "text": [
      "Level counts:\n",
      "  value  count\n",
      "0     8  16579\n"
     ]
    }
   ],
   "source": [
    "# Count number of rows for each level value where key = 'level'\n",
    "level_counts = sequence_user[sequence_user['key'] == 'level'].groupby('value').size().reset_index(name='count')\n",
    "print(\"Level counts:\")\n",
    "print(level_counts)"
   ]
  },
  {
   "cell_type": "code",
   "execution_count": 119,
   "metadata": {},
   "outputs": [
    {
     "data": {
      "text/html": [
       "<div>\n",
       "<style scoped>\n",
       "    .dataframe tbody tr th:only-of-type {\n",
       "        vertical-align: middle;\n",
       "    }\n",
       "\n",
       "    .dataframe tbody tr th {\n",
       "        vertical-align: top;\n",
       "    }\n",
       "\n",
       "    .dataframe thead th {\n",
       "        text-align: right;\n",
       "    }\n",
       "</style>\n",
       "<table border=\"1\" class=\"dataframe\">\n",
       "  <thead>\n",
       "    <tr style=\"text-align: right;\">\n",
       "      <th></th>\n",
       "      <th>user_pseudo_id</th>\n",
       "      <th>event_name</th>\n",
       "      <th>event_timestamp</th>\n",
       "      <th>key</th>\n",
       "      <th>value</th>\n",
       "    </tr>\n",
       "  </thead>\n",
       "  <tbody>\n",
       "    <tr>\n",
       "      <th>71</th>\n",
       "      <td>0005abff796753973e9ef6241e02d636</td>\n",
       "      <td>start_level</td>\n",
       "      <td>1746524668723519</td>\n",
       "      <td>level</td>\n",
       "      <td>8</td>\n",
       "    </tr>\n",
       "    <tr>\n",
       "      <th>72</th>\n",
       "      <td>0005abff796753973e9ef6241e02d636</td>\n",
       "      <td>booster_use</td>\n",
       "      <td>1746524674356521</td>\n",
       "      <td>level</td>\n",
       "      <td>8</td>\n",
       "    </tr>\n",
       "    <tr>\n",
       "      <th>73</th>\n",
       "      <td>0005abff796753973e9ef6241e02d636</td>\n",
       "      <td>box_complete</td>\n",
       "      <td>1746524746387522</td>\n",
       "      <td>level</td>\n",
       "      <td>8</td>\n",
       "    </tr>\n",
       "    <tr>\n",
       "      <th>74</th>\n",
       "      <td>0005abff796753973e9ef6241e02d636</td>\n",
       "      <td>box_complete</td>\n",
       "      <td>1746524789730523</td>\n",
       "      <td>level</td>\n",
       "      <td>8</td>\n",
       "    </tr>\n",
       "    <tr>\n",
       "      <th>75</th>\n",
       "      <td>0005abff796753973e9ef6241e02d636</td>\n",
       "      <td>ad_impression</td>\n",
       "      <td>1746524796636517</td>\n",
       "      <td>ad_format</td>\n",
       "      <td>BANNER</td>\n",
       "    </tr>\n",
       "    <tr>\n",
       "      <th>...</th>\n",
       "      <td>...</td>\n",
       "      <td>...</td>\n",
       "      <td>...</td>\n",
       "      <td>...</td>\n",
       "      <td>...</td>\n",
       "    </tr>\n",
       "    <tr>\n",
       "      <th>124860</th>\n",
       "      <td>fff7b258d6cddb69af658de0b448b768</td>\n",
       "      <td>ad_impression</td>\n",
       "      <td>1747202520923251</td>\n",
       "      <td>ad_format</td>\n",
       "      <td>BANNER</td>\n",
       "    </tr>\n",
       "    <tr>\n",
       "      <th>124861</th>\n",
       "      <td>fff7b258d6cddb69af658de0b448b768</td>\n",
       "      <td>box_complete</td>\n",
       "      <td>1747202527616258</td>\n",
       "      <td>level</td>\n",
       "      <td>8</td>\n",
       "    </tr>\n",
       "    <tr>\n",
       "      <th>124862</th>\n",
       "      <td>fff7b258d6cddb69af658de0b448b768</td>\n",
       "      <td>box_complete</td>\n",
       "      <td>1747202531617261</td>\n",
       "      <td>level</td>\n",
       "      <td>8</td>\n",
       "    </tr>\n",
       "    <tr>\n",
       "      <th>124863</th>\n",
       "      <td>fff7b258d6cddb69af658de0b448b768</td>\n",
       "      <td>win_level</td>\n",
       "      <td>1747202533570262</td>\n",
       "      <td>level</td>\n",
       "      <td>8</td>\n",
       "    </tr>\n",
       "    <tr>\n",
       "      <th>124864</th>\n",
       "      <td>fff7b258d6cddb69af658de0b448b768</td>\n",
       "      <td>ad_impression</td>\n",
       "      <td>1747202542502252</td>\n",
       "      <td>ad_format</td>\n",
       "      <td>INTER</td>\n",
       "    </tr>\n",
       "  </tbody>\n",
       "</table>\n",
       "<p>28892 rows × 5 columns</p>\n",
       "</div>"
      ],
      "text/plain": [
       "                          user_pseudo_id     event_name   event_timestamp  \\\n",
       "71      0005abff796753973e9ef6241e02d636    start_level  1746524668723519   \n",
       "72      0005abff796753973e9ef6241e02d636    booster_use  1746524674356521   \n",
       "73      0005abff796753973e9ef6241e02d636   box_complete  1746524746387522   \n",
       "74      0005abff796753973e9ef6241e02d636   box_complete  1746524789730523   \n",
       "75      0005abff796753973e9ef6241e02d636  ad_impression  1746524796636517   \n",
       "...                                  ...            ...               ...   \n",
       "124860  fff7b258d6cddb69af658de0b448b768  ad_impression  1747202520923251   \n",
       "124861  fff7b258d6cddb69af658de0b448b768   box_complete  1747202527616258   \n",
       "124862  fff7b258d6cddb69af658de0b448b768   box_complete  1747202531617261   \n",
       "124863  fff7b258d6cddb69af658de0b448b768      win_level  1747202533570262   \n",
       "124864  fff7b258d6cddb69af658de0b448b768  ad_impression  1747202542502252   \n",
       "\n",
       "              key   value  \n",
       "71          level       8  \n",
       "72          level       8  \n",
       "73          level       8  \n",
       "74          level       8  \n",
       "75      ad_format  BANNER  \n",
       "...           ...     ...  \n",
       "124860  ad_format  BANNER  \n",
       "124861      level       8  \n",
       "124862      level       8  \n",
       "124863      level       8  \n",
       "124864  ad_format   INTER  \n",
       "\n",
       "[28892 rows x 5 columns]"
      ]
     },
     "execution_count": 119,
     "metadata": {},
     "output_type": "execute_result"
    }
   ],
   "source": [
    "sequence_user"
   ]
  },
  {
   "cell_type": "code",
   "execution_count": 8,
   "metadata": {},
   "outputs": [
    {
     "data": {
      "text/html": [
       "<div>\n",
       "<style scoped>\n",
       "    .dataframe tbody tr th:only-of-type {\n",
       "        vertical-align: middle;\n",
       "    }\n",
       "\n",
       "    .dataframe tbody tr th {\n",
       "        vertical-align: top;\n",
       "    }\n",
       "\n",
       "    .dataframe thead th {\n",
       "        text-align: right;\n",
       "    }\n",
       "</style>\n",
       "<table border=\"1\" class=\"dataframe\">\n",
       "  <thead>\n",
       "    <tr style=\"text-align: right;\">\n",
       "      <th></th>\n",
       "      <th>user_pseudo_id</th>\n",
       "      <th>event_name</th>\n",
       "      <th>event_timestamp</th>\n",
       "      <th>key</th>\n",
       "      <th>value</th>\n",
       "    </tr>\n",
       "  </thead>\n",
       "  <tbody>\n",
       "    <tr>\n",
       "      <th>71</th>\n",
       "      <td>0005abff796753973e9ef6241e02d636</td>\n",
       "      <td>start_level</td>\n",
       "      <td>1746524668723519</td>\n",
       "      <td>level</td>\n",
       "      <td>8</td>\n",
       "    </tr>\n",
       "    <tr>\n",
       "      <th>72</th>\n",
       "      <td>0005abff796753973e9ef6241e02d636</td>\n",
       "      <td>booster_use</td>\n",
       "      <td>1746524674356521</td>\n",
       "      <td>level</td>\n",
       "      <td>8</td>\n",
       "    </tr>\n",
       "    <tr>\n",
       "      <th>73</th>\n",
       "      <td>0005abff796753973e9ef6241e02d636</td>\n",
       "      <td>box_complete</td>\n",
       "      <td>1746524746387522</td>\n",
       "      <td>level</td>\n",
       "      <td>8</td>\n",
       "    </tr>\n",
       "    <tr>\n",
       "      <th>74</th>\n",
       "      <td>0005abff796753973e9ef6241e02d636</td>\n",
       "      <td>box_complete</td>\n",
       "      <td>1746524789730523</td>\n",
       "      <td>level</td>\n",
       "      <td>8</td>\n",
       "    </tr>\n",
       "    <tr>\n",
       "      <th>76</th>\n",
       "      <td>0005abff796753973e9ef6241e02d636</td>\n",
       "      <td>box_complete</td>\n",
       "      <td>1746524802171527</td>\n",
       "      <td>level</td>\n",
       "      <td>8</td>\n",
       "    </tr>\n",
       "    <tr>\n",
       "      <th>...</th>\n",
       "      <td>...</td>\n",
       "      <td>...</td>\n",
       "      <td>...</td>\n",
       "      <td>...</td>\n",
       "      <td>...</td>\n",
       "    </tr>\n",
       "    <tr>\n",
       "      <th>165622</th>\n",
       "      <td>fff7b258d6cddb69af658de0b448b768</td>\n",
       "      <td>box_complete</td>\n",
       "      <td>1747202518242255</td>\n",
       "      <td>level</td>\n",
       "      <td>8</td>\n",
       "    </tr>\n",
       "    <tr>\n",
       "      <th>165624</th>\n",
       "      <td>fff7b258d6cddb69af658de0b448b768</td>\n",
       "      <td>box_complete</td>\n",
       "      <td>1747202527616258</td>\n",
       "      <td>level</td>\n",
       "      <td>8</td>\n",
       "    </tr>\n",
       "    <tr>\n",
       "      <th>165625</th>\n",
       "      <td>fff7b258d6cddb69af658de0b448b768</td>\n",
       "      <td>box_complete</td>\n",
       "      <td>1747202531617261</td>\n",
       "      <td>level</td>\n",
       "      <td>8</td>\n",
       "    </tr>\n",
       "    <tr>\n",
       "      <th>165626</th>\n",
       "      <td>fff7b258d6cddb69af658de0b448b768</td>\n",
       "      <td>win_level</td>\n",
       "      <td>1747202533570262</td>\n",
       "      <td>level</td>\n",
       "      <td>8</td>\n",
       "    </tr>\n",
       "    <tr>\n",
       "      <th>165627</th>\n",
       "      <td>fff7b258d6cddb69af658de0b448b768</td>\n",
       "      <td>INTER</td>\n",
       "      <td>1747202542502252</td>\n",
       "      <td>ad_format</td>\n",
       "      <td>INTER</td>\n",
       "    </tr>\n",
       "  </tbody>\n",
       "</table>\n",
       "<p>23439 rows × 5 columns</p>\n",
       "</div>"
      ],
      "text/plain": [
       "                          user_pseudo_id    event_name   event_timestamp  \\\n",
       "71      0005abff796753973e9ef6241e02d636   start_level  1746524668723519   \n",
       "72      0005abff796753973e9ef6241e02d636   booster_use  1746524674356521   \n",
       "73      0005abff796753973e9ef6241e02d636  box_complete  1746524746387522   \n",
       "74      0005abff796753973e9ef6241e02d636  box_complete  1746524789730523   \n",
       "76      0005abff796753973e9ef6241e02d636  box_complete  1746524802171527   \n",
       "...                                  ...           ...               ...   \n",
       "165622  fff7b258d6cddb69af658de0b448b768  box_complete  1747202518242255   \n",
       "165624  fff7b258d6cddb69af658de0b448b768  box_complete  1747202527616258   \n",
       "165625  fff7b258d6cddb69af658de0b448b768  box_complete  1747202531617261   \n",
       "165626  fff7b258d6cddb69af658de0b448b768     win_level  1747202533570262   \n",
       "165627  fff7b258d6cddb69af658de0b448b768         INTER  1747202542502252   \n",
       "\n",
       "              key  value  \n",
       "71          level      8  \n",
       "72          level      8  \n",
       "73          level      8  \n",
       "74          level      8  \n",
       "76          level      8  \n",
       "...           ...    ...  \n",
       "165622      level      8  \n",
       "165624      level      8  \n",
       "165625      level      8  \n",
       "165626      level      8  \n",
       "165627  ad_format  INTER  \n",
       "\n",
       "[23439 rows x 5 columns]"
      ]
     },
     "execution_count": 8,
     "metadata": {},
     "output_type": "execute_result"
    }
   ],
   "source": [
    "# Drop rows where value is 'BANNER'\n",
    "sequence_user = sequence_user[sequence_user['value'] != 'BANNER']\n",
    "sequence_user = sequence_user[sequence_user['value'] != 'LEADER']\n",
    "sequence_user = sequence_user[sequence_user['value'] != 'REWARDED']\n",
    "\n",
    "# For ad_impression events, replace event_name with the corresponding value\n",
    "sequence_user.loc[sequence_user['event_name'] == 'ad_impression', 'event_name'] = sequence_user.loc[sequence_user['event_name'] == 'ad_impression', 'value']\n",
    "\n",
    "sequence_user"
   ]
  },
  {
   "cell_type": "code",
   "execution_count": 9,
   "metadata": {},
   "outputs": [
    {
     "data": {
      "text/html": [
       "<div>\n",
       "<style scoped>\n",
       "    .dataframe tbody tr th:only-of-type {\n",
       "        vertical-align: middle;\n",
       "    }\n",
       "\n",
       "    .dataframe tbody tr th {\n",
       "        vertical-align: top;\n",
       "    }\n",
       "\n",
       "    .dataframe thead th {\n",
       "        text-align: right;\n",
       "    }\n",
       "</style>\n",
       "<table border=\"1\" class=\"dataframe\">\n",
       "  <thead>\n",
       "    <tr style=\"text-align: right;\">\n",
       "      <th></th>\n",
       "      <th>user_pseudo_id</th>\n",
       "      <th>sequence</th>\n",
       "    </tr>\n",
       "  </thead>\n",
       "  <tbody>\n",
       "    <tr>\n",
       "      <th>0</th>\n",
       "      <td>0005abff796753973e9ef6241e02d636</td>\n",
       "      <td>start_level -&gt; booster_use -&gt; box_complete -&gt; ...</td>\n",
       "    </tr>\n",
       "    <tr>\n",
       "      <th>1</th>\n",
       "      <td>000b1cf405ea9ac1ae37ac761815cba7</td>\n",
       "      <td>start_level -&gt; booster_use -&gt; start_level</td>\n",
       "    </tr>\n",
       "    <tr>\n",
       "      <th>2</th>\n",
       "      <td>002d60067763bd3fb22ffd24ad1dd424</td>\n",
       "      <td>start_level -&gt; booster_use -&gt; box_complete -&gt; ...</td>\n",
       "    </tr>\n",
       "    <tr>\n",
       "      <th>3</th>\n",
       "      <td>002f795faeb69377468c27da3364e743</td>\n",
       "      <td>start_level -&gt; booster_use -&gt; box_complete -&gt; ...</td>\n",
       "    </tr>\n",
       "    <tr>\n",
       "      <th>4</th>\n",
       "      <td>008c00273819a7ccbcac538c1b687041</td>\n",
       "      <td>start_level -&gt; booster_use -&gt; box_complete</td>\n",
       "    </tr>\n",
       "    <tr>\n",
       "      <th>...</th>\n",
       "      <td>...</td>\n",
       "      <td>...</td>\n",
       "    </tr>\n",
       "    <tr>\n",
       "      <th>2223</th>\n",
       "      <td>ff8ea320a832ac7f4f52e98a2660bd7a</td>\n",
       "      <td>start_level -&gt; booster_use -&gt; box_complete -&gt; ...</td>\n",
       "    </tr>\n",
       "    <tr>\n",
       "      <th>2224</th>\n",
       "      <td>ff934ad018e44b6ce2bfd79e7c109724</td>\n",
       "      <td>start_level -&gt; booster_use -&gt; box_complete -&gt; ...</td>\n",
       "    </tr>\n",
       "    <tr>\n",
       "      <th>2225</th>\n",
       "      <td>ff9785c48aa0a3cb80f06202a5acdd0d</td>\n",
       "      <td>start_level -&gt; booster_use -&gt; box_complete -&gt; ...</td>\n",
       "    </tr>\n",
       "    <tr>\n",
       "      <th>2226</th>\n",
       "      <td>ffd9c30e04c487cee4701bb35a060749</td>\n",
       "      <td>start_level -&gt; booster_use -&gt; booster_use</td>\n",
       "    </tr>\n",
       "    <tr>\n",
       "      <th>2227</th>\n",
       "      <td>fff7b258d6cddb69af658de0b448b768</td>\n",
       "      <td>start_level -&gt; booster_use -&gt; box_complete -&gt; ...</td>\n",
       "    </tr>\n",
       "  </tbody>\n",
       "</table>\n",
       "<p>2228 rows × 2 columns</p>\n",
       "</div>"
      ],
      "text/plain": [
       "                        user_pseudo_id  \\\n",
       "0     0005abff796753973e9ef6241e02d636   \n",
       "1     000b1cf405ea9ac1ae37ac761815cba7   \n",
       "2     002d60067763bd3fb22ffd24ad1dd424   \n",
       "3     002f795faeb69377468c27da3364e743   \n",
       "4     008c00273819a7ccbcac538c1b687041   \n",
       "...                                ...   \n",
       "2223  ff8ea320a832ac7f4f52e98a2660bd7a   \n",
       "2224  ff934ad018e44b6ce2bfd79e7c109724   \n",
       "2225  ff9785c48aa0a3cb80f06202a5acdd0d   \n",
       "2226  ffd9c30e04c487cee4701bb35a060749   \n",
       "2227  fff7b258d6cddb69af658de0b448b768   \n",
       "\n",
       "                                               sequence  \n",
       "0     start_level -> booster_use -> box_complete -> ...  \n",
       "1             start_level -> booster_use -> start_level  \n",
       "2     start_level -> booster_use -> box_complete -> ...  \n",
       "3     start_level -> booster_use -> box_complete -> ...  \n",
       "4            start_level -> booster_use -> box_complete  \n",
       "...                                                 ...  \n",
       "2223  start_level -> booster_use -> box_complete -> ...  \n",
       "2224  start_level -> booster_use -> box_complete -> ...  \n",
       "2225  start_level -> booster_use -> box_complete -> ...  \n",
       "2226          start_level -> booster_use -> booster_use  \n",
       "2227  start_level -> booster_use -> box_complete -> ...  \n",
       "\n",
       "[2228 rows x 2 columns]"
      ]
     },
     "execution_count": 9,
     "metadata": {},
     "output_type": "execute_result"
    }
   ],
   "source": [
    "# Group events by user_pseudo_id and aggregate event_names into a sequence\n",
    "sequence_df = sequence_user.groupby('user_pseudo_id').agg(\n",
    "    sequence=('event_name', lambda x: ' -> '.join(x))\n",
    ").reset_index()\n",
    "\n",
    "sequence_df"
   ]
  },
  {
   "cell_type": "code",
   "execution_count": 10,
   "metadata": {},
   "outputs": [
    {
     "data": {
      "text/html": [
       "<div>\n",
       "<style scoped>\n",
       "    .dataframe tbody tr th:only-of-type {\n",
       "        vertical-align: middle;\n",
       "    }\n",
       "\n",
       "    .dataframe tbody tr th {\n",
       "        vertical-align: top;\n",
       "    }\n",
       "\n",
       "    .dataframe thead th {\n",
       "        text-align: right;\n",
       "    }\n",
       "</style>\n",
       "<table border=\"1\" class=\"dataframe\">\n",
       "  <thead>\n",
       "    <tr style=\"text-align: right;\">\n",
       "      <th></th>\n",
       "      <th>user_pseudo_id</th>\n",
       "      <th>sequence</th>\n",
       "    </tr>\n",
       "  </thead>\n",
       "  <tbody>\n",
       "    <tr>\n",
       "      <th>0</th>\n",
       "      <td>0005abff796753973e9ef6241e02d636</td>\n",
       "      <td>start_level -&gt; booster_use -&gt; box_complete</td>\n",
       "    </tr>\n",
       "    <tr>\n",
       "      <th>1</th>\n",
       "      <td>000b1cf405ea9ac1ae37ac761815cba7</td>\n",
       "      <td>start_level -&gt; booster_use -&gt; start_level</td>\n",
       "    </tr>\n",
       "    <tr>\n",
       "      <th>2</th>\n",
       "      <td>002d60067763bd3fb22ffd24ad1dd424</td>\n",
       "      <td>start_level -&gt; booster_use -&gt; box_complete -&gt; ...</td>\n",
       "    </tr>\n",
       "    <tr>\n",
       "      <th>3</th>\n",
       "      <td>002f795faeb69377468c27da3364e743</td>\n",
       "      <td>start_level -&gt; booster_use -&gt; box_complete</td>\n",
       "    </tr>\n",
       "    <tr>\n",
       "      <th>4</th>\n",
       "      <td>008c00273819a7ccbcac538c1b687041</td>\n",
       "      <td>start_level -&gt; booster_use -&gt; box_complete</td>\n",
       "    </tr>\n",
       "    <tr>\n",
       "      <th>...</th>\n",
       "      <td>...</td>\n",
       "      <td>...</td>\n",
       "    </tr>\n",
       "    <tr>\n",
       "      <th>2223</th>\n",
       "      <td>ff8ea320a832ac7f4f52e98a2660bd7a</td>\n",
       "      <td>start_level -&gt; booster_use -&gt; box_complete -&gt; ...</td>\n",
       "    </tr>\n",
       "    <tr>\n",
       "      <th>2224</th>\n",
       "      <td>ff934ad018e44b6ce2bfd79e7c109724</td>\n",
       "      <td>start_level -&gt; booster_use -&gt; box_complete -&gt; ...</td>\n",
       "    </tr>\n",
       "    <tr>\n",
       "      <th>2225</th>\n",
       "      <td>ff9785c48aa0a3cb80f06202a5acdd0d</td>\n",
       "      <td>start_level -&gt; booster_use -&gt; box_complete -&gt; ...</td>\n",
       "    </tr>\n",
       "    <tr>\n",
       "      <th>2226</th>\n",
       "      <td>ffd9c30e04c487cee4701bb35a060749</td>\n",
       "      <td>start_level -&gt; booster_use -&gt; booster_use</td>\n",
       "    </tr>\n",
       "    <tr>\n",
       "      <th>2227</th>\n",
       "      <td>fff7b258d6cddb69af658de0b448b768</td>\n",
       "      <td>start_level -&gt; booster_use -&gt; box_complete -&gt; ...</td>\n",
       "    </tr>\n",
       "  </tbody>\n",
       "</table>\n",
       "<p>2228 rows × 2 columns</p>\n",
       "</div>"
      ],
      "text/plain": [
       "                        user_pseudo_id  \\\n",
       "0     0005abff796753973e9ef6241e02d636   \n",
       "1     000b1cf405ea9ac1ae37ac761815cba7   \n",
       "2     002d60067763bd3fb22ffd24ad1dd424   \n",
       "3     002f795faeb69377468c27da3364e743   \n",
       "4     008c00273819a7ccbcac538c1b687041   \n",
       "...                                ...   \n",
       "2223  ff8ea320a832ac7f4f52e98a2660bd7a   \n",
       "2224  ff934ad018e44b6ce2bfd79e7c109724   \n",
       "2225  ff9785c48aa0a3cb80f06202a5acdd0d   \n",
       "2226  ffd9c30e04c487cee4701bb35a060749   \n",
       "2227  fff7b258d6cddb69af658de0b448b768   \n",
       "\n",
       "                                               sequence  \n",
       "0            start_level -> booster_use -> box_complete  \n",
       "1             start_level -> booster_use -> start_level  \n",
       "2     start_level -> booster_use -> box_complete -> ...  \n",
       "3            start_level -> booster_use -> box_complete  \n",
       "4            start_level -> booster_use -> box_complete  \n",
       "...                                                 ...  \n",
       "2223  start_level -> booster_use -> box_complete -> ...  \n",
       "2224  start_level -> booster_use -> box_complete -> ...  \n",
       "2225  start_level -> booster_use -> box_complete -> ...  \n",
       "2226          start_level -> booster_use -> booster_use  \n",
       "2227  start_level -> booster_use -> box_complete -> ...  \n",
       "\n",
       "[2228 rows x 2 columns]"
      ]
     },
     "execution_count": 10,
     "metadata": {},
     "output_type": "execute_result"
    }
   ],
   "source": [
    "# Replace multiple consecutive box_complete events with a single box_complete\n",
    "sequence_df['sequence'] = sequence_df['sequence'].str.replace(r'(box_complete(?:\\s*->\\s*box_complete)*)', 'box_complete', regex=True)\n",
    "sequence_df"
   ]
  },
  {
   "cell_type": "code",
   "execution_count": 11,
   "metadata": {},
   "outputs": [],
   "source": [
    "sequence_df['sequence'] = sequence_df['sequence'] + ' -> drop'"
   ]
  },
  {
   "cell_type": "code",
   "execution_count": 12,
   "metadata": {},
   "outputs": [
    {
     "data": {
      "application/vnd.plotly.v1+json": {
       "config": {
        "plotlyServerURL": "https://plot.ly"
       },
       "data": [
        {
         "link": {
          "source": [
           2,
           3,
           0,
           3,
           2,
           0,
           4,
           1,
           3,
           3,
           0,
           2,
           0,
           2,
           1,
           2,
           4,
           0,
           1,
           1,
           3,
           1,
           4
          ],
          "target": [
           3,
           0,
           5,
           2,
           5,
           4,
           1,
           5,
           5,
           3,
           2,
           0,
           3,
           1,
           3,
           2,
           5,
           1,
           2,
           1,
           1,
           0,
           4
          ],
          "value": [
           1962,
           1553,
           448,
           112,
           172,
           1162,
           894,
           946,
           394,
           211,
           137,
           463,
           106,
           9,
           1,
           105,
           268,
           167,
           129,
           5,
           10,
           4,
           3
          ]
         },
         "node": {
          "color": "blue",
          "label": [
           "box_complete",
           "INTER",
           "start_level",
           "booster_use",
           "win_level",
           "drop"
          ],
          "line": {
           "color": "black",
           "width": 0.5
          },
          "pad": 15,
          "thickness": 20
         },
         "type": "sankey"
        }
       ],
       "layout": {
        "font": {
         "size": 10
        },
        "template": {
         "data": {
          "bar": [
           {
            "error_x": {
             "color": "#2a3f5f"
            },
            "error_y": {
             "color": "#2a3f5f"
            },
            "marker": {
             "line": {
              "color": "#E5ECF6",
              "width": 0.5
             },
             "pattern": {
              "fillmode": "overlay",
              "size": 10,
              "solidity": 0.2
             }
            },
            "type": "bar"
           }
          ],
          "barpolar": [
           {
            "marker": {
             "line": {
              "color": "#E5ECF6",
              "width": 0.5
             },
             "pattern": {
              "fillmode": "overlay",
              "size": 10,
              "solidity": 0.2
             }
            },
            "type": "barpolar"
           }
          ],
          "carpet": [
           {
            "aaxis": {
             "endlinecolor": "#2a3f5f",
             "gridcolor": "white",
             "linecolor": "white",
             "minorgridcolor": "white",
             "startlinecolor": "#2a3f5f"
            },
            "baxis": {
             "endlinecolor": "#2a3f5f",
             "gridcolor": "white",
             "linecolor": "white",
             "minorgridcolor": "white",
             "startlinecolor": "#2a3f5f"
            },
            "type": "carpet"
           }
          ],
          "choropleth": [
           {
            "colorbar": {
             "outlinewidth": 0,
             "ticks": ""
            },
            "type": "choropleth"
           }
          ],
          "contour": [
           {
            "colorbar": {
             "outlinewidth": 0,
             "ticks": ""
            },
            "colorscale": [
             [
              0,
              "#0d0887"
             ],
             [
              0.1111111111111111,
              "#46039f"
             ],
             [
              0.2222222222222222,
              "#7201a8"
             ],
             [
              0.3333333333333333,
              "#9c179e"
             ],
             [
              0.4444444444444444,
              "#bd3786"
             ],
             [
              0.5555555555555556,
              "#d8576b"
             ],
             [
              0.6666666666666666,
              "#ed7953"
             ],
             [
              0.7777777777777778,
              "#fb9f3a"
             ],
             [
              0.8888888888888888,
              "#fdca26"
             ],
             [
              1,
              "#f0f921"
             ]
            ],
            "type": "contour"
           }
          ],
          "contourcarpet": [
           {
            "colorbar": {
             "outlinewidth": 0,
             "ticks": ""
            },
            "type": "contourcarpet"
           }
          ],
          "heatmap": [
           {
            "colorbar": {
             "outlinewidth": 0,
             "ticks": ""
            },
            "colorscale": [
             [
              0,
              "#0d0887"
             ],
             [
              0.1111111111111111,
              "#46039f"
             ],
             [
              0.2222222222222222,
              "#7201a8"
             ],
             [
              0.3333333333333333,
              "#9c179e"
             ],
             [
              0.4444444444444444,
              "#bd3786"
             ],
             [
              0.5555555555555556,
              "#d8576b"
             ],
             [
              0.6666666666666666,
              "#ed7953"
             ],
             [
              0.7777777777777778,
              "#fb9f3a"
             ],
             [
              0.8888888888888888,
              "#fdca26"
             ],
             [
              1,
              "#f0f921"
             ]
            ],
            "type": "heatmap"
           }
          ],
          "histogram": [
           {
            "marker": {
             "pattern": {
              "fillmode": "overlay",
              "size": 10,
              "solidity": 0.2
             }
            },
            "type": "histogram"
           }
          ],
          "histogram2d": [
           {
            "colorbar": {
             "outlinewidth": 0,
             "ticks": ""
            },
            "colorscale": [
             [
              0,
              "#0d0887"
             ],
             [
              0.1111111111111111,
              "#46039f"
             ],
             [
              0.2222222222222222,
              "#7201a8"
             ],
             [
              0.3333333333333333,
              "#9c179e"
             ],
             [
              0.4444444444444444,
              "#bd3786"
             ],
             [
              0.5555555555555556,
              "#d8576b"
             ],
             [
              0.6666666666666666,
              "#ed7953"
             ],
             [
              0.7777777777777778,
              "#fb9f3a"
             ],
             [
              0.8888888888888888,
              "#fdca26"
             ],
             [
              1,
              "#f0f921"
             ]
            ],
            "type": "histogram2d"
           }
          ],
          "histogram2dcontour": [
           {
            "colorbar": {
             "outlinewidth": 0,
             "ticks": ""
            },
            "colorscale": [
             [
              0,
              "#0d0887"
             ],
             [
              0.1111111111111111,
              "#46039f"
             ],
             [
              0.2222222222222222,
              "#7201a8"
             ],
             [
              0.3333333333333333,
              "#9c179e"
             ],
             [
              0.4444444444444444,
              "#bd3786"
             ],
             [
              0.5555555555555556,
              "#d8576b"
             ],
             [
              0.6666666666666666,
              "#ed7953"
             ],
             [
              0.7777777777777778,
              "#fb9f3a"
             ],
             [
              0.8888888888888888,
              "#fdca26"
             ],
             [
              1,
              "#f0f921"
             ]
            ],
            "type": "histogram2dcontour"
           }
          ],
          "mesh3d": [
           {
            "colorbar": {
             "outlinewidth": 0,
             "ticks": ""
            },
            "type": "mesh3d"
           }
          ],
          "parcoords": [
           {
            "line": {
             "colorbar": {
              "outlinewidth": 0,
              "ticks": ""
             }
            },
            "type": "parcoords"
           }
          ],
          "pie": [
           {
            "automargin": true,
            "type": "pie"
           }
          ],
          "scatter": [
           {
            "fillpattern": {
             "fillmode": "overlay",
             "size": 10,
             "solidity": 0.2
            },
            "type": "scatter"
           }
          ],
          "scatter3d": [
           {
            "line": {
             "colorbar": {
              "outlinewidth": 0,
              "ticks": ""
             }
            },
            "marker": {
             "colorbar": {
              "outlinewidth": 0,
              "ticks": ""
             }
            },
            "type": "scatter3d"
           }
          ],
          "scattercarpet": [
           {
            "marker": {
             "colorbar": {
              "outlinewidth": 0,
              "ticks": ""
             }
            },
            "type": "scattercarpet"
           }
          ],
          "scattergeo": [
           {
            "marker": {
             "colorbar": {
              "outlinewidth": 0,
              "ticks": ""
             }
            },
            "type": "scattergeo"
           }
          ],
          "scattergl": [
           {
            "marker": {
             "colorbar": {
              "outlinewidth": 0,
              "ticks": ""
             }
            },
            "type": "scattergl"
           }
          ],
          "scattermap": [
           {
            "marker": {
             "colorbar": {
              "outlinewidth": 0,
              "ticks": ""
             }
            },
            "type": "scattermap"
           }
          ],
          "scattermapbox": [
           {
            "marker": {
             "colorbar": {
              "outlinewidth": 0,
              "ticks": ""
             }
            },
            "type": "scattermapbox"
           }
          ],
          "scatterpolar": [
           {
            "marker": {
             "colorbar": {
              "outlinewidth": 0,
              "ticks": ""
             }
            },
            "type": "scatterpolar"
           }
          ],
          "scatterpolargl": [
           {
            "marker": {
             "colorbar": {
              "outlinewidth": 0,
              "ticks": ""
             }
            },
            "type": "scatterpolargl"
           }
          ],
          "scatterternary": [
           {
            "marker": {
             "colorbar": {
              "outlinewidth": 0,
              "ticks": ""
             }
            },
            "type": "scatterternary"
           }
          ],
          "surface": [
           {
            "colorbar": {
             "outlinewidth": 0,
             "ticks": ""
            },
            "colorscale": [
             [
              0,
              "#0d0887"
             ],
             [
              0.1111111111111111,
              "#46039f"
             ],
             [
              0.2222222222222222,
              "#7201a8"
             ],
             [
              0.3333333333333333,
              "#9c179e"
             ],
             [
              0.4444444444444444,
              "#bd3786"
             ],
             [
              0.5555555555555556,
              "#d8576b"
             ],
             [
              0.6666666666666666,
              "#ed7953"
             ],
             [
              0.7777777777777778,
              "#fb9f3a"
             ],
             [
              0.8888888888888888,
              "#fdca26"
             ],
             [
              1,
              "#f0f921"
             ]
            ],
            "type": "surface"
           }
          ],
          "table": [
           {
            "cells": {
             "fill": {
              "color": "#EBF0F8"
             },
             "line": {
              "color": "white"
             }
            },
            "header": {
             "fill": {
              "color": "#C8D4E3"
             },
             "line": {
              "color": "white"
             }
            },
            "type": "table"
           }
          ]
         },
         "layout": {
          "annotationdefaults": {
           "arrowcolor": "#2a3f5f",
           "arrowhead": 0,
           "arrowwidth": 1
          },
          "autotypenumbers": "strict",
          "coloraxis": {
           "colorbar": {
            "outlinewidth": 0,
            "ticks": ""
           }
          },
          "colorscale": {
           "diverging": [
            [
             0,
             "#8e0152"
            ],
            [
             0.1,
             "#c51b7d"
            ],
            [
             0.2,
             "#de77ae"
            ],
            [
             0.3,
             "#f1b6da"
            ],
            [
             0.4,
             "#fde0ef"
            ],
            [
             0.5,
             "#f7f7f7"
            ],
            [
             0.6,
             "#e6f5d0"
            ],
            [
             0.7,
             "#b8e186"
            ],
            [
             0.8,
             "#7fbc41"
            ],
            [
             0.9,
             "#4d9221"
            ],
            [
             1,
             "#276419"
            ]
           ],
           "sequential": [
            [
             0,
             "#0d0887"
            ],
            [
             0.1111111111111111,
             "#46039f"
            ],
            [
             0.2222222222222222,
             "#7201a8"
            ],
            [
             0.3333333333333333,
             "#9c179e"
            ],
            [
             0.4444444444444444,
             "#bd3786"
            ],
            [
             0.5555555555555556,
             "#d8576b"
            ],
            [
             0.6666666666666666,
             "#ed7953"
            ],
            [
             0.7777777777777778,
             "#fb9f3a"
            ],
            [
             0.8888888888888888,
             "#fdca26"
            ],
            [
             1,
             "#f0f921"
            ]
           ],
           "sequentialminus": [
            [
             0,
             "#0d0887"
            ],
            [
             0.1111111111111111,
             "#46039f"
            ],
            [
             0.2222222222222222,
             "#7201a8"
            ],
            [
             0.3333333333333333,
             "#9c179e"
            ],
            [
             0.4444444444444444,
             "#bd3786"
            ],
            [
             0.5555555555555556,
             "#d8576b"
            ],
            [
             0.6666666666666666,
             "#ed7953"
            ],
            [
             0.7777777777777778,
             "#fb9f3a"
            ],
            [
             0.8888888888888888,
             "#fdca26"
            ],
            [
             1,
             "#f0f921"
            ]
           ]
          },
          "colorway": [
           "#636efa",
           "#EF553B",
           "#00cc96",
           "#ab63fa",
           "#FFA15A",
           "#19d3f3",
           "#FF6692",
           "#B6E880",
           "#FF97FF",
           "#FECB52"
          ],
          "font": {
           "color": "#2a3f5f"
          },
          "geo": {
           "bgcolor": "white",
           "lakecolor": "white",
           "landcolor": "#E5ECF6",
           "showlakes": true,
           "showland": true,
           "subunitcolor": "white"
          },
          "hoverlabel": {
           "align": "left"
          },
          "hovermode": "closest",
          "mapbox": {
           "style": "light"
          },
          "paper_bgcolor": "white",
          "plot_bgcolor": "#E5ECF6",
          "polar": {
           "angularaxis": {
            "gridcolor": "white",
            "linecolor": "white",
            "ticks": ""
           },
           "bgcolor": "#E5ECF6",
           "radialaxis": {
            "gridcolor": "white",
            "linecolor": "white",
            "ticks": ""
           }
          },
          "scene": {
           "xaxis": {
            "backgroundcolor": "#E5ECF6",
            "gridcolor": "white",
            "gridwidth": 2,
            "linecolor": "white",
            "showbackground": true,
            "ticks": "",
            "zerolinecolor": "white"
           },
           "yaxis": {
            "backgroundcolor": "#E5ECF6",
            "gridcolor": "white",
            "gridwidth": 2,
            "linecolor": "white",
            "showbackground": true,
            "ticks": "",
            "zerolinecolor": "white"
           },
           "zaxis": {
            "backgroundcolor": "#E5ECF6",
            "gridcolor": "white",
            "gridwidth": 2,
            "linecolor": "white",
            "showbackground": true,
            "ticks": "",
            "zerolinecolor": "white"
           }
          },
          "shapedefaults": {
           "line": {
            "color": "#2a3f5f"
           }
          },
          "ternary": {
           "aaxis": {
            "gridcolor": "white",
            "linecolor": "white",
            "ticks": ""
           },
           "baxis": {
            "gridcolor": "white",
            "linecolor": "white",
            "ticks": ""
           },
           "bgcolor": "#E5ECF6",
           "caxis": {
            "gridcolor": "white",
            "linecolor": "white",
            "ticks": ""
           }
          },
          "title": {
           "x": 0.05
          },
          "xaxis": {
           "automargin": true,
           "gridcolor": "white",
           "linecolor": "white",
           "ticks": "",
           "title": {
            "standoff": 15
           },
           "zerolinecolor": "white",
           "zerolinewidth": 2
          },
          "yaxis": {
           "automargin": true,
           "gridcolor": "white",
           "linecolor": "white",
           "ticks": "",
           "title": {
            "standoff": 15
           },
           "zerolinecolor": "white",
           "zerolinewidth": 2
          }
         }
        },
        "title": {
         "text": "User Flow Sankey Diagram"
        }
       }
      }
     },
     "metadata": {},
     "output_type": "display_data"
    }
   ],
   "source": [
    "# Convert sequences to nodes and links for Sankey diagram\n",
    "sequences = sequence_df['sequence'].str.split(' -> ')\n",
    "\n",
    "# Get all unique events\n",
    "all_events = set()\n",
    "for seq in sequences:\n",
    "    all_events.update(seq)\n",
    "\n",
    "# Create nodes list\n",
    "nodes = list(all_events)\n",
    "\n",
    "# Create links dictionary to count transitions\n",
    "links = {}\n",
    "for seq in sequences:\n",
    "    for i in range(len(seq)-1):\n",
    "        source = seq[i]\n",
    "        target = seq[i+1]\n",
    "        key = (source, target)\n",
    "        links[key] = links.get(key, 0) + 1\n",
    "\n",
    "# Create source, target and value lists for plotting\n",
    "source_list = []\n",
    "target_list = []\n",
    "value_list = []\n",
    "for (source, target), value in links.items():\n",
    "    source_list.append(nodes.index(source))\n",
    "    target_list.append(nodes.index(target))\n",
    "    value_list.append(value)\n",
    "\n",
    "# Create Sankey diagram\n",
    "import plotly.graph_objects as go\n",
    "\n",
    "fig = go.Figure(data=[go.Sankey(\n",
    "    node = dict(\n",
    "        pad = 15,\n",
    "        thickness = 20,\n",
    "        line = dict(color = \"black\", width = 0.5),\n",
    "        label = nodes,\n",
    "        color = \"blue\"\n",
    "    ),\n",
    "    link = dict(\n",
    "        source = source_list,\n",
    "        target = target_list,\n",
    "        value = value_list\n",
    "    )\n",
    ")])\n",
    "\n",
    "fig.update_layout(title_text=\"User Flow Sankey Diagram\", font_size=10)\n",
    "fig.show()"
   ]
  },
  {
   "cell_type": "markdown",
   "metadata": {},
   "source": [
    "### Check user drop by inter level 8"
   ]
  },
  {
   "cell_type": "code",
   "execution_count": 124,
   "metadata": {},
   "outputs": [
    {
     "name": "stdout",
     "output_type": "stream",
     "text": [
      "Number of users who dropped after INTER: 681\n"
     ]
    },
    {
     "data": {
      "text/plain": [
       "['001a9c6f17af62e29f81d897699c7682',\n",
       " '002d60067763bd3fb22ffd24ad1dd424',\n",
       " '01016693579df9c72c3c0b94fcb9609c',\n",
       " '01a131f975505e3eec9ff4f499cd3826',\n",
       " '01c5688a99cd703075ac8847025d2ae3',\n",
       " '0218bde6e5ffbdae1262c1169769ddae',\n",
       " '02b5cac1fa7675b25be509f76f168e9a',\n",
       " '02b7cf8b02d5c23dea6914b37e7e335e',\n",
       " '03100d7a13c27e6388105157679d2de3',\n",
       " '03a4e0da0f6829938debaf649d1ae745',\n",
       " '03d55688ff013f044cc85116a659574a',\n",
       " '052935b77d0f2a9b4a547318082be01e',\n",
       " '055558027b1391ac279cb53d0daf6fc2',\n",
       " '06790555d13b8252757fb8da4a44db85',\n",
       " '068d98b7d0dd816ce04a4f381a261030',\n",
       " '06a6c4b79368cc74081ca10d2ec41c4d',\n",
       " '082b9cc05dc75c2fa289ba6cbe9f203a',\n",
       " '086ceded9631fe8e0566dbdc8b6551d7',\n",
       " '091c8bc0f4d264ee30782580c37227bf',\n",
       " '0963c8771d77baa98ad7dc424a3f133c',\n",
       " '09e98982f7be06dc169f5a264c7ffb7e',\n",
       " '0a9e582fbe671c32604284b024a6e273',\n",
       " '0b92a8f43943c8d1b2a270eee6db61c7',\n",
       " '0b97c6351a951f262a3b93f3645b23c4',\n",
       " '0cbfba9e8752a76a472239457787da4a',\n",
       " '0d01f9e7dfdce540d2e59e09da3b43cf',\n",
       " '0d77ff2a4b2ac502c5ec65f38609278e',\n",
       " '0da8d920bc040ab6322d3e54ee7f9607',\n",
       " '0db4efa45b8deb9b7f25e0afb0ca3ca2',\n",
       " '0ddc9e41e139f88455ecf3cd997efc69',\n",
       " '0e68a25367ddfe9390cdcdf72b5b9778',\n",
       " '0e7bbeca245bff22e86b3b326b541e15',\n",
       " '0eee46bda105513ecc7c9479628a7142',\n",
       " '0f1578e177b5ee612cc3a9d2dfd21aa5',\n",
       " '0fce4137e5867769f2a5c070d677dde8',\n",
       " '1082e4ffc3cd187c8e9b246f6295da92',\n",
       " '10e10eb674e7a574d09eafe498654dc7',\n",
       " '110e0826aebad9c069a22a772bf080c0',\n",
       " '114e56b5d39c1e9d071b213527c79d32',\n",
       " '1270ff1de0c5473720fe461c91fc79db',\n",
       " '128a1ed521885f428d0e7965215e6e94',\n",
       " '1291aa840eebda1f069e90b009a85d44',\n",
       " '130b0161cbaece878ba6dec13a88f4dd',\n",
       " '1365df8475b1996929b98fa1a3b425b8',\n",
       " '139434f41731146e26b66a3a87b7beda',\n",
       " '139c59bd638597cb01bd519e60e644af',\n",
       " '14083615906fe45e207a63ac07aeea6a',\n",
       " '14116697857e871c563b93311aaf001d',\n",
       " '14cdd55d9d01ddf8eb6f89a8f0c403b6',\n",
       " '14f25855ee46bbe9299243dd4e700a43',\n",
       " '153f4b6156f9057ef4d051f2966fd580',\n",
       " '154205a1696f58718fa0698870b48d31',\n",
       " '157621bc111384adcbfc1cd3685e4fb2',\n",
       " '158dccd25c54c645dd47064d6dec3340',\n",
       " '15e4baaf555a60141a1656f0ab765802',\n",
       " '15ee21ce7934f261e208e7c5fdc616b7',\n",
       " '15f6e56b6663c480535ebb07507e2199',\n",
       " '1692dcc1953564941e3552961b276321',\n",
       " '16b65f5c672dfc640f3337054583eb97',\n",
       " '16dca3c50083f3cdb9d373e1ebede37f',\n",
       " '16ea17959380353d9b1bbb8a494ab14a',\n",
       " '16f90fafb86e596cb72e850128d651f0',\n",
       " '17009e60ece7df594e4efb2995d72f38',\n",
       " '18163382b6543b6d90f6b58cad4a6885',\n",
       " '18e7988c7b7dc26b0a87adb497e2f58a',\n",
       " '1952085cba71246db587a3463438d1c5',\n",
       " '19b27e1dde43667d06089e9ff76ffda6',\n",
       " '1abb30848c2f462bd00ab9d42517f18c',\n",
       " '1c0779efe6590210a508f2e37764a4c0',\n",
       " '1c5ecc11b633d294aedaba44fde65079',\n",
       " '1cf44bc1e34f4cdde4fbced36f601cc6',\n",
       " '1d43e11e6e00328c8283e35dea9d819d',\n",
       " '1d9b84e882cba9f197b726b7c5600fc1',\n",
       " '1dcd2544a49ab0a8c990b344e950da1f',\n",
       " '1e271bb14ca7607b23630e6768768ecb',\n",
       " '1ea6466d73d7934892f2d0c936d00731',\n",
       " '200539b262e54aacf7074665c3aed4fe',\n",
       " '20131540ea5e211ff2c002bbe6fa4546',\n",
       " '2068fa7b9022730b681c0edb908d2526',\n",
       " '208f462a49542ad4d93145bb60b4e6c0',\n",
       " '20bf4bbc4f7336a1821d73a728997122',\n",
       " '20fc065db950ba3b69481e3256d97e3d',\n",
       " '218ed7e5f6293aa780e38fabc06b34d5',\n",
       " '21bba2a26ee3eb2aed301eb504dd33cf',\n",
       " '21e814be3898a481d6abc035ff1f9ef1',\n",
       " '2230d7fe8f1c979eda293e1a764f30ca',\n",
       " '224005bd4c23736a5bea26be63c1df24',\n",
       " '2254df14dd72f635f18aa92d3ede4e25',\n",
       " '24576318680f267a721e57e9a0d87884',\n",
       " '25985d95bf2d40050f9754b2bf646064',\n",
       " '263d0d8003ad7b399432d99e1f4734f7',\n",
       " '26569d9b4d82bbfa69586526a04765f7',\n",
       " '27ebc5afbe6a5bfa449b5d8222bdd6da',\n",
       " '28650948d70345dd055524369b91604e',\n",
       " '288bb2ce48eecd73efbf9e8e821de890',\n",
       " '28e95b8020003aa48e916e8b99c02160',\n",
       " '295e91e93014fd89dd7cf18c4f8053c2',\n",
       " '296209bc029c760d92c8999289b9522d',\n",
       " '2ae821627fd8aa1bdb2ca2936a15fe36',\n",
       " '2b24ce86282c7c9aeca0052bb2d8ed97',\n",
       " '2b5ec95c8ba669413b42fbf8963f9056',\n",
       " '2b8cb6ee5a46406d80017e2ed0669868',\n",
       " '2bae23065a0b4594a327d3981058b8dd',\n",
       " '2beaef9c7fc3bf6a360170fa8cb6b384',\n",
       " '2c4fe1c22ad44ec15ea3fe8b507870ff',\n",
       " '2cf81862bfbc3711ad69c34c3afb6452',\n",
       " '2d575c4ab19b2264bf5c17a8588793b2',\n",
       " '2dac7d26ed666901708525171c39f6d9',\n",
       " '2db81c6ca3f5bf11958fa5aa2cd38aa2',\n",
       " '2dc06e36c14fcd19fe3384ca3ea67e3a',\n",
       " '2dca7fa22c4e393ec0b858fb19daea13',\n",
       " '2fcceeef11234427b9beebee6172436d',\n",
       " '2fda84e0eb8c7af669bb8e5669d78798',\n",
       " '300c9f4322cd4373e3e7b8239aefe15b',\n",
       " '3125c2e1274995f73dc69bf3a8d810af',\n",
       " '316ba2e2459349e422df2ce6b095d6e1',\n",
       " '325f8549baaf1f5444c175a7baad2850',\n",
       " '326e4b6d5c3ce5abb5f2ea26b7301a05',\n",
       " '32bebd39a098cba8e9f740e341c07f2f',\n",
       " '32c177dca500d2315c44165c37d9917c',\n",
       " '336df4a5f31bd6d975890e69374317c4',\n",
       " '34879dfcbfa1b9fc4ed45ec0b667c3b0',\n",
       " '348f4c7831e66cbb0604f8a479efb969',\n",
       " '3506345fe4d1560df6b91f3c7f70c379',\n",
       " '350fca2e0bf16361b764af4906a10b40',\n",
       " '35877a83667f178271e0399ba9ba1a07',\n",
       " '368e22817ad7473d4e5e1ceeffc0fc42',\n",
       " '36ff754b1ab1db2c102ecc936317b4e5',\n",
       " '3718c106e828bce0d94b08cffff02464',\n",
       " '372b24da95a931e4ccabfb96d1979e71',\n",
       " '37ca11aeaabd1ade8f97cf3a17d2f85b',\n",
       " '37fcc807d38357c72779e1c482bee99b',\n",
       " '383125b89e3af03df2f66c728e1c5b92',\n",
       " '389d6b84b52d7fca3d767a330f123187',\n",
       " '396edeafd3e67cdf73a94b53b5014405',\n",
       " '399450a66dbe0f4d48d777c5aa0ffc4d',\n",
       " '3a8410d12f89973769aa3a9fdaf635a1',\n",
       " '3ad5feeed02cc65212c9836180981b97',\n",
       " '3b99123158ba55e3fb32e58150661f4c',\n",
       " '3c51c64ad4a4a56820d8a249fe71fab8',\n",
       " '3ccf772c0ed7f3322893fee6ba59fb12',\n",
       " '3cd9de551370de905f2a5158a98329a3',\n",
       " '3d69836467db1d84091cdb8c9cf2437c',\n",
       " '3da381d30dfdad73b312102ad6f077fa',\n",
       " '3df86bdbb813024d5f6e98dd470655f1',\n",
       " '3f59def644485c9a8b760351fb321c4f',\n",
       " '3f613739fd55e371b8375e0d23d2f040',\n",
       " '401952bf8535e9e008d65009f8008426',\n",
       " '4024cb8e5d17a49d75e55446faf6df9b',\n",
       " '407904bc4c336cb157968adba0de5107',\n",
       " '40d7c127f671e8dfdbe7246160e8d27d',\n",
       " '42f85973b82a05ccba8989f838ba5900',\n",
       " '43491d1877c4540d9dce4c55d8997371',\n",
       " '4361309e3b7c3dff8aeeb5108d1cdf61',\n",
       " '43a231b2ca862331aa4e31e4a1fefd78',\n",
       " '43e7760703e7b6d1de5bc56f38d60506',\n",
       " '43f4e5c14ae619f7e45a427852047814',\n",
       " '4467215a1f524ec2d8e38ed84689738e',\n",
       " '44ae569481b84dbc999748ba0b1685d9',\n",
       " '44d5a524f07c6f8f8a7990a6b0ab6c6c',\n",
       " '45a0ed1184f1d3b36994a6d3cd93a286',\n",
       " '45ce97f2f1837ab4391dd8487ce10f3b',\n",
       " '45e92f6ad414690bc714b9ea7b8e3308',\n",
       " '45fbb50ae967d1ab4a16a53deb04deaa',\n",
       " '466dd32c50a35bb22f27e485956fa784',\n",
       " '469d5b2f87a3d3dd95630741f2fedf42',\n",
       " '46ab38c9c26c46c308dc26b69a3eb210',\n",
       " '4760bef75e400390ad7b62a8029b9f8f',\n",
       " '48c27b50beb960ecfd813daf1fe2cdf1',\n",
       " '49790f75d8cba6b49b65c9766291938e',\n",
       " '499e4274d71165200346029e0cc9c32c',\n",
       " '49f56791b4ce2f107a0dc50f9b9cf812',\n",
       " '4a5c4e4e58df67bcfd1ebb498a98ba90',\n",
       " '4a63101c2b3bd64ea13ea84689fdb3e3',\n",
       " '4a823dd36f72387cc03b8bda5e187527',\n",
       " '4aefb24a5d233b7c4b8e848f2ce9ee89',\n",
       " '4af23ab09218c72e4e0a6492d8b1334c',\n",
       " '4afc05b3849378e2acab76a4d13e1c83',\n",
       " '4b50ea92d478693a39741ac3a2695a84',\n",
       " '4b6ff0d189ae4b1eb9561c7d0081aec5',\n",
       " '4bfe8494a851cc08e1b2fe769d2dac21',\n",
       " '4c27006c24266b2ff76a879f31d1510c',\n",
       " '4c4df1f1a4d5a33ef55ced23636ecbdb',\n",
       " '4cd98033f1a62c03289ff433758d71bd',\n",
       " '4d452009803b54fd20002302223cc46f',\n",
       " '4df473d1ade7c6af0acf700a5f79293d',\n",
       " '4e4336d5498f67068b365bb71be69052',\n",
       " '4e8fb813e11545817076cc7b74be11cc',\n",
       " '4ed4488db340b229f79d4af5c3929654',\n",
       " '4f2cdbcd78229091336ffb2554c4fca5',\n",
       " '502f2fdf66e199f6e97a7f729fd112f7',\n",
       " '508e3aa2b0e4e1507d49fe2cd97c607a',\n",
       " '50c6c911046df665403be8810147fd27',\n",
       " '514034e988455353a210a342ed8e9eab',\n",
       " '516b8f80124a3ce557914efef4969261',\n",
       " '51cd4f6b0ceb558f860e7d01c8d7db26',\n",
       " '52b67fc8cdca00ed0929417e37e7e6b3',\n",
       " '52d140f23db588ca92220e2808206e60',\n",
       " '53f90d6cf0ddf091879fdd0db4ae89c5',\n",
       " '5426d5b81f5d52276422a5786bb7b7b3',\n",
       " '54490b4c903286bd464acebc9199dfe1',\n",
       " '55439a6dc87214ad4002ff940138ce2d',\n",
       " '556660197274b83b7d267b56a83e52be',\n",
       " '564da4787dae03bead7182672c1f2391',\n",
       " '568098b6836fa865b7e069029dba6225',\n",
       " '56ac617814d71e5f1aa30107db215d5d',\n",
       " '5797c3d2849b2d46990e5fbdaa28ee39',\n",
       " '5816bea08ce433ca9c2bca60751e6568',\n",
       " '584b5df1c02e3220c7d93b1c0b18b6d3',\n",
       " '589e29af675cd825f733719680f9fbbc',\n",
       " '590debbddfc602d01a6ba1f79e5d8de5',\n",
       " '59747c9ac2316aaaf7bcb25a78d0803c',\n",
       " '599236031b178bba4734d47aa658f9a2',\n",
       " '5a37a29d196cb716027f64a9a567a110',\n",
       " '5aa3be153587785041601dff1ccc496e',\n",
       " '5b2f7ac79cc274da89cd20680d207c7c',\n",
       " '5bd92b369bda6531dd5a24cefe730586',\n",
       " '5bff3c7a2be2f102923250160cbf3bd6',\n",
       " '5d1c32ac787aa6a0cd0903f12832c21d',\n",
       " '5d36afca7411a5fa7e47a670b5ae2b6b',\n",
       " '5d76b371131057385babf0cee78e6ad8',\n",
       " '5dadec0423e7173ac81d485989b3a847',\n",
       " '5dd621503921fdee97af3ff1d2cfa80e',\n",
       " '5e6bfba43bc803cd2f886c81038230c2',\n",
       " '5ee2d046f36491c2e508120e6ab23cd4',\n",
       " '5efa355395e9953bc1ea5ce990779ba1',\n",
       " '5f032fdce601e8c94d0c4425a4dd6858',\n",
       " '5fe92c0c0f5727b18b4df3fb42e51a1f',\n",
       " '6021b51ada88f82278f1e80307136ecf',\n",
       " '60ace6967679e3db6fb81d7d2aca8983',\n",
       " '6168c53e1760abcb208f9d51c3f74b63',\n",
       " '616d7926cb51dd5a7a22bb51c599a7a8',\n",
       " '616e3c14d6461cbb005636cb93650d7a',\n",
       " '617bad8642f510dbc809ac83976f08f1',\n",
       " '61a1fb88ce003de11d4bdb28f47dff1a',\n",
       " '627a5e15ad5c111b1f4a6faaaf9efc58',\n",
       " '63591b9c301131cbe1b0fac49cda3ffc',\n",
       " '63b76b41216aa7145f6965d1c8f54914',\n",
       " '63cc07ebeea4d2ca43d70151e6b653f7',\n",
       " '63d5ad35936dd8f3af793343b49cb141',\n",
       " '643c9aa58e6f3c945ceeda10ad150273',\n",
       " '647f088b1d3263275b5228108262b2fd',\n",
       " '651dec7a7dd6fd0f236802dca112ef78',\n",
       " '6578a016068a06a8b87940efe2cf742a',\n",
       " '65a933edf5c48eb49867755fca9e3ee6',\n",
       " '65b99a1491295412499aee1827138da4',\n",
       " '663644c63ba54d1ab19d4a76ba382c06',\n",
       " '669958543a209776a8d44947683ca29f',\n",
       " '674a84df9233ff7f8e1d3f4d5570ddc5',\n",
       " '676103dcd2cd03caec47cdc8fd1ddd87',\n",
       " '67a96b8b7c7fc00acbbd38f94d109723',\n",
       " '67ad49bba29dedd9afe72e7809a67a91',\n",
       " '6842522b679b22422600298971eb89d3',\n",
       " '68b556f7ed606e37f882347daa48bc16',\n",
       " '68c73b24a1f1a7933ebd738c864e3632',\n",
       " '68d19a11e1c152086e11ec8e0d728366',\n",
       " '695005eac7f9d33e94952e08d24c383d',\n",
       " '6979e58e7d0a78dfb029f1e8e883f431',\n",
       " '698e496b5cab4a3feda6aeb692cd2ee8',\n",
       " '6a4bd3ae3ecc916a969d2a4942fca3ff',\n",
       " '6aa7fb6a4f1265ca190cb1b03837a4e3',\n",
       " '6c19c79d02227bdfb56e9a93ab1e46a2',\n",
       " '6c86a45c0431f3e32b4786c050dc2871',\n",
       " '6ca3e5e1fdeab901628250a1cfd258e5',\n",
       " '6d1ec7e698231b5a3c818979f9f80487',\n",
       " '6d7ca146e1672f8b780c185809ba9da1',\n",
       " '6dc873e259dde9e980af296dbba8e1ef',\n",
       " '6e03e8bd1507e1e2e23dddd0941180f4',\n",
       " '6e93af1529b4cc068404c734906d6011',\n",
       " '6ed1b25824beabec5331537f6fd57d2a',\n",
       " '6ee7d03fd9941435521cc2005ccd057c',\n",
       " '6f3eb3b90b7d89725bc1a554015cdcce',\n",
       " '6f54b49de56007ee4a94cd6535224768',\n",
       " '6f65a5950ad683ee0c0b39a102c5e7db',\n",
       " '704e8849550eceb831e5849fe74ddeee',\n",
       " '705f7c710a522e52bdf2e4686b1158f6',\n",
       " '70fa1c6dc123259b61187fdd750c2888',\n",
       " '710e9912abb46258a49c67243c72e733',\n",
       " '71115f7153a59958c5b4ce4fa993371e',\n",
       " '7131b48d0193d3fcc2ddcdb22abc9a7a',\n",
       " '71345df9d0a6dd7060c765869b3e4038',\n",
       " '717d7c64ef5ea2f8bb9d0fa603be543a',\n",
       " '719f4c90e524057d9ce175bd3200c04c',\n",
       " '729bc715e58d0b75fd2507b76c59b024',\n",
       " '7370d464f5a21adcb51f0e98d7c54989',\n",
       " '73848c0f1f82ef60620b718828030e09',\n",
       " '73e05c9d1010d30225f34b656f7c4473',\n",
       " '7427e12f3235c94344102791df9d55a3',\n",
       " '74908bc3f6c6c4bd84c9fa74dca2794f',\n",
       " '74ebcd1a194d509e80d5352535aaf874',\n",
       " '750c02add519a0cd72169abb33dabdeb',\n",
       " '75203f5ed93c09b7651be4743491551f',\n",
       " '75b2a530c4adc6a6d4c7085d770e8a3e',\n",
       " '75fdb17c75816140b6e9b54fb7a6fcc1',\n",
       " '75ff4a83f01e267f524b4358a4937f8b',\n",
       " '7680fb83cd0e3a96b4befd374ab6fdc7',\n",
       " '771197cc403d867ea0323639dc9f96e6',\n",
       " '77434a7f73d450e1a8da8d1582bd488c',\n",
       " '77755f2e1fbda02edaa2f2eff97f2206',\n",
       " '777fcd6b31b99030663ecc06489d0127',\n",
       " '7805ac1319c696789d0df6864ecf0a82',\n",
       " '7807c7f8af0ca15eca02b7e78ee7c00b',\n",
       " '784fa3ee9057e614bbe91ec1a27cfcbb',\n",
       " '78acfbb324c4bfdd1f3bb5ecedd196d2',\n",
       " '796b341c0495a5c6a1372bc4eace7617',\n",
       " '7a785853885c940649e57d998f7adb30',\n",
       " '7a954c46665809fc6bac631c4e6ea4ae',\n",
       " '7a9d69efeffeb7befe3270713488644b',\n",
       " '7aafcc74ffc05dca9501320b752813d9',\n",
       " '7b4d15c64d559222b9e867c70b4807e6',\n",
       " '7b856519d9377dde2dd5a157d1ee346f',\n",
       " '7bfd0f4d95dfb1cf3fea42479b60abf4',\n",
       " '7c97a999903a601b720a10eec1e5c142',\n",
       " '7cbb300188472392753ef1d36dd6baf4',\n",
       " '7d6669df3bb2c1cd20d2b8396954bfc9',\n",
       " '7d727e3a467ce80ff5cb65353ba1c557',\n",
       " '7e171cf43654d4259db6bf5f548ba849',\n",
       " '7e69e5d2d0ab1ccf03284b0cdba301da',\n",
       " '7f00f698d0281f587b00c89b03c27711',\n",
       " '7f6a975c0ba9fdf05cba998b7c608eaa',\n",
       " '80454377272d838cf675288a8aa9ff35',\n",
       " '80bef816d8f3733450f5a53fe2f596c5',\n",
       " '8173c017077c13dda9c516affc1d3348',\n",
       " '817684174b014775a060e30f4cca36cb',\n",
       " '81968a8f0bc878610a5c388b55c2a73f',\n",
       " '819f5eed94092622e50db2030a6c35d0',\n",
       " '81b37ce8621428b3f70adb408a018e69',\n",
       " '81c09d3502d7946362d66e35a439fc6b',\n",
       " '81fecae9dfcea6647cb1df3d820bfee0',\n",
       " '8257292fe784e75bc6ea497bfe4f3a1d',\n",
       " '8293671943b83d7975c2ce6780ff6916',\n",
       " '82b38b8c34e7c6f342ce47eafcd21bf5',\n",
       " '82e7e6dee0b0e35069bd5a28e308d5ea',\n",
       " '837961d64ff9195b8c6c9779cb4f99a4',\n",
       " '846bd6cb4df6c54dd11a47927f7cc32e',\n",
       " '846e8a767bfc72b157f296c134348ec5',\n",
       " '848d937059a24e5a41cb30463f18ff31',\n",
       " '859ed9d5c4182ca547fdc63aebe72640',\n",
       " '85dde7991e15529abdbcd476ce64bef0',\n",
       " '865aa34b598acd3287b1ad4aaf4d61dc',\n",
       " '86b935ffc64649f5fd05b6f76526eeea',\n",
       " '87bbde5d7a87f33b35b0c8a2750622fa',\n",
       " '87eca48942ee2de564ed0eecd43b2181',\n",
       " '87ecbef1a8300949b286768f8400fc4c',\n",
       " '87fd47b7f05a3a301aa628d61c5ae81e',\n",
       " '88c3024c9947f77f44e19417ad30a014',\n",
       " '89171d8f5a6753082a30c26b63fbd6c7',\n",
       " '892d9839afd773e9b0f60d780b618bd0',\n",
       " '89845c50b83bcb65a200c4a372d05cac',\n",
       " '89d67786c8902f9420cca133fdfe45b2',\n",
       " '8a7dd1979c32a57724eba0a109ef12fc',\n",
       " '8b0e986d743b8c245d5519121038b24a',\n",
       " '8b1896a067818f7d7763134289fff846',\n",
       " '8b63aa4948a6221e6f62568b90c36d24',\n",
       " '8c805fa06c3da642ac6c6802bffe1a96',\n",
       " '8ce3d85c9776a4b75743c76ed2acfb11',\n",
       " '8d041e95b98097c08375006d7c37cdef',\n",
       " '8d0e63450f9b3376d36ff543b112d9de',\n",
       " '8d2f5cbda26fb0ca39d45965b7c752f5',\n",
       " '8d3855eab0bb05b8fc7065efb216d17f',\n",
       " '8dc15644655ad9ea908bce8420e66344',\n",
       " '8de2ee008f173fe371f40d2872e2734b',\n",
       " '8de91ba52cde0905907bf1c45c963e73',\n",
       " '8e28a32a3f6b29b9ebc7732822a65c75',\n",
       " '8fde73b2bf42de0d6d88636008ea4741',\n",
       " '8fe2308f57db154df142d7a0ce8e8ac3',\n",
       " '9025c7aad1e7c7b83e5afc5eb2f76849',\n",
       " '906f1dcf528eb1af4b41ec6c69320bd0',\n",
       " '90f26c4fe044ee2f7f60ad1180e6afd2',\n",
       " '9103fd387bb9bd8396c797a18aac67ed',\n",
       " '9119ed7fad9222974eafbcbd27201c9c',\n",
       " '91a3541b3f66b7fa82eebba6cba8decd',\n",
       " '92ed0d67c00d722030dcf0cd3a87c4ac',\n",
       " '933bc8bc5b7c772c8c9dd5fc97f4f36d',\n",
       " '934073e814ee98693f712809460dab34',\n",
       " '954a5f7b1740b4ae5d769e3aeaca4822',\n",
       " '955a79ec64341f0463523dc844c62daf',\n",
       " '9608507aa27fa783adf55e606953c86c',\n",
       " '96232382d8fc278ff5bf710d85a95122',\n",
       " '97048331cb90e5b7ecc47fa40d63e40c',\n",
       " '9728e1c6b50e9d369ffc5350fa880a22',\n",
       " '97567fea826ca7ad9abe665378fe3da3',\n",
       " '98328231225eb5bc23d03423fc6ab35b',\n",
       " '98a639c59e3f870cfecc3557525d1ecc',\n",
       " '991b9c35e2d31c73b5c463cd03d77af6',\n",
       " '9a2e755e5538dde32241ae7e90051465',\n",
       " '9a3615aad9ca3b848a3f5a4787eaa363',\n",
       " '9a8b58ac7a8c21fb178693a48ca3eb64',\n",
       " '9acf362f685d10fc7e91db4a4f5dd3a6',\n",
       " '9b04f278f054164f8fcff63b284278c9',\n",
       " '9b180029c73ea7829f95d6d285ae4d52',\n",
       " '9b4a95e67dea76a8f6d4989390a2948e',\n",
       " '9b6046ab1bb9d458f506fdca2fb5fee0',\n",
       " '9bd9271acfef1710380fc20c5a250163',\n",
       " '9c747b5c9acb5b416a8dc009e72b6bb2',\n",
       " '9c942a6c3ffd6eed0fd1f23841dbf050',\n",
       " '9c9b22e976af4cc79f58705855c19ddb',\n",
       " '9ce17d10a39e0b3fc00780f05d6c6617',\n",
       " '9d0503aab9acf760bdc97c638f836ac7',\n",
       " '9d49f678c4cfb84045b3eeb610cdc2dd',\n",
       " '9db1ea204cfa39ede4860c117f7a2aaa',\n",
       " '9dc142adc37d7df80d9779f478e99c58',\n",
       " '9e55fee9dc30b9c626f0816fd9aa06c4',\n",
       " '9e5831141065c1c9d883e44506d72126',\n",
       " '9eb9c79d3f2d20f5eb0a5d941c00ecc2',\n",
       " '9f24bda28cefa070882c041d54b94e6b',\n",
       " '9f5ab384a2ac46f65b83955628db5946',\n",
       " '9f80077601884020a80c87600b292226',\n",
       " '9f92da098f2680d3f192793d26f38004',\n",
       " '9fbbbfd6999d860771c118249f4c916a',\n",
       " 'a03fba1a76c792bf7408bedd074ca5c5',\n",
       " 'a0484a196e03e4edc7cf57deeefaeef5',\n",
       " 'a051b31a51e2f6531d1e42a7a1271485',\n",
       " 'a0a43b5cb7b1ae24a62f86a234d9b79f',\n",
       " 'a0dc7dbc74c05efa83e09bdc27fbe492',\n",
       " 'a0de8599fa9b74b4f7c5925a97c54e80',\n",
       " 'a10a65566458383cfe42e1120c3fb3e3',\n",
       " 'a120e06f97144a1c6ef5720ceb5e7fd3',\n",
       " 'a1242d06aa632f43439d98e2d964ea10',\n",
       " 'a17eacbf3dcab881d13d3955c4bf647f',\n",
       " 'a2803605156b3d1db093e2f240c82f90',\n",
       " 'a2c411772a181981fc9667f33812c48b',\n",
       " 'a379cfa92e76894e96076fa179853677',\n",
       " 'a38f0f763a48701ad13bbebdbb504f1d',\n",
       " 'a39424e5013b6c957cb17f6adbd68613',\n",
       " 'a3b8aa2ada188f1e3f8419211720f5db',\n",
       " 'a4263afa4f37b054d4375d17183bc16c',\n",
       " 'a453d7a9517b873fd4a889298fbe90b3',\n",
       " 'a45d2a4991de545690bd44e3a9b778e3',\n",
       " 'a49bee491a623fb95346cb68d8bc9101',\n",
       " 'a59bc444b1c314881b79f7676d509bc9',\n",
       " 'a6963b77fc17be551fb9f398ec372a81',\n",
       " 'a723e4d0bb6435b6c21de032c5bf2a2d',\n",
       " 'a77edfcfc3e0c481b9ada2e2952eafa8',\n",
       " 'a7892cf2b9b6a66f90e18eebf9c04625',\n",
       " 'a7b20ec46ac920c756f88a34e57ac5af',\n",
       " 'a7bc7f9039c4b6223a77bcb1d9907285',\n",
       " 'a7e7ae0bafb24d61c1999d9f7114c077',\n",
       " 'a8a6a5e12f1515eaeab78002423476d6',\n",
       " 'a8afd9581bfbdc9265b25123415d2f9e',\n",
       " 'a926db47d85599bb8fe41f3dec4c2b1b',\n",
       " 'a9666aaa964bc45c0179100b3f927001',\n",
       " 'a99186f8455ba9c35e19728912d160cf',\n",
       " 'a9e2b642470aaef16b3a3280e374791d',\n",
       " 'aa6430ac106c38fd021253b6a78cd950',\n",
       " 'aa68551b7e735707875a4753643c1f15',\n",
       " 'acd6a4d5d0a5495667269efc5117d32b',\n",
       " 'ad280e61589019c0ec48a5c9e485a3bb',\n",
       " 'ada6a35e96d444fd038f80c1df210127',\n",
       " 'adb2fd2cab6f0b642142d5d93d2786f7',\n",
       " 'adeb36225a5e5a59fa3039a9cc37357a',\n",
       " 'ae6ce744967222ac217ddb13ec7e5d8b',\n",
       " 'af5eb07b2ae7db7f5eb784c666cae3e8',\n",
       " 'af8013a8db45805ca3664a7a8efbc312',\n",
       " 'afcd6660ca8bfc6c39447c481d7a83c7',\n",
       " 'b0093bc07e79a5839acf48928d2bfde3',\n",
       " 'b02f82dd8f0cc72b8b7fbcc3ce54af81',\n",
       " 'b1013483d5ac7670458bf77453159416',\n",
       " 'b2586e84c47beabe34c936a9927dfa0c',\n",
       " 'b2d000f7ad55e1490ace2e52a4662e99',\n",
       " 'b2ecfa50ebe887e179782108c313ba44',\n",
       " 'b2f0c45edfded5aea0f9a69ef4febeab',\n",
       " 'b3edc6f4b014079f903ab04dd9a47d09',\n",
       " 'b4b9c673fae6c7a3ea347898cd4edc92',\n",
       " 'b50b63d7947f9ad06dafd1a1b83e73eb',\n",
       " 'b534d02edc9d23e819948e77d0d9c173',\n",
       " 'b574e216b36a11972489af2047658c05',\n",
       " 'b57ed974dfe0c57a55a30ece2fe3dba6',\n",
       " 'b6a00b97c8db0bb4ba4b8dea1eff7c26',\n",
       " 'b6e31e712e662939d47ed107ac1b6c1c',\n",
       " 'b714484f1450718128120270677453ea',\n",
       " 'b71871d5b0d44cae5efbf8f6d3514b57',\n",
       " 'b78ee41fc5a3a44105d5608abb1dc618',\n",
       " 'b7a17b2893439aa2e6172468eda2a9e1',\n",
       " 'b85650ccb4e5debc48ac8cc46dfdffbe',\n",
       " 'b879864e7ee8a03b76af2632006c2158',\n",
       " 'b884228d52ad2077a7c5c361dbd46a2f',\n",
       " 'ba803e68d9f39f7ea44e9edcf7872bef',\n",
       " 'badc168cd99b63a245554ee0f5a9052b',\n",
       " 'bb47ad59dcda8fc7e5062998de5ce5ca',\n",
       " 'bb603170570a2f1ef293e6b0d564de44',\n",
       " 'bb9ef96571df999124d3fc85200482d1',\n",
       " 'bc1a7e6ce038430285735f8c7c2d6a69',\n",
       " 'bc2b16407a56a6ca26fe61d4462e733b',\n",
       " 'bc2b7461e08f9d06237d35281d941b4d',\n",
       " 'bc757b64aca708ec429986afbc794aa9',\n",
       " 'bc927b1283c545ef8ba18ef0d2d85e3f',\n",
       " 'bd185e6a1b379feb5f94202696cf6aed',\n",
       " 'bec3b99ecf504c07e72642122be09091',\n",
       " 'bfe6a9e211340b4f7d55696a0ae7d6f6',\n",
       " 'c08c66289140e5abf29db4049b7999b0',\n",
       " 'c0aa51be86aecac681abbdf397ce0eb2',\n",
       " 'c0afc924fd9a0d03e1eaae62789ccacc',\n",
       " 'c0c20e9ae1c9979ebb4ee7e065a76944',\n",
       " 'c0d2e898d903d37f3c145cb37d7e6e87',\n",
       " 'c111717a5b88bb6b0f10c4acb3ed3b23',\n",
       " 'c152451fb3852338af0b7a8f43a5d846',\n",
       " 'c1572685c19bc1e80060fdb3bf43eed5',\n",
       " 'c1638953fbb4a417e099fd8b0a66aabe',\n",
       " 'c1957230e35266f75d181a5f02dee8e1',\n",
       " 'c245a5d859f685aae96b8b4a48b40824',\n",
       " 'c29aed4e9f425420a1a79da6f966a396',\n",
       " 'c2a8339d31d8f5fd0d066614549e1b52',\n",
       " 'c2fe1987ac43f85c581b4f54591ad389',\n",
       " 'c3315474a73b6b1cc016f623ab7f5480',\n",
       " 'c35e955b095462413f8b676ff4e373a9',\n",
       " 'c373a8c3454b805585aaf93dffe015e9',\n",
       " 'c494646ee2359e95d4bacf1ed77c9cbb',\n",
       " 'c4d6b7e201bd7caa267db55cde1ec959',\n",
       " 'c59c1a236d3ea65ee2bc0a4eb52d96fe',\n",
       " 'c5b02777590925dd6f7ed2ebed1e42d8',\n",
       " 'c6731ff9c0189aadf3c7c0455a07375f',\n",
       " 'c68fabbf26a4b8717bc706888959612e',\n",
       " 'c7982c8ba0b3e574db4f5d7d2c9454e0',\n",
       " 'c7ff2ba593f0a6b7aa0717ec5f43612d',\n",
       " 'c810d11e74f05c601187b63ca77bcb62',\n",
       " 'c83222e48dd61cc1d96ffb5ab7415412',\n",
       " 'c8ad61fbbe4cbfac34b39d6aee0a48d7',\n",
       " 'c9a9756372131b0bd89ab53e2d7a5228',\n",
       " 'c9ad10b88d778d0b0aa767e1fd8061ee',\n",
       " 'c9f3a3110a0c89ae2cf0400efe0dba32',\n",
       " 'ca49085615c67dac64b1c4ab7558c1b7',\n",
       " 'ca60c5924424e5d852dc2ec84e646445',\n",
       " 'ca74d01bcdcfcafd9e5311fab6d4655d',\n",
       " 'ca918475246bf49232d2937c9572d987',\n",
       " 'cac289af0024337bc9961dcaa1ca74b0',\n",
       " 'cad03d9f27915d7b7055dad4e8925022',\n",
       " 'caf2c984116664df7432265b62764ef6',\n",
       " 'cb11d05b9cb39061fb69d1ccebbd301c',\n",
       " 'cb2784316b3ee58427c9478df79d226b',\n",
       " 'cb7fe1635bd11adf88852d7156a9b8a4',\n",
       " 'cbd44d10e514513036d35c6fe46c0380',\n",
       " 'cc4e2436406a9975b22d44d4e904eed9',\n",
       " 'cd39a3147050f8cc0cf29a80d345c195',\n",
       " 'cd68b1e7be6f5f4c66eed6d8e204b96a',\n",
       " 'cd7c1d58fb1d7128e596287a1b092adb',\n",
       " 'cdba0ec76d78d1255e6b6e6c8d058503',\n",
       " 'ce8f629873383537fabb449219450447',\n",
       " 'cefd9c9cb161c7168ec02d0c9d8c9d22',\n",
       " 'cf04ca55879a99840e02d0ce913c890b',\n",
       " 'cf2eb4480cfee425ab52a7fd9bb00907',\n",
       " 'd0ef3d1f171cd9b0715c9512ae874c9f',\n",
       " 'd10ca0cf69f1665ad1965007e6518259',\n",
       " 'd1d4f419e01aaf35e5f430c9cbc090b4',\n",
       " 'd250b302a43640169fcf55600fe05c7e',\n",
       " 'd35e4f0264a5d09d761060901438174b',\n",
       " 'd37d2d35faf8490183c25ac3a3b598a6',\n",
       " 'd4002d4f249a7c3ed9e5a33147523d55',\n",
       " 'd40a2ac2c5690b92d733dcd6f3a6cb44',\n",
       " 'd4cd33db5fb1b5c5c7cc4f51bbf1d948',\n",
       " 'd515644041562c5246932caca859109b',\n",
       " 'd51f64f6394293a72dfa4ec342af1d92',\n",
       " 'd57e8a56247ceec48f1ca7d626d023cd',\n",
       " 'd5d310a11e4355b3e891a7e7b17e71a3',\n",
       " 'd602f035917fd611bf3d3eadc317f16d',\n",
       " 'd6a87120db229b8cb26d8be59c35ff7f',\n",
       " 'd6f434109da82a312a6ed3cdbda68e25',\n",
       " 'd7475407d66b40687b8df403312b694a',\n",
       " 'd7711f8cdab8fd31449e3d0c17105dd1',\n",
       " 'd7ee510e5f7c9229bcb51bea0069e907',\n",
       " 'd82706034ee89022e09680bbbe705ffe',\n",
       " 'd83513652d242e6466122f67fb69fc29',\n",
       " 'd8446503ce086cfa86c9fb7c4fdd2dc4',\n",
       " 'd84c23be0ea3ced63c44d99a51a231ce',\n",
       " 'd8fcd7136ec7e8cded21ecbb57343165',\n",
       " 'd9391585c1eb657090c94fc902382998',\n",
       " 'd96dc72b9ec2277de577048ea7355c93',\n",
       " 'da5ccb379fa275c19b2f6f68b6a64560',\n",
       " 'da9063366b992145b73de554291b55ba',\n",
       " 'daa274d26e1a8634fcc0588664139860',\n",
       " 'daa500d61a4ce2cb94a38154c408b0b4',\n",
       " 'dc0dc951a58eee1a77df9c08cca95629',\n",
       " 'dc6cffd880d2f44fbb9dbdd19d921a08',\n",
       " 'dc829282ebcc756d27b563167c3686c6',\n",
       " 'dcb02178e0b7af78ec343a754cad90b9',\n",
       " 'dcddfb75b4dae2c8ea4695eea87506b0',\n",
       " 'dd87a7169b452b954c57b20203ec98a8',\n",
       " 'ddbf123a60bac593ee7a47a43b0a0fb1',\n",
       " 'ded7f3b93afffbb76fd5b044d0130ff0',\n",
       " 'df10b6556c525e16507229849b98d5ec',\n",
       " 'e0a7253d83f84d164b9935a773083590',\n",
       " 'e0ce8531a6a144b37d5545b67ddc0986',\n",
       " 'e0d81bad5ae36bc0837f0e62833c2495',\n",
       " 'e0f76bb00c137264579f25336d8f59bb',\n",
       " 'e24da4e5f075573ff0a42ea8328c9c1e',\n",
       " 'e24e8211982a42e8745d478f416eca34',\n",
       " 'e2d6327a62179d980bd42bbb8b55b61f',\n",
       " 'e32eec4deb6ceca80eb0bcd4acd8447c',\n",
       " 'e38f3880ad9c4723f1c3eff541e1a466',\n",
       " 'e3e1531ce533affb2f0aee2759297a3b',\n",
       " 'e49535ee0e7596afd7811a689896ac88',\n",
       " 'e4cc5ec44ee1953218ac94ca4b7f486a',\n",
       " 'e4ede3dec78cf8ff9e801681fd3d22cb',\n",
       " 'e4ee19c71122690864b7b3b2656bf44d',\n",
       " 'e524862f5a79a89b1fbc6a82d97f2dbf',\n",
       " 'e59903ff1bd65124bcd4cc6687326eec',\n",
       " 'e5c163a213b4d467c1841fe9a566d84e',\n",
       " 'e5effb4a74a1a8b594ec131d16b97a98',\n",
       " 'e6b3e2ecbcaa8706fe14ef26c9324ed2',\n",
       " 'e75e82e73780b55bc8ee2752c60544c9',\n",
       " 'e76f3d2db1dbb814b5620ed331076bbc',\n",
       " 'e7913d2ce66129d6347e1d57bf2b2671',\n",
       " 'e7e9de1f41a2296540b1c195f04326fa',\n",
       " 'e7fde3a34a602fdd362cd712aca198af',\n",
       " 'e83a13fe3f02cb68e5eef30578ea2c03',\n",
       " 'e86db67bcd595918343843fc9db7e4b8',\n",
       " 'e89ec3870566e43496a6d3f3db065366',\n",
       " 'e925760a8a504e8aa07fc9c2cb9a1d3d',\n",
       " 'e9347c9bebfef0531ac340582ace6f57',\n",
       " 'e93cfe6bef917b183e23ccddc3c5d5c9',\n",
       " 'e98d157d532f58fdfd085725b6ca9e5e',\n",
       " 'e9c5da8d54ff010cc8e847559790f63d',\n",
       " 'ea1d02a301bbff9c14e786ccb6a6422b',\n",
       " 'ea66e6ded11d12926b975f52c33a17b7',\n",
       " 'eb015431a3396663467ae6334d96ef95',\n",
       " 'eb594f346c705ef1a6f462637143a25f',\n",
       " 'ed1af173a65e359b635dcc94c65a4117',\n",
       " 'ed311a6fe41102c5b0e4dc306b593a7c',\n",
       " 'ed988292002b5eee634607ae7e4626ab',\n",
       " 'edab37397eafd472ba0a3c424d1c319f',\n",
       " 'eddf7d15e4a41c4d5399d7ca8993b42b',\n",
       " 'ee639d077144dd5cca910b577c1a251f',\n",
       " 'ee701854402ca3efbe9c131feba2d6be',\n",
       " 'ee92e0fcfa96f85b9b945751eb9127a2',\n",
       " 'eeeb547ac7897377e203c2c33bd4cc9b',\n",
       " 'eef3432de8ca232e3c51a0f1b9325836',\n",
       " 'eef8c6e25cfb09119b00c8091af8c6ed',\n",
       " 'ef07d17c24bd60d85fa672376d071f9e',\n",
       " 'ef41d1adf45fce6a7b0dfbe2add30c56',\n",
       " 'efde02ffb3e89ca5149b52caa8765a9c',\n",
       " 'f07b0e53bcd3378c6937ff1bbe1a841e',\n",
       " 'f0b26455c1dd1ad950e190a03e4c9dc8',\n",
       " 'f0d105546f211b51ba7d78e12a9057d2',\n",
       " 'f0d2e0f0c20f84662160d69a67263e01',\n",
       " 'f0f06d22b722a791fe0a7633b3843e09',\n",
       " 'f145d40527d185beb58d76a9e90e7dcb',\n",
       " 'f1581edef10c17617284055a68b8e03b',\n",
       " 'f1d71bce7b872d915767c61262226c08',\n",
       " 'f264d03a491dfe6f58edb1e5205560d3',\n",
       " 'f2c05a019080748af8c18fb720438fea',\n",
       " 'f3543b32a50858c4eba085dbe32ba556',\n",
       " 'f369d1c246c7cea3305b81dbc5390b5c',\n",
       " 'f4211f40b721bca709373f1e9167111b',\n",
       " 'f4214f494638ad5c753a76f613fce51c',\n",
       " 'f538823d19ba05cc103c52bdd9e806b7',\n",
       " 'f53c5be30b8a6895136795492e575c3c',\n",
       " 'f59e2ff0e02d25d0bcc3c4ada5599158',\n",
       " 'f65e07ceea4f75eadf0f10949d74655b',\n",
       " 'f684f9c1d5da95ac2a2d7f01429ceac2',\n",
       " 'f743dc53bbd8ebf4c1f6a4bab965e437',\n",
       " 'f76e2cb94835e29d7f24d3ad067b917f',\n",
       " 'f837a32d2156aba95e54eb99a7c8e61c',\n",
       " 'f87f7b79976cac222e97f9af99c1c05d',\n",
       " 'f8c9606eb4e40f7739c9e19cec35dff3',\n",
       " 'f8f7c2772a7b9509f428ad7613e874ef',\n",
       " 'f96549d7084656700791b94983d9a188',\n",
       " 'f98d4fb01c76bba9a27418079b3ef2a3',\n",
       " 'f99c375d399512bc6952ce8947e36fd2',\n",
       " 'fa074e50f83f1113b49a181af5bf5840',\n",
       " 'fa5f6115007fdebdfedb8ef90017e7db',\n",
       " 'fa658f3f0f5e638df773b9ba0e8ceda9',\n",
       " 'fb4984fcd121ba90018b7be8794d3b0b',\n",
       " 'fb596319df390d004ad2833c3b79cf05',\n",
       " 'fb8fb2cde67328eb4bbb74475ea1296e',\n",
       " 'fbc663dab4c8d559c7f9ef4748b6f0b1',\n",
       " 'fbd00da83f2c63c91824eae5c89343ee',\n",
       " 'fc0b208db6dc0c60f365f40283566a56',\n",
       " 'fc57e3cb416cd1710991b6bf70081224',\n",
       " 'fca5e96b5b1ee3255399c0192010562c',\n",
       " 'fcacebb87302cb111fd0d30856df27a4',\n",
       " 'fcc82632a528a7bd0d6ab68288f15b5c',\n",
       " 'fe591f5fc83d7c15d4d24f5ef6ac8e60',\n",
       " 'fe94a189421fd15d073b08042d17944e',\n",
       " 'fea8d37808cad23ec062cc07adb40692',\n",
       " 'febeef2a0f33e36e17258067ae2486fb',\n",
       " 'fee114994cf5b234d296c31b913e3b7d',\n",
       " 'ff73128446a78f62a5e088fd76236069',\n",
       " 'ff78eeca154db2b41a8a39eacc9f4ad2',\n",
       " 'ff8ea320a832ac7f4f52e98a2660bd7a',\n",
       " 'ff9785c48aa0a3cb80f06202a5acdd0d',\n",
       " 'fff7b258d6cddb69af658de0b448b768']"
      ]
     },
     "execution_count": 124,
     "metadata": {},
     "output_type": "execute_result"
    }
   ],
   "source": [
    "# Get users whose sequence ends with 'INTER -> drop'\n",
    "drop_after_inter_users = sequence_df[sequence_df['sequence'].str.endswith('INTER -> drop')]['user_pseudo_id'].tolist()\n",
    "print(f\"Number of users who dropped after INTER: {len(drop_after_inter_users)}\")\n",
    "drop_after_inter_users"
   ]
  },
  {
   "cell_type": "code",
   "execution_count": 125,
   "metadata": {},
   "outputs": [],
   "source": [
    "query = f\"\"\"\n",
    "SELECT\n",
    "  user_pseudo_id,\n",
    "  event_name,\n",
    "  event_timestamp,\n",
    "  ev.key,\n",
    "  COALESCE(ev.value.string_value,\n",
    "           CAST(ev.value.int_value AS STRING),\n",
    "           CAST(ev.value.float_value AS STRING),\n",
    "           CAST(ev.value.double_value AS STRING)\n",
    "  ) AS value\n",
    "FROM\n",
    "  `crazy-coffee-jam.analytics_483028617.events_intraday_*`,\n",
    "  UNNEST(event_params) AS ev\n",
    "WHERE\n",
    "  _TABLE_SUFFIX BETWEEN '20250422' AND '20250519'\n",
    "  and user_pseudo_id in ('{(\"','\".join(drop_after_inter_users))}')\n",
    "  and key not in ('firebase_event_origin','firebase_screen_class','ga_session_number', 'engaged_session_event', 'firebase_screen_id', 'ga_session_id', 'firebase_event_id',\n",
    "  'system_app', 'previous_first_open_count', 'system_app_update', 'firebase_conversion', 'update_with_analytics', 'level_percent','IsLoop',\n",
    "  'value', 'ad_platform', 'ad_unit_name', 'currency','ad_source')\n",
    "ORDER BY\n",
    "  user_pseudo_id,   \n",
    "  event_timestamp\n",
    "\"\"\"\n",
    "sequence_user_drop_inter_8 = client.query(query).to_dataframe()"
   ]
  },
  {
   "cell_type": "code",
   "execution_count": 126,
   "metadata": {},
   "outputs": [
    {
     "data": {
      "text/html": [
       "<div>\n",
       "<style scoped>\n",
       "    .dataframe tbody tr th:only-of-type {\n",
       "        vertical-align: middle;\n",
       "    }\n",
       "\n",
       "    .dataframe tbody tr th {\n",
       "        vertical-align: top;\n",
       "    }\n",
       "\n",
       "    .dataframe thead th {\n",
       "        text-align: right;\n",
       "    }\n",
       "</style>\n",
       "<table border=\"1\" class=\"dataframe\">\n",
       "  <thead>\n",
       "    <tr style=\"text-align: right;\">\n",
       "      <th></th>\n",
       "      <th>user_pseudo_id</th>\n",
       "      <th>event_name</th>\n",
       "      <th>event_timestamp</th>\n",
       "      <th>key</th>\n",
       "      <th>value</th>\n",
       "    </tr>\n",
       "  </thead>\n",
       "  <tbody>\n",
       "    <tr>\n",
       "      <th>0</th>\n",
       "      <td>001a9c6f17af62e29f81d897699c7682</td>\n",
       "      <td>first_open</td>\n",
       "      <td>1747259108906088</td>\n",
       "      <td>engagement_time_msec</td>\n",
       "      <td>1</td>\n",
       "    </tr>\n",
       "    <tr>\n",
       "      <th>1</th>\n",
       "      <td>001a9c6f17af62e29f81d897699c7682</td>\n",
       "      <td>screen_view</td>\n",
       "      <td>1747259109613089</td>\n",
       "      <td>entrances</td>\n",
       "      <td>1</td>\n",
       "    </tr>\n",
       "    <tr>\n",
       "      <th>2</th>\n",
       "      <td>001a9c6f17af62e29f81d897699c7682</td>\n",
       "      <td>firebase_campaign</td>\n",
       "      <td>1747259109983088</td>\n",
       "      <td>campaign_info_source</td>\n",
       "      <td>referrer API v2</td>\n",
       "    </tr>\n",
       "    <tr>\n",
       "      <th>3</th>\n",
       "      <td>001a9c6f17af62e29f81d897699c7682</td>\n",
       "      <td>firebase_campaign</td>\n",
       "      <td>1747259109983088</td>\n",
       "      <td>medium</td>\n",
       "      <td>(not set)</td>\n",
       "    </tr>\n",
       "    <tr>\n",
       "      <th>4</th>\n",
       "      <td>001a9c6f17af62e29f81d897699c7682</td>\n",
       "      <td>firebase_campaign</td>\n",
       "      <td>1747259109983088</td>\n",
       "      <td>source</td>\n",
       "      <td>(not set)</td>\n",
       "    </tr>\n",
       "    <tr>\n",
       "      <th>...</th>\n",
       "      <td>...</td>\n",
       "      <td>...</td>\n",
       "      <td>...</td>\n",
       "      <td>...</td>\n",
       "      <td>...</td>\n",
       "    </tr>\n",
       "    <tr>\n",
       "      <th>160388</th>\n",
       "      <td>fff7b258d6cddb69af658de0b448b768</td>\n",
       "      <td>screen_view</td>\n",
       "      <td>1747202541288265</td>\n",
       "      <td>firebase_previous_class</td>\n",
       "      <td>MessagingUnityPlayerActivity</td>\n",
       "    </tr>\n",
       "    <tr>\n",
       "      <th>160389</th>\n",
       "      <td>fff7b258d6cddb69af658de0b448b768</td>\n",
       "      <td>ad_impression</td>\n",
       "      <td>1747202542502252</td>\n",
       "      <td>ad_format</td>\n",
       "      <td>INTER</td>\n",
       "    </tr>\n",
       "    <tr>\n",
       "      <th>160390</th>\n",
       "      <td>fff7b258d6cddb69af658de0b448b768</td>\n",
       "      <td>ad_cgteam_impression</td>\n",
       "      <td>1747202542502267</td>\n",
       "      <td>ad_format</td>\n",
       "      <td>INTER</td>\n",
       "    </tr>\n",
       "    <tr>\n",
       "      <th>160391</th>\n",
       "      <td>fff7b258d6cddb69af658de0b448b768</td>\n",
       "      <td>user_engagement</td>\n",
       "      <td>1747202556799270</td>\n",
       "      <td>engagement_time_msec</td>\n",
       "      <td>15519</td>\n",
       "    </tr>\n",
       "    <tr>\n",
       "      <th>160392</th>\n",
       "      <td>fff7b258d6cddb69af658de0b448b768</td>\n",
       "      <td>user_engagement</td>\n",
       "      <td>1747202586801250</td>\n",
       "      <td>engagement_time_msec</td>\n",
       "      <td>9098</td>\n",
       "    </tr>\n",
       "  </tbody>\n",
       "</table>\n",
       "<p>160393 rows × 5 columns</p>\n",
       "</div>"
      ],
      "text/plain": [
       "                          user_pseudo_id            event_name  \\\n",
       "0       001a9c6f17af62e29f81d897699c7682            first_open   \n",
       "1       001a9c6f17af62e29f81d897699c7682           screen_view   \n",
       "2       001a9c6f17af62e29f81d897699c7682     firebase_campaign   \n",
       "3       001a9c6f17af62e29f81d897699c7682     firebase_campaign   \n",
       "4       001a9c6f17af62e29f81d897699c7682     firebase_campaign   \n",
       "...                                  ...                   ...   \n",
       "160388  fff7b258d6cddb69af658de0b448b768           screen_view   \n",
       "160389  fff7b258d6cddb69af658de0b448b768         ad_impression   \n",
       "160390  fff7b258d6cddb69af658de0b448b768  ad_cgteam_impression   \n",
       "160391  fff7b258d6cddb69af658de0b448b768       user_engagement   \n",
       "160392  fff7b258d6cddb69af658de0b448b768       user_engagement   \n",
       "\n",
       "         event_timestamp                      key  \\\n",
       "0       1747259108906088     engagement_time_msec   \n",
       "1       1747259109613089                entrances   \n",
       "2       1747259109983088     campaign_info_source   \n",
       "3       1747259109983088                   medium   \n",
       "4       1747259109983088                   source   \n",
       "...                  ...                      ...   \n",
       "160388  1747202541288265  firebase_previous_class   \n",
       "160389  1747202542502252                ad_format   \n",
       "160390  1747202542502267                ad_format   \n",
       "160391  1747202556799270     engagement_time_msec   \n",
       "160392  1747202586801250     engagement_time_msec   \n",
       "\n",
       "                               value  \n",
       "0                                  1  \n",
       "1                                  1  \n",
       "2                    referrer API v2  \n",
       "3                          (not set)  \n",
       "4                          (not set)  \n",
       "...                              ...  \n",
       "160388  MessagingUnityPlayerActivity  \n",
       "160389                         INTER  \n",
       "160390                         INTER  \n",
       "160391                         15519  \n",
       "160392                          9098  \n",
       "\n",
       "[160393 rows x 5 columns]"
      ]
     },
     "execution_count": 126,
     "metadata": {},
     "output_type": "execute_result"
    }
   ],
   "source": [
    "sequence_user_drop_inter_8"
   ]
  },
  {
   "cell_type": "code",
   "execution_count": 128,
   "metadata": {},
   "outputs": [],
   "source": [
    "# Chỉ lấy các event sau khi user bắt đầu level 8\n",
    "# Get the timestamp when each user started level 8\n",
    "level_8_inter_times = sequence_user_drop_inter_8[\n",
    "    (sequence_user_drop_inter_8['event_name'] == 'start_level') &\n",
    "    (sequence_user_drop_inter_8['key'] == 'level') &\n",
    "    (sequence_user_drop_inter_8['value'] == '8')\n",
    "].groupby('user_pseudo_id')['event_timestamp'].min()\n",
    "\n",
    "# Filter sequence_user to only include events after each user's level 8 start\n",
    "sequence_user_drop_inter_8 = sequence_user_drop_inter_8.merge(\n",
    "    level_8_start_times.reset_index(),\n",
    "    on='user_pseudo_id',\n",
    "    suffixes=('', '_level8_start')\n",
    ")\n",
    "sequence_user_drop_inter_8 = sequence_user_drop_inter_8[\n",
    "    sequence_user_drop_inter_8['event_timestamp'] >= sequence_user_drop_inter_8['event_timestamp_level8_start']\n",
    "].drop('event_timestamp_level8_start', axis=1)\n",
    "\n",
    "# # Bỏ các dòng có event_name là booster_use và key là level và value là 8\n",
    "# sequence_user = sequence_user[\n",
    "#     ~((sequence_user['event_name'] == 'booster_use') &\n",
    "#       (sequence_user['key'] == 'level') &\n",
    "#       (sequence_user['value'] == '8'))\n",
    "# ]"
   ]
  },
  {
   "cell_type": "code",
   "execution_count": 129,
   "metadata": {},
   "outputs": [
    {
     "data": {
      "text/html": [
       "<div>\n",
       "<style scoped>\n",
       "    .dataframe tbody tr th:only-of-type {\n",
       "        vertical-align: middle;\n",
       "    }\n",
       "\n",
       "    .dataframe tbody tr th {\n",
       "        vertical-align: top;\n",
       "    }\n",
       "\n",
       "    .dataframe thead th {\n",
       "        text-align: right;\n",
       "    }\n",
       "</style>\n",
       "<table border=\"1\" class=\"dataframe\">\n",
       "  <thead>\n",
       "    <tr style=\"text-align: right;\">\n",
       "      <th></th>\n",
       "      <th>user_pseudo_id</th>\n",
       "      <th>event_name</th>\n",
       "      <th>event_timestamp</th>\n",
       "      <th>key</th>\n",
       "      <th>value</th>\n",
       "    </tr>\n",
       "  </thead>\n",
       "  <tbody>\n",
       "    <tr>\n",
       "      <th>128</th>\n",
       "      <td>001a9c6f17af62e29f81d897699c7682</td>\n",
       "      <td>start_level</td>\n",
       "      <td>1747259435318251</td>\n",
       "      <td>level</td>\n",
       "      <td>8</td>\n",
       "    </tr>\n",
       "    <tr>\n",
       "      <th>129</th>\n",
       "      <td>001a9c6f17af62e29f81d897699c7682</td>\n",
       "      <td>booster_gain</td>\n",
       "      <td>1747259437823252</td>\n",
       "      <td>level</td>\n",
       "      <td>8</td>\n",
       "    </tr>\n",
       "    <tr>\n",
       "      <th>130</th>\n",
       "      <td>001a9c6f17af62e29f81d897699c7682</td>\n",
       "      <td>booster_gain</td>\n",
       "      <td>1747259437823252</td>\n",
       "      <td>booster_type</td>\n",
       "      <td>Frezze</td>\n",
       "    </tr>\n",
       "    <tr>\n",
       "      <th>131</th>\n",
       "      <td>001a9c6f17af62e29f81d897699c7682</td>\n",
       "      <td>booster_gain</td>\n",
       "      <td>1747259437823252</td>\n",
       "      <td>booster_method</td>\n",
       "      <td>Free</td>\n",
       "    </tr>\n",
       "    <tr>\n",
       "      <th>132</th>\n",
       "      <td>001a9c6f17af62e29f81d897699c7682</td>\n",
       "      <td>booster_use</td>\n",
       "      <td>1747259439858253</td>\n",
       "      <td>booster_type</td>\n",
       "      <td>Frezze</td>\n",
       "    </tr>\n",
       "    <tr>\n",
       "      <th>...</th>\n",
       "      <td>...</td>\n",
       "      <td>...</td>\n",
       "      <td>...</td>\n",
       "      <td>...</td>\n",
       "      <td>...</td>\n",
       "    </tr>\n",
       "    <tr>\n",
       "      <th>160388</th>\n",
       "      <td>fff7b258d6cddb69af658de0b448b768</td>\n",
       "      <td>screen_view</td>\n",
       "      <td>1747202541288265</td>\n",
       "      <td>firebase_previous_class</td>\n",
       "      <td>MessagingUnityPlayerActivity</td>\n",
       "    </tr>\n",
       "    <tr>\n",
       "      <th>160389</th>\n",
       "      <td>fff7b258d6cddb69af658de0b448b768</td>\n",
       "      <td>ad_impression</td>\n",
       "      <td>1747202542502252</td>\n",
       "      <td>ad_format</td>\n",
       "      <td>INTER</td>\n",
       "    </tr>\n",
       "    <tr>\n",
       "      <th>160390</th>\n",
       "      <td>fff7b258d6cddb69af658de0b448b768</td>\n",
       "      <td>ad_cgteam_impression</td>\n",
       "      <td>1747202542502267</td>\n",
       "      <td>ad_format</td>\n",
       "      <td>INTER</td>\n",
       "    </tr>\n",
       "    <tr>\n",
       "      <th>160391</th>\n",
       "      <td>fff7b258d6cddb69af658de0b448b768</td>\n",
       "      <td>user_engagement</td>\n",
       "      <td>1747202556799270</td>\n",
       "      <td>engagement_time_msec</td>\n",
       "      <td>15519</td>\n",
       "    </tr>\n",
       "    <tr>\n",
       "      <th>160392</th>\n",
       "      <td>fff7b258d6cddb69af658de0b448b768</td>\n",
       "      <td>user_engagement</td>\n",
       "      <td>1747202586801250</td>\n",
       "      <td>engagement_time_msec</td>\n",
       "      <td>9098</td>\n",
       "    </tr>\n",
       "  </tbody>\n",
       "</table>\n",
       "<p>40612 rows × 5 columns</p>\n",
       "</div>"
      ],
      "text/plain": [
       "                          user_pseudo_id            event_name  \\\n",
       "128     001a9c6f17af62e29f81d897699c7682           start_level   \n",
       "129     001a9c6f17af62e29f81d897699c7682          booster_gain   \n",
       "130     001a9c6f17af62e29f81d897699c7682          booster_gain   \n",
       "131     001a9c6f17af62e29f81d897699c7682          booster_gain   \n",
       "132     001a9c6f17af62e29f81d897699c7682           booster_use   \n",
       "...                                  ...                   ...   \n",
       "160388  fff7b258d6cddb69af658de0b448b768           screen_view   \n",
       "160389  fff7b258d6cddb69af658de0b448b768         ad_impression   \n",
       "160390  fff7b258d6cddb69af658de0b448b768  ad_cgteam_impression   \n",
       "160391  fff7b258d6cddb69af658de0b448b768       user_engagement   \n",
       "160392  fff7b258d6cddb69af658de0b448b768       user_engagement   \n",
       "\n",
       "         event_timestamp                      key  \\\n",
       "128     1747259435318251                    level   \n",
       "129     1747259437823252                    level   \n",
       "130     1747259437823252             booster_type   \n",
       "131     1747259437823252           booster_method   \n",
       "132     1747259439858253             booster_type   \n",
       "...                  ...                      ...   \n",
       "160388  1747202541288265  firebase_previous_class   \n",
       "160389  1747202542502252                ad_format   \n",
       "160390  1747202542502267                ad_format   \n",
       "160391  1747202556799270     engagement_time_msec   \n",
       "160392  1747202586801250     engagement_time_msec   \n",
       "\n",
       "                               value  \n",
       "128                                8  \n",
       "129                                8  \n",
       "130                           Frezze  \n",
       "131                             Free  \n",
       "132                           Frezze  \n",
       "...                              ...  \n",
       "160388  MessagingUnityPlayerActivity  \n",
       "160389                         INTER  \n",
       "160390                         INTER  \n",
       "160391                         15519  \n",
       "160392                          9098  \n",
       "\n",
       "[40612 rows x 5 columns]"
      ]
     },
     "execution_count": 129,
     "metadata": {},
     "output_type": "execute_result"
    }
   ],
   "source": [
    "sequence_user_drop_inter_8"
   ]
  },
  {
   "cell_type": "code",
   "execution_count": 130,
   "metadata": {},
   "outputs": [],
   "source": [
    "# prompt: sequence_user: Bỏ đi các dòng có key = level và value ứng với level đó != 8\n",
    "\n",
    "sequence_user_drop_inter_8 = sequence_user_drop_inter_8[\n",
    "    ~((sequence_user_drop_inter_8['key'] == 'level') &\n",
    "      (pd.to_numeric(sequence_user_drop_inter_8['value'], errors='coerce') != 8))\n",
    "]"
   ]
  },
  {
   "cell_type": "code",
   "execution_count": 131,
   "metadata": {},
   "outputs": [
    {
     "data": {
      "text/html": [
       "<div>\n",
       "<style scoped>\n",
       "    .dataframe tbody tr th:only-of-type {\n",
       "        vertical-align: middle;\n",
       "    }\n",
       "\n",
       "    .dataframe tbody tr th {\n",
       "        vertical-align: top;\n",
       "    }\n",
       "\n",
       "    .dataframe thead th {\n",
       "        text-align: right;\n",
       "    }\n",
       "</style>\n",
       "<table border=\"1\" class=\"dataframe\">\n",
       "  <thead>\n",
       "    <tr style=\"text-align: right;\">\n",
       "      <th></th>\n",
       "      <th>user_pseudo_id</th>\n",
       "      <th>event_name</th>\n",
       "      <th>event_timestamp</th>\n",
       "      <th>key</th>\n",
       "      <th>value</th>\n",
       "    </tr>\n",
       "  </thead>\n",
       "  <tbody>\n",
       "    <tr>\n",
       "      <th>128</th>\n",
       "      <td>001a9c6f17af62e29f81d897699c7682</td>\n",
       "      <td>start_level</td>\n",
       "      <td>1747259435318251</td>\n",
       "      <td>level</td>\n",
       "      <td>8</td>\n",
       "    </tr>\n",
       "    <tr>\n",
       "      <th>129</th>\n",
       "      <td>001a9c6f17af62e29f81d897699c7682</td>\n",
       "      <td>booster_gain</td>\n",
       "      <td>1747259437823252</td>\n",
       "      <td>level</td>\n",
       "      <td>8</td>\n",
       "    </tr>\n",
       "    <tr>\n",
       "      <th>130</th>\n",
       "      <td>001a9c6f17af62e29f81d897699c7682</td>\n",
       "      <td>booster_gain</td>\n",
       "      <td>1747259437823252</td>\n",
       "      <td>booster_type</td>\n",
       "      <td>Frezze</td>\n",
       "    </tr>\n",
       "    <tr>\n",
       "      <th>131</th>\n",
       "      <td>001a9c6f17af62e29f81d897699c7682</td>\n",
       "      <td>booster_gain</td>\n",
       "      <td>1747259437823252</td>\n",
       "      <td>booster_method</td>\n",
       "      <td>Free</td>\n",
       "    </tr>\n",
       "    <tr>\n",
       "      <th>132</th>\n",
       "      <td>001a9c6f17af62e29f81d897699c7682</td>\n",
       "      <td>booster_use</td>\n",
       "      <td>1747259439858253</td>\n",
       "      <td>booster_type</td>\n",
       "      <td>Frezze</td>\n",
       "    </tr>\n",
       "    <tr>\n",
       "      <th>...</th>\n",
       "      <td>...</td>\n",
       "      <td>...</td>\n",
       "      <td>...</td>\n",
       "      <td>...</td>\n",
       "      <td>...</td>\n",
       "    </tr>\n",
       "    <tr>\n",
       "      <th>160388</th>\n",
       "      <td>fff7b258d6cddb69af658de0b448b768</td>\n",
       "      <td>screen_view</td>\n",
       "      <td>1747202541288265</td>\n",
       "      <td>firebase_previous_class</td>\n",
       "      <td>MessagingUnityPlayerActivity</td>\n",
       "    </tr>\n",
       "    <tr>\n",
       "      <th>160389</th>\n",
       "      <td>fff7b258d6cddb69af658de0b448b768</td>\n",
       "      <td>INTER</td>\n",
       "      <td>1747202542502252</td>\n",
       "      <td>ad_format</td>\n",
       "      <td>INTER</td>\n",
       "    </tr>\n",
       "    <tr>\n",
       "      <th>160390</th>\n",
       "      <td>fff7b258d6cddb69af658de0b448b768</td>\n",
       "      <td>ad_cgteam_impression</td>\n",
       "      <td>1747202542502267</td>\n",
       "      <td>ad_format</td>\n",
       "      <td>INTER</td>\n",
       "    </tr>\n",
       "    <tr>\n",
       "      <th>160391</th>\n",
       "      <td>fff7b258d6cddb69af658de0b448b768</td>\n",
       "      <td>user_engagement</td>\n",
       "      <td>1747202556799270</td>\n",
       "      <td>engagement_time_msec</td>\n",
       "      <td>15519</td>\n",
       "    </tr>\n",
       "    <tr>\n",
       "      <th>160392</th>\n",
       "      <td>fff7b258d6cddb69af658de0b448b768</td>\n",
       "      <td>user_engagement</td>\n",
       "      <td>1747202586801250</td>\n",
       "      <td>engagement_time_msec</td>\n",
       "      <td>9098</td>\n",
       "    </tr>\n",
       "  </tbody>\n",
       "</table>\n",
       "<p>30452 rows × 5 columns</p>\n",
       "</div>"
      ],
      "text/plain": [
       "                          user_pseudo_id            event_name  \\\n",
       "128     001a9c6f17af62e29f81d897699c7682           start_level   \n",
       "129     001a9c6f17af62e29f81d897699c7682          booster_gain   \n",
       "130     001a9c6f17af62e29f81d897699c7682          booster_gain   \n",
       "131     001a9c6f17af62e29f81d897699c7682          booster_gain   \n",
       "132     001a9c6f17af62e29f81d897699c7682           booster_use   \n",
       "...                                  ...                   ...   \n",
       "160388  fff7b258d6cddb69af658de0b448b768           screen_view   \n",
       "160389  fff7b258d6cddb69af658de0b448b768                 INTER   \n",
       "160390  fff7b258d6cddb69af658de0b448b768  ad_cgteam_impression   \n",
       "160391  fff7b258d6cddb69af658de0b448b768       user_engagement   \n",
       "160392  fff7b258d6cddb69af658de0b448b768       user_engagement   \n",
       "\n",
       "         event_timestamp                      key  \\\n",
       "128     1747259435318251                    level   \n",
       "129     1747259437823252                    level   \n",
       "130     1747259437823252             booster_type   \n",
       "131     1747259437823252           booster_method   \n",
       "132     1747259439858253             booster_type   \n",
       "...                  ...                      ...   \n",
       "160388  1747202541288265  firebase_previous_class   \n",
       "160389  1747202542502252                ad_format   \n",
       "160390  1747202542502267                ad_format   \n",
       "160391  1747202556799270     engagement_time_msec   \n",
       "160392  1747202586801250     engagement_time_msec   \n",
       "\n",
       "                               value  \n",
       "128                                8  \n",
       "129                                8  \n",
       "130                           Frezze  \n",
       "131                             Free  \n",
       "132                           Frezze  \n",
       "...                              ...  \n",
       "160388  MessagingUnityPlayerActivity  \n",
       "160389                         INTER  \n",
       "160390                         INTER  \n",
       "160391                         15519  \n",
       "160392                          9098  \n",
       "\n",
       "[30452 rows x 5 columns]"
      ]
     },
     "execution_count": 131,
     "metadata": {},
     "output_type": "execute_result"
    }
   ],
   "source": [
    "# Drop rows where value is 'BANNER'\n",
    "sequence_user_drop_inter_8 = sequence_user_drop_inter_8[sequence_user_drop_inter_8['value'] != 'BANNER']\n",
    "sequence_user_drop_inter_8 = sequence_user_drop_inter_8[sequence_user_drop_inter_8['value'] != 'LEADER']\n",
    "sequence_user_drop_inter_8 = sequence_user_drop_inter_8[sequence_user_drop_inter_8['value'] != 'REWARDED']\n",
    "\n",
    "# For ad_impression events, replace event_name with the corresponding value\n",
    "sequence_user_drop_inter_8.loc[sequence_user_drop_inter_8['event_name'] == 'ad_impression', 'event_name'] = sequence_user_drop_inter_8.loc[sequence_user_drop_inter_8['event_name'] == 'ad_impression', 'value']\n",
    "\n",
    "sequence_user_drop_inter_8"
   ]
  },
  {
   "cell_type": "code",
   "execution_count": 132,
   "metadata": {},
   "outputs": [
    {
     "data": {
      "text/plain": [
       "array(['level', 'booster_type', 'booster_method', 'box_id', 'Count',\n",
       "       'resource_amount', 'resource_type', 'resource_gain_source',\n",
       "       'firebase_previous_class', 'engagement_time_msec',\n",
       "       'firebase_previous_id', 'ad_format', 'placement',\n",
       "       'session_engaged', 'entrances', 'reward_type', 'rating',\n",
       "       'error_message', 'revive_method', 'timestamp', 'fatal',\n",
       "       'ad_unit_code', 'reward_value', 'previous_os_version',\n",
       "       'campaign_info_source', 'gclid'], dtype=object)"
      ]
     },
     "execution_count": 132,
     "metadata": {},
     "output_type": "execute_result"
    }
   ],
   "source": [
    "sequence_user_drop_inter_8['key'].unique()"
   ]
  },
  {
   "cell_type": "code",
   "execution_count": 145,
   "metadata": {},
   "outputs": [
    {
     "data": {
      "text/html": [
       "<div>\n",
       "<style scoped>\n",
       "    .dataframe tbody tr th:only-of-type {\n",
       "        vertical-align: middle;\n",
       "    }\n",
       "\n",
       "    .dataframe tbody tr th {\n",
       "        vertical-align: top;\n",
       "    }\n",
       "\n",
       "    .dataframe thead th {\n",
       "        text-align: right;\n",
       "    }\n",
       "</style>\n",
       "<table border=\"1\" class=\"dataframe\">\n",
       "  <thead>\n",
       "    <tr style=\"text-align: right;\">\n",
       "      <th></th>\n",
       "      <th>user_pseudo_id</th>\n",
       "      <th>event_name</th>\n",
       "      <th>event_timestamp</th>\n",
       "      <th>key</th>\n",
       "      <th>value</th>\n",
       "    </tr>\n",
       "  </thead>\n",
       "  <tbody>\n",
       "    <tr>\n",
       "      <th>128</th>\n",
       "      <td>001a9c6f17af62e29f81d897699c7682</td>\n",
       "      <td>start_level</td>\n",
       "      <td>1747259435318251</td>\n",
       "      <td>level</td>\n",
       "      <td>8</td>\n",
       "    </tr>\n",
       "    <tr>\n",
       "      <th>129</th>\n",
       "      <td>001a9c6f17af62e29f81d897699c7682</td>\n",
       "      <td>booster_gain</td>\n",
       "      <td>1747259437823252</td>\n",
       "      <td>level</td>\n",
       "      <td>8</td>\n",
       "    </tr>\n",
       "    <tr>\n",
       "      <th>130</th>\n",
       "      <td>001a9c6f17af62e29f81d897699c7682</td>\n",
       "      <td>booster_gain</td>\n",
       "      <td>1747259437823252</td>\n",
       "      <td>booster_type</td>\n",
       "      <td>Frezze</td>\n",
       "    </tr>\n",
       "    <tr>\n",
       "      <th>131</th>\n",
       "      <td>001a9c6f17af62e29f81d897699c7682</td>\n",
       "      <td>booster_gain</td>\n",
       "      <td>1747259437823252</td>\n",
       "      <td>booster_method</td>\n",
       "      <td>Free</td>\n",
       "    </tr>\n",
       "    <tr>\n",
       "      <th>132</th>\n",
       "      <td>001a9c6f17af62e29f81d897699c7682</td>\n",
       "      <td>booster_use</td>\n",
       "      <td>1747259439858253</td>\n",
       "      <td>booster_type</td>\n",
       "      <td>Frezze</td>\n",
       "    </tr>\n",
       "    <tr>\n",
       "      <th>...</th>\n",
       "      <td>...</td>\n",
       "      <td>...</td>\n",
       "      <td>...</td>\n",
       "      <td>...</td>\n",
       "      <td>...</td>\n",
       "    </tr>\n",
       "    <tr>\n",
       "      <th>160387</th>\n",
       "      <td>fff7b258d6cddb69af658de0b448b768</td>\n",
       "      <td>screen_view</td>\n",
       "      <td>1747202541288265</td>\n",
       "      <td>engagement_time_msec</td>\n",
       "      <td>251140</td>\n",
       "    </tr>\n",
       "    <tr>\n",
       "      <th>160389</th>\n",
       "      <td>fff7b258d6cddb69af658de0b448b768</td>\n",
       "      <td>INTER</td>\n",
       "      <td>1747202542502252</td>\n",
       "      <td>ad_format</td>\n",
       "      <td>INTER</td>\n",
       "    </tr>\n",
       "    <tr>\n",
       "      <th>160390</th>\n",
       "      <td>fff7b258d6cddb69af658de0b448b768</td>\n",
       "      <td>ad_cgteam_impression</td>\n",
       "      <td>1747202542502267</td>\n",
       "      <td>ad_format</td>\n",
       "      <td>INTER</td>\n",
       "    </tr>\n",
       "    <tr>\n",
       "      <th>160391</th>\n",
       "      <td>fff7b258d6cddb69af658de0b448b768</td>\n",
       "      <td>user_engagement</td>\n",
       "      <td>1747202556799270</td>\n",
       "      <td>engagement_time_msec</td>\n",
       "      <td>15519</td>\n",
       "    </tr>\n",
       "    <tr>\n",
       "      <th>160392</th>\n",
       "      <td>fff7b258d6cddb69af658de0b448b768</td>\n",
       "      <td>user_engagement</td>\n",
       "      <td>1747202586801250</td>\n",
       "      <td>engagement_time_msec</td>\n",
       "      <td>9098</td>\n",
       "    </tr>\n",
       "  </tbody>\n",
       "</table>\n",
       "<p>28439 rows × 5 columns</p>\n",
       "</div>"
      ],
      "text/plain": [
       "                          user_pseudo_id            event_name  \\\n",
       "128     001a9c6f17af62e29f81d897699c7682           start_level   \n",
       "129     001a9c6f17af62e29f81d897699c7682          booster_gain   \n",
       "130     001a9c6f17af62e29f81d897699c7682          booster_gain   \n",
       "131     001a9c6f17af62e29f81d897699c7682          booster_gain   \n",
       "132     001a9c6f17af62e29f81d897699c7682           booster_use   \n",
       "...                                  ...                   ...   \n",
       "160387  fff7b258d6cddb69af658de0b448b768           screen_view   \n",
       "160389  fff7b258d6cddb69af658de0b448b768                 INTER   \n",
       "160390  fff7b258d6cddb69af658de0b448b768  ad_cgteam_impression   \n",
       "160391  fff7b258d6cddb69af658de0b448b768       user_engagement   \n",
       "160392  fff7b258d6cddb69af658de0b448b768       user_engagement   \n",
       "\n",
       "         event_timestamp                   key   value  \n",
       "128     1747259435318251                 level       8  \n",
       "129     1747259437823252                 level       8  \n",
       "130     1747259437823252          booster_type  Frezze  \n",
       "131     1747259437823252        booster_method    Free  \n",
       "132     1747259439858253          booster_type  Frezze  \n",
       "...                  ...                   ...     ...  \n",
       "160387  1747202541288265  engagement_time_msec  251140  \n",
       "160389  1747202542502252             ad_format   INTER  \n",
       "160390  1747202542502267             ad_format   INTER  \n",
       "160391  1747202556799270  engagement_time_msec   15519  \n",
       "160392  1747202586801250  engagement_time_msec    9098  \n",
       "\n",
       "[28439 rows x 5 columns]"
      ]
     },
     "execution_count": 145,
     "metadata": {},
     "output_type": "execute_result"
    }
   ],
   "source": [
    "sequence_user_drop_inter_8 = sequence_user_drop_inter_8[~sequence_user_drop_inter_8['key'].isin([\n",
    "    'firebase_previous_class', 'firebase_previous_id', 'session_engaged', 'entrances', \n",
    "    'rating', 'reward_type', 'timestamp', 'fatal', 'ad_unit_code', 'previous_os_version',\n",
    "    'campaign_info_source', 'gclid'\n",
    "])]\n",
    "sequence_user_drop_inter_8\n"
   ]
  },
  {
   "cell_type": "code",
   "execution_count": 149,
   "metadata": {},
   "outputs": [
    {
     "data": {
      "text/html": [
       "<div>\n",
       "<style scoped>\n",
       "    .dataframe tbody tr th:only-of-type {\n",
       "        vertical-align: middle;\n",
       "    }\n",
       "\n",
       "    .dataframe tbody tr th {\n",
       "        vertical-align: top;\n",
       "    }\n",
       "\n",
       "    .dataframe thead th {\n",
       "        text-align: right;\n",
       "    }\n",
       "</style>\n",
       "<table border=\"1\" class=\"dataframe\">\n",
       "  <thead>\n",
       "    <tr style=\"text-align: right;\">\n",
       "      <th></th>\n",
       "      <th>user_pseudo_id</th>\n",
       "      <th>sequence</th>\n",
       "    </tr>\n",
       "  </thead>\n",
       "  <tbody>\n",
       "    <tr>\n",
       "      <th>0</th>\n",
       "      <td>001a9c6f17af62e29f81d897699c7682</td>\n",
       "      <td>start_level -&gt; booster_gain -&gt; booster_gain -&gt;...</td>\n",
       "    </tr>\n",
       "    <tr>\n",
       "      <th>1</th>\n",
       "      <td>002d60067763bd3fb22ffd24ad1dd424</td>\n",
       "      <td>start_level -&gt; booster_gain -&gt; booster_gain -&gt;...</td>\n",
       "    </tr>\n",
       "    <tr>\n",
       "      <th>2</th>\n",
       "      <td>01016693579df9c72c3c0b94fcb9609c</td>\n",
       "      <td>start_level -&gt; booster_gain -&gt; booster_gain -&gt;...</td>\n",
       "    </tr>\n",
       "    <tr>\n",
       "      <th>3</th>\n",
       "      <td>01a131f975505e3eec9ff4f499cd3826</td>\n",
       "      <td>start_level -&gt; booster_gain -&gt; booster_gain -&gt;...</td>\n",
       "    </tr>\n",
       "    <tr>\n",
       "      <th>4</th>\n",
       "      <td>01c5688a99cd703075ac8847025d2ae3</td>\n",
       "      <td>start_level -&gt; booster_gain -&gt; booster_gain -&gt;...</td>\n",
       "    </tr>\n",
       "    <tr>\n",
       "      <th>...</th>\n",
       "      <td>...</td>\n",
       "      <td>...</td>\n",
       "    </tr>\n",
       "    <tr>\n",
       "      <th>676</th>\n",
       "      <td>ff73128446a78f62a5e088fd76236069</td>\n",
       "      <td>start_level -&gt; booster_gain -&gt; booster_gain -&gt;...</td>\n",
       "    </tr>\n",
       "    <tr>\n",
       "      <th>677</th>\n",
       "      <td>ff78eeca154db2b41a8a39eacc9f4ad2</td>\n",
       "      <td>start_level -&gt; booster_gain -&gt; booster_gain -&gt;...</td>\n",
       "    </tr>\n",
       "    <tr>\n",
       "      <th>678</th>\n",
       "      <td>ff8ea320a832ac7f4f52e98a2660bd7a</td>\n",
       "      <td>start_level -&gt; booster_gain -&gt; booster_gain -&gt;...</td>\n",
       "    </tr>\n",
       "    <tr>\n",
       "      <th>679</th>\n",
       "      <td>ff9785c48aa0a3cb80f06202a5acdd0d</td>\n",
       "      <td>start_level -&gt; booster_gain -&gt; booster_gain -&gt;...</td>\n",
       "    </tr>\n",
       "    <tr>\n",
       "      <th>680</th>\n",
       "      <td>fff7b258d6cddb69af658de0b448b768</td>\n",
       "      <td>start_level -&gt; booster_gain -&gt; booster_gain -&gt;...</td>\n",
       "    </tr>\n",
       "  </tbody>\n",
       "</table>\n",
       "<p>681 rows × 2 columns</p>\n",
       "</div>"
      ],
      "text/plain": [
       "                       user_pseudo_id  \\\n",
       "0    001a9c6f17af62e29f81d897699c7682   \n",
       "1    002d60067763bd3fb22ffd24ad1dd424   \n",
       "2    01016693579df9c72c3c0b94fcb9609c   \n",
       "3    01a131f975505e3eec9ff4f499cd3826   \n",
       "4    01c5688a99cd703075ac8847025d2ae3   \n",
       "..                                ...   \n",
       "676  ff73128446a78f62a5e088fd76236069   \n",
       "677  ff78eeca154db2b41a8a39eacc9f4ad2   \n",
       "678  ff8ea320a832ac7f4f52e98a2660bd7a   \n",
       "679  ff9785c48aa0a3cb80f06202a5acdd0d   \n",
       "680  fff7b258d6cddb69af658de0b448b768   \n",
       "\n",
       "                                              sequence  \n",
       "0    start_level -> booster_gain -> booster_gain ->...  \n",
       "1    start_level -> booster_gain -> booster_gain ->...  \n",
       "2    start_level -> booster_gain -> booster_gain ->...  \n",
       "3    start_level -> booster_gain -> booster_gain ->...  \n",
       "4    start_level -> booster_gain -> booster_gain ->...  \n",
       "..                                                 ...  \n",
       "676  start_level -> booster_gain -> booster_gain ->...  \n",
       "677  start_level -> booster_gain -> booster_gain ->...  \n",
       "678  start_level -> booster_gain -> booster_gain ->...  \n",
       "679  start_level -> booster_gain -> booster_gain ->...  \n",
       "680  start_level -> booster_gain -> booster_gain ->...  \n",
       "\n",
       "[681 rows x 2 columns]"
      ]
     },
     "execution_count": 149,
     "metadata": {},
     "output_type": "execute_result"
    }
   ],
   "source": [
    "# Group events by user_pseudo_id and aggregate event_names into a sequence\n",
    "sequence_df_inter_8 = sequence_user_drop_inter_8.groupby('user_pseudo_id').agg(\n",
    "    sequence=('event_name', lambda x: ' -> '.join(x))\n",
    ").reset_index()\n",
    "\n",
    "sequence_df_inter_8"
   ]
  },
  {
   "cell_type": "code",
   "execution_count": 150,
   "metadata": {},
   "outputs": [],
   "source": [
    "# Split sequences by 'INTER ->' and keep only what comes after\n",
    "sequence_df_inter_8['sequence'] = sequence_df_inter_8['sequence'].apply(lambda x: x.split('INTER -> ')[-1] if 'INTER -> ' in x else x)\n"
   ]
  },
  {
   "cell_type": "code",
   "execution_count": 152,
   "metadata": {},
   "outputs": [
    {
     "data": {
      "text/html": [
       "<div>\n",
       "<style scoped>\n",
       "    .dataframe tbody tr th:only-of-type {\n",
       "        vertical-align: middle;\n",
       "    }\n",
       "\n",
       "    .dataframe tbody tr th {\n",
       "        vertical-align: top;\n",
       "    }\n",
       "\n",
       "    .dataframe thead th {\n",
       "        text-align: right;\n",
       "    }\n",
       "</style>\n",
       "<table border=\"1\" class=\"dataframe\">\n",
       "  <thead>\n",
       "    <tr style=\"text-align: right;\">\n",
       "      <th></th>\n",
       "      <th>user_pseudo_id</th>\n",
       "      <th>sequence</th>\n",
       "    </tr>\n",
       "  </thead>\n",
       "  <tbody>\n",
       "    <tr>\n",
       "      <th>0</th>\n",
       "      <td>001a9c6f17af62e29f81d897699c7682</td>\n",
       "      <td>screen_view -&gt; ads_inter_show -&gt; watch_3_ads -...</td>\n",
       "    </tr>\n",
       "    <tr>\n",
       "      <th>1</th>\n",
       "      <td>002d60067763bd3fb22ffd24ad1dd424</td>\n",
       "      <td>user_engagement</td>\n",
       "    </tr>\n",
       "    <tr>\n",
       "      <th>2</th>\n",
       "      <td>01016693579df9c72c3c0b94fcb9609c</td>\n",
       "      <td>user_engagement</td>\n",
       "    </tr>\n",
       "    <tr>\n",
       "      <th>3</th>\n",
       "      <td>01a131f975505e3eec9ff4f499cd3826</td>\n",
       "      <td>user_engagement</td>\n",
       "    </tr>\n",
       "    <tr>\n",
       "      <th>4</th>\n",
       "      <td>01c5688a99cd703075ac8847025d2ae3</td>\n",
       "      <td>user_engagement</td>\n",
       "    </tr>\n",
       "    <tr>\n",
       "      <th>...</th>\n",
       "      <td>...</td>\n",
       "      <td>...</td>\n",
       "    </tr>\n",
       "    <tr>\n",
       "      <th>676</th>\n",
       "      <td>ff73128446a78f62a5e088fd76236069</td>\n",
       "      <td>user_engagement -&gt; user_engagement</td>\n",
       "    </tr>\n",
       "    <tr>\n",
       "      <th>677</th>\n",
       "      <td>ff78eeca154db2b41a8a39eacc9f4ad2</td>\n",
       "      <td>user_engagement -&gt; user_engagement</td>\n",
       "    </tr>\n",
       "    <tr>\n",
       "      <th>678</th>\n",
       "      <td>ff8ea320a832ac7f4f52e98a2660bd7a</td>\n",
       "      <td>user_engagement</td>\n",
       "    </tr>\n",
       "    <tr>\n",
       "      <th>679</th>\n",
       "      <td>ff9785c48aa0a3cb80f06202a5acdd0d</td>\n",
       "      <td>user_engagement</td>\n",
       "    </tr>\n",
       "    <tr>\n",
       "      <th>680</th>\n",
       "      <td>fff7b258d6cddb69af658de0b448b768</td>\n",
       "      <td>user_engagement -&gt; user_engagement</td>\n",
       "    </tr>\n",
       "  </tbody>\n",
       "</table>\n",
       "<p>681 rows × 2 columns</p>\n",
       "</div>"
      ],
      "text/plain": [
       "                       user_pseudo_id  \\\n",
       "0    001a9c6f17af62e29f81d897699c7682   \n",
       "1    002d60067763bd3fb22ffd24ad1dd424   \n",
       "2    01016693579df9c72c3c0b94fcb9609c   \n",
       "3    01a131f975505e3eec9ff4f499cd3826   \n",
       "4    01c5688a99cd703075ac8847025d2ae3   \n",
       "..                                ...   \n",
       "676  ff73128446a78f62a5e088fd76236069   \n",
       "677  ff78eeca154db2b41a8a39eacc9f4ad2   \n",
       "678  ff8ea320a832ac7f4f52e98a2660bd7a   \n",
       "679  ff9785c48aa0a3cb80f06202a5acdd0d   \n",
       "680  fff7b258d6cddb69af658de0b448b768   \n",
       "\n",
       "                                              sequence  \n",
       "0    screen_view -> ads_inter_show -> watch_3_ads -...  \n",
       "1                                      user_engagement  \n",
       "2                                      user_engagement  \n",
       "3                                      user_engagement  \n",
       "4                                      user_engagement  \n",
       "..                                                 ...  \n",
       "676                 user_engagement -> user_engagement  \n",
       "677                 user_engagement -> user_engagement  \n",
       "678                                    user_engagement  \n",
       "679                                    user_engagement  \n",
       "680                 user_engagement -> user_engagement  \n",
       "\n",
       "[681 rows x 2 columns]"
      ]
     },
     "execution_count": 152,
     "metadata": {},
     "output_type": "execute_result"
    }
   ],
   "source": [
    "# Remove ad_cgteam_impression from sequences\n",
    "sequence_df_inter_8['sequence'] = sequence_df_inter_8['sequence'].apply(lambda x: x.replace('ad_cgteam_impression -> ', '').replace(' -> ad_cgteam_impression', ''))\n",
    "\n",
    "sequence_df_inter_8"
   ]
  },
  {
   "cell_type": "code",
   "execution_count": 153,
   "metadata": {},
   "outputs": [],
   "source": [
    "sequence_df_inter_8['sequence'] = sequence_df_inter_8['sequence'] + ' -> drop'"
   ]
  },
  {
   "cell_type": "code",
   "execution_count": 155,
   "metadata": {},
   "outputs": [
    {
     "data": {
      "application/vnd.plotly.v1+json": {
       "config": {
        "plotlyServerURL": "https://plot.ly"
       },
       "data": [
        {
         "link": {
          "source": [
           7,
           9,
           2,
           0,
           0,
           9,
           1,
           0,
           2,
           8,
           8,
           0,
           2,
           10,
           10,
           7,
           7,
           0,
           6,
           11,
           11,
           6,
           0,
           5,
           4,
           10,
           5,
           12,
           12,
           9,
           2,
           9,
           8,
           9,
           2,
           8,
           7,
           7,
           8,
           0
          ],
          "target": [
           9,
           2,
           0,
           0,
           3,
           0,
           3,
           7,
           8,
           8,
           0,
           9,
           10,
           10,
           0,
           7,
           0,
           6,
           11,
           6,
           11,
           0,
           5,
           4,
           10,
           5,
           12,
           12,
           0,
           8,
           7,
           3,
           7,
           9,
           2,
           3,
           3,
           12,
           10,
           12
          ],
          "value": [
           49,
           53,
           30,
           170,
           653,
           11,
           24,
           25,
           21,
           20,
           24,
           14,
           1,
           2,
           2,
           6,
           11,
           1,
           3,
           3,
           1,
           1,
           1,
           1,
           1,
           1,
           1,
           7,
           3,
           6,
           1,
           1,
           1,
           1,
           1,
           1,
           2,
           1,
           1,
           1
          ]
         },
         "node": {
          "color": "blue",
          "label": [
           "user_engagement",
           "ad_cgteam_impression",
           "watch_3_ads",
           "drop",
           "win_level_time",
           "box_complete",
           "ads_inter_fail",
           "screen_view",
           "ads_inter_click",
           "ads_inter_show",
           "all_play_level_time",
           "ads_reward_fail",
           "resource_gain"
          ],
          "line": {
           "color": "black",
           "width": 0.5
          },
          "pad": 15,
          "thickness": 20
         },
         "type": "sankey"
        }
       ],
       "layout": {
        "font": {
         "size": 10
        },
        "template": {
         "data": {
          "bar": [
           {
            "error_x": {
             "color": "#2a3f5f"
            },
            "error_y": {
             "color": "#2a3f5f"
            },
            "marker": {
             "line": {
              "color": "#E5ECF6",
              "width": 0.5
             },
             "pattern": {
              "fillmode": "overlay",
              "size": 10,
              "solidity": 0.2
             }
            },
            "type": "bar"
           }
          ],
          "barpolar": [
           {
            "marker": {
             "line": {
              "color": "#E5ECF6",
              "width": 0.5
             },
             "pattern": {
              "fillmode": "overlay",
              "size": 10,
              "solidity": 0.2
             }
            },
            "type": "barpolar"
           }
          ],
          "carpet": [
           {
            "aaxis": {
             "endlinecolor": "#2a3f5f",
             "gridcolor": "white",
             "linecolor": "white",
             "minorgridcolor": "white",
             "startlinecolor": "#2a3f5f"
            },
            "baxis": {
             "endlinecolor": "#2a3f5f",
             "gridcolor": "white",
             "linecolor": "white",
             "minorgridcolor": "white",
             "startlinecolor": "#2a3f5f"
            },
            "type": "carpet"
           }
          ],
          "choropleth": [
           {
            "colorbar": {
             "outlinewidth": 0,
             "ticks": ""
            },
            "type": "choropleth"
           }
          ],
          "contour": [
           {
            "colorbar": {
             "outlinewidth": 0,
             "ticks": ""
            },
            "colorscale": [
             [
              0,
              "#0d0887"
             ],
             [
              0.1111111111111111,
              "#46039f"
             ],
             [
              0.2222222222222222,
              "#7201a8"
             ],
             [
              0.3333333333333333,
              "#9c179e"
             ],
             [
              0.4444444444444444,
              "#bd3786"
             ],
             [
              0.5555555555555556,
              "#d8576b"
             ],
             [
              0.6666666666666666,
              "#ed7953"
             ],
             [
              0.7777777777777778,
              "#fb9f3a"
             ],
             [
              0.8888888888888888,
              "#fdca26"
             ],
             [
              1,
              "#f0f921"
             ]
            ],
            "type": "contour"
           }
          ],
          "contourcarpet": [
           {
            "colorbar": {
             "outlinewidth": 0,
             "ticks": ""
            },
            "type": "contourcarpet"
           }
          ],
          "heatmap": [
           {
            "colorbar": {
             "outlinewidth": 0,
             "ticks": ""
            },
            "colorscale": [
             [
              0,
              "#0d0887"
             ],
             [
              0.1111111111111111,
              "#46039f"
             ],
             [
              0.2222222222222222,
              "#7201a8"
             ],
             [
              0.3333333333333333,
              "#9c179e"
             ],
             [
              0.4444444444444444,
              "#bd3786"
             ],
             [
              0.5555555555555556,
              "#d8576b"
             ],
             [
              0.6666666666666666,
              "#ed7953"
             ],
             [
              0.7777777777777778,
              "#fb9f3a"
             ],
             [
              0.8888888888888888,
              "#fdca26"
             ],
             [
              1,
              "#f0f921"
             ]
            ],
            "type": "heatmap"
           }
          ],
          "histogram": [
           {
            "marker": {
             "pattern": {
              "fillmode": "overlay",
              "size": 10,
              "solidity": 0.2
             }
            },
            "type": "histogram"
           }
          ],
          "histogram2d": [
           {
            "colorbar": {
             "outlinewidth": 0,
             "ticks": ""
            },
            "colorscale": [
             [
              0,
              "#0d0887"
             ],
             [
              0.1111111111111111,
              "#46039f"
             ],
             [
              0.2222222222222222,
              "#7201a8"
             ],
             [
              0.3333333333333333,
              "#9c179e"
             ],
             [
              0.4444444444444444,
              "#bd3786"
             ],
             [
              0.5555555555555556,
              "#d8576b"
             ],
             [
              0.6666666666666666,
              "#ed7953"
             ],
             [
              0.7777777777777778,
              "#fb9f3a"
             ],
             [
              0.8888888888888888,
              "#fdca26"
             ],
             [
              1,
              "#f0f921"
             ]
            ],
            "type": "histogram2d"
           }
          ],
          "histogram2dcontour": [
           {
            "colorbar": {
             "outlinewidth": 0,
             "ticks": ""
            },
            "colorscale": [
             [
              0,
              "#0d0887"
             ],
             [
              0.1111111111111111,
              "#46039f"
             ],
             [
              0.2222222222222222,
              "#7201a8"
             ],
             [
              0.3333333333333333,
              "#9c179e"
             ],
             [
              0.4444444444444444,
              "#bd3786"
             ],
             [
              0.5555555555555556,
              "#d8576b"
             ],
             [
              0.6666666666666666,
              "#ed7953"
             ],
             [
              0.7777777777777778,
              "#fb9f3a"
             ],
             [
              0.8888888888888888,
              "#fdca26"
             ],
             [
              1,
              "#f0f921"
             ]
            ],
            "type": "histogram2dcontour"
           }
          ],
          "mesh3d": [
           {
            "colorbar": {
             "outlinewidth": 0,
             "ticks": ""
            },
            "type": "mesh3d"
           }
          ],
          "parcoords": [
           {
            "line": {
             "colorbar": {
              "outlinewidth": 0,
              "ticks": ""
             }
            },
            "type": "parcoords"
           }
          ],
          "pie": [
           {
            "automargin": true,
            "type": "pie"
           }
          ],
          "scatter": [
           {
            "fillpattern": {
             "fillmode": "overlay",
             "size": 10,
             "solidity": 0.2
            },
            "type": "scatter"
           }
          ],
          "scatter3d": [
           {
            "line": {
             "colorbar": {
              "outlinewidth": 0,
              "ticks": ""
             }
            },
            "marker": {
             "colorbar": {
              "outlinewidth": 0,
              "ticks": ""
             }
            },
            "type": "scatter3d"
           }
          ],
          "scattercarpet": [
           {
            "marker": {
             "colorbar": {
              "outlinewidth": 0,
              "ticks": ""
             }
            },
            "type": "scattercarpet"
           }
          ],
          "scattergeo": [
           {
            "marker": {
             "colorbar": {
              "outlinewidth": 0,
              "ticks": ""
             }
            },
            "type": "scattergeo"
           }
          ],
          "scattergl": [
           {
            "marker": {
             "colorbar": {
              "outlinewidth": 0,
              "ticks": ""
             }
            },
            "type": "scattergl"
           }
          ],
          "scattermap": [
           {
            "marker": {
             "colorbar": {
              "outlinewidth": 0,
              "ticks": ""
             }
            },
            "type": "scattermap"
           }
          ],
          "scattermapbox": [
           {
            "marker": {
             "colorbar": {
              "outlinewidth": 0,
              "ticks": ""
             }
            },
            "type": "scattermapbox"
           }
          ],
          "scatterpolar": [
           {
            "marker": {
             "colorbar": {
              "outlinewidth": 0,
              "ticks": ""
             }
            },
            "type": "scatterpolar"
           }
          ],
          "scatterpolargl": [
           {
            "marker": {
             "colorbar": {
              "outlinewidth": 0,
              "ticks": ""
             }
            },
            "type": "scatterpolargl"
           }
          ],
          "scatterternary": [
           {
            "marker": {
             "colorbar": {
              "outlinewidth": 0,
              "ticks": ""
             }
            },
            "type": "scatterternary"
           }
          ],
          "surface": [
           {
            "colorbar": {
             "outlinewidth": 0,
             "ticks": ""
            },
            "colorscale": [
             [
              0,
              "#0d0887"
             ],
             [
              0.1111111111111111,
              "#46039f"
             ],
             [
              0.2222222222222222,
              "#7201a8"
             ],
             [
              0.3333333333333333,
              "#9c179e"
             ],
             [
              0.4444444444444444,
              "#bd3786"
             ],
             [
              0.5555555555555556,
              "#d8576b"
             ],
             [
              0.6666666666666666,
              "#ed7953"
             ],
             [
              0.7777777777777778,
              "#fb9f3a"
             ],
             [
              0.8888888888888888,
              "#fdca26"
             ],
             [
              1,
              "#f0f921"
             ]
            ],
            "type": "surface"
           }
          ],
          "table": [
           {
            "cells": {
             "fill": {
              "color": "#EBF0F8"
             },
             "line": {
              "color": "white"
             }
            },
            "header": {
             "fill": {
              "color": "#C8D4E3"
             },
             "line": {
              "color": "white"
             }
            },
            "type": "table"
           }
          ]
         },
         "layout": {
          "annotationdefaults": {
           "arrowcolor": "#2a3f5f",
           "arrowhead": 0,
           "arrowwidth": 1
          },
          "autotypenumbers": "strict",
          "coloraxis": {
           "colorbar": {
            "outlinewidth": 0,
            "ticks": ""
           }
          },
          "colorscale": {
           "diverging": [
            [
             0,
             "#8e0152"
            ],
            [
             0.1,
             "#c51b7d"
            ],
            [
             0.2,
             "#de77ae"
            ],
            [
             0.3,
             "#f1b6da"
            ],
            [
             0.4,
             "#fde0ef"
            ],
            [
             0.5,
             "#f7f7f7"
            ],
            [
             0.6,
             "#e6f5d0"
            ],
            [
             0.7,
             "#b8e186"
            ],
            [
             0.8,
             "#7fbc41"
            ],
            [
             0.9,
             "#4d9221"
            ],
            [
             1,
             "#276419"
            ]
           ],
           "sequential": [
            [
             0,
             "#0d0887"
            ],
            [
             0.1111111111111111,
             "#46039f"
            ],
            [
             0.2222222222222222,
             "#7201a8"
            ],
            [
             0.3333333333333333,
             "#9c179e"
            ],
            [
             0.4444444444444444,
             "#bd3786"
            ],
            [
             0.5555555555555556,
             "#d8576b"
            ],
            [
             0.6666666666666666,
             "#ed7953"
            ],
            [
             0.7777777777777778,
             "#fb9f3a"
            ],
            [
             0.8888888888888888,
             "#fdca26"
            ],
            [
             1,
             "#f0f921"
            ]
           ],
           "sequentialminus": [
            [
             0,
             "#0d0887"
            ],
            [
             0.1111111111111111,
             "#46039f"
            ],
            [
             0.2222222222222222,
             "#7201a8"
            ],
            [
             0.3333333333333333,
             "#9c179e"
            ],
            [
             0.4444444444444444,
             "#bd3786"
            ],
            [
             0.5555555555555556,
             "#d8576b"
            ],
            [
             0.6666666666666666,
             "#ed7953"
            ],
            [
             0.7777777777777778,
             "#fb9f3a"
            ],
            [
             0.8888888888888888,
             "#fdca26"
            ],
            [
             1,
             "#f0f921"
            ]
           ]
          },
          "colorway": [
           "#636efa",
           "#EF553B",
           "#00cc96",
           "#ab63fa",
           "#FFA15A",
           "#19d3f3",
           "#FF6692",
           "#B6E880",
           "#FF97FF",
           "#FECB52"
          ],
          "font": {
           "color": "#2a3f5f"
          },
          "geo": {
           "bgcolor": "white",
           "lakecolor": "white",
           "landcolor": "#E5ECF6",
           "showlakes": true,
           "showland": true,
           "subunitcolor": "white"
          },
          "hoverlabel": {
           "align": "left"
          },
          "hovermode": "closest",
          "mapbox": {
           "style": "light"
          },
          "paper_bgcolor": "white",
          "plot_bgcolor": "#E5ECF6",
          "polar": {
           "angularaxis": {
            "gridcolor": "white",
            "linecolor": "white",
            "ticks": ""
           },
           "bgcolor": "#E5ECF6",
           "radialaxis": {
            "gridcolor": "white",
            "linecolor": "white",
            "ticks": ""
           }
          },
          "scene": {
           "xaxis": {
            "backgroundcolor": "#E5ECF6",
            "gridcolor": "white",
            "gridwidth": 2,
            "linecolor": "white",
            "showbackground": true,
            "ticks": "",
            "zerolinecolor": "white"
           },
           "yaxis": {
            "backgroundcolor": "#E5ECF6",
            "gridcolor": "white",
            "gridwidth": 2,
            "linecolor": "white",
            "showbackground": true,
            "ticks": "",
            "zerolinecolor": "white"
           },
           "zaxis": {
            "backgroundcolor": "#E5ECF6",
            "gridcolor": "white",
            "gridwidth": 2,
            "linecolor": "white",
            "showbackground": true,
            "ticks": "",
            "zerolinecolor": "white"
           }
          },
          "shapedefaults": {
           "line": {
            "color": "#2a3f5f"
           }
          },
          "ternary": {
           "aaxis": {
            "gridcolor": "white",
            "linecolor": "white",
            "ticks": ""
           },
           "baxis": {
            "gridcolor": "white",
            "linecolor": "white",
            "ticks": ""
           },
           "bgcolor": "#E5ECF6",
           "caxis": {
            "gridcolor": "white",
            "linecolor": "white",
            "ticks": ""
           }
          },
          "title": {
           "x": 0.05
          },
          "xaxis": {
           "automargin": true,
           "gridcolor": "white",
           "linecolor": "white",
           "ticks": "",
           "title": {
            "standoff": 15
           },
           "zerolinecolor": "white",
           "zerolinewidth": 2
          },
          "yaxis": {
           "automargin": true,
           "gridcolor": "white",
           "linecolor": "white",
           "ticks": "",
           "title": {
            "standoff": 15
           },
           "zerolinecolor": "white",
           "zerolinewidth": 2
          }
         }
        },
        "title": {
         "text": "User Flow Sankey Diagram"
        }
       }
      }
     },
     "metadata": {},
     "output_type": "display_data"
    }
   ],
   "source": [
    "# Convert sequences to nodes and links for Sankey diagram\n",
    "sequences = sequence_df_inter_8['sequence'].str.split(' -> ')\n",
    "\n",
    "# Get all unique events\n",
    "all_events = set()\n",
    "for seq in sequences:\n",
    "    all_events.update(seq)\n",
    "\n",
    "# Create nodes list\n",
    "nodes = list(all_events)\n",
    "\n",
    "# Create links dictionary to count transitions\n",
    "links = {}\n",
    "for seq in sequences:\n",
    "    for i in range(len(seq)-1):\n",
    "        source = seq[i]\n",
    "        target = seq[i+1]\n",
    "        key = (source, target)\n",
    "        links[key] = links.get(key, 0) + 1\n",
    "\n",
    "# Create source, target and value lists for plotting\n",
    "source_list = []\n",
    "target_list = []\n",
    "value_list = []\n",
    "for (source, target), value in links.items():\n",
    "    source_list.append(nodes.index(source))\n",
    "    target_list.append(nodes.index(target))\n",
    "    value_list.append(value)\n",
    "\n",
    "# Create Sankey diagram\n",
    "import plotly.graph_objects as go\n",
    "\n",
    "fig = go.Figure(data=[go.Sankey(\n",
    "    node = dict(\n",
    "        pad = 15,\n",
    "        thickness = 20,\n",
    "        line = dict(color = \"black\", width = 0.5),\n",
    "        label = nodes,\n",
    "        color = \"blue\"\n",
    "    ),\n",
    "    link = dict(\n",
    "        source = source_list,\n",
    "        target = target_list,\n",
    "        value = value_list\n",
    "    )\n",
    ")])\n",
    "\n",
    "fig.update_layout(title_text=\"User Flow Sankey Diagram\", font_size=10)\n",
    "fig.show()"
   ]
  },
  {
   "cell_type": "code",
   "execution_count": 156,
   "metadata": {},
   "outputs": [
    {
     "data": {
      "text/html": [
       "<div>\n",
       "<style scoped>\n",
       "    .dataframe tbody tr th:only-of-type {\n",
       "        vertical-align: middle;\n",
       "    }\n",
       "\n",
       "    .dataframe tbody tr th {\n",
       "        vertical-align: top;\n",
       "    }\n",
       "\n",
       "    .dataframe thead th {\n",
       "        text-align: right;\n",
       "    }\n",
       "</style>\n",
       "<table border=\"1\" class=\"dataframe\">\n",
       "  <thead>\n",
       "    <tr style=\"text-align: right;\">\n",
       "      <th></th>\n",
       "      <th>user_pseudo_id</th>\n",
       "      <th>event_name</th>\n",
       "      <th>event_timestamp</th>\n",
       "      <th>key</th>\n",
       "      <th>value</th>\n",
       "    </tr>\n",
       "  </thead>\n",
       "  <tbody>\n",
       "    <tr>\n",
       "      <th>128</th>\n",
       "      <td>001a9c6f17af62e29f81d897699c7682</td>\n",
       "      <td>start_level</td>\n",
       "      <td>1747259435318251</td>\n",
       "      <td>level</td>\n",
       "      <td>8</td>\n",
       "    </tr>\n",
       "    <tr>\n",
       "      <th>129</th>\n",
       "      <td>001a9c6f17af62e29f81d897699c7682</td>\n",
       "      <td>booster_gain</td>\n",
       "      <td>1747259437823252</td>\n",
       "      <td>level</td>\n",
       "      <td>8</td>\n",
       "    </tr>\n",
       "    <tr>\n",
       "      <th>130</th>\n",
       "      <td>001a9c6f17af62e29f81d897699c7682</td>\n",
       "      <td>booster_gain</td>\n",
       "      <td>1747259437823252</td>\n",
       "      <td>booster_type</td>\n",
       "      <td>Frezze</td>\n",
       "    </tr>\n",
       "    <tr>\n",
       "      <th>131</th>\n",
       "      <td>001a9c6f17af62e29f81d897699c7682</td>\n",
       "      <td>booster_gain</td>\n",
       "      <td>1747259437823252</td>\n",
       "      <td>booster_method</td>\n",
       "      <td>Free</td>\n",
       "    </tr>\n",
       "    <tr>\n",
       "      <th>132</th>\n",
       "      <td>001a9c6f17af62e29f81d897699c7682</td>\n",
       "      <td>booster_use</td>\n",
       "      <td>1747259439858253</td>\n",
       "      <td>booster_type</td>\n",
       "      <td>Frezze</td>\n",
       "    </tr>\n",
       "    <tr>\n",
       "      <th>...</th>\n",
       "      <td>...</td>\n",
       "      <td>...</td>\n",
       "      <td>...</td>\n",
       "      <td>...</td>\n",
       "      <td>...</td>\n",
       "    </tr>\n",
       "    <tr>\n",
       "      <th>160387</th>\n",
       "      <td>fff7b258d6cddb69af658de0b448b768</td>\n",
       "      <td>screen_view</td>\n",
       "      <td>1747202541288265</td>\n",
       "      <td>engagement_time_msec</td>\n",
       "      <td>251140</td>\n",
       "    </tr>\n",
       "    <tr>\n",
       "      <th>160389</th>\n",
       "      <td>fff7b258d6cddb69af658de0b448b768</td>\n",
       "      <td>INTER</td>\n",
       "      <td>1747202542502252</td>\n",
       "      <td>ad_format</td>\n",
       "      <td>INTER</td>\n",
       "    </tr>\n",
       "    <tr>\n",
       "      <th>160390</th>\n",
       "      <td>fff7b258d6cddb69af658de0b448b768</td>\n",
       "      <td>ad_cgteam_impression</td>\n",
       "      <td>1747202542502267</td>\n",
       "      <td>ad_format</td>\n",
       "      <td>INTER</td>\n",
       "    </tr>\n",
       "    <tr>\n",
       "      <th>160391</th>\n",
       "      <td>fff7b258d6cddb69af658de0b448b768</td>\n",
       "      <td>user_engagement</td>\n",
       "      <td>1747202556799270</td>\n",
       "      <td>engagement_time_msec</td>\n",
       "      <td>15519</td>\n",
       "    </tr>\n",
       "    <tr>\n",
       "      <th>160392</th>\n",
       "      <td>fff7b258d6cddb69af658de0b448b768</td>\n",
       "      <td>user_engagement</td>\n",
       "      <td>1747202586801250</td>\n",
       "      <td>engagement_time_msec</td>\n",
       "      <td>9098</td>\n",
       "    </tr>\n",
       "  </tbody>\n",
       "</table>\n",
       "<p>28439 rows × 5 columns</p>\n",
       "</div>"
      ],
      "text/plain": [
       "                          user_pseudo_id            event_name  \\\n",
       "128     001a9c6f17af62e29f81d897699c7682           start_level   \n",
       "129     001a9c6f17af62e29f81d897699c7682          booster_gain   \n",
       "130     001a9c6f17af62e29f81d897699c7682          booster_gain   \n",
       "131     001a9c6f17af62e29f81d897699c7682          booster_gain   \n",
       "132     001a9c6f17af62e29f81d897699c7682           booster_use   \n",
       "...                                  ...                   ...   \n",
       "160387  fff7b258d6cddb69af658de0b448b768           screen_view   \n",
       "160389  fff7b258d6cddb69af658de0b448b768                 INTER   \n",
       "160390  fff7b258d6cddb69af658de0b448b768  ad_cgteam_impression   \n",
       "160391  fff7b258d6cddb69af658de0b448b768       user_engagement   \n",
       "160392  fff7b258d6cddb69af658de0b448b768       user_engagement   \n",
       "\n",
       "         event_timestamp                   key   value  \n",
       "128     1747259435318251                 level       8  \n",
       "129     1747259437823252                 level       8  \n",
       "130     1747259437823252          booster_type  Frezze  \n",
       "131     1747259437823252        booster_method    Free  \n",
       "132     1747259439858253          booster_type  Frezze  \n",
       "...                  ...                   ...     ...  \n",
       "160387  1747202541288265  engagement_time_msec  251140  \n",
       "160389  1747202542502252             ad_format   INTER  \n",
       "160390  1747202542502267             ad_format   INTER  \n",
       "160391  1747202556799270  engagement_time_msec   15519  \n",
       "160392  1747202586801250  engagement_time_msec    9098  \n",
       "\n",
       "[28439 rows x 5 columns]"
      ]
     },
     "execution_count": 156,
     "metadata": {},
     "output_type": "execute_result"
    }
   ],
   "source": [
    "sequence_user_drop_inter_8"
   ]
  },
  {
   "cell_type": "code",
   "execution_count": 158,
   "metadata": {},
   "outputs": [
    {
     "data": {
      "text/html": [
       "<div>\n",
       "<style scoped>\n",
       "    .dataframe tbody tr th:only-of-type {\n",
       "        vertical-align: middle;\n",
       "    }\n",
       "\n",
       "    .dataframe tbody tr th {\n",
       "        vertical-align: top;\n",
       "    }\n",
       "\n",
       "    .dataframe thead th {\n",
       "        text-align: right;\n",
       "    }\n",
       "</style>\n",
       "<table border=\"1\" class=\"dataframe\">\n",
       "  <thead>\n",
       "    <tr style=\"text-align: right;\">\n",
       "      <th></th>\n",
       "      <th>user_pseudo_id</th>\n",
       "      <th>event_name</th>\n",
       "      <th>event_timestamp</th>\n",
       "      <th>key</th>\n",
       "      <th>value</th>\n",
       "    </tr>\n",
       "  </thead>\n",
       "  <tbody>\n",
       "    <tr>\n",
       "      <th>187</th>\n",
       "      <td>001a9c6f17af62e29f81d897699c7682</td>\n",
       "      <td>user_engagement</td>\n",
       "      <td>1747259559748293</td>\n",
       "      <td>engagement_time_msec</td>\n",
       "      <td>2518</td>\n",
       "    </tr>\n",
       "    <tr>\n",
       "      <th>190</th>\n",
       "      <td>001a9c6f17af62e29f81d897699c7682</td>\n",
       "      <td>user_engagement</td>\n",
       "      <td>1747510612346612</td>\n",
       "      <td>engagement_time_msec</td>\n",
       "      <td>23114</td>\n",
       "    </tr>\n",
       "    <tr>\n",
       "      <th>406</th>\n",
       "      <td>002d60067763bd3fb22ffd24ad1dd424</td>\n",
       "      <td>user_engagement</td>\n",
       "      <td>1747346734538751</td>\n",
       "      <td>engagement_time_msec</td>\n",
       "      <td>53865</td>\n",
       "    </tr>\n",
       "    <tr>\n",
       "      <th>646</th>\n",
       "      <td>01016693579df9c72c3c0b94fcb9609c</td>\n",
       "      <td>user_engagement</td>\n",
       "      <td>1747072534025811</td>\n",
       "      <td>engagement_time_msec</td>\n",
       "      <td>4606</td>\n",
       "    </tr>\n",
       "    <tr>\n",
       "      <th>882</th>\n",
       "      <td>01a131f975505e3eec9ff4f499cd3826</td>\n",
       "      <td>user_engagement</td>\n",
       "      <td>1746648700899764</td>\n",
       "      <td>engagement_time_msec</td>\n",
       "      <td>2791</td>\n",
       "    </tr>\n",
       "    <tr>\n",
       "      <th>...</th>\n",
       "      <td>...</td>\n",
       "      <td>...</td>\n",
       "      <td>...</td>\n",
       "      <td>...</td>\n",
       "      <td>...</td>\n",
       "    </tr>\n",
       "    <tr>\n",
       "      <th>159704</th>\n",
       "      <td>ff78eeca154db2b41a8a39eacc9f4ad2</td>\n",
       "      <td>user_engagement</td>\n",
       "      <td>1746420590716352</td>\n",
       "      <td>engagement_time_msec</td>\n",
       "      <td>5748</td>\n",
       "    </tr>\n",
       "    <tr>\n",
       "      <th>159916</th>\n",
       "      <td>ff8ea320a832ac7f4f52e98a2660bd7a</td>\n",
       "      <td>user_engagement</td>\n",
       "      <td>1746294260769313</td>\n",
       "      <td>engagement_time_msec</td>\n",
       "      <td>2553</td>\n",
       "    </tr>\n",
       "    <tr>\n",
       "      <th>160126</th>\n",
       "      <td>ff9785c48aa0a3cb80f06202a5acdd0d</td>\n",
       "      <td>user_engagement</td>\n",
       "      <td>1747480730682761</td>\n",
       "      <td>engagement_time_msec</td>\n",
       "      <td>1860</td>\n",
       "    </tr>\n",
       "    <tr>\n",
       "      <th>160391</th>\n",
       "      <td>fff7b258d6cddb69af658de0b448b768</td>\n",
       "      <td>user_engagement</td>\n",
       "      <td>1747202556799270</td>\n",
       "      <td>engagement_time_msec</td>\n",
       "      <td>15519</td>\n",
       "    </tr>\n",
       "    <tr>\n",
       "      <th>160392</th>\n",
       "      <td>fff7b258d6cddb69af658de0b448b768</td>\n",
       "      <td>user_engagement</td>\n",
       "      <td>1747202586801250</td>\n",
       "      <td>engagement_time_msec</td>\n",
       "      <td>9098</td>\n",
       "    </tr>\n",
       "  </tbody>\n",
       "</table>\n",
       "<p>1056 rows × 5 columns</p>\n",
       "</div>"
      ],
      "text/plain": [
       "                          user_pseudo_id       event_name   event_timestamp  \\\n",
       "187     001a9c6f17af62e29f81d897699c7682  user_engagement  1747259559748293   \n",
       "190     001a9c6f17af62e29f81d897699c7682  user_engagement  1747510612346612   \n",
       "406     002d60067763bd3fb22ffd24ad1dd424  user_engagement  1747346734538751   \n",
       "646     01016693579df9c72c3c0b94fcb9609c  user_engagement  1747072534025811   \n",
       "882     01a131f975505e3eec9ff4f499cd3826  user_engagement  1746648700899764   \n",
       "...                                  ...              ...               ...   \n",
       "159704  ff78eeca154db2b41a8a39eacc9f4ad2  user_engagement  1746420590716352   \n",
       "159916  ff8ea320a832ac7f4f52e98a2660bd7a  user_engagement  1746294260769313   \n",
       "160126  ff9785c48aa0a3cb80f06202a5acdd0d  user_engagement  1747480730682761   \n",
       "160391  fff7b258d6cddb69af658de0b448b768  user_engagement  1747202556799270   \n",
       "160392  fff7b258d6cddb69af658de0b448b768  user_engagement  1747202586801250   \n",
       "\n",
       "                         key  value  \n",
       "187     engagement_time_msec   2518  \n",
       "190     engagement_time_msec  23114  \n",
       "406     engagement_time_msec  53865  \n",
       "646     engagement_time_msec   4606  \n",
       "882     engagement_time_msec   2791  \n",
       "...                      ...    ...  \n",
       "159704  engagement_time_msec   5748  \n",
       "159916  engagement_time_msec   2553  \n",
       "160126  engagement_time_msec   1860  \n",
       "160391  engagement_time_msec  15519  \n",
       "160392  engagement_time_msec   9098  \n",
       "\n",
       "[1056 rows x 5 columns]"
      ]
     },
     "execution_count": 158,
     "metadata": {},
     "output_type": "execute_result"
    }
   ],
   "source": [
    "sequence_user_drop_inter_8 = sequence_user_drop_inter_8[\n",
    "    (sequence_user_drop_inter_8['event_name'] == 'user_engagement') & \n",
    "    (sequence_user_drop_inter_8['key'] == 'engagement_time_msec')\n",
    "]\n",
    "sequence_user_drop_inter_8"
   ]
  },
  {
   "cell_type": "code",
   "execution_count": null,
   "metadata": {},
   "outputs": [
    {
     "ename": "TypeError",
     "evalue": "cannot convert the series to <class 'int'>",
     "output_type": "error",
     "traceback": [
      "\u001b[31m---------------------------------------------------------------------------\u001b[39m",
      "\u001b[31mTypeError\u001b[39m                                 Traceback (most recent call last)",
      "\u001b[36mCell\u001b[39m\u001b[36m \u001b[39m\u001b[32mIn[160]\u001b[39m\u001b[32m, line 1\u001b[39m\n\u001b[32m----> \u001b[39m\u001b[32m1\u001b[39m sequence_user_drop_inter_8[\u001b[33m'\u001b[39m\u001b[33mvalue_second\u001b[39m\u001b[33m'\u001b[39m] = \u001b[38;5;28;43mint\u001b[39;49m\u001b[43m(\u001b[49m\u001b[43msequence_user_drop_inter_8\u001b[49m\u001b[43m[\u001b[49m\u001b[33;43m'\u001b[39;49m\u001b[33;43mvalue\u001b[39;49m\u001b[33;43m'\u001b[39;49m\u001b[43m]\u001b[49m\u001b[43m)\u001b[49m/\u001b[32m1000\u001b[39m\n\u001b[32m      2\u001b[39m sequence_user_drop_inter_8\n",
      "\u001b[36mFile \u001b[39m\u001b[32mc:\\Users\\dungv\\Downloads\\Adone_Trainning\\Crazy Coffee\\.venv\\Lib\\site-packages\\pandas\\core\\series.py:248\u001b[39m, in \u001b[36m_coerce_method.<locals>.wrapper\u001b[39m\u001b[34m(self)\u001b[39m\n\u001b[32m    240\u001b[39m     warnings.warn(\n\u001b[32m    241\u001b[39m         \u001b[33mf\u001b[39m\u001b[33m\"\u001b[39m\u001b[33mCalling \u001b[39m\u001b[38;5;132;01m{\u001b[39;00mconverter.\u001b[34m__name__\u001b[39m\u001b[38;5;132;01m}\u001b[39;00m\u001b[33m on a single element Series is \u001b[39m\u001b[33m\"\u001b[39m\n\u001b[32m    242\u001b[39m         \u001b[33m\"\u001b[39m\u001b[33mdeprecated and will raise a TypeError in the future. \u001b[39m\u001b[33m\"\u001b[39m\n\u001b[32m   (...)\u001b[39m\u001b[32m    245\u001b[39m         stacklevel=find_stack_level(),\n\u001b[32m    246\u001b[39m     )\n\u001b[32m    247\u001b[39m     \u001b[38;5;28;01mreturn\u001b[39;00m converter(\u001b[38;5;28mself\u001b[39m.iloc[\u001b[32m0\u001b[39m])\n\u001b[32m--> \u001b[39m\u001b[32m248\u001b[39m \u001b[38;5;28;01mraise\u001b[39;00m \u001b[38;5;167;01mTypeError\u001b[39;00m(\u001b[33mf\u001b[39m\u001b[33m\"\u001b[39m\u001b[33mcannot convert the series to \u001b[39m\u001b[38;5;132;01m{\u001b[39;00mconverter\u001b[38;5;132;01m}\u001b[39;00m\u001b[33m\"\u001b[39m)\n",
      "\u001b[31mTypeError\u001b[39m: cannot convert the series to <class 'int'>"
     ]
    }
   ],
   "source": [
    "sequence_user_drop_inter_8['value_second'] = sequence_user_drop_inter_8['value']/1000\n",
    "sequence_user_drop_inter_8"
   ]
  },
  {
   "cell_type": "markdown",
   "metadata": {},
   "source": [
    "# Sequence of user drop level 5"
   ]
  },
  {
   "cell_type": "code",
   "execution_count": null,
   "metadata": {},
   "outputs": [],
   "source": []
  },
  {
   "cell_type": "code",
   "execution_count": 2,
   "metadata": {},
   "outputs": [],
   "source": [
    "query = \"\"\"\n",
    "with a as (\n",
    "select distinct user_pseudo_id\n",
    "from `crazy-coffee-jam.flatten_table.start_level`\n",
    "where level >= 6\n",
    "and user_pseudo_id in (select distinct user_pseudo_id from `crazy-coffee-jam.flatten_table.first_open` where event_date >= '2025-05-01')\n",
    ")\n",
    "select distinct user_pseudo_id\n",
    "from `crazy-coffee-jam.flatten_table.start_level`\n",
    "where event_date >= '2025-05-01'\n",
    "and level = 5\n",
    "and user_pseudo_id not in (select user_pseudo_id from a)\n",
    "and user_pseudo_id in (select distinct user_pseudo_id from `crazy-coffee-jam.flatten_table.first_open` where event_date >= '2025-05-01')\n",
    "\"\"\"\n",
    "user_drop_level_5 = client.query(query).to_dataframe()\n",
    "user_drop_level_5_list = user_drop_level_5['user_pseudo_id'].tolist()"
   ]
  },
  {
   "cell_type": "code",
   "execution_count": 3,
   "metadata": {},
   "outputs": [],
   "source": [
    "query = f\"\"\"\n",
    "SELECT\n",
    "  user_pseudo_id,\n",
    "  event_name,\n",
    "  event_timestamp,\n",
    "  ev.key,\n",
    "  COALESCE(ev.value.string_value,\n",
    "           CAST(ev.value.int_value AS STRING),\n",
    "           CAST(ev.value.float_value AS STRING),\n",
    "           CAST(ev.value.double_value AS STRING)\n",
    "  ) AS value\n",
    "FROM\n",
    "  `crazy-coffee-jam.analytics_483028617.events_intraday_*`,\n",
    "  UNNEST(event_params) AS ev\n",
    "WHERE\n",
    "  _TABLE_SUFFIX BETWEEN '20250422' AND '20250519'\n",
    "  and user_pseudo_id in ('{(\"','\".join(user_drop_level_5_list))}')\n",
    "  and event_name in ('first_open','start_level', 'win_level', 'lose_level', 'revive_level', 'booster_use', 'box_complete','ad_impression')\n",
    "  and key in ('level','ad_format')\n",
    "ORDER BY\n",
    "  user_pseudo_id,\n",
    "  event_timestamp\n",
    "\"\"\"\n",
    "sequence_user = client.query(query).to_dataframe()"
   ]
  },
  {
   "cell_type": "code",
   "execution_count": 4,
   "metadata": {},
   "outputs": [],
   "source": [
    "# Chỉ lấy các event sau khi user bắt đầu level 5\n",
    "# Get the timestamp when each user started level 5\n",
    "level_5_start_times = sequence_user[\n",
    "    (sequence_user['event_name'] == 'start_level') &\n",
    "    (sequence_user['key'] == 'level') &\n",
    "    (sequence_user['value'] == '5')\n",
    "].groupby('user_pseudo_id')['event_timestamp'].min()\n",
    "\n",
    "# Filter sequence_user to only include events after each user's level 5 start\n",
    "sequence_user = sequence_user.merge(\n",
    "    level_5_start_times.reset_index(),\n",
    "    on='user_pseudo_id',\n",
    "    suffixes=('', '_level5_start')\n",
    ")\n",
    "sequence_user = sequence_user[\n",
    "    sequence_user['event_timestamp'] >= sequence_user['event_timestamp_level5_start']\n",
    "].drop('event_timestamp_level5_start', axis=1)"
   ]
  },
  {
   "cell_type": "code",
   "execution_count": 88,
   "metadata": {},
   "outputs": [
    {
     "name": "stdout",
     "output_type": "stream",
     "text": [
      "Level counts:\n",
      "  value  count\n",
      "0     2      2\n",
      "1     5  14821\n",
      "2     6     29\n",
      "3     7     13\n",
      "4     8     11\n"
     ]
    }
   ],
   "source": [
    "# Count number of rows for each level value where key = 'level'\n",
    "level_counts = sequence_user[sequence_user['key'] == 'level'].groupby('value').size().reset_index(name='count')\n",
    "print(\"Level counts:\")\n",
    "print(level_counts)"
   ]
  },
  {
   "cell_type": "code",
   "execution_count": 5,
   "metadata": {},
   "outputs": [
    {
     "data": {
      "text/html": [
       "<div>\n",
       "<style scoped>\n",
       "    .dataframe tbody tr th:only-of-type {\n",
       "        vertical-align: middle;\n",
       "    }\n",
       "\n",
       "    .dataframe tbody tr th {\n",
       "        vertical-align: top;\n",
       "    }\n",
       "\n",
       "    .dataframe thead th {\n",
       "        text-align: right;\n",
       "    }\n",
       "</style>\n",
       "<table border=\"1\" class=\"dataframe\">\n",
       "  <thead>\n",
       "    <tr style=\"text-align: right;\">\n",
       "      <th></th>\n",
       "      <th>user_pseudo_id</th>\n",
       "      <th>event_name</th>\n",
       "      <th>event_timestamp</th>\n",
       "      <th>key</th>\n",
       "      <th>value</th>\n",
       "    </tr>\n",
       "  </thead>\n",
       "  <tbody>\n",
       "    <tr>\n",
       "      <th>434</th>\n",
       "      <td>0153160ff01b0a54f4c2b4f783ff5a72</td>\n",
       "      <td>box_complete</td>\n",
       "      <td>1747416283741951</td>\n",
       "      <td>level</td>\n",
       "      <td>6</td>\n",
       "    </tr>\n",
       "    <tr>\n",
       "      <th>435</th>\n",
       "      <td>0153160ff01b0a54f4c2b4f783ff5a72</td>\n",
       "      <td>box_complete</td>\n",
       "      <td>1747416286921952</td>\n",
       "      <td>level</td>\n",
       "      <td>6</td>\n",
       "    </tr>\n",
       "    <tr>\n",
       "      <th>436</th>\n",
       "      <td>0153160ff01b0a54f4c2b4f783ff5a72</td>\n",
       "      <td>box_complete</td>\n",
       "      <td>1747416290850953</td>\n",
       "      <td>level</td>\n",
       "      <td>6</td>\n",
       "    </tr>\n",
       "    <tr>\n",
       "      <th>438</th>\n",
       "      <td>0153160ff01b0a54f4c2b4f783ff5a72</td>\n",
       "      <td>box_complete</td>\n",
       "      <td>1747416295141956</td>\n",
       "      <td>level</td>\n",
       "      <td>6</td>\n",
       "    </tr>\n",
       "    <tr>\n",
       "      <th>439</th>\n",
       "      <td>0153160ff01b0a54f4c2b4f783ff5a72</td>\n",
       "      <td>box_complete</td>\n",
       "      <td>1747416298346957</td>\n",
       "      <td>level</td>\n",
       "      <td>6</td>\n",
       "    </tr>\n",
       "    <tr>\n",
       "      <th>440</th>\n",
       "      <td>0153160ff01b0a54f4c2b4f783ff5a72</td>\n",
       "      <td>box_complete</td>\n",
       "      <td>1747416300604960</td>\n",
       "      <td>level</td>\n",
       "      <td>6</td>\n",
       "    </tr>\n",
       "    <tr>\n",
       "      <th>441</th>\n",
       "      <td>0153160ff01b0a54f4c2b4f783ff5a72</td>\n",
       "      <td>win_level</td>\n",
       "      <td>1747416302619961</td>\n",
       "      <td>level</td>\n",
       "      <td>6</td>\n",
       "    </tr>\n",
       "    <tr>\n",
       "      <th>16169</th>\n",
       "      <td>3d83dad85726392450694fb9ae7a456c</td>\n",
       "      <td>box_complete</td>\n",
       "      <td>1747288797547417</td>\n",
       "      <td>level</td>\n",
       "      <td>7</td>\n",
       "    </tr>\n",
       "    <tr>\n",
       "      <th>17815</th>\n",
       "      <td>444de5b74ba41c4b611f15e3a848bd18</td>\n",
       "      <td>box_complete</td>\n",
       "      <td>1746468799223841</td>\n",
       "      <td>level</td>\n",
       "      <td>8</td>\n",
       "    </tr>\n",
       "    <tr>\n",
       "      <th>17816</th>\n",
       "      <td>444de5b74ba41c4b611f15e3a848bd18</td>\n",
       "      <td>box_complete</td>\n",
       "      <td>1746468802990842</td>\n",
       "      <td>level</td>\n",
       "      <td>8</td>\n",
       "    </tr>\n",
       "    <tr>\n",
       "      <th>17817</th>\n",
       "      <td>444de5b74ba41c4b611f15e3a848bd18</td>\n",
       "      <td>box_complete</td>\n",
       "      <td>1746468806126843</td>\n",
       "      <td>level</td>\n",
       "      <td>8</td>\n",
       "    </tr>\n",
       "    <tr>\n",
       "      <th>17818</th>\n",
       "      <td>444de5b74ba41c4b611f15e3a848bd18</td>\n",
       "      <td>box_complete</td>\n",
       "      <td>1746468813953844</td>\n",
       "      <td>level</td>\n",
       "      <td>8</td>\n",
       "    </tr>\n",
       "    <tr>\n",
       "      <th>17820</th>\n",
       "      <td>444de5b74ba41c4b611f15e3a848bd18</td>\n",
       "      <td>box_complete</td>\n",
       "      <td>1746468817574847</td>\n",
       "      <td>level</td>\n",
       "      <td>8</td>\n",
       "    </tr>\n",
       "    <tr>\n",
       "      <th>17821</th>\n",
       "      <td>444de5b74ba41c4b611f15e3a848bd18</td>\n",
       "      <td>box_complete</td>\n",
       "      <td>1746468826494848</td>\n",
       "      <td>level</td>\n",
       "      <td>8</td>\n",
       "    </tr>\n",
       "    <tr>\n",
       "      <th>17823</th>\n",
       "      <td>444de5b74ba41c4b611f15e3a848bd18</td>\n",
       "      <td>box_complete</td>\n",
       "      <td>1746468852399851</td>\n",
       "      <td>level</td>\n",
       "      <td>8</td>\n",
       "    </tr>\n",
       "    <tr>\n",
       "      <th>17824</th>\n",
       "      <td>444de5b74ba41c4b611f15e3a848bd18</td>\n",
       "      <td>box_complete</td>\n",
       "      <td>1746468854873852</td>\n",
       "      <td>level</td>\n",
       "      <td>8</td>\n",
       "    </tr>\n",
       "    <tr>\n",
       "      <th>17826</th>\n",
       "      <td>444de5b74ba41c4b611f15e3a848bd18</td>\n",
       "      <td>box_complete</td>\n",
       "      <td>1746468859070855</td>\n",
       "      <td>level</td>\n",
       "      <td>8</td>\n",
       "    </tr>\n",
       "    <tr>\n",
       "      <th>17827</th>\n",
       "      <td>444de5b74ba41c4b611f15e3a848bd18</td>\n",
       "      <td>box_complete</td>\n",
       "      <td>1746468865842858</td>\n",
       "      <td>level</td>\n",
       "      <td>8</td>\n",
       "    </tr>\n",
       "    <tr>\n",
       "      <th>17828</th>\n",
       "      <td>444de5b74ba41c4b611f15e3a848bd18</td>\n",
       "      <td>win_level</td>\n",
       "      <td>1746468867660859</td>\n",
       "      <td>level</td>\n",
       "      <td>8</td>\n",
       "    </tr>\n",
       "    <tr>\n",
       "      <th>20780</th>\n",
       "      <td>4e5cc97e1034625c4638dab82abe0c3a</td>\n",
       "      <td>box_complete</td>\n",
       "      <td>1747670380994426</td>\n",
       "      <td>level</td>\n",
       "      <td>6</td>\n",
       "    </tr>\n",
       "    <tr>\n",
       "      <th>20781</th>\n",
       "      <td>4e5cc97e1034625c4638dab82abe0c3a</td>\n",
       "      <td>box_complete</td>\n",
       "      <td>1747670386604427</td>\n",
       "      <td>level</td>\n",
       "      <td>6</td>\n",
       "    </tr>\n",
       "    <tr>\n",
       "      <th>20783</th>\n",
       "      <td>4e5cc97e1034625c4638dab82abe0c3a</td>\n",
       "      <td>box_complete</td>\n",
       "      <td>1747670400230426</td>\n",
       "      <td>level</td>\n",
       "      <td>6</td>\n",
       "    </tr>\n",
       "    <tr>\n",
       "      <th>20784</th>\n",
       "      <td>4e5cc97e1034625c4638dab82abe0c3a</td>\n",
       "      <td>box_complete</td>\n",
       "      <td>1747670405007427</td>\n",
       "      <td>level</td>\n",
       "      <td>6</td>\n",
       "    </tr>\n",
       "    <tr>\n",
       "      <th>20785</th>\n",
       "      <td>4e5cc97e1034625c4638dab82abe0c3a</td>\n",
       "      <td>box_complete</td>\n",
       "      <td>1747670407336428</td>\n",
       "      <td>level</td>\n",
       "      <td>6</td>\n",
       "    </tr>\n",
       "    <tr>\n",
       "      <th>20786</th>\n",
       "      <td>4e5cc97e1034625c4638dab82abe0c3a</td>\n",
       "      <td>box_complete</td>\n",
       "      <td>1747670410875429</td>\n",
       "      <td>level</td>\n",
       "      <td>6</td>\n",
       "    </tr>\n",
       "    <tr>\n",
       "      <th>20787</th>\n",
       "      <td>4e5cc97e1034625c4638dab82abe0c3a</td>\n",
       "      <td>box_complete</td>\n",
       "      <td>1747670413476430</td>\n",
       "      <td>level</td>\n",
       "      <td>6</td>\n",
       "    </tr>\n",
       "    <tr>\n",
       "      <th>20789</th>\n",
       "      <td>4e5cc97e1034625c4638dab82abe0c3a</td>\n",
       "      <td>box_complete</td>\n",
       "      <td>1747670421384433</td>\n",
       "      <td>level</td>\n",
       "      <td>6</td>\n",
       "    </tr>\n",
       "    <tr>\n",
       "      <th>20790</th>\n",
       "      <td>4e5cc97e1034625c4638dab82abe0c3a</td>\n",
       "      <td>box_complete</td>\n",
       "      <td>1747670424293436</td>\n",
       "      <td>level</td>\n",
       "      <td>6</td>\n",
       "    </tr>\n",
       "    <tr>\n",
       "      <th>20791</th>\n",
       "      <td>4e5cc97e1034625c4638dab82abe0c3a</td>\n",
       "      <td>box_complete</td>\n",
       "      <td>1747670424592437</td>\n",
       "      <td>level</td>\n",
       "      <td>6</td>\n",
       "    </tr>\n",
       "    <tr>\n",
       "      <th>20792</th>\n",
       "      <td>4e5cc97e1034625c4638dab82abe0c3a</td>\n",
       "      <td>win_level</td>\n",
       "      <td>1747670426427438</td>\n",
       "      <td>level</td>\n",
       "      <td>6</td>\n",
       "    </tr>\n",
       "    <tr>\n",
       "      <th>21904</th>\n",
       "      <td>5286794f9e0ee986e4ec449c64b08aa3</td>\n",
       "      <td>box_complete</td>\n",
       "      <td>1746211689834665</td>\n",
       "      <td>level</td>\n",
       "      <td>7</td>\n",
       "    </tr>\n",
       "    <tr>\n",
       "      <th>21905</th>\n",
       "      <td>5286794f9e0ee986e4ec449c64b08aa3</td>\n",
       "      <td>box_complete</td>\n",
       "      <td>1746211693676668</td>\n",
       "      <td>level</td>\n",
       "      <td>7</td>\n",
       "    </tr>\n",
       "    <tr>\n",
       "      <th>21906</th>\n",
       "      <td>5286794f9e0ee986e4ec449c64b08aa3</td>\n",
       "      <td>box_complete</td>\n",
       "      <td>1746211693815669</td>\n",
       "      <td>level</td>\n",
       "      <td>7</td>\n",
       "    </tr>\n",
       "    <tr>\n",
       "      <th>21907</th>\n",
       "      <td>5286794f9e0ee986e4ec449c64b08aa3</td>\n",
       "      <td>win_level</td>\n",
       "      <td>1746211695546670</td>\n",
       "      <td>level</td>\n",
       "      <td>7</td>\n",
       "    </tr>\n",
       "    <tr>\n",
       "      <th>31589</th>\n",
       "      <td>7a9a145646e401ccf91d0f5107c15ff5</td>\n",
       "      <td>box_complete</td>\n",
       "      <td>1746039350654350</td>\n",
       "      <td>level</td>\n",
       "      <td>6</td>\n",
       "    </tr>\n",
       "    <tr>\n",
       "      <th>31591</th>\n",
       "      <td>7a9a145646e401ccf91d0f5107c15ff5</td>\n",
       "      <td>box_complete</td>\n",
       "      <td>1746039359815353</td>\n",
       "      <td>level</td>\n",
       "      <td>6</td>\n",
       "    </tr>\n",
       "    <tr>\n",
       "      <th>31592</th>\n",
       "      <td>7a9a145646e401ccf91d0f5107c15ff5</td>\n",
       "      <td>box_complete</td>\n",
       "      <td>1746039372535354</td>\n",
       "      <td>level</td>\n",
       "      <td>6</td>\n",
       "    </tr>\n",
       "    <tr>\n",
       "      <th>31593</th>\n",
       "      <td>7a9a145646e401ccf91d0f5107c15ff5</td>\n",
       "      <td>box_complete</td>\n",
       "      <td>1746039375675355</td>\n",
       "      <td>level</td>\n",
       "      <td>6</td>\n",
       "    </tr>\n",
       "    <tr>\n",
       "      <th>31595</th>\n",
       "      <td>7a9a145646e401ccf91d0f5107c15ff5</td>\n",
       "      <td>box_complete</td>\n",
       "      <td>1746039380140360</td>\n",
       "      <td>level</td>\n",
       "      <td>6</td>\n",
       "    </tr>\n",
       "    <tr>\n",
       "      <th>31596</th>\n",
       "      <td>7a9a145646e401ccf91d0f5107c15ff5</td>\n",
       "      <td>box_complete</td>\n",
       "      <td>1746039386842361</td>\n",
       "      <td>level</td>\n",
       "      <td>6</td>\n",
       "    </tr>\n",
       "    <tr>\n",
       "      <th>31597</th>\n",
       "      <td>7a9a145646e401ccf91d0f5107c15ff5</td>\n",
       "      <td>box_complete</td>\n",
       "      <td>1746039389403362</td>\n",
       "      <td>level</td>\n",
       "      <td>6</td>\n",
       "    </tr>\n",
       "    <tr>\n",
       "      <th>31598</th>\n",
       "      <td>7a9a145646e401ccf91d0f5107c15ff5</td>\n",
       "      <td>box_complete</td>\n",
       "      <td>1746039392151363</td>\n",
       "      <td>level</td>\n",
       "      <td>6</td>\n",
       "    </tr>\n",
       "    <tr>\n",
       "      <th>31599</th>\n",
       "      <td>7a9a145646e401ccf91d0f5107c15ff5</td>\n",
       "      <td>box_complete</td>\n",
       "      <td>1746039394247364</td>\n",
       "      <td>level</td>\n",
       "      <td>6</td>\n",
       "    </tr>\n",
       "    <tr>\n",
       "      <th>31600</th>\n",
       "      <td>7a9a145646e401ccf91d0f5107c15ff5</td>\n",
       "      <td>box_complete</td>\n",
       "      <td>1746039395318367</td>\n",
       "      <td>level</td>\n",
       "      <td>6</td>\n",
       "    </tr>\n",
       "    <tr>\n",
       "      <th>31601</th>\n",
       "      <td>7a9a145646e401ccf91d0f5107c15ff5</td>\n",
       "      <td>win_level</td>\n",
       "      <td>1746039397046368</td>\n",
       "      <td>level</td>\n",
       "      <td>6</td>\n",
       "    </tr>\n",
       "    <tr>\n",
       "      <th>37881</th>\n",
       "      <td>9174e02ade7195b7f86925282e8f367b</td>\n",
       "      <td>box_complete</td>\n",
       "      <td>1747527944282218</td>\n",
       "      <td>level</td>\n",
       "      <td>2</td>\n",
       "    </tr>\n",
       "    <tr>\n",
       "      <th>37882</th>\n",
       "      <td>9174e02ade7195b7f86925282e8f367b</td>\n",
       "      <td>box_complete</td>\n",
       "      <td>1747527945119221</td>\n",
       "      <td>level</td>\n",
       "      <td>2</td>\n",
       "    </tr>\n",
       "    <tr>\n",
       "      <th>38603</th>\n",
       "      <td>952eaabbe95adb5f4c4b57fa9a33123b</td>\n",
       "      <td>box_complete</td>\n",
       "      <td>1747604207913983</td>\n",
       "      <td>level</td>\n",
       "      <td>7</td>\n",
       "    </tr>\n",
       "    <tr>\n",
       "      <th>38605</th>\n",
       "      <td>952eaabbe95adb5f4c4b57fa9a33123b</td>\n",
       "      <td>box_complete</td>\n",
       "      <td>1747604211176986</td>\n",
       "      <td>level</td>\n",
       "      <td>7</td>\n",
       "    </tr>\n",
       "    <tr>\n",
       "      <th>38606</th>\n",
       "      <td>952eaabbe95adb5f4c4b57fa9a33123b</td>\n",
       "      <td>box_complete</td>\n",
       "      <td>1747604212828989</td>\n",
       "      <td>level</td>\n",
       "      <td>7</td>\n",
       "    </tr>\n",
       "    <tr>\n",
       "      <th>38607</th>\n",
       "      <td>952eaabbe95adb5f4c4b57fa9a33123b</td>\n",
       "      <td>win_level</td>\n",
       "      <td>1747604214563990</td>\n",
       "      <td>level</td>\n",
       "      <td>7</td>\n",
       "    </tr>\n",
       "    <tr>\n",
       "      <th>54410</th>\n",
       "      <td>d0ad30263ca0ff39c0cf96e82d6c7d65</td>\n",
       "      <td>box_complete</td>\n",
       "      <td>1746814818578004</td>\n",
       "      <td>level</td>\n",
       "      <td>7</td>\n",
       "    </tr>\n",
       "    <tr>\n",
       "      <th>54411</th>\n",
       "      <td>d0ad30263ca0ff39c0cf96e82d6c7d65</td>\n",
       "      <td>box_complete</td>\n",
       "      <td>1746814821404005</td>\n",
       "      <td>level</td>\n",
       "      <td>7</td>\n",
       "    </tr>\n",
       "    <tr>\n",
       "      <th>54412</th>\n",
       "      <td>d0ad30263ca0ff39c0cf96e82d6c7d65</td>\n",
       "      <td>box_complete</td>\n",
       "      <td>1746814821840008</td>\n",
       "      <td>level</td>\n",
       "      <td>7</td>\n",
       "    </tr>\n",
       "    <tr>\n",
       "      <th>54413</th>\n",
       "      <td>d0ad30263ca0ff39c0cf96e82d6c7d65</td>\n",
       "      <td>win_level</td>\n",
       "      <td>1746814823566009</td>\n",
       "      <td>level</td>\n",
       "      <td>7</td>\n",
       "    </tr>\n",
       "  </tbody>\n",
       "</table>\n",
       "</div>"
      ],
      "text/plain": [
       "                         user_pseudo_id    event_name   event_timestamp  \\\n",
       "434    0153160ff01b0a54f4c2b4f783ff5a72  box_complete  1747416283741951   \n",
       "435    0153160ff01b0a54f4c2b4f783ff5a72  box_complete  1747416286921952   \n",
       "436    0153160ff01b0a54f4c2b4f783ff5a72  box_complete  1747416290850953   \n",
       "438    0153160ff01b0a54f4c2b4f783ff5a72  box_complete  1747416295141956   \n",
       "439    0153160ff01b0a54f4c2b4f783ff5a72  box_complete  1747416298346957   \n",
       "440    0153160ff01b0a54f4c2b4f783ff5a72  box_complete  1747416300604960   \n",
       "441    0153160ff01b0a54f4c2b4f783ff5a72     win_level  1747416302619961   \n",
       "16169  3d83dad85726392450694fb9ae7a456c  box_complete  1747288797547417   \n",
       "17815  444de5b74ba41c4b611f15e3a848bd18  box_complete  1746468799223841   \n",
       "17816  444de5b74ba41c4b611f15e3a848bd18  box_complete  1746468802990842   \n",
       "17817  444de5b74ba41c4b611f15e3a848bd18  box_complete  1746468806126843   \n",
       "17818  444de5b74ba41c4b611f15e3a848bd18  box_complete  1746468813953844   \n",
       "17820  444de5b74ba41c4b611f15e3a848bd18  box_complete  1746468817574847   \n",
       "17821  444de5b74ba41c4b611f15e3a848bd18  box_complete  1746468826494848   \n",
       "17823  444de5b74ba41c4b611f15e3a848bd18  box_complete  1746468852399851   \n",
       "17824  444de5b74ba41c4b611f15e3a848bd18  box_complete  1746468854873852   \n",
       "17826  444de5b74ba41c4b611f15e3a848bd18  box_complete  1746468859070855   \n",
       "17827  444de5b74ba41c4b611f15e3a848bd18  box_complete  1746468865842858   \n",
       "17828  444de5b74ba41c4b611f15e3a848bd18     win_level  1746468867660859   \n",
       "20780  4e5cc97e1034625c4638dab82abe0c3a  box_complete  1747670380994426   \n",
       "20781  4e5cc97e1034625c4638dab82abe0c3a  box_complete  1747670386604427   \n",
       "20783  4e5cc97e1034625c4638dab82abe0c3a  box_complete  1747670400230426   \n",
       "20784  4e5cc97e1034625c4638dab82abe0c3a  box_complete  1747670405007427   \n",
       "20785  4e5cc97e1034625c4638dab82abe0c3a  box_complete  1747670407336428   \n",
       "20786  4e5cc97e1034625c4638dab82abe0c3a  box_complete  1747670410875429   \n",
       "20787  4e5cc97e1034625c4638dab82abe0c3a  box_complete  1747670413476430   \n",
       "20789  4e5cc97e1034625c4638dab82abe0c3a  box_complete  1747670421384433   \n",
       "20790  4e5cc97e1034625c4638dab82abe0c3a  box_complete  1747670424293436   \n",
       "20791  4e5cc97e1034625c4638dab82abe0c3a  box_complete  1747670424592437   \n",
       "20792  4e5cc97e1034625c4638dab82abe0c3a     win_level  1747670426427438   \n",
       "21904  5286794f9e0ee986e4ec449c64b08aa3  box_complete  1746211689834665   \n",
       "21905  5286794f9e0ee986e4ec449c64b08aa3  box_complete  1746211693676668   \n",
       "21906  5286794f9e0ee986e4ec449c64b08aa3  box_complete  1746211693815669   \n",
       "21907  5286794f9e0ee986e4ec449c64b08aa3     win_level  1746211695546670   \n",
       "31589  7a9a145646e401ccf91d0f5107c15ff5  box_complete  1746039350654350   \n",
       "31591  7a9a145646e401ccf91d0f5107c15ff5  box_complete  1746039359815353   \n",
       "31592  7a9a145646e401ccf91d0f5107c15ff5  box_complete  1746039372535354   \n",
       "31593  7a9a145646e401ccf91d0f5107c15ff5  box_complete  1746039375675355   \n",
       "31595  7a9a145646e401ccf91d0f5107c15ff5  box_complete  1746039380140360   \n",
       "31596  7a9a145646e401ccf91d0f5107c15ff5  box_complete  1746039386842361   \n",
       "31597  7a9a145646e401ccf91d0f5107c15ff5  box_complete  1746039389403362   \n",
       "31598  7a9a145646e401ccf91d0f5107c15ff5  box_complete  1746039392151363   \n",
       "31599  7a9a145646e401ccf91d0f5107c15ff5  box_complete  1746039394247364   \n",
       "31600  7a9a145646e401ccf91d0f5107c15ff5  box_complete  1746039395318367   \n",
       "31601  7a9a145646e401ccf91d0f5107c15ff5     win_level  1746039397046368   \n",
       "37881  9174e02ade7195b7f86925282e8f367b  box_complete  1747527944282218   \n",
       "37882  9174e02ade7195b7f86925282e8f367b  box_complete  1747527945119221   \n",
       "38603  952eaabbe95adb5f4c4b57fa9a33123b  box_complete  1747604207913983   \n",
       "38605  952eaabbe95adb5f4c4b57fa9a33123b  box_complete  1747604211176986   \n",
       "38606  952eaabbe95adb5f4c4b57fa9a33123b  box_complete  1747604212828989   \n",
       "38607  952eaabbe95adb5f4c4b57fa9a33123b     win_level  1747604214563990   \n",
       "54410  d0ad30263ca0ff39c0cf96e82d6c7d65  box_complete  1746814818578004   \n",
       "54411  d0ad30263ca0ff39c0cf96e82d6c7d65  box_complete  1746814821404005   \n",
       "54412  d0ad30263ca0ff39c0cf96e82d6c7d65  box_complete  1746814821840008   \n",
       "54413  d0ad30263ca0ff39c0cf96e82d6c7d65     win_level  1746814823566009   \n",
       "\n",
       "         key value  \n",
       "434    level     6  \n",
       "435    level     6  \n",
       "436    level     6  \n",
       "438    level     6  \n",
       "439    level     6  \n",
       "440    level     6  \n",
       "441    level     6  \n",
       "16169  level     7  \n",
       "17815  level     8  \n",
       "17816  level     8  \n",
       "17817  level     8  \n",
       "17818  level     8  \n",
       "17820  level     8  \n",
       "17821  level     8  \n",
       "17823  level     8  \n",
       "17824  level     8  \n",
       "17826  level     8  \n",
       "17827  level     8  \n",
       "17828  level     8  \n",
       "20780  level     6  \n",
       "20781  level     6  \n",
       "20783  level     6  \n",
       "20784  level     6  \n",
       "20785  level     6  \n",
       "20786  level     6  \n",
       "20787  level     6  \n",
       "20789  level     6  \n",
       "20790  level     6  \n",
       "20791  level     6  \n",
       "20792  level     6  \n",
       "21904  level     7  \n",
       "21905  level     7  \n",
       "21906  level     7  \n",
       "21907  level     7  \n",
       "31589  level     6  \n",
       "31591  level     6  \n",
       "31592  level     6  \n",
       "31593  level     6  \n",
       "31595  level     6  \n",
       "31596  level     6  \n",
       "31597  level     6  \n",
       "31598  level     6  \n",
       "31599  level     6  \n",
       "31600  level     6  \n",
       "31601  level     6  \n",
       "37881  level     2  \n",
       "37882  level     2  \n",
       "38603  level     7  \n",
       "38605  level     7  \n",
       "38606  level     7  \n",
       "38607  level     7  \n",
       "54410  level     7  \n",
       "54411  level     7  \n",
       "54412  level     7  \n",
       "54413  level     7  "
      ]
     },
     "execution_count": 5,
     "metadata": {},
     "output_type": "execute_result"
    }
   ],
   "source": [
    "sequence_user[(sequence_user['key'] == 'level') & (sequence_user['value'] != '5')]"
   ]
  },
  {
   "cell_type": "code",
   "execution_count": 6,
   "metadata": {},
   "outputs": [],
   "source": [
    "# prompt: sequence_user: Bỏ đi các dòng có key = level và value ứng với level đó != 5\n",
    "\n",
    "sequence_user = sequence_user[\n",
    "    ~((sequence_user['key'] == 'level') &\n",
    "      (pd.to_numeric(sequence_user['value'], errors='coerce') != 5))\n",
    "]"
   ]
  },
  {
   "cell_type": "code",
   "execution_count": 7,
   "metadata": {},
   "outputs": [
    {
     "name": "stdout",
     "output_type": "stream",
     "text": [
      "Level counts:\n",
      "  value  count\n",
      "0     5  13529\n"
     ]
    }
   ],
   "source": [
    "# Count number of rows for each level value where key = 'level'\n",
    "level_counts = sequence_user[sequence_user['key'] == 'level'].groupby('value').size().reset_index(name='count')\n",
    "print(\"Level counts:\")\n",
    "print(level_counts)"
   ]
  },
  {
   "cell_type": "code",
   "execution_count": 8,
   "metadata": {},
   "outputs": [
    {
     "data": {
      "text/html": [
       "<div>\n",
       "<style scoped>\n",
       "    .dataframe tbody tr th:only-of-type {\n",
       "        vertical-align: middle;\n",
       "    }\n",
       "\n",
       "    .dataframe tbody tr th {\n",
       "        vertical-align: top;\n",
       "    }\n",
       "\n",
       "    .dataframe thead th {\n",
       "        text-align: right;\n",
       "    }\n",
       "</style>\n",
       "<table border=\"1\" class=\"dataframe\">\n",
       "  <thead>\n",
       "    <tr style=\"text-align: right;\">\n",
       "      <th></th>\n",
       "      <th>user_pseudo_id</th>\n",
       "      <th>event_name</th>\n",
       "      <th>event_timestamp</th>\n",
       "      <th>key</th>\n",
       "      <th>value</th>\n",
       "    </tr>\n",
       "  </thead>\n",
       "  <tbody>\n",
       "    <tr>\n",
       "      <th>23</th>\n",
       "      <td>00223c8a066cf5def277d0bd1b624520</td>\n",
       "      <td>start_level</td>\n",
       "      <td>1747671229624689</td>\n",
       "      <td>level</td>\n",
       "      <td>5</td>\n",
       "    </tr>\n",
       "    <tr>\n",
       "      <th>47</th>\n",
       "      <td>002d927079c92234e66ccbe6b762766a</td>\n",
       "      <td>start_level</td>\n",
       "      <td>1746996672881689</td>\n",
       "      <td>level</td>\n",
       "      <td>5</td>\n",
       "    </tr>\n",
       "    <tr>\n",
       "      <th>48</th>\n",
       "      <td>002d927079c92234e66ccbe6b762766a</td>\n",
       "      <td>box_complete</td>\n",
       "      <td>1746996681983663</td>\n",
       "      <td>level</td>\n",
       "      <td>5</td>\n",
       "    </tr>\n",
       "    <tr>\n",
       "      <th>49</th>\n",
       "      <td>002d927079c92234e66ccbe6b762766a</td>\n",
       "      <td>box_complete</td>\n",
       "      <td>1746996689369664</td>\n",
       "      <td>level</td>\n",
       "      <td>5</td>\n",
       "    </tr>\n",
       "    <tr>\n",
       "      <th>51</th>\n",
       "      <td>002d927079c92234e66ccbe6b762766a</td>\n",
       "      <td>box_complete</td>\n",
       "      <td>1746996694428669</td>\n",
       "      <td>level</td>\n",
       "      <td>5</td>\n",
       "    </tr>\n",
       "    <tr>\n",
       "      <th>...</th>\n",
       "      <td>...</td>\n",
       "      <td>...</td>\n",
       "      <td>...</td>\n",
       "      <td>...</td>\n",
       "      <td>...</td>\n",
       "    </tr>\n",
       "    <tr>\n",
       "      <th>65859</th>\n",
       "      <td>ffc35e2ce3d07baa3e94f57b65660b94</td>\n",
       "      <td>box_complete</td>\n",
       "      <td>1747036223238551</td>\n",
       "      <td>level</td>\n",
       "      <td>5</td>\n",
       "    </tr>\n",
       "    <tr>\n",
       "      <th>65860</th>\n",
       "      <td>ffc35e2ce3d07baa3e94f57b65660b94</td>\n",
       "      <td>box_complete</td>\n",
       "      <td>1747036227208552</td>\n",
       "      <td>level</td>\n",
       "      <td>5</td>\n",
       "    </tr>\n",
       "    <tr>\n",
       "      <th>65861</th>\n",
       "      <td>ffc35e2ce3d07baa3e94f57b65660b94</td>\n",
       "      <td>box_complete</td>\n",
       "      <td>1747036232216555</td>\n",
       "      <td>level</td>\n",
       "      <td>5</td>\n",
       "    </tr>\n",
       "    <tr>\n",
       "      <th>65863</th>\n",
       "      <td>ffc35e2ce3d07baa3e94f57b65660b94</td>\n",
       "      <td>win_level</td>\n",
       "      <td>1747036235674561</td>\n",
       "      <td>level</td>\n",
       "      <td>5</td>\n",
       "    </tr>\n",
       "    <tr>\n",
       "      <th>65865</th>\n",
       "      <td>ffc35e2ce3d07baa3e94f57b65660b94</td>\n",
       "      <td>INTER</td>\n",
       "      <td>1747036243948548</td>\n",
       "      <td>ad_format</td>\n",
       "      <td>INTER</td>\n",
       "    </tr>\n",
       "  </tbody>\n",
       "</table>\n",
       "<p>14616 rows × 5 columns</p>\n",
       "</div>"
      ],
      "text/plain": [
       "                         user_pseudo_id    event_name   event_timestamp  \\\n",
       "23     00223c8a066cf5def277d0bd1b624520   start_level  1747671229624689   \n",
       "47     002d927079c92234e66ccbe6b762766a   start_level  1746996672881689   \n",
       "48     002d927079c92234e66ccbe6b762766a  box_complete  1746996681983663   \n",
       "49     002d927079c92234e66ccbe6b762766a  box_complete  1746996689369664   \n",
       "51     002d927079c92234e66ccbe6b762766a  box_complete  1746996694428669   \n",
       "...                                 ...           ...               ...   \n",
       "65859  ffc35e2ce3d07baa3e94f57b65660b94  box_complete  1747036223238551   \n",
       "65860  ffc35e2ce3d07baa3e94f57b65660b94  box_complete  1747036227208552   \n",
       "65861  ffc35e2ce3d07baa3e94f57b65660b94  box_complete  1747036232216555   \n",
       "65863  ffc35e2ce3d07baa3e94f57b65660b94     win_level  1747036235674561   \n",
       "65865  ffc35e2ce3d07baa3e94f57b65660b94         INTER  1747036243948548   \n",
       "\n",
       "             key  value  \n",
       "23         level      5  \n",
       "47         level      5  \n",
       "48         level      5  \n",
       "49         level      5  \n",
       "51         level      5  \n",
       "...          ...    ...  \n",
       "65859      level      5  \n",
       "65860      level      5  \n",
       "65861      level      5  \n",
       "65863      level      5  \n",
       "65865  ad_format  INTER  \n",
       "\n",
       "[14616 rows x 5 columns]"
      ]
     },
     "execution_count": 8,
     "metadata": {},
     "output_type": "execute_result"
    }
   ],
   "source": [
    "# Drop rows where value is 'BANNER'\n",
    "sequence_user = sequence_user[sequence_user['value'] != 'BANNER']\n",
    "sequence_user = sequence_user[sequence_user['value'] != 'LEADER']\n",
    "sequence_user = sequence_user[sequence_user['value'] != 'REWARDED']\n",
    "\n",
    "# For ad_impression events, replace event_name with the corresponding value\n",
    "sequence_user.loc[sequence_user['event_name'] == 'ad_impression', 'event_name'] = sequence_user.loc[sequence_user['event_name'] == 'ad_impression', 'value']\n",
    "\n",
    "sequence_user"
   ]
  },
  {
   "cell_type": "code",
   "execution_count": 9,
   "metadata": {},
   "outputs": [
    {
     "data": {
      "text/html": [
       "<div>\n",
       "<style scoped>\n",
       "    .dataframe tbody tr th:only-of-type {\n",
       "        vertical-align: middle;\n",
       "    }\n",
       "\n",
       "    .dataframe tbody tr th {\n",
       "        vertical-align: top;\n",
       "    }\n",
       "\n",
       "    .dataframe thead th {\n",
       "        text-align: right;\n",
       "    }\n",
       "</style>\n",
       "<table border=\"1\" class=\"dataframe\">\n",
       "  <thead>\n",
       "    <tr style=\"text-align: right;\">\n",
       "      <th></th>\n",
       "      <th>user_pseudo_id</th>\n",
       "      <th>sequence</th>\n",
       "    </tr>\n",
       "  </thead>\n",
       "  <tbody>\n",
       "    <tr>\n",
       "      <th>0</th>\n",
       "      <td>00223c8a066cf5def277d0bd1b624520</td>\n",
       "      <td>start_level</td>\n",
       "    </tr>\n",
       "    <tr>\n",
       "      <th>1</th>\n",
       "      <td>002d927079c92234e66ccbe6b762766a</td>\n",
       "      <td>start_level -&gt; box_complete -&gt; box_complete -&gt;...</td>\n",
       "    </tr>\n",
       "    <tr>\n",
       "      <th>2</th>\n",
       "      <td>00346aeac6385c1f33dcb30324a1eb57</td>\n",
       "      <td>start_level -&gt; box_complete -&gt; box_complete -&gt;...</td>\n",
       "    </tr>\n",
       "    <tr>\n",
       "      <th>3</th>\n",
       "      <td>004bdd18a49e46be8c9e17f7f34bbbc0</td>\n",
       "      <td>start_level -&gt; box_complete -&gt; box_complete -&gt;...</td>\n",
       "    </tr>\n",
       "    <tr>\n",
       "      <th>4</th>\n",
       "      <td>006b14bd697814ab9a03cd604f9d0cb5</td>\n",
       "      <td>start_level -&gt; box_complete -&gt; box_complete -&gt;...</td>\n",
       "    </tr>\n",
       "    <tr>\n",
       "      <th>...</th>\n",
       "      <td>...</td>\n",
       "      <td>...</td>\n",
       "    </tr>\n",
       "    <tr>\n",
       "      <th>1948</th>\n",
       "      <td>fefbe4b50b3c7f3b454311aee6b20cea</td>\n",
       "      <td>start_level -&gt; box_complete -&gt; box_complete -&gt;...</td>\n",
       "    </tr>\n",
       "    <tr>\n",
       "      <th>1949</th>\n",
       "      <td>ff17a9ce28e030117a4a3e98876c19ad</td>\n",
       "      <td>start_level -&gt; box_complete -&gt; box_complete -&gt;...</td>\n",
       "    </tr>\n",
       "    <tr>\n",
       "      <th>1950</th>\n",
       "      <td>ff1f79f4517241f3f318ea6c63659c7d</td>\n",
       "      <td>start_level -&gt; box_complete -&gt; box_complete -&gt;...</td>\n",
       "    </tr>\n",
       "    <tr>\n",
       "      <th>1951</th>\n",
       "      <td>ff7f3f23864360f7727a6576d619e76b</td>\n",
       "      <td>start_level -&gt; box_complete -&gt; box_complete -&gt;...</td>\n",
       "    </tr>\n",
       "    <tr>\n",
       "      <th>1952</th>\n",
       "      <td>ffc35e2ce3d07baa3e94f57b65660b94</td>\n",
       "      <td>start_level -&gt; box_complete -&gt; box_complete -&gt;...</td>\n",
       "    </tr>\n",
       "  </tbody>\n",
       "</table>\n",
       "<p>1953 rows × 2 columns</p>\n",
       "</div>"
      ],
      "text/plain": [
       "                        user_pseudo_id  \\\n",
       "0     00223c8a066cf5def277d0bd1b624520   \n",
       "1     002d927079c92234e66ccbe6b762766a   \n",
       "2     00346aeac6385c1f33dcb30324a1eb57   \n",
       "3     004bdd18a49e46be8c9e17f7f34bbbc0   \n",
       "4     006b14bd697814ab9a03cd604f9d0cb5   \n",
       "...                                ...   \n",
       "1948  fefbe4b50b3c7f3b454311aee6b20cea   \n",
       "1949  ff17a9ce28e030117a4a3e98876c19ad   \n",
       "1950  ff1f79f4517241f3f318ea6c63659c7d   \n",
       "1951  ff7f3f23864360f7727a6576d619e76b   \n",
       "1952  ffc35e2ce3d07baa3e94f57b65660b94   \n",
       "\n",
       "                                               sequence  \n",
       "0                                           start_level  \n",
       "1     start_level -> box_complete -> box_complete ->...  \n",
       "2     start_level -> box_complete -> box_complete ->...  \n",
       "3     start_level -> box_complete -> box_complete ->...  \n",
       "4     start_level -> box_complete -> box_complete ->...  \n",
       "...                                                 ...  \n",
       "1948  start_level -> box_complete -> box_complete ->...  \n",
       "1949  start_level -> box_complete -> box_complete ->...  \n",
       "1950  start_level -> box_complete -> box_complete ->...  \n",
       "1951  start_level -> box_complete -> box_complete ->...  \n",
       "1952  start_level -> box_complete -> box_complete ->...  \n",
       "\n",
       "[1953 rows x 2 columns]"
      ]
     },
     "execution_count": 9,
     "metadata": {},
     "output_type": "execute_result"
    }
   ],
   "source": [
    "# Group events by user_pseudo_id and aggregate event_names into a sequence\n",
    "sequence_df = sequence_user.groupby('user_pseudo_id').agg(\n",
    "    sequence=('event_name', lambda x: ' -> '.join(x))\n",
    ").reset_index()\n",
    "\n",
    "sequence_df"
   ]
  },
  {
   "cell_type": "code",
   "execution_count": 10,
   "metadata": {},
   "outputs": [
    {
     "data": {
      "text/html": [
       "<div>\n",
       "<style scoped>\n",
       "    .dataframe tbody tr th:only-of-type {\n",
       "        vertical-align: middle;\n",
       "    }\n",
       "\n",
       "    .dataframe tbody tr th {\n",
       "        vertical-align: top;\n",
       "    }\n",
       "\n",
       "    .dataframe thead th {\n",
       "        text-align: right;\n",
       "    }\n",
       "</style>\n",
       "<table border=\"1\" class=\"dataframe\">\n",
       "  <thead>\n",
       "    <tr style=\"text-align: right;\">\n",
       "      <th></th>\n",
       "      <th>user_pseudo_id</th>\n",
       "      <th>sequence</th>\n",
       "    </tr>\n",
       "  </thead>\n",
       "  <tbody>\n",
       "    <tr>\n",
       "      <th>0</th>\n",
       "      <td>00223c8a066cf5def277d0bd1b624520</td>\n",
       "      <td>start_level</td>\n",
       "    </tr>\n",
       "    <tr>\n",
       "      <th>1</th>\n",
       "      <td>002d927079c92234e66ccbe6b762766a</td>\n",
       "      <td>start_level -&gt; box_complete -&gt; win_level -&gt; INTER</td>\n",
       "    </tr>\n",
       "    <tr>\n",
       "      <th>2</th>\n",
       "      <td>00346aeac6385c1f33dcb30324a1eb57</td>\n",
       "      <td>start_level -&gt; box_complete -&gt; win_level -&gt; INTER</td>\n",
       "    </tr>\n",
       "    <tr>\n",
       "      <th>3</th>\n",
       "      <td>004bdd18a49e46be8c9e17f7f34bbbc0</td>\n",
       "      <td>start_level -&gt; box_complete</td>\n",
       "    </tr>\n",
       "    <tr>\n",
       "      <th>4</th>\n",
       "      <td>006b14bd697814ab9a03cd604f9d0cb5</td>\n",
       "      <td>start_level -&gt; box_complete -&gt; win_level -&gt; INTER</td>\n",
       "    </tr>\n",
       "    <tr>\n",
       "      <th>...</th>\n",
       "      <td>...</td>\n",
       "      <td>...</td>\n",
       "    </tr>\n",
       "    <tr>\n",
       "      <th>1948</th>\n",
       "      <td>fefbe4b50b3c7f3b454311aee6b20cea</td>\n",
       "      <td>start_level -&gt; box_complete -&gt; win_level -&gt; INTER</td>\n",
       "    </tr>\n",
       "    <tr>\n",
       "      <th>1949</th>\n",
       "      <td>ff17a9ce28e030117a4a3e98876c19ad</td>\n",
       "      <td>start_level -&gt; box_complete -&gt; win_level -&gt; INTER</td>\n",
       "    </tr>\n",
       "    <tr>\n",
       "      <th>1950</th>\n",
       "      <td>ff1f79f4517241f3f318ea6c63659c7d</td>\n",
       "      <td>start_level -&gt; box_complete -&gt; win_level -&gt; INTER</td>\n",
       "    </tr>\n",
       "    <tr>\n",
       "      <th>1951</th>\n",
       "      <td>ff7f3f23864360f7727a6576d619e76b</td>\n",
       "      <td>start_level -&gt; box_complete -&gt; win_level -&gt; INTER</td>\n",
       "    </tr>\n",
       "    <tr>\n",
       "      <th>1952</th>\n",
       "      <td>ffc35e2ce3d07baa3e94f57b65660b94</td>\n",
       "      <td>start_level -&gt; box_complete -&gt; win_level -&gt; INTER</td>\n",
       "    </tr>\n",
       "  </tbody>\n",
       "</table>\n",
       "<p>1953 rows × 2 columns</p>\n",
       "</div>"
      ],
      "text/plain": [
       "                        user_pseudo_id  \\\n",
       "0     00223c8a066cf5def277d0bd1b624520   \n",
       "1     002d927079c92234e66ccbe6b762766a   \n",
       "2     00346aeac6385c1f33dcb30324a1eb57   \n",
       "3     004bdd18a49e46be8c9e17f7f34bbbc0   \n",
       "4     006b14bd697814ab9a03cd604f9d0cb5   \n",
       "...                                ...   \n",
       "1948  fefbe4b50b3c7f3b454311aee6b20cea   \n",
       "1949  ff17a9ce28e030117a4a3e98876c19ad   \n",
       "1950  ff1f79f4517241f3f318ea6c63659c7d   \n",
       "1951  ff7f3f23864360f7727a6576d619e76b   \n",
       "1952  ffc35e2ce3d07baa3e94f57b65660b94   \n",
       "\n",
       "                                               sequence  \n",
       "0                                           start_level  \n",
       "1     start_level -> box_complete -> win_level -> INTER  \n",
       "2     start_level -> box_complete -> win_level -> INTER  \n",
       "3                           start_level -> box_complete  \n",
       "4     start_level -> box_complete -> win_level -> INTER  \n",
       "...                                                 ...  \n",
       "1948  start_level -> box_complete -> win_level -> INTER  \n",
       "1949  start_level -> box_complete -> win_level -> INTER  \n",
       "1950  start_level -> box_complete -> win_level -> INTER  \n",
       "1951  start_level -> box_complete -> win_level -> INTER  \n",
       "1952  start_level -> box_complete -> win_level -> INTER  \n",
       "\n",
       "[1953 rows x 2 columns]"
      ]
     },
     "execution_count": 10,
     "metadata": {},
     "output_type": "execute_result"
    }
   ],
   "source": [
    "# Replace multiple consecutive box_complete events with a single box_complete\n",
    "sequence_df['sequence'] = sequence_df['sequence'].str.replace(r'(box_complete(?:\\s*->\\s*box_complete)*)', 'box_complete', regex=True)\n",
    "sequence_df"
   ]
  },
  {
   "cell_type": "code",
   "execution_count": 11,
   "metadata": {},
   "outputs": [],
   "source": [
    "sequence_df['sequence'] = sequence_df['sequence'] + ' -> drop'"
   ]
  },
  {
   "cell_type": "code",
   "execution_count": 97,
   "metadata": {},
   "outputs": [
    {
     "data": {
      "application/vnd.plotly.v1+json": {
       "config": {
        "plotlyServerURL": "https://plot.ly"
       },
       "data": [
        {
         "link": {
          "source": [
           1,
           1,
           2,
           4,
           3,
           2,
           4,
           1,
           2,
           1,
           3,
           4,
           3,
           2,
           5
          ],
          "target": [
           0,
           2,
           4,
           3,
           0,
           0,
           0,
           1,
           1,
           3,
           2,
           4,
           3,
           5,
           1
          ],
          "value": [
           302,
           1873,
           1542,
           1181,
           1185,
           282,
           361,
           43,
           49,
           5,
           1,
           4,
           3,
           1,
           1
          ]
         },
         "node": {
          "color": "blue",
          "label": [
           "drop",
           "start_level",
           "box_complete",
           "INTER",
           "win_level",
           "lose_level"
          ],
          "line": {
           "color": "black",
           "width": 0.5
          },
          "pad": 15,
          "thickness": 20
         },
         "type": "sankey"
        }
       ],
       "layout": {
        "font": {
         "size": 10
        },
        "template": {
         "data": {
          "bar": [
           {
            "error_x": {
             "color": "#2a3f5f"
            },
            "error_y": {
             "color": "#2a3f5f"
            },
            "marker": {
             "line": {
              "color": "#E5ECF6",
              "width": 0.5
             },
             "pattern": {
              "fillmode": "overlay",
              "size": 10,
              "solidity": 0.2
             }
            },
            "type": "bar"
           }
          ],
          "barpolar": [
           {
            "marker": {
             "line": {
              "color": "#E5ECF6",
              "width": 0.5
             },
             "pattern": {
              "fillmode": "overlay",
              "size": 10,
              "solidity": 0.2
             }
            },
            "type": "barpolar"
           }
          ],
          "carpet": [
           {
            "aaxis": {
             "endlinecolor": "#2a3f5f",
             "gridcolor": "white",
             "linecolor": "white",
             "minorgridcolor": "white",
             "startlinecolor": "#2a3f5f"
            },
            "baxis": {
             "endlinecolor": "#2a3f5f",
             "gridcolor": "white",
             "linecolor": "white",
             "minorgridcolor": "white",
             "startlinecolor": "#2a3f5f"
            },
            "type": "carpet"
           }
          ],
          "choropleth": [
           {
            "colorbar": {
             "outlinewidth": 0,
             "ticks": ""
            },
            "type": "choropleth"
           }
          ],
          "contour": [
           {
            "colorbar": {
             "outlinewidth": 0,
             "ticks": ""
            },
            "colorscale": [
             [
              0,
              "#0d0887"
             ],
             [
              0.1111111111111111,
              "#46039f"
             ],
             [
              0.2222222222222222,
              "#7201a8"
             ],
             [
              0.3333333333333333,
              "#9c179e"
             ],
             [
              0.4444444444444444,
              "#bd3786"
             ],
             [
              0.5555555555555556,
              "#d8576b"
             ],
             [
              0.6666666666666666,
              "#ed7953"
             ],
             [
              0.7777777777777778,
              "#fb9f3a"
             ],
             [
              0.8888888888888888,
              "#fdca26"
             ],
             [
              1,
              "#f0f921"
             ]
            ],
            "type": "contour"
           }
          ],
          "contourcarpet": [
           {
            "colorbar": {
             "outlinewidth": 0,
             "ticks": ""
            },
            "type": "contourcarpet"
           }
          ],
          "heatmap": [
           {
            "colorbar": {
             "outlinewidth": 0,
             "ticks": ""
            },
            "colorscale": [
             [
              0,
              "#0d0887"
             ],
             [
              0.1111111111111111,
              "#46039f"
             ],
             [
              0.2222222222222222,
              "#7201a8"
             ],
             [
              0.3333333333333333,
              "#9c179e"
             ],
             [
              0.4444444444444444,
              "#bd3786"
             ],
             [
              0.5555555555555556,
              "#d8576b"
             ],
             [
              0.6666666666666666,
              "#ed7953"
             ],
             [
              0.7777777777777778,
              "#fb9f3a"
             ],
             [
              0.8888888888888888,
              "#fdca26"
             ],
             [
              1,
              "#f0f921"
             ]
            ],
            "type": "heatmap"
           }
          ],
          "histogram": [
           {
            "marker": {
             "pattern": {
              "fillmode": "overlay",
              "size": 10,
              "solidity": 0.2
             }
            },
            "type": "histogram"
           }
          ],
          "histogram2d": [
           {
            "colorbar": {
             "outlinewidth": 0,
             "ticks": ""
            },
            "colorscale": [
             [
              0,
              "#0d0887"
             ],
             [
              0.1111111111111111,
              "#46039f"
             ],
             [
              0.2222222222222222,
              "#7201a8"
             ],
             [
              0.3333333333333333,
              "#9c179e"
             ],
             [
              0.4444444444444444,
              "#bd3786"
             ],
             [
              0.5555555555555556,
              "#d8576b"
             ],
             [
              0.6666666666666666,
              "#ed7953"
             ],
             [
              0.7777777777777778,
              "#fb9f3a"
             ],
             [
              0.8888888888888888,
              "#fdca26"
             ],
             [
              1,
              "#f0f921"
             ]
            ],
            "type": "histogram2d"
           }
          ],
          "histogram2dcontour": [
           {
            "colorbar": {
             "outlinewidth": 0,
             "ticks": ""
            },
            "colorscale": [
             [
              0,
              "#0d0887"
             ],
             [
              0.1111111111111111,
              "#46039f"
             ],
             [
              0.2222222222222222,
              "#7201a8"
             ],
             [
              0.3333333333333333,
              "#9c179e"
             ],
             [
              0.4444444444444444,
              "#bd3786"
             ],
             [
              0.5555555555555556,
              "#d8576b"
             ],
             [
              0.6666666666666666,
              "#ed7953"
             ],
             [
              0.7777777777777778,
              "#fb9f3a"
             ],
             [
              0.8888888888888888,
              "#fdca26"
             ],
             [
              1,
              "#f0f921"
             ]
            ],
            "type": "histogram2dcontour"
           }
          ],
          "mesh3d": [
           {
            "colorbar": {
             "outlinewidth": 0,
             "ticks": ""
            },
            "type": "mesh3d"
           }
          ],
          "parcoords": [
           {
            "line": {
             "colorbar": {
              "outlinewidth": 0,
              "ticks": ""
             }
            },
            "type": "parcoords"
           }
          ],
          "pie": [
           {
            "automargin": true,
            "type": "pie"
           }
          ],
          "scatter": [
           {
            "fillpattern": {
             "fillmode": "overlay",
             "size": 10,
             "solidity": 0.2
            },
            "type": "scatter"
           }
          ],
          "scatter3d": [
           {
            "line": {
             "colorbar": {
              "outlinewidth": 0,
              "ticks": ""
             }
            },
            "marker": {
             "colorbar": {
              "outlinewidth": 0,
              "ticks": ""
             }
            },
            "type": "scatter3d"
           }
          ],
          "scattercarpet": [
           {
            "marker": {
             "colorbar": {
              "outlinewidth": 0,
              "ticks": ""
             }
            },
            "type": "scattercarpet"
           }
          ],
          "scattergeo": [
           {
            "marker": {
             "colorbar": {
              "outlinewidth": 0,
              "ticks": ""
             }
            },
            "type": "scattergeo"
           }
          ],
          "scattergl": [
           {
            "marker": {
             "colorbar": {
              "outlinewidth": 0,
              "ticks": ""
             }
            },
            "type": "scattergl"
           }
          ],
          "scattermap": [
           {
            "marker": {
             "colorbar": {
              "outlinewidth": 0,
              "ticks": ""
             }
            },
            "type": "scattermap"
           }
          ],
          "scattermapbox": [
           {
            "marker": {
             "colorbar": {
              "outlinewidth": 0,
              "ticks": ""
             }
            },
            "type": "scattermapbox"
           }
          ],
          "scatterpolar": [
           {
            "marker": {
             "colorbar": {
              "outlinewidth": 0,
              "ticks": ""
             }
            },
            "type": "scatterpolar"
           }
          ],
          "scatterpolargl": [
           {
            "marker": {
             "colorbar": {
              "outlinewidth": 0,
              "ticks": ""
             }
            },
            "type": "scatterpolargl"
           }
          ],
          "scatterternary": [
           {
            "marker": {
             "colorbar": {
              "outlinewidth": 0,
              "ticks": ""
             }
            },
            "type": "scatterternary"
           }
          ],
          "surface": [
           {
            "colorbar": {
             "outlinewidth": 0,
             "ticks": ""
            },
            "colorscale": [
             [
              0,
              "#0d0887"
             ],
             [
              0.1111111111111111,
              "#46039f"
             ],
             [
              0.2222222222222222,
              "#7201a8"
             ],
             [
              0.3333333333333333,
              "#9c179e"
             ],
             [
              0.4444444444444444,
              "#bd3786"
             ],
             [
              0.5555555555555556,
              "#d8576b"
             ],
             [
              0.6666666666666666,
              "#ed7953"
             ],
             [
              0.7777777777777778,
              "#fb9f3a"
             ],
             [
              0.8888888888888888,
              "#fdca26"
             ],
             [
              1,
              "#f0f921"
             ]
            ],
            "type": "surface"
           }
          ],
          "table": [
           {
            "cells": {
             "fill": {
              "color": "#EBF0F8"
             },
             "line": {
              "color": "white"
             }
            },
            "header": {
             "fill": {
              "color": "#C8D4E3"
             },
             "line": {
              "color": "white"
             }
            },
            "type": "table"
           }
          ]
         },
         "layout": {
          "annotationdefaults": {
           "arrowcolor": "#2a3f5f",
           "arrowhead": 0,
           "arrowwidth": 1
          },
          "autotypenumbers": "strict",
          "coloraxis": {
           "colorbar": {
            "outlinewidth": 0,
            "ticks": ""
           }
          },
          "colorscale": {
           "diverging": [
            [
             0,
             "#8e0152"
            ],
            [
             0.1,
             "#c51b7d"
            ],
            [
             0.2,
             "#de77ae"
            ],
            [
             0.3,
             "#f1b6da"
            ],
            [
             0.4,
             "#fde0ef"
            ],
            [
             0.5,
             "#f7f7f7"
            ],
            [
             0.6,
             "#e6f5d0"
            ],
            [
             0.7,
             "#b8e186"
            ],
            [
             0.8,
             "#7fbc41"
            ],
            [
             0.9,
             "#4d9221"
            ],
            [
             1,
             "#276419"
            ]
           ],
           "sequential": [
            [
             0,
             "#0d0887"
            ],
            [
             0.1111111111111111,
             "#46039f"
            ],
            [
             0.2222222222222222,
             "#7201a8"
            ],
            [
             0.3333333333333333,
             "#9c179e"
            ],
            [
             0.4444444444444444,
             "#bd3786"
            ],
            [
             0.5555555555555556,
             "#d8576b"
            ],
            [
             0.6666666666666666,
             "#ed7953"
            ],
            [
             0.7777777777777778,
             "#fb9f3a"
            ],
            [
             0.8888888888888888,
             "#fdca26"
            ],
            [
             1,
             "#f0f921"
            ]
           ],
           "sequentialminus": [
            [
             0,
             "#0d0887"
            ],
            [
             0.1111111111111111,
             "#46039f"
            ],
            [
             0.2222222222222222,
             "#7201a8"
            ],
            [
             0.3333333333333333,
             "#9c179e"
            ],
            [
             0.4444444444444444,
             "#bd3786"
            ],
            [
             0.5555555555555556,
             "#d8576b"
            ],
            [
             0.6666666666666666,
             "#ed7953"
            ],
            [
             0.7777777777777778,
             "#fb9f3a"
            ],
            [
             0.8888888888888888,
             "#fdca26"
            ],
            [
             1,
             "#f0f921"
            ]
           ]
          },
          "colorway": [
           "#636efa",
           "#EF553B",
           "#00cc96",
           "#ab63fa",
           "#FFA15A",
           "#19d3f3",
           "#FF6692",
           "#B6E880",
           "#FF97FF",
           "#FECB52"
          ],
          "font": {
           "color": "#2a3f5f"
          },
          "geo": {
           "bgcolor": "white",
           "lakecolor": "white",
           "landcolor": "#E5ECF6",
           "showlakes": true,
           "showland": true,
           "subunitcolor": "white"
          },
          "hoverlabel": {
           "align": "left"
          },
          "hovermode": "closest",
          "mapbox": {
           "style": "light"
          },
          "paper_bgcolor": "white",
          "plot_bgcolor": "#E5ECF6",
          "polar": {
           "angularaxis": {
            "gridcolor": "white",
            "linecolor": "white",
            "ticks": ""
           },
           "bgcolor": "#E5ECF6",
           "radialaxis": {
            "gridcolor": "white",
            "linecolor": "white",
            "ticks": ""
           }
          },
          "scene": {
           "xaxis": {
            "backgroundcolor": "#E5ECF6",
            "gridcolor": "white",
            "gridwidth": 2,
            "linecolor": "white",
            "showbackground": true,
            "ticks": "",
            "zerolinecolor": "white"
           },
           "yaxis": {
            "backgroundcolor": "#E5ECF6",
            "gridcolor": "white",
            "gridwidth": 2,
            "linecolor": "white",
            "showbackground": true,
            "ticks": "",
            "zerolinecolor": "white"
           },
           "zaxis": {
            "backgroundcolor": "#E5ECF6",
            "gridcolor": "white",
            "gridwidth": 2,
            "linecolor": "white",
            "showbackground": true,
            "ticks": "",
            "zerolinecolor": "white"
           }
          },
          "shapedefaults": {
           "line": {
            "color": "#2a3f5f"
           }
          },
          "ternary": {
           "aaxis": {
            "gridcolor": "white",
            "linecolor": "white",
            "ticks": ""
           },
           "baxis": {
            "gridcolor": "white",
            "linecolor": "white",
            "ticks": ""
           },
           "bgcolor": "#E5ECF6",
           "caxis": {
            "gridcolor": "white",
            "linecolor": "white",
            "ticks": ""
           }
          },
          "title": {
           "x": 0.05
          },
          "xaxis": {
           "automargin": true,
           "gridcolor": "white",
           "linecolor": "white",
           "ticks": "",
           "title": {
            "standoff": 15
           },
           "zerolinecolor": "white",
           "zerolinewidth": 2
          },
          "yaxis": {
           "automargin": true,
           "gridcolor": "white",
           "linecolor": "white",
           "ticks": "",
           "title": {
            "standoff": 15
           },
           "zerolinecolor": "white",
           "zerolinewidth": 2
          }
         }
        },
        "title": {
         "text": "User Flow Sankey Diagram"
        }
       }
      }
     },
     "metadata": {},
     "output_type": "display_data"
    }
   ],
   "source": [
    "# Convert sequences to nodes and links for Sankey diagram\n",
    "sequences = sequence_df['sequence'].str.split(' -> ')\n",
    "\n",
    "# Get all unique events\n",
    "all_events = set()\n",
    "for seq in sequences:\n",
    "    all_events.update(seq)\n",
    "\n",
    "# Create nodes list\n",
    "nodes = list(all_events)\n",
    "\n",
    "# Create links dictionary to count transitions\n",
    "links = {}\n",
    "for seq in sequences:\n",
    "    for i in range(len(seq)-1):\n",
    "        source = seq[i]\n",
    "        target = seq[i+1]\n",
    "        key = (source, target)\n",
    "        links[key] = links.get(key, 0) + 1\n",
    "\n",
    "# Create source, target and value lists for plotting\n",
    "source_list = []\n",
    "target_list = []\n",
    "value_list = []\n",
    "for (source, target), value in links.items():\n",
    "    source_list.append(nodes.index(source))\n",
    "    target_list.append(nodes.index(target))\n",
    "    value_list.append(value)\n",
    "\n",
    "# Create Sankey diagram\n",
    "import plotly.graph_objects as go\n",
    "\n",
    "fig = go.Figure(data=[go.Sankey(\n",
    "    node = dict(\n",
    "        pad = 15,\n",
    "        thickness = 20,\n",
    "        line = dict(color = \"black\", width = 0.5),\n",
    "        label = nodes,\n",
    "        color = \"blue\"\n",
    "    ),\n",
    "    link = dict(\n",
    "        source = source_list,\n",
    "        target = target_list,\n",
    "        value = value_list\n",
    "    )\n",
    ")])\n",
    "\n",
    "fig.update_layout(title_text=\"User Flow Sankey Diagram\", font_size=10)\n",
    "fig.show()"
   ]
  },
  {
   "cell_type": "code",
   "execution_count": 12,
   "metadata": {},
   "outputs": [
    {
     "name": "stdout",
     "output_type": "stream",
     "text": [
      "Number of users who dropped after INTER: 1083\n"
     ]
    },
    {
     "data": {
      "text/plain": [
       "['002d927079c92234e66ccbe6b762766a',\n",
       " '00346aeac6385c1f33dcb30324a1eb57',\n",
       " '006b14bd697814ab9a03cd604f9d0cb5',\n",
       " '00b60bd696941f44a8831ecb24bf606c',\n",
       " '013bfb15f5ef405542cba988c9a95c60',\n",
       " '0153160ff01b0a54f4c2b4f783ff5a72',\n",
       " '01d76ffab575ee94e4ce9177f54985cb',\n",
       " '01e486fb54a62851722f9a40bfcece37',\n",
       " '025fd95c4e0b1db47a1fce028c586073',\n",
       " '0268eab389e13aab015ebf168eb2f726',\n",
       " '026ee9873e904bc1943102173d90e2cf',\n",
       " '0288a1fddf09e1c3352a33c278418117',\n",
       " '02e27b7ce173b1281f5f021e099806b6',\n",
       " '035f724e7fcd61cd41869eddf4844c6c',\n",
       " '0377470c2b8b39eecff8620687d42de7',\n",
       " '03927decbba2c85ba5b35814e5533ffe',\n",
       " '03ba186e5860454a09747bac7f7508c8',\n",
       " '03c6b77e671c23b2a85bffaf6c074d7a',\n",
       " '03d9fdbbd40f68a7a4160f1ca1dcbf79',\n",
       " '040bb4039388a9635027d3d45937829f',\n",
       " '045f76972d4d5a27d51331aa7ff105e3',\n",
       " '048d5620af05769f487d685ccd90ec6c',\n",
       " '04ac92f156d42176541ad022c7bb0944',\n",
       " '051dc2e4b707d0e1152afeb92f2b63d2',\n",
       " '058b51f34fdb0cbcf4556947941a64f0',\n",
       " '05c37d944fb1f57e4590472eace4294e',\n",
       " '05e2986b8f1d142b1e9e379ec91e979b',\n",
       " '0611c9c414133628c47159a454495e39',\n",
       " '065e7b23a232410d3047d8b5c880f59b',\n",
       " '067b6e2974c60e9a7ed2fc1084ebbe2d',\n",
       " '069faa25eae470d7af2b11bda2def45b',\n",
       " '06a5466b08c033aaa07f891379703fca',\n",
       " '073fca2c73e9f8be8216a278c575648a',\n",
       " '0788187e8909fc3a8c60ddb31ee1bf64',\n",
       " '078d22e1fe78edfbe72b88f36f53fe1d',\n",
       " '07f75124a023a90d41aa0cfa301e442f',\n",
       " '07fc3d422f8efc74f2e7c511cf8497b0',\n",
       " '0847a77ed41a34e6e2675629124fc6d1',\n",
       " '087d4dd427b34e25f7775e5929467433',\n",
       " '08f87d9a5848980132734ab3b83254f3',\n",
       " '091f400c96224c909d370ebd1ed7ec48',\n",
       " '09458ffb5575d8c172e316dd00f1f2d6',\n",
       " '0965d2f5338bca2aeb37618a4baefd2e',\n",
       " '09e6aa48566e2832b5848c209370d529',\n",
       " '09e975ec5b59bec9a99ff0536a4497fd',\n",
       " '0a0134d44e24d2a64124f3b5b066873a',\n",
       " '0a273081f1340233ab515ce3a221ffbb',\n",
       " '0a7d8238c5c6cea9ef3e3d91560c4392',\n",
       " '0a8104d70f34eaf8c82c07d78c863ab9',\n",
       " '0aba0fab7deddbd30a6f714f9b03fe5a',\n",
       " '0ac3d6ea1671f83b1b22094a7591efa1',\n",
       " '0ada789e8b44c685563cad743c29e90c',\n",
       " '0af644e45cc338ecc39d826e7f2495eb',\n",
       " '0b2fb5af7e8f0f5072aeb4a4a3975285',\n",
       " '0b5f4cade5db87c6f863533e63f886c6',\n",
       " '0b8f90f14da082155c50e6d0eed9d273',\n",
       " '0bb8523b9b757446b871ab6c98627477',\n",
       " '0bd0657267f949062da8c904e6541c82',\n",
       " '0bd1c9d36e666d8149f05d6738be1c42',\n",
       " '0c1c013f2c74214df878c3bfb0f26537',\n",
       " '0c273a360fdf34922c6f1ebe90bfa0bd',\n",
       " '0c3c8e973e33197a11fcaa9a09dc4ac3',\n",
       " '0d025b3b73f1551c1c9bf10c45e2ee9f',\n",
       " '0d9370826841fc334c85a049c0719b8a',\n",
       " '0e3a8b6864a2de5a5bb5d7f53b304220',\n",
       " '0e4102a610410370c13da34aa0a45128',\n",
       " '0e785dcc576f9cf2698152ff4c0c4669',\n",
       " '0ea35ef792339ea399b0eda81e5bc909',\n",
       " '0eb1014fe3def2bae771febb2a56c780',\n",
       " '0ec61738a6145da72fd5d7f51e81c31c',\n",
       " '0ee23b85fbcef26259d5c1126e9d5765',\n",
       " '0eecf15b17790ad0046e497cab4cf945',\n",
       " '0f088e466bc4013641ab5bf15e68e7af',\n",
       " '0f7cc1fb60e80a19ce3e097e4390840a',\n",
       " '0f8eba52ab4fa5e8587c90a2e737837b',\n",
       " '101cf0c10636aa818b807109a3a488b4',\n",
       " '105dd9e5e76804938230cf4f5dff56dc',\n",
       " '10a32cb9ebd4dca809b83700d85c0c51',\n",
       " '11e0d21efcefe53ed5d1cc84b84ee3e5',\n",
       " '11ea1ed7adfbcedef44ccc2233aabc00',\n",
       " '121bb50129ac837d8cd7703018ceacce',\n",
       " '12359114bbdccedb737b7a6d05459bcc',\n",
       " '12545d67faffe2e2e47fa0bb10ac567b',\n",
       " '125d15dfd18ad0ba14f7cfddf88b81d2',\n",
       " '127b2f818a3e66b932ea1b6e9589f1fb',\n",
       " '12b8e536a7c0ad7c3c9fefb65205fc0b',\n",
       " '12cf4febb3613f7947228f94f1acaa72',\n",
       " '12e9e5abdefdcd04d056ffc302e335e8',\n",
       " '1311d030b6b83b51413e862da253041f',\n",
       " '133f9decb23611768cb40b9b9059aebe',\n",
       " '13966d878b384dccc468524149565557',\n",
       " '139bae03890e14c7ab199bfc78fe7d18',\n",
       " '14280437b1af0c91f6d57cabe755ff37',\n",
       " '1484340548c1f444d995dc2af1d4b7af',\n",
       " '14a78dea7e0511ccd88a0d5fc97b1e9f',\n",
       " '14ac690181007c0f2bad90876f4ac206',\n",
       " '14cf9a2842b670833f2b7948899d204c',\n",
       " '14deaa5104d7468b375f729b351af872',\n",
       " '153b10d63fedcad6aa9effa888fb0d1a',\n",
       " '15545e9ac08bddc981f7398106b755e1',\n",
       " '159aea9addb494f3fd4fbd9793f7c41b',\n",
       " '15ab19a1cae7f0c72c6013a8ef431fae',\n",
       " '15d94ef044f067f2ea6b317c0c1bfea0',\n",
       " '1605579302119271e19973d9143891d9',\n",
       " '16dc6a277430520804d9b42b808eb15f',\n",
       " '179c5e25240f183ef159e12e367ad9e5',\n",
       " '183b0dff7fe5f759c9653d6d048814fa',\n",
       " '183cec998db266692f9f081a54747a63',\n",
       " '183e5388f0a06e92d1b4f54f79a21333',\n",
       " '1861b5b036f353abe4ae8927f959c554',\n",
       " '18fe9062b803e81da5d3fd97071553c1',\n",
       " '190d9e45c57c67fad10c0da1576bbc2b',\n",
       " '1954f2f6d944413407cc20fce8e6d4ce',\n",
       " '1956ef1c2c6d7876979c5261bfecc700',\n",
       " '19929cd7f7650a7832c3c63377e81c3a',\n",
       " '19b4d3a0a34ef6905a0e52c4bd4715b2',\n",
       " '19ff22d1b2e7d9b85397b634b942d1e1',\n",
       " '1a6096a922cefb2d9c8b92cef45fc6b6',\n",
       " '1adede89bf842e02ee2389ae852448fd',\n",
       " '1adf411f5766a1a84de984c79c7bc326',\n",
       " '1aefa7fbf2c0c435878463b551198449',\n",
       " '1b04f2adf9e0488f5cf18779d445393f',\n",
       " '1b249af6779edf08e3dc35706f86b663',\n",
       " '1b62caf4a2260169d24f0666803eebfa',\n",
       " '1b8a1273bdcd65ea5ee814c1afa3eabf',\n",
       " '1ba2bfb7e6a0e8972f6b14f0027c2249',\n",
       " '1ba97f23458fcff05b52a123cf78c770',\n",
       " '1be1c26f9b1335ff606f83c614aa26e6',\n",
       " '1bf2153d92461d35e716bf1b4e647be5',\n",
       " '1c180174591f6ac5b801ca2bac52b91f',\n",
       " '1c2059b52a4c5e9a850687e9d2597b9d',\n",
       " '1c28dd10c91e9af72077e416f0b8d482',\n",
       " '1c8586b66d2ff22113bce6b4bb371ebf',\n",
       " '1cab9a20fb5fb0ed7afc0c2ba0bd1019',\n",
       " '1cb30f4f7484d8171dc934a8079c8370',\n",
       " '1d087b6afa254d463e37aaae2d1c55fb',\n",
       " '1d355299cb7b189b5074c09616555ea9',\n",
       " '1d3b688a532e29f52c38f7b3315ec116',\n",
       " '1d675fac41e41c072fcb7debebdf9be5',\n",
       " '1da9f0f38415ad76e746db33eff4afb5',\n",
       " '1db031552d1f46169bf4bd0b446a3a8a',\n",
       " '1db82830567b7286807117c7e4b674fc',\n",
       " '1e1b86bac02e98a369e2db5f152d20c7',\n",
       " '1e1c63d7e7520d5d47d06e2be427f5c1',\n",
       " '1e312dd2520eeae14e176fbf8a819612',\n",
       " '1e81d656c7f4c711710891c0ed6cde79',\n",
       " '1efb4661163ba21b479c73b68a924588',\n",
       " '1f0757b0c5959f1fd854e035b06e83d1',\n",
       " '201fcc942817d39186e7220bd8b08da9',\n",
       " '205253880053fe74f825e8420e3a44b4',\n",
       " '2077c3a9785475a4b6870652983e4379',\n",
       " '20820ed2cc2c64639348a5e49171d36f',\n",
       " '21375e10c205d26dbddd99393646fa4c',\n",
       " '21891cb26d5e44dc475eb14b2195ebac',\n",
       " '21a5be6a799cd7d8ffa8778cdb12ffc8',\n",
       " '224d4d323e8f5675f70e360ac8a7a7ad',\n",
       " '224ec347026f7d12041acab8e9c6ecad',\n",
       " '225d780a5104749642736aaa472b51f2',\n",
       " '2263004025b7e0e92211cf1ab2e42821',\n",
       " '22e8a88301377e9257602c0fb955357c',\n",
       " '235287b3a7817ab4d0a57ee505abde10',\n",
       " '23a501ffa73adfcc6090e0e0353ddb13',\n",
       " '23ae14699318990212785e35cfad782e',\n",
       " '23c2bb37d6f487c94488726a31ed6ad0',\n",
       " '240a73f80a4f1fe0bf3cffe0c3103dcb',\n",
       " '241a7c4bcb0c00a7f63feedfc898a335',\n",
       " '242648811fa19717f10c67b1830bb634',\n",
       " '24353e9a0667e0c5618ac88304aad090',\n",
       " '2441cede95cd19de428a3de32114ff2a',\n",
       " '24ac74eb8b5276d1f5b2f1e69a9c22b9',\n",
       " '251c6f3824364f32135693e560101a96',\n",
       " '252f6ab2ab77462ad24f58a2948d8432',\n",
       " '26208e828416895667b9ecde83644290',\n",
       " '2620c0deb45d50cc70a6d93f45658f31',\n",
       " '2679b08a1ee3a9cc4fc1f0231fc67335',\n",
       " '26c1c722d17846c67956723000a6301b',\n",
       " '275801173d2017daa29cb3bd16975504',\n",
       " '2782870d32917eaacb44b18e87eda9a2',\n",
       " '27908060875a614ab15c9336ed5270f6',\n",
       " '2848fa444d4e16bfd2b1d15d09621c41',\n",
       " '288c182b93dca2d2bd6a2f59afe5462d',\n",
       " '28fcb363c063169e0453f11948f98449',\n",
       " '29067a68941e10f7390779955c103855',\n",
       " '2934baf1c12d288b4a9abf667f460551',\n",
       " '2952e0ab84375682e96d2aef00b0f1a8',\n",
       " '295341fdfa6817d9a9c0e9fe789ad792',\n",
       " '2961496cf639c3e5269a67fe50b977f6',\n",
       " '2a287299ace93ce3280881039a4e0dab',\n",
       " '2a45b2f87890ccd9c1640ddcbb652dbf',\n",
       " '2a555a97df8fa991cde10455421cd586',\n",
       " '2a90814481208499338b41d4e9e34305',\n",
       " '2ae32a054cfd7b12c9e71da1d7de56bb',\n",
       " '2ae5cabad0d4f303087854b31235a529',\n",
       " '2b104fac0f730deb25d8fba1170c189f',\n",
       " '2b4e1460c006e689a26d0459653bfb2d',\n",
       " '2bc4dc8991d4779f8aad0952acf3f030',\n",
       " '2c3f263c420fdc99dab2aa5edbfa78e9',\n",
       " '2c60823794602a72408406f6ee43003c',\n",
       " '2c84492402860b7a9c28994879b700ab',\n",
       " '2cc91e4e0663df9d481ace1b8b64c748',\n",
       " '2d96fd03e34fb083151541b681e63d34',\n",
       " '2df50d22f0575df0c5ceb050e46787a8',\n",
       " '2e074d1846edea2e844d4da6b024d3cd',\n",
       " '2e23f515ed2c5036b590dcf60774214e',\n",
       " '2e260508c1d33e8c8684dccc8dcebf6d',\n",
       " '2ef280a9999054475ebb938557e22605',\n",
       " '2f07f1ce89e81031c978795b41c088d5',\n",
       " '2f97a26f58f9dbd42f2185de5cf22d38',\n",
       " '304ccd085fc3a1e8ea28566b7aa05b81',\n",
       " '306aee9004009f945a4e67554b1167a0',\n",
       " '30b03eedb85354387fd7e2a9ecc1cc89',\n",
       " '30b5656242f17f1c4e15ade379d4cca5',\n",
       " '30dd6e2d8991611220f0d1e086f486e5',\n",
       " '3101fd483bfd707e07bc3aeb9ca092ad',\n",
       " '3175260c1e10848b81a5c8df230f1b51',\n",
       " '31b411e6429cb66e5e6bf2fc2e7529dd',\n",
       " '31bac04ec366beb958e415d6b3f476ed',\n",
       " '31befe2aeca1ca9f6c6a4617a73c5f40',\n",
       " '31ca36e5e571629e5b4787cb8549ff21',\n",
       " '320825da2e913aedc7e5a2ff757191fd',\n",
       " '3253305eac1504ebff8b38e4b27e0491',\n",
       " '32af1382a097aa84733c3e0498b6ac97',\n",
       " '32ffb04c879c5942526b999d509ad372',\n",
       " '3366ec6cbaea595c9a338fb2f2ddf453',\n",
       " '337fa67abcf25ea148d7750adcbd8afd',\n",
       " '33c0a1e1d5d90ddd3a4846b114832307',\n",
       " '33dda7ef6006c4214068b2243dbd179c',\n",
       " '3406461d996a168355288a1ecf5d95ee',\n",
       " '34105db3fbec8ed39a361f9761bfc37f',\n",
       " '34ca0c9f3db19d4ac042e0deb9cbbee1',\n",
       " '3534ed4c4bc1170f33ce6f7384be0e75',\n",
       " '3573885da86b8304c5c2a1593a937c68',\n",
       " '35b66d3ed5a1b4c272067a8a322990b4',\n",
       " '36353dfb980e5a5fb3c0b83028e82260',\n",
       " '36a8c205373027404a847f1d5f1e989c',\n",
       " '36abbbb72f7c40a93f29a0f2bf40ef89',\n",
       " '36b665434b045390469f59254b4e35fd',\n",
       " '3748464e14dbaa34614202aa0f5d3d17',\n",
       " '37aa54e0974aa884547f46ba09989ee5',\n",
       " '37c5ed3d3677f58f03ab07d6002385d9',\n",
       " '37cf26c8d05cea57c93613411f8baa99',\n",
       " '382d2ba2a658ee1e245ad6e3e3622f66',\n",
       " '382ea2a0c9f79e7ce63c3e92199d3f25',\n",
       " '3840755f2dcf2e14fe8c972e78013714',\n",
       " '38463f60a483383d82207bae897757fe',\n",
       " '386a9ef06f69f3aa8bad6ef90d976057',\n",
       " '3898faf9231d49bbc2e9f63d902408fe',\n",
       " '38a7c5769984dd690d757233023950e5',\n",
       " '38cde781ce86150bb8689fb9ca7fdee0',\n",
       " '38d291bededea5eaea503b7c8ae2c639',\n",
       " '38d7867cfbe98f2091d28293c3f7b4e8',\n",
       " '39312f78e947c79134b612b5dd1d7442',\n",
       " '3994926df1c38305ecdf55d58ef36f8f',\n",
       " '39cef6421568d184fe15ae0c5772d909',\n",
       " '3a3afb5c3105d365bcbdcbf53e1a0248',\n",
       " '3abeb7925b70cafe05af02c7c382bfc4',\n",
       " '3afb36eae7c7521e15c38fce71c6fae1',\n",
       " '3b403d29b22b7f91ef6734f4c0a20824',\n",
       " '3b57a3ac31c0e2ff9b0dcac4afab3e9a',\n",
       " '3bae7e6864a8fdf9b23f57f6f04320ea',\n",
       " '3bfdedbb3570e779a25406f9a3bf3131',\n",
       " '3c1c743586d087f7e1fc6643f7e8409a',\n",
       " '3c836a4b09b02813c7d35dd60eb85b46',\n",
       " '3c9b3eb5f0a20eee3442d44384dec0a6',\n",
       " '3d02ca3883cb51a5f2f1c3357bad2dbf',\n",
       " '3d045bbf627cf0d27e6661a181f44ba9',\n",
       " '3d80371ab83c9b71f5adf30519ccf39c',\n",
       " '3d8cb6547e9f855062fbf06ff9d78b8c',\n",
       " '3dd5534224b810dc68885d4343b8997f',\n",
       " '3e44994254f4f5734f43a708aafda96a',\n",
       " '3eb45c78ff848b8678581f991f7283e9',\n",
       " '3ee281a2b3bfc43554e92d646084c968',\n",
       " '3f26096f8beea18f457b9d7fc84fb0a8',\n",
       " '3f3de7b9f11b1814c6447ef5b8d1f5df',\n",
       " '3f4c0c2d3411639011d1da6285e4874d',\n",
       " '3f6149a1c71c01a60815bfd719231f7a',\n",
       " '3f8c8126d92f9a1be424de11c6f274f8',\n",
       " '3fc317143e4e18ac7795560250a4f2a8',\n",
       " '3fc9e6178beda65b8c69ef932fe20c34',\n",
       " '401b450efac901058181917a9c560184',\n",
       " '404156929b512ff35932cf8069638fff',\n",
       " '40be441f2249ae37cd0a5b78ec431e02',\n",
       " '40c84e19f26de37f0e6b9b3f5db81e6a',\n",
       " '40eea1980349f4a0fd450ffedc13c928',\n",
       " '40ff2ba9b26b4a032e4d46a81e5a79f4',\n",
       " '4159cc5b3567231ebd1e9dae934b0674',\n",
       " '4169be82df8b1e1d57779612b67d2476',\n",
       " '41e1292ee1368f5477e30b82c9a8783c',\n",
       " '41ecfd7f0c71819e7c0baf55e62dbf50',\n",
       " '428d4da6e5310ea29828e30ea17ab962',\n",
       " '4326a03e2265e6634cc19ce3fd13e23f',\n",
       " '43fafce871c733eb9d5669c7aed39da5',\n",
       " '447ae2dedb9bb884e8c590ce684acaf6',\n",
       " '44995346451a8d3023f2aee04b41c89a',\n",
       " '44a38dcc174d087a630c7f01f3afd734',\n",
       " '44e87e643afc1ae71f9c0a538233f58c',\n",
       " '45caba9eeba0b726ce58fa65af3a62ba',\n",
       " '460dbc784c1648c5146d0d7f020f9e10',\n",
       " '46255a584f8a98f3a68c228f7a256c37',\n",
       " '4678c9cc2ddf54f6a2fc7f24018acb86',\n",
       " '46856859ae288793b75ba11a2735d7f9',\n",
       " '46aadf0a749ab14820f67f7d72de8ef1',\n",
       " '46b37123968719559154a5cbbc5e1704',\n",
       " '47132477f29d9c95151da84b74a4914f',\n",
       " '472796d5596905f92b6e0729f0416982',\n",
       " '4732549b08b134114e1396c1afd94153',\n",
       " '47639288114aba15a7db573eb91af0ef',\n",
       " '477a8fd9b070815a1dd4b36ffd54022d',\n",
       " '47809255c899f77d4d32aff779d31e33',\n",
       " '47bf3e41738d69abd8b2668b3331c9a6',\n",
       " '47d81240040479ff047970bb84dc7459',\n",
       " '480282618359bb0fc8ae0baa4e389530',\n",
       " '48794faa7f41891861c9dcb70ac4fa15',\n",
       " '48c532fbc12d031d7655f5e48e1d2bb8',\n",
       " '48d8d477a5a09d15370a6ac199fee793',\n",
       " '49016e197b5c14ceefe1d57d9e11239a',\n",
       " '491ecf7af3787ed14eb3532862ae3a49',\n",
       " '4971c0dd22c8d9462362298a551ecc87',\n",
       " '4981deead321f8ef37d7a99c03d086db',\n",
       " '4984bd9791071e4fec98931cf9e20450',\n",
       " '49ab87e1167fead8db913cee316203a5',\n",
       " '49e95504bcfd3cfa2780f1fe6a82fdfc',\n",
       " '4a1064cdd83c2993c7356fda3076dbf1',\n",
       " '4a40c648dce0649d8f580392b3ecf690',\n",
       " '4a61661a5be9452e0eebe7e6daaadaa3',\n",
       " '4ac72478fe78fae39683877ae08336a4',\n",
       " '4ae1d6b6c97d4907e82c482f0e0fdbf9',\n",
       " '4b1660834b0ac9c3bce9c84f22ce8510',\n",
       " '4b26e3b21925270bc2346c9d0d8c036e',\n",
       " '4b3448e099809a5f0ae360997d6fd7cb',\n",
       " '4c89196f5e7c174736c4b8cee8baf64f',\n",
       " '4c948e6c7002e0bae57a5f66a4bb2b7e',\n",
       " '4cb813045e0114343e3636b81d41d563',\n",
       " '4ce3d60baac4320b476224c5fd76b689',\n",
       " '4cee97b0750e2a382f8ac8a67cdb4222',\n",
       " '4d6c864d64f4b951f713bb76263e4c66',\n",
       " '4da0d094bfdafc1eb4652d3b02454ae8',\n",
       " '4da755deee6a0d962f735d7cbb06dd7d',\n",
       " '4db18b8476d073278e8d46ef318e72e9',\n",
       " '4e0bfdf78703a5771f277945feeae5ed',\n",
       " '4e52173f81835e048d85516d407dd63c',\n",
       " '4e5cc97e1034625c4638dab82abe0c3a',\n",
       " '4e98434475e241f03c7b22945586d123',\n",
       " '4ed5a367a97c484d0b2e5333e5969ec9',\n",
       " '4ed667b9e038ff704049f458716c35df',\n",
       " '4ef1ba7eaf70d9de60906bd9aa4d5567',\n",
       " '4f769c764f762527a0d3e355e4b5761e',\n",
       " '4f8b63359b4aa651768ad6813c756730',\n",
       " '4f98f6e65ef3214ec6a4c207d09a675b',\n",
       " '4fa92eba7073a3f23d85cfa110daa908',\n",
       " '4fe0a058db20c82b3d5a2b9bfacde598',\n",
       " '5026fc24adb1ac68e7e8b7a8fd1b48b0',\n",
       " '50ca8b736e86581a3a39e40c381af27a',\n",
       " '50caca15631f05f66669437614d8f730',\n",
       " '50d01ffc20b0f70b532f4d1ac45f31f1',\n",
       " '5180d3cc2949a36639145d23443b4428',\n",
       " '51ad289c505dc49c01203dae20cefcf5',\n",
       " '522fed28bda3c20c913ccbdb212a0833',\n",
       " '52758c6d8c4798e56958791943fbca13',\n",
       " '529104d64634bbace55f9c5f3de2d205',\n",
       " '5305431323b2aa9b52f24f502a456abf',\n",
       " '531d67a11c299967d96155aa1dd32b2a',\n",
       " '535c69781a2427561c9a884b36cdd6a8',\n",
       " '53e3c25c5ca4b87b91008190fa621345',\n",
       " '5411c041ba1489b31c0b2a59b7e3abc6',\n",
       " '54645a0d35c6037501987f563de7258c',\n",
       " '54d00a6d188884ac1da784d77e816b0b',\n",
       " '55023a4b5ae7916bdd8d8aaa45935380',\n",
       " '551d417dab56385d0e4a6f59324e3d7e',\n",
       " '558791d9501ff5068c8f432fda7fec84',\n",
       " '55a732cf1368202d47f1845c24d469fc',\n",
       " '55c2aa5ff94d58facc7e619758bf618b',\n",
       " '55cff1ab4bdbd0715765aa0333476f2c',\n",
       " '55d5ee2f8a657399b64dd88a68532e28',\n",
       " '55e3acc99e245ab5e59d1987af75599e',\n",
       " '560af23a01a7a80d4bfca569402e71b9',\n",
       " '579402dbdbd8490f406546f2b8ed032b',\n",
       " '585fe533a7834802e810a4302c9673ab',\n",
       " '587ea5a279439cdf1e4f454a49c3a562',\n",
       " '58aa3da970b4858bfbef046c0840d3db',\n",
       " '58d2a3b2aa827424d72988d6e6017a3c',\n",
       " '590cb5b21bf2930cab8ed2ae5f03df1f',\n",
       " '5967f85a2c77fe0c7bf95f803c55c5c7',\n",
       " '59da9876fa8109e9d7ce7f2c69bacbc7',\n",
       " '59fd96503e0c84386b1eac76144afddb',\n",
       " '5a0d08785128152514c727f6aa408421',\n",
       " '5a5d16eaf75027cb1d5aa76b4dec9cdc',\n",
       " '5aaa5aff5592c6c66455b10f38e9af74',\n",
       " '5afaa848c0a647b5cb4b1def0ef6669d',\n",
       " '5b207b76598e2bc663ae958fbd38d631',\n",
       " '5b67f182796c6e436866b502d0a7a697',\n",
       " '5bac155cb30b48dcb91adcde55fd7732',\n",
       " '5c4755d9c3728fbd6302fac3ca7b4964',\n",
       " '5c8cbba47e2af52420cbf9b4d800a222',\n",
       " '5cee4fa90faed2ea14840da2c4160bab',\n",
       " '5d22bcce49e46b358706d899fa59b126',\n",
       " '5d22d594431918e9e7fbcecd80de08bb',\n",
       " '5d75b26e20f186032588193bedabaa07',\n",
       " '5d9f8f364dd62ede2a323bbd155489d4',\n",
       " '5da69eab77ff62362bc9a194543195eb',\n",
       " '5e384fab6290226242774734dc61660b',\n",
       " '5f826380001d086e00e18148359f7fc1',\n",
       " '5fe96498f2e38c5158e37b3e615583f9',\n",
       " '6003d161ab9656029ccfd9f70774d526',\n",
       " '606df3bb28052cc019414d62546e7605',\n",
       " '608cb6de67ed635341fc5858a33a0d27',\n",
       " '60958db33bebaf87a8f7eac8e9358cda',\n",
       " '609e43c5b291edd2e7375e306e527681',\n",
       " '60be194df414c73437a6dbef9cb3a52f',\n",
       " '60eb99a4039c41d5723f7079ede6b852',\n",
       " '60f9deebdcddfa7b367209332edb8b36',\n",
       " '610ee77566d3e092c6431f5b7b1ee685',\n",
       " '613df7e5610082f626ba685fd3bd61df',\n",
       " '6201ec7c828cb3d614cd49797b1fdbf5',\n",
       " '626162d3cdbc4086e62be5f391b94530',\n",
       " '62e3d5fca402eb7ff4331a7ad1e48ed9',\n",
       " '633521b071bb7d16bc068ec3d3cb32fa',\n",
       " '63368a3c3e204b6abf2f7b40b476540a',\n",
       " '634c37e95814164fa710a563555b4019',\n",
       " '63b3970a18ba71a15c4a146aa61e475c',\n",
       " '63cae3c1ca05bd230efed19df09aa792',\n",
       " '63f87d667691fabd57ac4854ed98a9df',\n",
       " '640c8b91f5bd67e7eca396b53a3358a9',\n",
       " '6455a4885a51e9d4b00dd19599cdd52f',\n",
       " '64ed76d6c19c5e0520d25b515091863a',\n",
       " '65010d60ed1c1d1d514ea39498526b19',\n",
       " '650f634e332e4f55d9ed5e69f164fdad',\n",
       " '6541d47e551f05dfaa155b4544404f38',\n",
       " '6552d7642b69fb29e04a55df3af07a79',\n",
       " '65640c5edf4620cb217b4833fc3c26c8',\n",
       " '6566922542b0c61540166f8b3b696b3b',\n",
       " '6686f1bce70522ecc99d34cbe985ff00',\n",
       " '66bfb7838b18b5fc2182a1aae07ddb99',\n",
       " '6756609b783fab4ad6d54d762ad0c8e9',\n",
       " '67762185830b27f32e89eccdb78627a8',\n",
       " '67ebcf0fb95fc5fa730c5752e3df7ee1',\n",
       " '681d9502378c2ec9f7baff3e7c26c23d',\n",
       " '68490442e0f04391734c78cff86a8b38',\n",
       " '68600ecf325e7ae0432a79c5cb49630f',\n",
       " '68651aa0e9fc890eb1131d8b4431efda',\n",
       " '68681b7a3da543693282d81153200d8e',\n",
       " '689173d0c03b608a5f270fd48ae6281d',\n",
       " '6897b1f6a29732047b0b61ffbc44f8f4',\n",
       " '692ffd2df0fc0c2015171527586b10ac',\n",
       " '69380d9efd00bb803b86f26790058f0a',\n",
       " '697f51a4c58db054d83dc37336eb1ed0',\n",
       " '6993fb9d6163db8462112605c4ee6eda',\n",
       " '69b7bf35dbc0f3a19b78340ba6215de8',\n",
       " '6a17e757e99439fbf26d3a47d145dec0',\n",
       " '6a43c3d2d55284bd45c88ef56b717769',\n",
       " '6a67cf55fa18271eb209f2a2ced646af',\n",
       " '6a6eaab64e4204eaab5db8eb81acb661',\n",
       " '6aa766a52ae01dfc61f611c8f8b1386a',\n",
       " '6abab58cd4cc58e6bdd52e8ab730c2b8',\n",
       " '6b9c80e3eb0931f89bd43a50286156a4',\n",
       " '6be584fb778cbbbf700342bceca2e38b',\n",
       " '6c0773436499115225a5260d8f393d81',\n",
       " '6c71cd95e951be8d935f5cd7cbfbac4f',\n",
       " '6cb326ba640e827fd895a1ea265a4708',\n",
       " '6ce5a6339c63a8ac148d53354151a4c7',\n",
       " '6d0d18ccb6b7bc62423e86c4a4c25297',\n",
       " '6d5bf8d99197ddc75de70b7d267a9636',\n",
       " '6e39aa32793c8e19835e000a3f2b0409',\n",
       " '6ee01efd4f906c6cf2b5b5a352ce7ea8',\n",
       " '6ef88d5bd30ecf73911ae0113b9a8331',\n",
       " '6f0f76e2160a64736676a8392eb42a97',\n",
       " '6f1cfea876231dd1bb66513cb25e1a37',\n",
       " '6f20a4cb0c4d7bb6cd9e46d4fb95fb4e',\n",
       " '6f5562c95532c661732ebb0af5dd6f6c',\n",
       " '6f871f10aaa5ab4208fdce41cae9dc81',\n",
       " '6fafb3d2f452454cb30a10c896628221',\n",
       " '6fbe7c15cc6a647ab030870f6471a996',\n",
       " '6fc8d0049c2354606fec020850c2433c',\n",
       " '70cfb7337ca811d406f6ebd097abfc29',\n",
       " '71b9a98f58a4e3bbb1f94b2cbd5dbae0',\n",
       " '71cfc65dc3c3b20d0224d675d8653ad1',\n",
       " '71e0e1c1d82bc44ac4cfef2b8a4cc4c6',\n",
       " '72958b538612c501560ba6da27fc1ebc',\n",
       " '729eeac4f3baaa0fd9618dd3201df546',\n",
       " '72d4b9f86475cf4dc9d64832a819a202',\n",
       " '731a331094c241144aba416f6436369d',\n",
       " '733417f3a89086ba92b121419fcb2c33',\n",
       " '733a3ca296639cccb1b6a2cc18aa3f1d',\n",
       " '73731fa2daec3f5c28cf6f945ea2d756',\n",
       " '737870ef0945b1daa36ec426dd5baf63',\n",
       " '739d45cf2fed20b84087e2d492220b01',\n",
       " '73a215be4b6f3260a2b1863591d2c2e3',\n",
       " '73d599b1a1d0a97f4b1525b563697b0e',\n",
       " '7406aa5c4bdcac3ef44630d25396aad2',\n",
       " '743e67ff3e3caa1e06e7e185eb80ba19',\n",
       " '7461937fa25dbfd5020c8e9ca19d2189',\n",
       " '7466f1f26be8c11e066aebb2039c100f',\n",
       " '749d7b5adfca0d8311ad071bd97ad950',\n",
       " '749fcd258726e6ad0c30d1a3aeea3eb0',\n",
       " '74b6530cdc86c76a47588c58d747cf71',\n",
       " '74c9549ed9679981d86d490f8a2811c8',\n",
       " '74e094696c183a81d446377aa4bceb74',\n",
       " '754138b3efee51e083aa82251afb07e9',\n",
       " '7543d595445661d6f8d071d41ecd9da0',\n",
       " '754d2b22291b2bf3477907134ed10725',\n",
       " '75825c49b8ae5515769bce5aaec56eb3',\n",
       " '75b3ab6fbe9187adf4d520f98d7000f7',\n",
       " '75dbd1e7988ca0d1fbf3f996c2c414a4',\n",
       " '760cea814aeed399af912cd5081669fd',\n",
       " '76371863133c7956b6c04f7665c0e476',\n",
       " '766401caf9f1d602ec8d57f0310f28e6',\n",
       " '766ca21248ff542adc6fccbc7ff88c9c',\n",
       " '767abc361280b9291464ae84b7a91622',\n",
       " '76e91226f46122d45b529a4bb7b1a870',\n",
       " '77918626747f572d24c498f7ce966cbb',\n",
       " '77f1805e3294945ba93d2b0637026966',\n",
       " '78085b4f1b9941bf272ab7b1642c0d05',\n",
       " '7810ea86f35de79a32c55b552cb59040',\n",
       " '788e66e4a48ccf26f519a1ef9cae76b3',\n",
       " '789ae3d940684edf5542fdde89aa6678',\n",
       " '78c8c3b308785b73b4ced7a1c253d678',\n",
       " '797edb6ff45f23bf04b2b0d46c2c32b2',\n",
       " '7a337e837ce2abdeff90d7d10ef673ea',\n",
       " '7a6e3d8c040a81066dff9bf45e795bb9',\n",
       " '7a9a145646e401ccf91d0f5107c15ff5',\n",
       " '7aa03bb398c30e626241bee1dda4d553',\n",
       " '7b2691380a641e0202328b8dca7cbf36',\n",
       " '7c0b9849feb595745ff10b926ae0c59f',\n",
       " '7c1c4087b4c33ae8b659a88f7fb98019',\n",
       " '7c487cf9d292a52294560717f3c02381',\n",
       " '7ca9c2685c29a7fbd7d96f3b78b6ea55',\n",
       " '7cabaeceba3173d92de4ee12429731d6',\n",
       " '7cfe26b74430cffb27f4a972f71be188',\n",
       " '7d21e95ddd2b0d24b2a58c6017acf047',\n",
       " '7d3dff7105eb60142579ccf55eebfe22',\n",
       " '7d7e9998afe0d0b70180c11adec9dd1c',\n",
       " '7deec736722541ada3b43a7bf04f5448',\n",
       " '7e91edcb6d2dee20061a6c7416df1952',\n",
       " '7ea65c893f792d4455b7cc7ce38b2448',\n",
       " '7eec23668858ada639df224ff1ddc1bb',\n",
       " '7f838650939b7256f526cf848fdeba06',\n",
       " '7fa72276c1c88444dde2e043588d58b1',\n",
       " '7fc4efaa9072dce974548ff63267d989',\n",
       " '7ffbf65744143810a021a9e19b418eab',\n",
       " '8051a42be36dd5882ad720c210d578b8',\n",
       " '80550389530a303d42affa97a21c6692',\n",
       " '80abb4d10a3d25a7e8fd76816662b32a',\n",
       " '80c58fe1c1b966d769d28e4c6512949b',\n",
       " '818aed56474bfa97fb7133681de7462a',\n",
       " '81a517759724a010579dbd7840f698c9',\n",
       " '81b342ea02d3db42cf35d371ec7c38c0',\n",
       " '81c40ef123f28648db50fe8529d02a1d',\n",
       " '81d7c6994f06d329258593ead2273c9a',\n",
       " '8221355faf0a72d75225337d00542447',\n",
       " '82333531a71c4788ee0602aa6eacbb5c',\n",
       " '82dc5e2f11858f329d1e9c9f7212b949',\n",
       " '82deb1d8d93abdb617ddae9a3fbeceac',\n",
       " '830c043cd9b9319d59d5571dfe3b6104',\n",
       " '8355790f228bdfece7abc54c1d74683b',\n",
       " '8398cb2d3db915d337dc03e816ed51db',\n",
       " '83f0902fd5821514937fc73e19e63764',\n",
       " '840ff04fbb8375112730db1090a8a76a',\n",
       " '84b18611cf3b5453e61289509624d3e2',\n",
       " '8506f08b6b0e2f37dbe218c1087830b1',\n",
       " '8584bf0fb96986c8d69aef0c45927022',\n",
       " '85bc93d277eeb804a0e3a2db80a35746',\n",
       " '85e177ea2a1273d87038ecdfd7115719',\n",
       " '862d026cee89468311cc4e3643157be7',\n",
       " '86452d229869106bcaa4fe01054bf3ee',\n",
       " '868ab9dc55a93edb4aac95941c0d5a61',\n",
       " '87428a8ce4b2708cc28ef8b4a301007c',\n",
       " '878bbd04d42bb3c92330ec1923866520',\n",
       " '878d5700be9902343f64ea0c47d51bde',\n",
       " '87b3f5c8d1e0e2ae4ffccf511e2dca24',\n",
       " '881d674521bf420015bafc46f5c3f2d4',\n",
       " '88468f89a21d7c9b43f21592bcc1d058',\n",
       " '887573f8f23d5be98e3e407d8c8e4545',\n",
       " '8885a83f3bc9fc281c4baaf72ac4bcc2',\n",
       " '88b34cd7db48934b12b8b53cd53ae7a4',\n",
       " '8907cb6a37811cd83c44a041ad3d2e21',\n",
       " '89170e9486c3316e544dafb4eb5d8401',\n",
       " '89295cf02b114a12f0855265d75946ca',\n",
       " '8936f3b66ffe28610d845ced669212fe',\n",
       " '895c2be34b8fd99ad3483262b91e32f0',\n",
       " '896486fb3d45cd11980ef7f53b30f842',\n",
       " '8976f9ab70defe36176fed59a4bb7669',\n",
       " '898e680b506b39e08554745412cba76c',\n",
       " '89a6d2d5e3d4e34c644e0284771cc72a',\n",
       " '89e6972c50bfa5bf633781b053511d4e',\n",
       " '89f977545e60315a50c293020f76642c',\n",
       " '8a0d5f29fdfc485247d2f392e10379e0',\n",
       " '8a282f064a2d77498228305850da7849',\n",
       " '8a47d493547e3aeec907cf3ee9cdc4e3',\n",
       " '8ae039d7c922e60ccd3737d519bc5dd0',\n",
       " '8b326e653dc1496f94fd10a72633de5f',\n",
       " '8b4dded1583c6ad2abf3189c6477f4a4',\n",
       " '8bbae18ff4d5b6561d9c5cf03da1331f',\n",
       " '8bdcc8d3e309647f3e3679db53d09e43',\n",
       " '8bdde4505b8850191ddb864c16cbe23e',\n",
       " '8c023b8694d752fcbbffea39171f8ada',\n",
       " '8c4bd4ab873d57a496cdff6095c2bb8f',\n",
       " '8c68588db209ed2a81bcdbb39e421cab',\n",
       " '8c7528329b10f6398e7fed148d50c505',\n",
       " '8c766038afe77dd9fb9e4c27f84be1dc',\n",
       " '8ccf76c70dff497500267cff6466d11b',\n",
       " '8cfaa326cce4625befaa5fb1fc8de1f8',\n",
       " '8d092a74c9d7b4d3abb9b6252d0f3ce6',\n",
       " '8d0bd38fa5164935084b01e2ce8cc977',\n",
       " '8d30591437db4b905e2f5cbcaaf4b309',\n",
       " '8d4d47fd1e444f24d11cd409a94ecf9a',\n",
       " '8d6a0b8ab76d6a6503b75eaf2118d01e',\n",
       " '8d8a8607ea37f96bf0040d94fa7e8253',\n",
       " '8e4965b291b3403496064ce9fd23b6b9',\n",
       " '8ecc321c6fc8fda9831dd844906f6308',\n",
       " '8f1dadc30fc01459896d45a5b626538b',\n",
       " '8f4c2eb3159a08f1e64f8d7b19be5184',\n",
       " '8f6bec6bd3cf89f21e88247920608d9e',\n",
       " '8faddd5468ab94ca394dab8efad60446',\n",
       " '9001d64f415b483b8f86496cf4bb036a',\n",
       " '90969fc1fc07d3416fea5a46b2b0074c',\n",
       " '90b8539139c22539983c324475b52469',\n",
       " '90bcfb93b22e8492736a90b6d121edda',\n",
       " '90d35db1d93ce21301540ef2c5aaecbe',\n",
       " '911eb7597685a2fec06c64c6a6a9c562',\n",
       " '912662d6edaee74a7ece2d474702a77b',\n",
       " '913c4e01c16acaf32416acd32fe39d02',\n",
       " '917cabd9387f40c26ae9dcae7f1652b5',\n",
       " '91a0a8b9b88491fc6405cf8269a03d0e',\n",
       " '91ab533c60212a6a18f77b98b35e5518',\n",
       " '92ce729e6135897a564d7f6bd1536ec0',\n",
       " '936640a699c4ab02155b42cc43477749',\n",
       " '939377414e93f163f7ec64f5880ec0d3',\n",
       " '939dd9180ec3b32f8adf3d88c151d01e',\n",
       " '939edd01af2158d0aa243eeb893097f5',\n",
       " '94169d5a7849ed21481b7c57370941bb',\n",
       " '9502d453e93964e8e0a9dbe7030d9a1e',\n",
       " '952eaabbe95adb5f4c4b57fa9a33123b',\n",
       " '956cde63f777a187256aaffdb7ad4fc7',\n",
       " '958e5f947bdaf7b92769b95c42f5ae85',\n",
       " '9598ea48253971a466e555178849e6c5',\n",
       " '95ace90b1952c51a09803bbfa68bae8c',\n",
       " '95de57da37a14c1c24ab15a0dea9e9aa',\n",
       " '964cc0d246b8b27c77ac9b0e7bbf82b1',\n",
       " '9651476d9484c5e95ab837100a3b5ec0',\n",
       " '968198b615a8772004a491d45eeb5e97',\n",
       " '9692872c09e1b5f6b5769560c4dc1dff',\n",
       " '96a6515934e8a91e2f8a68147f8181bd',\n",
       " '972dd8d972390e11de4a0be071e9f4fa',\n",
       " '9756e0c0bd6038e1d05431c51bdeea25',\n",
       " '97b3e6b80a102566940b32aad36c3c94',\n",
       " '982b1e9377b778e4f02ddd39bb53aff1',\n",
       " '98661e1aefc7d3b0f4de620791c80c59',\n",
       " '987df0b6b29859bc64645abb9e3959fb',\n",
       " '9897ca464cfdff1e606af779c7e709f8',\n",
       " '98cd5da69eace7a994d68b5899e8e140',\n",
       " '98e8df1c4fd3336b0fc249a2708ccff2',\n",
       " '993e2ec755450bcd0426d9b0afe4612f',\n",
       " '998f3c30e5fc38192dc9b96419ddefa9',\n",
       " '99a9bd60a76d076f39ca7894f15f502d',\n",
       " '99af74989e765f20bd7fd5302729b1ad',\n",
       " '99c7b053238844c4095d62a2cfe39505',\n",
       " '9a5bcdfde51ee6702d18f09b1ab58485',\n",
       " '9a85b2f2d697384417a9c69ee0fd3663',\n",
       " '9b645a6abb7091bd93834ce7de4533ce',\n",
       " '9b6e13a85d7a1e8c1004f64aeed48fd5',\n",
       " '9bdd6cea2466f09eb78e5a9a00e6f825',\n",
       " '9be3d82162b69cac82145dec15dab000',\n",
       " '9bfa9c2e94e0fc77199264472994ae0e',\n",
       " '9c10bd743be2e1af4e1314d2708a8265',\n",
       " '9c9d5d6ce1b1103b78b90c6e025e9c43',\n",
       " '9d07b1eda875853020961b410ab4d2c7',\n",
       " '9d3544af37c86b068c3d9126ae72c9a4',\n",
       " '9d39a7aa9e9a591a0625ceda50e0e32f',\n",
       " '9da8cd01c889313170dc52afc18c6440',\n",
       " '9ddee3f47c083acca30d0c7f5e67c656',\n",
       " '9df6bd2a0fc894be9f839cd4eb67b5a0',\n",
       " '9e189b1c46f2b839766e7e4725ad9577',\n",
       " '9e22fbd4f6e23d7d8ae2cab2afc11041',\n",
       " '9e97179ef55c13b4ee3fc98db74ea01b',\n",
       " '9efac42c3f470d4f6955d930a3fd1beb',\n",
       " '9fec3f546bc5bcd17a10a478280c2458',\n",
       " '9ffeb8f4eaeb3b857bdb4d246602b2c6',\n",
       " 'a05f20a9c6e184b5eaaa164cd0b72c5c',\n",
       " 'a08b809c148c4ba24df64eb7534762c1',\n",
       " 'a09ab6d0e206f44ea7c21e9364ff33e1',\n",
       " 'a0d7a1f45e6b7b495ba294ed7fb7201b',\n",
       " 'a143efb80da8d18cf7fa2b84bcd64d06',\n",
       " 'a22b2694a4bb5f9bfa3f75dd092d14fd',\n",
       " 'a23831e35278df51b34cbc80d3e9c5be',\n",
       " 'a25914a4b819c0ef9b02e5d45a75bc92',\n",
       " 'a264b4b7c888174438a5c56f67b31316',\n",
       " 'a286ab2d3a3f475e9ac53dc312fbb8b2',\n",
       " 'a2a7d6bd31299f34885d28c93aac6ba6',\n",
       " 'a2b3a45dfd411d2d47103835f1f7458a',\n",
       " 'a2dffaf0cde4b837d2c1a0ecdd0dd3a8',\n",
       " 'a38777ca859b5832d5e87097415ba4d1',\n",
       " 'a3ac4827ef42e2516c2f47cdca97060d',\n",
       " 'a4062cf5efc32f5510af817107b80716',\n",
       " 'a4174ed1426368baec4134235605b61c',\n",
       " 'a4969c1d12a2bc08770cf9bfb971a6b9',\n",
       " 'a51045e1c3d2546cfccbb2769073a3ea',\n",
       " 'a5846f3a6200fd850d1c073fae2f12c9',\n",
       " 'a5cf7f5d51cd330dafd8a265e08f1c02',\n",
       " 'a60d717207d976ed08dcb3b175682c51',\n",
       " 'a616eb900f267473b2d13ba24667f4b4',\n",
       " 'a64d2ffaca73b7b52514157e2a3797e8',\n",
       " 'a6685c8412f029451085dc7f5b6dad71',\n",
       " 'a67e1022dbff386264df92dd68880fa6',\n",
       " 'a6ab86e00ee15ab3707765aabb66e62f',\n",
       " 'a6c4ff2de3d896d2cbbaccc2e3ffe99e',\n",
       " 'a7016015d49fce4b6f8fceb97a709b9a',\n",
       " 'a779fded08d568c56079a4fa77c63119',\n",
       " 'a77a70bd8c3053f78bc04881f7246fe2',\n",
       " 'a7abedff529f4b5527eaacde82e7ba5e',\n",
       " 'a7ae4bd98f764c8bb171e218d1a08ac1',\n",
       " 'a7b80c2b981d3ac199b514e98f2851e4',\n",
       " 'a816274e07761157cc0abcbac4f2cd3e',\n",
       " 'a86531162d9d9faefe95c85711e7106c',\n",
       " 'a8a645596e97d0f23c63d2f231901650',\n",
       " 'a8a69bf2bd17676215949cf9c5781f06',\n",
       " 'a8a6b2db7e270cf4b04af5f108a6b9fa',\n",
       " 'a916e53759688667109c03638ec4193c',\n",
       " 'a97460061100b58c07c64b8a2e7a3134',\n",
       " 'a975ec68a0e0af3b81dfb80cba2bcf91',\n",
       " 'a97c31a8768763722730a96bdb4e3bb3',\n",
       " 'a9a4520cc4907206e7304698d2a0f2c4',\n",
       " 'a9a71fbc13a8b46ca153149dec56417b',\n",
       " 'a9f8fb4d553967a0e07f5be044d8b40e',\n",
       " 'aa646ee6d1c8ecc387a43a8193faac47',\n",
       " 'aaf2a6203806cf6192aaee7a534e0aa1',\n",
       " 'ab328ea5cbb4c7c90cdf1052ab467f86',\n",
       " 'ab4296a200a771bc7c768d325a5f6ed3',\n",
       " 'ab5f62d9616b62aeb5f02c54826dea34',\n",
       " 'ab69f159d34af6b228cbc887a563e1f3',\n",
       " 'ab9a49283936f9d006d52a60eb42b94c',\n",
       " 'abf188620ed940fb7b1aa2f665161baf',\n",
       " 'ac58ce39dcffd7837f689bc1f0b570d1',\n",
       " 'accb456269e92aa8dfdd7276986a7d56',\n",
       " 'ad4cf784b3cb4ec355f6c308bb13932f',\n",
       " 'adfb3de6986f345ca3794b799a493177',\n",
       " 'ae796a5646c0cad8ab70c7080fb3a613',\n",
       " 'aea8c28fcfde20e5046f59defe695c43',\n",
       " 'af267f394eff419450f70ffb02b0d35f',\n",
       " 'af36d46d299e0894b09b763b21ec7016',\n",
       " 'afc777ee6220641e81933c3724a76fda',\n",
       " 'afcd12c043ac344541edd4e32f3b80d5',\n",
       " 'afe6b2cd4a381d285e37ab6e36531070',\n",
       " 'aff7a2f081b849a052e418d0a8abbeff',\n",
       " 'b01cd9103035330cd364d3e41fd409b2',\n",
       " 'b058dbd9dcc1f87eabd9a92e8a5dab9f',\n",
       " 'b0cff7ce4094e98c1af8876957695a7e',\n",
       " 'b0dd10faf5687c1d17cba771774e0ad9',\n",
       " 'b0fd9f2b590774f6df8a4f7c3cf6b6c6',\n",
       " 'b10bbb8b7b3b869f03d606b5b0637714',\n",
       " 'b11508babd3f4810a4cb989bca117848',\n",
       " 'b1301fcf3a8064a364e76d1fdf0957ee',\n",
       " 'b1b7fca028f9c1f1c529ad0f7df3862f',\n",
       " 'b1d45b416a8c7ae992e52ff8c67c86c4',\n",
       " 'b1d56902cd79e68ffd8d900f7fd24ec3',\n",
       " 'b1e3e9d864ff1ca1c0878e12c08c1b82',\n",
       " 'b1fb737cb9ea7157793ea83e8f471c51',\n",
       " 'b263c0e1c440cb3771f5fa2f42b0544d',\n",
       " 'b28cc61303690e956b36f709cd5418c8',\n",
       " 'b3324b9d7055a824a665d2c7ce84ed86',\n",
       " 'b466691ebebb5e85d8927ae6334223fa',\n",
       " 'b487caca925aeeaf2257fea69eb81b05',\n",
       " 'b4ec1e65c4b927a05d8de43c6edf94ed',\n",
       " 'b52b71342a3fc1642f44e61c3bb7bfca',\n",
       " 'b566566e7dc0bbd2bc7e32da257e3064',\n",
       " 'b570dcd3302ed3e2bd0cf1c4c89e0863',\n",
       " 'b5b54aa46a063db7c5c6f66bfced6aa3',\n",
       " 'b5cdece61d3c7613316b13794bd7c159',\n",
       " 'b63b822290f7e6c3fce099295442f466',\n",
       " 'b641da5a6d53b88dcefebc72a821f089',\n",
       " 'b64d4b6375eebced52d6e7a4bd258c13',\n",
       " 'b6ec34d0fffbd0144e14dd89fdf4b297',\n",
       " 'b72350214247ed74b9460440fd304424',\n",
       " 'b7a52607dd477316e1cc4a1b9867767a',\n",
       " 'b7e60798305160e333f65765e981104b',\n",
       " 'b7fb401ab28a6627858c7d644ac49fb2',\n",
       " 'b8014d96f2b7bd51b79594d9942580f1',\n",
       " 'b82f37d8283f02f3972cafa7d86b13a3',\n",
       " 'b8681b6e1da8f592b58f312ad31b6758',\n",
       " 'b8baccaeda62035dee593cbb28910c19',\n",
       " 'b93fe1f7a0ea6747885d93606f029065',\n",
       " 'b9668706f592052d1bbfef234e733241',\n",
       " 'b99177eb0a57f15d907012c75f61b761',\n",
       " 'b998a76961a39ead5f8df8004fed7474',\n",
       " 'b9b0ae4cf2619d65d27428514665416f',\n",
       " 'b9b7175e45afa23a9a2033192e135840',\n",
       " 'b9b9cb84a7c6af14d499d0cf44b391e5',\n",
       " 'ba2555e84c4c4c7a7ed52c844405a054',\n",
       " 'ba32d9e0d2c6337efe243bd9bfa3cd41',\n",
       " 'ba3a96bbf2a2c3519f1b16e40dd4ce32',\n",
       " 'baa1d6b019e4fe8763e3ef51a77c6cc9',\n",
       " 'bab60c2ced710141ceacb9ab0b684589',\n",
       " 'bae75ca3839b7ced736dbe5a7ccf7604',\n",
       " 'baf997cb6e66156dc05f0b3e4ce93288',\n",
       " 'bb483d423fa0a7d349d4b32fe3db00b2',\n",
       " 'bb98098b835e94b928c3db5099f54202',\n",
       " 'bbd6c655b6ef721d1c2f6b94abb43460',\n",
       " 'bbe108c46278a126f7097d4ebf5cafd0',\n",
       " 'bc492879b9e9b16a277c164805ecf6fc',\n",
       " 'bc81d488bda7afb331c16543dd4d5563',\n",
       " 'bca55e40922074ef34aaf8c046342b65',\n",
       " 'bd3f9820bde15393c987ed6e0acdef8c',\n",
       " 'bd56c0fd0873cec4dd78bd273ecc6d55',\n",
       " 'bd9328b9be7414be725644936c7f918a',\n",
       " 'bda90c4b6df1692a593b4ab5b7c7e196',\n",
       " 'bdc5d5d035b53e25435d9d84ef88d1fb',\n",
       " 'bdc696bb17216b86af3741821ae84673',\n",
       " 'bea4ecdfe97cb4484cb1945e4d954dc7',\n",
       " 'bef1d786010436ceafe23768c62bb578',\n",
       " 'bf0c4cf4e0aadc357950ebf479ade01c',\n",
       " 'bf5acc5547058f2aa16869932725463d',\n",
       " 'bf63b5b261b8ae7be34bacfb372e3ea0',\n",
       " 'bf841fc363abe822ff07123fb5ff9574',\n",
       " 'bf9200088317ba791940e629a99a49f2',\n",
       " 'bfafdd23457cfe6c48f409a48dc60727',\n",
       " 'c0026a7a34045584941b1af4e5b22cc4',\n",
       " 'c025570e1ee6bfbada2b6ddeea1033eb',\n",
       " 'c030cc1d42ec607e048edd163ce2519f',\n",
       " 'c07dfe03577eb424355cee8e6e674a66',\n",
       " 'c0ad542021d2f2dc764251a0fc66a9c8',\n",
       " 'c0f511dd16067c0e9ff4891262094777',\n",
       " 'c0f92ad7111ab9e921c58822c35064ad',\n",
       " 'c172828c6ceb48f45a97038932a656fa',\n",
       " 'c19382deb16026f2ce7521f7766dd3fa',\n",
       " 'c21bf19f5be6336255608433fa375e35',\n",
       " 'c227009b8abcafebe903b3aa443f5afd',\n",
       " 'c23e811420c8e990826b10458e3d4a04',\n",
       " 'c28e69b0d8cf9af9d60b21969cd8fad0',\n",
       " 'c2a04103dbdaf0358a12de26a7c87040',\n",
       " 'c2b9570e6982af45f5617ce17ac856ae',\n",
       " 'c2eff39137b32890b580e76604565fcf',\n",
       " 'c369b96c14c3b3b2fb20b6436ce71942',\n",
       " 'c38bf54a4b71b98059aacbce6e98e2c7',\n",
       " 'c3b9750ffc89e2eb97dad54522c9cbfe',\n",
       " 'c3fb7b4e85204f715e29b4eb4da6d9cc',\n",
       " 'c46c2cb4fb8c78876f5004b99b17e234',\n",
       " 'c4708ed8f419720c1eb9936b17a59364',\n",
       " 'c4d7bb98dd137afb397c719fa09168b2',\n",
       " 'c53600e5be53c75a79bde0521b4f8d9e',\n",
       " 'c53f27535cb41cf36cf4d836c76f1409',\n",
       " 'c5415bac41d3f4e3e8a53b62f9c71514',\n",
       " 'c54f26fa8e77792fea3fe2da06d39a17',\n",
       " 'c58ee2ebf07fde9f3589dc61e9c19e40',\n",
       " 'c61767faee69e94335e277467aff46fb',\n",
       " 'c671d3ba8f4492f0218d1cd208eb52b1',\n",
       " 'c68387a69da3ed632d2ea2fd2cb2666d',\n",
       " 'c6ddb36078406a10d469d5a645982b40',\n",
       " 'c6ddd3a89a77ff33a0184f6c4435f2ea',\n",
       " 'c7205a83f07eb16822e4759d56beebec',\n",
       " 'c74937b9ff81e200c816de11254482f8',\n",
       " 'c800a8266c4a20d71abb678464f183d2',\n",
       " 'c81a041b76255aff11449fa18b56e3b8',\n",
       " 'c83de6dc745ba228cc92885480d5e570',\n",
       " 'c8c2342078e9349978cb4e567ea94898',\n",
       " 'c8cc9efbbb0c31050b6a13f5e3693f2c',\n",
       " 'c91b67acc141b3aa053f7604f9269b7f',\n",
       " 'ca1a5509bcaf4b82d87cb24e8f1e0fd4',\n",
       " 'ca37a502dc680df6dde5faecc15ad7b4',\n",
       " 'ca4bacf6a97734085c595063938101c4',\n",
       " 'cb1485e88304c4de22c4893c36dfb57f',\n",
       " 'cb4e690539fd2530333ff10891165f40',\n",
       " 'cb92747b9e6984c83163baa91419e322',\n",
       " 'cbacac3a2fd6266fa34ef3fb207c3233',\n",
       " 'cbbb16964b851fe501aea9f37a07e57d',\n",
       " 'cc3eaab7df573f5b017c16d285ee83cb',\n",
       " 'cd6f8d40aa831aa8418113b8d95b3d56',\n",
       " 'cd85973433ed15304d91b2f1d19df3b1',\n",
       " 'cdc03439c33991781af62cae1ec90611',\n",
       " 'cdc90da28aa720f430da07f35e51fd40',\n",
       " 'cdd47cc26482142879df81229bd0a8e9',\n",
       " 'cdd611298eb1d98a5f38516e7902e693',\n",
       " 'cdfee973ebbeca0a840960ae25e8063c',\n",
       " 'ce0f8a84b725198fd10805ef65c2f352',\n",
       " 'ce3c9ed8d96829ed9afc7117bbe06667',\n",
       " 'ce6f3989a5b7284f91048d5a943924be',\n",
       " 'ce7bff87815b3b4641256b7b711a96a1',\n",
       " 'cead9cd130ba9d38dec8666b2192ee75',\n",
       " 'cedefaaf19e289f7f6883f5580ab6c0e',\n",
       " 'cf0784087e752a66d104f0cf73930ea5',\n",
       " 'cf6f064313f2b1b5bf0ea6783aa46169',\n",
       " 'cf87df7a03971c54af9d0c26630a0a4f',\n",
       " 'cf8dd34569a42eaf7b28884964742f07',\n",
       " 'cfa106071541211d19e07302635fd994',\n",
       " 'cfb966675dd30feabb3f4da15f4cc188',\n",
       " 'cfcc656608cdd1d2f291eae7ca80bdca',\n",
       " 'cfe29c4a18bb5a7571ba26668fc6aea2',\n",
       " 'd0243b795eaec87f57c04c8998fd105c',\n",
       " 'd05325c604f6b6f4cbb8b1287b083e85',\n",
       " 'd062fa5f52a47dae100ac01a67b718fd',\n",
       " 'd09df66114fefae176a76f2d2d3ad6db',\n",
       " 'd09e45bc80875dcd0b72cd96af568948',\n",
       " 'd0a16f77bbe7debcf7e9bb656da6964d',\n",
       " 'd0ad30263ca0ff39c0cf96e82d6c7d65',\n",
       " 'd11cc2188a5fcf3d1a9ca21c6255e4a0',\n",
       " 'd15768e027fc6a139834ea870c7b0067',\n",
       " 'd184a49e1038d76bf09cca73c5640766',\n",
       " 'd19e8a804ad1b6e1dea77cdbb79f0a4e',\n",
       " 'd21c61f89d3d24d0bf98e4143f24f670',\n",
       " 'd2309ea1d915421adac204b37be2a9fb',\n",
       " 'd25fa218ef4276fede586bd88e5ec906',\n",
       " 'd28953258429005d2b97d5eaf111c800',\n",
       " 'd29a45353422ec4c9455bd9666891afc',\n",
       " 'd2b554233d5a996bae60fc9364e81104',\n",
       " 'd2d5d08ea45e217210e3205fab7ef61b',\n",
       " 'd2e0c6078ef7851145ed07050b14cc60',\n",
       " 'd302182c0d2aaf6202bf6a82b0812974',\n",
       " 'd3905ad307d7efda3f0b9b85708b15be',\n",
       " 'd3aab8d906c4a63fea8319922363a44c',\n",
       " 'd3f203b9153df194163bd5354ce042a5',\n",
       " 'd43e011d79e72cacfc78367072416ae8',\n",
       " 'd44f1e3aa1d26d3618c73a4919556e00',\n",
       " 'd46c4c20ff1e858e6deb95d6653a850d',\n",
       " 'd4c0be6634cd8b50f5fb01143fe8aea1',\n",
       " 'd4db1922dbc6c6b0c644478839162a1e',\n",
       " 'd55c50cd9da9b6392bbe6f30eb30041b',\n",
       " 'd5a1f980d592c6eb76905a5aa601ed85',\n",
       " 'd6454a711c43e00f75ed79fc6662d017',\n",
       " 'd655123df16180f893811e9a2cc2fa37',\n",
       " 'd6d048aabef92a73a9956268ab82e087',\n",
       " 'd70f9f32c379c36f25af503589a46190',\n",
       " 'd775faacaa68223362640761bd13a866',\n",
       " 'd7981ce40e093d034cf3c1c03d1d5355',\n",
       " 'd7bd760d563fdb9c19222b4f3bdcad48',\n",
       " 'd7ca78e6713f271b0e259c2b8f7e07f6',\n",
       " 'd7ea035718c6289aa2dfad34232644ff',\n",
       " 'd86962352b112c9358559c1b32c8410c',\n",
       " 'd883481b1bf55f4c0714008dfb859c3f',\n",
       " 'd8d4db4ce8118a3962c6af5519fd643f',\n",
       " 'd8e51120f310056ad6cc447cd10120af',\n",
       " 'd936cc6cb5d47d752350ae42bc97bfe5',\n",
       " 'd93bf127ca18ef9d418653fc4e5256c7',\n",
       " 'd94c04d7dbee0d14ff4ba56d62876394',\n",
       " 'd959d88cc59583a9febd737a49238c8f',\n",
       " 'd9cc7d3f8a3997fbba634d8ade9656c2',\n",
       " 'da1055d071c79a00f8638a280404483a',\n",
       " 'da745279197c730242cefd13285ced9e',\n",
       " 'db0756ab27e61926fd2fe655eed685d5',\n",
       " 'db62417b8c530d45435192e240386a94',\n",
       " 'dbcad3f6879e3d7568dee786146f3d42',\n",
       " 'dbcf6d51efcd9a7de574257395ab8a71',\n",
       " 'dbf34e38267329c4db73741615c0f975',\n",
       " 'dbfe0a7be179b19cd1001c73a97d3b20',\n",
       " 'dc6aae58e0a5edcd5966419649c51727',\n",
       " 'dc92fde756d37a31d027b33d268b8af6',\n",
       " 'dc9ce6b270347c6c07b6ffe90af930aa',\n",
       " 'dcb82cc0dc19b8e98acb2f011e0bb958',\n",
       " 'dd2c75237990aaefab70338a8cfa13e4',\n",
       " 'dd91540ed8f529e0456fd5d7f07da1c5',\n",
       " 'ddb4f5d7ee76984a754722d5be525950',\n",
       " 'ddbe07162863b3fa7aeba788d3f48537',\n",
       " 'de99a303a8b253cd35aea8c8c22f940d',\n",
       " 'df826119521c65bdf908f0fda93fe33c',\n",
       " 'df9ff014e986e7ae25b41012acfe2867',\n",
       " 'dffdbebebd1a908c364eb332732a1bff',\n",
       " 'e08a4e3e9aef27030fb15f7c9ffe69bc',\n",
       " 'e0a2bf3a3e8522beadfe37469cdf5d95',\n",
       " 'e1673c2635dd7d55dedf0c26ae084500',\n",
       " 'e16de5244a256da7450dd69b297d2b7d',\n",
       " 'e17e9516af3c9849591a84d62bfcc29e',\n",
       " 'e27d47174b5ca0aada5c1ec4eb9c70b9',\n",
       " 'e292d6023dc0ecb2021589bec6c75e5a',\n",
       " 'e319495a60ec4dc2e41860b9fb9f7a0a',\n",
       " 'e320e647b36ed87be3fac9befdab0323',\n",
       " 'e38807df5f355d0ca950a59522273cec',\n",
       " 'e3899895ec228b1b113d9babae52f04a',\n",
       " 'e3abfea6a777e7447011efe39ac86b5f',\n",
       " 'e3df245777c00d11d1a5bd1ae762b1e1',\n",
       " 'e474bc860c2cf2ad005943cf486562bd',\n",
       " 'e487a141bade8fed7ef6c1496598947e',\n",
       " 'e49a5c9cf4d222c8684a8237091b6c83',\n",
       " 'e4e44b692b99eb6c4907205b3a7ce84a',\n",
       " 'e5057fc9a61c455ec0e667f41700946e',\n",
       " 'e52bfd00a8797d034766082ca2c63176',\n",
       " 'e567f8e129e92cce38ba3f429bd504cd',\n",
       " 'e5693b27996bb881ed4e478293d24dc0',\n",
       " 'e67c04de1af90bb6520e80c6b393c51e',\n",
       " 'e6ca42f7a05680ed912597578df39219',\n",
       " 'e6f7fbce02292db8f9fbbe9fc731e810',\n",
       " 'e70d878d1a69ccbf591acd9f92cbf971',\n",
       " 'e78e226d0416158639d89034173ff1e5',\n",
       " 'e79eab1a0e25132731247921e9cfa0ac',\n",
       " 'e7d566755fceb9256095858dcb0843e3',\n",
       " 'e8374a180843d913ffca137a0a934e66',\n",
       " 'e874deaaaa1cfeb4e36a1ce74512b825',\n",
       " 'e88fced5d1cb53efa9423db9037cc6eb',\n",
       " 'e8bb997a45a9b661d02a36b7ed6d3f7a',\n",
       " 'e8dbce55047647e9852ddcf363ed61ca',\n",
       " 'e8f575500606504903cc789cadfd844b',\n",
       " 'e947077577843b201c17e3f7e083a3ad',\n",
       " 'e9673781fda488b1ce2c18c4d3d425ec',\n",
       " 'e99db4a1f0d0cf988626a75f0e610e49',\n",
       " 'e9a0b8c9a7148c5ee9e80c3c13ca8d3c',\n",
       " 'e9de029e85369dfbfc5ab36d568105c1',\n",
       " 'ea4ef52901032819ca6f9b1a60de1896',\n",
       " 'ea9418891ec2d9b6991eafe6ffac5a0f',\n",
       " 'eb31c3d5a2226344f0498a26dd010fd9',\n",
       " 'ebd5ec0fd46c38204f7f67a56cb51d8c',\n",
       " 'ec4cbed939e72a848be6f8962dd599c7',\n",
       " 'ece6f97cc6e0ec57abef34dff18a479a',\n",
       " 'ecee771233c00f972707671a588f496f',\n",
       " 'ecf722281dea829b793b709757751cda',\n",
       " ...]"
      ]
     },
     "execution_count": 12,
     "metadata": {},
     "output_type": "execute_result"
    }
   ],
   "source": [
    "# Get users whose sequence ends with 'INTER -> drop'\n",
    "drop_after_inter_users = sequence_df[sequence_df['sequence'].str.endswith('INTER -> drop')]['user_pseudo_id'].tolist()\n",
    "print(f\"Number of users who dropped after INTER: {len(drop_after_inter_users)}\")\n",
    "drop_after_inter_users"
   ]
  },
  {
   "cell_type": "code",
   "execution_count": null,
   "metadata": {},
   "outputs": [
    {
     "data": {
      "text/plain": [
       "15816"
      ]
     },
     "execution_count": 14,
     "metadata": {},
     "output_type": "execute_result"
    }
   ],
   "source": [
    "query  = \"\"\" \n",
    "select distinct user_pseudo_id \n",
    "from `crazy-coffee-jam.flatten_table.af_inter_complete`\n",
    "where level = 5 \n",
    "and user_pseudo_id in ('{(\"','\".join(drop_after_inter_users))}')\n",
    "\"\"\"\n",
    "finish_inter_level_5_drop = client.query(query).to_dataframe()\n",
    "len(finish_inter_level_5_drop)"
   ]
  },
  {
   "cell_type": "code",
   "execution_count": 16,
   "metadata": {},
   "outputs": [
    {
     "data": {
      "text/plain": [
       "1083"
      ]
     },
     "execution_count": 16,
     "metadata": {},
     "output_type": "execute_result"
    }
   ],
   "source": [
    "len(drop_after_inter_users)"
   ]
  },
  {
   "cell_type": "code",
   "execution_count": null,
   "metadata": {},
   "outputs": [],
   "source": []
  },
  {
   "cell_type": "code",
   "execution_count": null,
   "metadata": {},
   "outputs": [],
   "source": []
  },
  {
   "cell_type": "markdown",
   "metadata": {},
   "source": [
    "# Sequence of user drop level 15"
   ]
  },
  {
   "cell_type": "code",
   "execution_count": 98,
   "metadata": {},
   "outputs": [],
   "source": [
    "query = \"\"\"\n",
    "with a as (\n",
    "select distinct user_pseudo_id\n",
    "from `crazy-coffee-jam.flatten_table.start_level`\n",
    "where level >= 16\n",
    "and user_pseudo_id in (select distinct user_pseudo_id from `crazy-coffee-jam.flatten_table.first_open` where event_date >= '2025-05-01')\n",
    ")\n",
    "select distinct user_pseudo_id\n",
    "from `crazy-coffee-jam.flatten_table.start_level`\n",
    "where event_date >= '2025-05-01'\n",
    "and level = 15\n",
    "and user_pseudo_id not in (select user_pseudo_id from a)\n",
    "and user_pseudo_id in (select distinct user_pseudo_id from `crazy-coffee-jam.flatten_table.first_open` where event_date >= '2025-05-01')\n",
    "\"\"\"\n",
    "user_drop_level_15 = client.query(query).to_dataframe()\n",
    "user_drop_level_15_list = user_drop_level_15['user_pseudo_id'].tolist()"
   ]
  },
  {
   "cell_type": "code",
   "execution_count": 100,
   "metadata": {},
   "outputs": [],
   "source": [
    "query = f\"\"\"\n",
    "SELECT\n",
    "  user_pseudo_id,\n",
    "  event_name,\n",
    "  event_timestamp,\n",
    "  ev.key,\n",
    "  COALESCE(ev.value.string_value,\n",
    "           CAST(ev.value.int_value AS STRING),\n",
    "           CAST(ev.value.float_value AS STRING),\n",
    "           CAST(ev.value.double_value AS STRING)\n",
    "  ) AS value\n",
    "FROM\n",
    "  `crazy-coffee-jam.analytics_483028617.events_intraday_*`,\n",
    "  UNNEST(event_params) AS ev\n",
    "WHERE\n",
    "  _TABLE_SUFFIX BETWEEN '20250422' AND '20250522'\n",
    "  and user_pseudo_id in ('{(\"','\".join(user_drop_level_15_list))}')\n",
    "  and event_name in ('start_level', 'win_level', 'lose_level', 'revive_level', 'booster_use', 'box_complete','ad_impression')\n",
    "  and key in ('level', 'ad_format' )\n",
    "ORDER BY\n",
    "  user_pseudo_id,\n",
    "  event_timestamp\n",
    "\"\"\"\n",
    "sequence_user = client.query(query).to_dataframe()"
   ]
  },
  {
   "cell_type": "code",
   "execution_count": 101,
   "metadata": {},
   "outputs": [],
   "source": [
    "# Chỉ lấy các event sau khi user bắt đầu level 15\n",
    "# Get the timestamp when each user started level 15\n",
    "level_15_start_times = sequence_user[\n",
    "    (sequence_user['event_name'] == 'start_level') &\n",
    "    (sequence_user['key'] == 'level') &\n",
    "    (sequence_user['value'] == '15')\n",
    "].groupby('user_pseudo_id')['event_timestamp'].min()\n",
    "\n",
    "# Filter sequence_user to only include events after each user's level 15 start\n",
    "sequence_user = sequence_user.merge(\n",
    "    level_15_start_times.reset_index(),\n",
    "    on='user_pseudo_id',\n",
    "    suffixes=('', '_level15_start')\n",
    ")\n",
    "sequence_user = sequence_user[\n",
    "    sequence_user['event_timestamp'] >= sequence_user['event_timestamp_level15_start']\n",
    "].drop('event_timestamp_level15_start', axis=1)"
   ]
  },
  {
   "cell_type": "code",
   "execution_count": 102,
   "metadata": {},
   "outputs": [],
   "source": [
    "# prompt: sequence_user: Bỏ đi các dòng có key = level và value ứng với level đó != 15\n",
    "\n",
    "sequence_user = sequence_user[\n",
    "    ~((sequence_user['key'] == 'level') &\n",
    "      (pd.to_numeric(sequence_user['value'], errors='coerce') != 15))\n",
    "]"
   ]
  },
  {
   "cell_type": "code",
   "execution_count": 103,
   "metadata": {},
   "outputs": [
    {
     "name": "stdout",
     "output_type": "stream",
     "text": [
      "Level counts:\n",
      "  value  count\n",
      "0    15  21252\n"
     ]
    }
   ],
   "source": [
    "# Count number of rows for each level value where key = 'level'\n",
    "level_counts = sequence_user[sequence_user['key'] == 'level'].groupby('value').size().reset_index(name='count')\n",
    "print(\"Level counts:\")\n",
    "print(level_counts)"
   ]
  },
  {
   "cell_type": "code",
   "execution_count": 104,
   "metadata": {},
   "outputs": [],
   "source": [
    "# Drop rows where value is 'BANNER'\n",
    "sequence_user = sequence_user[sequence_user['value'] != 'BANNER']\n",
    "sequence_user = sequence_user[sequence_user['value'] != 'LEADER']"
   ]
  },
  {
   "cell_type": "code",
   "execution_count": 105,
   "metadata": {},
   "outputs": [
    {
     "data": {
      "text/html": [
       "<div>\n",
       "<style scoped>\n",
       "    .dataframe tbody tr th:only-of-type {\n",
       "        vertical-align: middle;\n",
       "    }\n",
       "\n",
       "    .dataframe tbody tr th {\n",
       "        vertical-align: top;\n",
       "    }\n",
       "\n",
       "    .dataframe thead th {\n",
       "        text-align: right;\n",
       "    }\n",
       "</style>\n",
       "<table border=\"1\" class=\"dataframe\">\n",
       "  <thead>\n",
       "    <tr style=\"text-align: right;\">\n",
       "      <th></th>\n",
       "      <th>user_pseudo_id</th>\n",
       "      <th>event_name</th>\n",
       "      <th>event_timestamp</th>\n",
       "      <th>key</th>\n",
       "      <th>value</th>\n",
       "    </tr>\n",
       "  </thead>\n",
       "  <tbody>\n",
       "    <tr>\n",
       "      <th>142</th>\n",
       "      <td>001ab56758356022472c8733566cbaec</td>\n",
       "      <td>start_level</td>\n",
       "      <td>1747576899721078</td>\n",
       "      <td>level</td>\n",
       "      <td>15</td>\n",
       "    </tr>\n",
       "    <tr>\n",
       "      <th>143</th>\n",
       "      <td>001ab56758356022472c8733566cbaec</td>\n",
       "      <td>box_complete</td>\n",
       "      <td>1747576917350055</td>\n",
       "      <td>level</td>\n",
       "      <td>15</td>\n",
       "    </tr>\n",
       "    <tr>\n",
       "      <th>144</th>\n",
       "      <td>001ab56758356022472c8733566cbaec</td>\n",
       "      <td>box_complete</td>\n",
       "      <td>1747576959034056</td>\n",
       "      <td>level</td>\n",
       "      <td>15</td>\n",
       "    </tr>\n",
       "    <tr>\n",
       "      <th>145</th>\n",
       "      <td>001ab56758356022472c8733566cbaec</td>\n",
       "      <td>box_complete</td>\n",
       "      <td>1747577061078057</td>\n",
       "      <td>level</td>\n",
       "      <td>15</td>\n",
       "    </tr>\n",
       "    <tr>\n",
       "      <th>146</th>\n",
       "      <td>001ab56758356022472c8733566cbaec</td>\n",
       "      <td>box_complete</td>\n",
       "      <td>1747577072682058</td>\n",
       "      <td>level</td>\n",
       "      <td>15</td>\n",
       "    </tr>\n",
       "    <tr>\n",
       "      <th>...</th>\n",
       "      <td>...</td>\n",
       "      <td>...</td>\n",
       "      <td>...</td>\n",
       "      <td>...</td>\n",
       "      <td>...</td>\n",
       "    </tr>\n",
       "    <tr>\n",
       "      <th>291786</th>\n",
       "      <td>fffeda73def58ca84be21651950e6f9f</td>\n",
       "      <td>box_complete</td>\n",
       "      <td>1747271876386610</td>\n",
       "      <td>level</td>\n",
       "      <td>15</td>\n",
       "    </tr>\n",
       "    <tr>\n",
       "      <th>291791</th>\n",
       "      <td>fffeda73def58ca84be21651950e6f9f</td>\n",
       "      <td>start_level</td>\n",
       "      <td>1747348037338954</td>\n",
       "      <td>level</td>\n",
       "      <td>15</td>\n",
       "    </tr>\n",
       "    <tr>\n",
       "      <th>291793</th>\n",
       "      <td>fffeda73def58ca84be21651950e6f9f</td>\n",
       "      <td>box_complete</td>\n",
       "      <td>1747348051099269</td>\n",
       "      <td>level</td>\n",
       "      <td>15</td>\n",
       "    </tr>\n",
       "    <tr>\n",
       "      <th>291796</th>\n",
       "      <td>fffeda73def58ca84be21651950e6f9f</td>\n",
       "      <td>booster_use</td>\n",
       "      <td>1747348075001106</td>\n",
       "      <td>level</td>\n",
       "      <td>15</td>\n",
       "    </tr>\n",
       "    <tr>\n",
       "      <th>291797</th>\n",
       "      <td>fffeda73def58ca84be21651950e6f9f</td>\n",
       "      <td>booster_use</td>\n",
       "      <td>1747348075001106</td>\n",
       "      <td>level</td>\n",
       "      <td>15</td>\n",
       "    </tr>\n",
       "  </tbody>\n",
       "</table>\n",
       "<p>23594 rows × 5 columns</p>\n",
       "</div>"
      ],
      "text/plain": [
       "                          user_pseudo_id    event_name   event_timestamp  \\\n",
       "142     001ab56758356022472c8733566cbaec   start_level  1747576899721078   \n",
       "143     001ab56758356022472c8733566cbaec  box_complete  1747576917350055   \n",
       "144     001ab56758356022472c8733566cbaec  box_complete  1747576959034056   \n",
       "145     001ab56758356022472c8733566cbaec  box_complete  1747577061078057   \n",
       "146     001ab56758356022472c8733566cbaec  box_complete  1747577072682058   \n",
       "...                                  ...           ...               ...   \n",
       "291786  fffeda73def58ca84be21651950e6f9f  box_complete  1747271876386610   \n",
       "291791  fffeda73def58ca84be21651950e6f9f   start_level  1747348037338954   \n",
       "291793  fffeda73def58ca84be21651950e6f9f  box_complete  1747348051099269   \n",
       "291796  fffeda73def58ca84be21651950e6f9f   booster_use  1747348075001106   \n",
       "291797  fffeda73def58ca84be21651950e6f9f   booster_use  1747348075001106   \n",
       "\n",
       "          key value  \n",
       "142     level    15  \n",
       "143     level    15  \n",
       "144     level    15  \n",
       "145     level    15  \n",
       "146     level    15  \n",
       "...       ...   ...  \n",
       "291786  level    15  \n",
       "291791  level    15  \n",
       "291793  level    15  \n",
       "291796  level    15  \n",
       "291797  level    15  \n",
       "\n",
       "[23594 rows x 5 columns]"
      ]
     },
     "execution_count": 105,
     "metadata": {},
     "output_type": "execute_result"
    }
   ],
   "source": [
    "# For ad_impression events, replace event_name with the corresponding value\n",
    "sequence_user.loc[sequence_user['event_name'] == 'ad_impression', 'event_name'] = sequence_user.loc[sequence_user['event_name'] == 'ad_impression', 'value']\n",
    "\n",
    "sequence_user"
   ]
  },
  {
   "cell_type": "code",
   "execution_count": 106,
   "metadata": {},
   "outputs": [
    {
     "data": {
      "text/html": [
       "<div>\n",
       "<style scoped>\n",
       "    .dataframe tbody tr th:only-of-type {\n",
       "        vertical-align: middle;\n",
       "    }\n",
       "\n",
       "    .dataframe tbody tr th {\n",
       "        vertical-align: top;\n",
       "    }\n",
       "\n",
       "    .dataframe thead th {\n",
       "        text-align: right;\n",
       "    }\n",
       "</style>\n",
       "<table border=\"1\" class=\"dataframe\">\n",
       "  <thead>\n",
       "    <tr style=\"text-align: right;\">\n",
       "      <th></th>\n",
       "      <th>user_pseudo_id</th>\n",
       "      <th>sequence</th>\n",
       "    </tr>\n",
       "  </thead>\n",
       "  <tbody>\n",
       "    <tr>\n",
       "      <th>0</th>\n",
       "      <td>001ab56758356022472c8733566cbaec</td>\n",
       "      <td>start_level -&gt; box_complete -&gt; box_complete -&gt;...</td>\n",
       "    </tr>\n",
       "    <tr>\n",
       "      <th>1</th>\n",
       "      <td>001daff6aff341f8c689b4031fafae51</td>\n",
       "      <td>start_level -&gt; box_complete -&gt; box_complete -&gt;...</td>\n",
       "    </tr>\n",
       "    <tr>\n",
       "      <th>2</th>\n",
       "      <td>001fe2fb86263dcd8980cfbe84bdd308</td>\n",
       "      <td>start_level -&gt; box_complete -&gt; box_complete -&gt;...</td>\n",
       "    </tr>\n",
       "    <tr>\n",
       "      <th>3</th>\n",
       "      <td>0028ffde246d3660ccb6e48ece54d639</td>\n",
       "      <td>start_level -&gt; box_complete -&gt; box_complete -&gt;...</td>\n",
       "    </tr>\n",
       "    <tr>\n",
       "      <th>4</th>\n",
       "      <td>003547177934245a5cae775495e538ba</td>\n",
       "      <td>start_level -&gt; box_complete -&gt; box_complete -&gt;...</td>\n",
       "    </tr>\n",
       "    <tr>\n",
       "      <th>...</th>\n",
       "      <td>...</td>\n",
       "      <td>...</td>\n",
       "    </tr>\n",
       "    <tr>\n",
       "      <th>1150</th>\n",
       "      <td>ffa125f4882c2ba9d9ac531dee4399c4</td>\n",
       "      <td>start_level -&gt; box_complete -&gt; box_complete -&gt;...</td>\n",
       "    </tr>\n",
       "    <tr>\n",
       "      <th>1151</th>\n",
       "      <td>ffa89ce0643ce653e45bc2fcb3491fd4</td>\n",
       "      <td>start_level -&gt; box_complete -&gt; box_complete -&gt;...</td>\n",
       "    </tr>\n",
       "    <tr>\n",
       "      <th>1152</th>\n",
       "      <td>ffa9cf7bb08c4ddaa2814cae437bbee9</td>\n",
       "      <td>start_level -&gt; box_complete -&gt; box_complete -&gt;...</td>\n",
       "    </tr>\n",
       "    <tr>\n",
       "      <th>1153</th>\n",
       "      <td>ffbd3ad282ec49d5081370f18d346e95</td>\n",
       "      <td>start_level -&gt; box_complete -&gt; box_complete -&gt;...</td>\n",
       "    </tr>\n",
       "    <tr>\n",
       "      <th>1154</th>\n",
       "      <td>fffeda73def58ca84be21651950e6f9f</td>\n",
       "      <td>start_level -&gt; box_complete -&gt; box_complete -&gt;...</td>\n",
       "    </tr>\n",
       "  </tbody>\n",
       "</table>\n",
       "<p>1155 rows × 2 columns</p>\n",
       "</div>"
      ],
      "text/plain": [
       "                        user_pseudo_id  \\\n",
       "0     001ab56758356022472c8733566cbaec   \n",
       "1     001daff6aff341f8c689b4031fafae51   \n",
       "2     001fe2fb86263dcd8980cfbe84bdd308   \n",
       "3     0028ffde246d3660ccb6e48ece54d639   \n",
       "4     003547177934245a5cae775495e538ba   \n",
       "...                                ...   \n",
       "1150  ffa125f4882c2ba9d9ac531dee4399c4   \n",
       "1151  ffa89ce0643ce653e45bc2fcb3491fd4   \n",
       "1152  ffa9cf7bb08c4ddaa2814cae437bbee9   \n",
       "1153  ffbd3ad282ec49d5081370f18d346e95   \n",
       "1154  fffeda73def58ca84be21651950e6f9f   \n",
       "\n",
       "                                               sequence  \n",
       "0     start_level -> box_complete -> box_complete ->...  \n",
       "1     start_level -> box_complete -> box_complete ->...  \n",
       "2     start_level -> box_complete -> box_complete ->...  \n",
       "3     start_level -> box_complete -> box_complete ->...  \n",
       "4     start_level -> box_complete -> box_complete ->...  \n",
       "...                                                 ...  \n",
       "1150  start_level -> box_complete -> box_complete ->...  \n",
       "1151  start_level -> box_complete -> box_complete ->...  \n",
       "1152  start_level -> box_complete -> box_complete ->...  \n",
       "1153  start_level -> box_complete -> box_complete ->...  \n",
       "1154  start_level -> box_complete -> box_complete ->...  \n",
       "\n",
       "[1155 rows x 2 columns]"
      ]
     },
     "execution_count": 106,
     "metadata": {},
     "output_type": "execute_result"
    }
   ],
   "source": [
    "# Group events by user_pseudo_id and aggregate event_names into a sequence\n",
    "sequence_df = sequence_user.groupby('user_pseudo_id').agg(\n",
    "    sequence=('event_name', lambda x: ' -> '.join(x))\n",
    ").reset_index()\n",
    "\n",
    "sequence_df"
   ]
  },
  {
   "cell_type": "code",
   "execution_count": 107,
   "metadata": {},
   "outputs": [
    {
     "data": {
      "text/html": [
       "<div>\n",
       "<style scoped>\n",
       "    .dataframe tbody tr th:only-of-type {\n",
       "        vertical-align: middle;\n",
       "    }\n",
       "\n",
       "    .dataframe tbody tr th {\n",
       "        vertical-align: top;\n",
       "    }\n",
       "\n",
       "    .dataframe thead th {\n",
       "        text-align: right;\n",
       "    }\n",
       "</style>\n",
       "<table border=\"1\" class=\"dataframe\">\n",
       "  <thead>\n",
       "    <tr style=\"text-align: right;\">\n",
       "      <th></th>\n",
       "      <th>user_pseudo_id</th>\n",
       "      <th>sequence</th>\n",
       "    </tr>\n",
       "  </thead>\n",
       "  <tbody>\n",
       "    <tr>\n",
       "      <th>0</th>\n",
       "      <td>001ab56758356022472c8733566cbaec</td>\n",
       "      <td>start_level -&gt; box_complete -&gt; lose_level -&gt; s...</td>\n",
       "    </tr>\n",
       "    <tr>\n",
       "      <th>1</th>\n",
       "      <td>001daff6aff341f8c689b4031fafae51</td>\n",
       "      <td>start_level -&gt; box_complete -&gt; lose_level -&gt; I...</td>\n",
       "    </tr>\n",
       "    <tr>\n",
       "      <th>2</th>\n",
       "      <td>001fe2fb86263dcd8980cfbe84bdd308</td>\n",
       "      <td>start_level -&gt; box_complete -&gt; lose_level -&gt; I...</td>\n",
       "    </tr>\n",
       "    <tr>\n",
       "      <th>3</th>\n",
       "      <td>0028ffde246d3660ccb6e48ece54d639</td>\n",
       "      <td>start_level -&gt; box_complete</td>\n",
       "    </tr>\n",
       "    <tr>\n",
       "      <th>4</th>\n",
       "      <td>003547177934245a5cae775495e538ba</td>\n",
       "      <td>start_level -&gt; box_complete -&gt; lose_level -&gt; I...</td>\n",
       "    </tr>\n",
       "    <tr>\n",
       "      <th>...</th>\n",
       "      <td>...</td>\n",
       "      <td>...</td>\n",
       "    </tr>\n",
       "    <tr>\n",
       "      <th>1150</th>\n",
       "      <td>ffa125f4882c2ba9d9ac531dee4399c4</td>\n",
       "      <td>start_level -&gt; box_complete -&gt; REWARDED -&gt; sta...</td>\n",
       "    </tr>\n",
       "    <tr>\n",
       "      <th>1151</th>\n",
       "      <td>ffa89ce0643ce653e45bc2fcb3491fd4</td>\n",
       "      <td>start_level -&gt; box_complete -&gt; REWARDED -&gt; REW...</td>\n",
       "    </tr>\n",
       "    <tr>\n",
       "      <th>1152</th>\n",
       "      <td>ffa9cf7bb08c4ddaa2814cae437bbee9</td>\n",
       "      <td>start_level -&gt; box_complete -&gt; lose_level</td>\n",
       "    </tr>\n",
       "    <tr>\n",
       "      <th>1153</th>\n",
       "      <td>ffbd3ad282ec49d5081370f18d346e95</td>\n",
       "      <td>start_level -&gt; box_complete</td>\n",
       "    </tr>\n",
       "    <tr>\n",
       "      <th>1154</th>\n",
       "      <td>fffeda73def58ca84be21651950e6f9f</td>\n",
       "      <td>start_level -&gt; box_complete -&gt; REWARDED -&gt; sta...</td>\n",
       "    </tr>\n",
       "  </tbody>\n",
       "</table>\n",
       "<p>1155 rows × 2 columns</p>\n",
       "</div>"
      ],
      "text/plain": [
       "                        user_pseudo_id  \\\n",
       "0     001ab56758356022472c8733566cbaec   \n",
       "1     001daff6aff341f8c689b4031fafae51   \n",
       "2     001fe2fb86263dcd8980cfbe84bdd308   \n",
       "3     0028ffde246d3660ccb6e48ece54d639   \n",
       "4     003547177934245a5cae775495e538ba   \n",
       "...                                ...   \n",
       "1150  ffa125f4882c2ba9d9ac531dee4399c4   \n",
       "1151  ffa89ce0643ce653e45bc2fcb3491fd4   \n",
       "1152  ffa9cf7bb08c4ddaa2814cae437bbee9   \n",
       "1153  ffbd3ad282ec49d5081370f18d346e95   \n",
       "1154  fffeda73def58ca84be21651950e6f9f   \n",
       "\n",
       "                                               sequence  \n",
       "0     start_level -> box_complete -> lose_level -> s...  \n",
       "1     start_level -> box_complete -> lose_level -> I...  \n",
       "2     start_level -> box_complete -> lose_level -> I...  \n",
       "3                           start_level -> box_complete  \n",
       "4     start_level -> box_complete -> lose_level -> I...  \n",
       "...                                                 ...  \n",
       "1150  start_level -> box_complete -> REWARDED -> sta...  \n",
       "1151  start_level -> box_complete -> REWARDED -> REW...  \n",
       "1152          start_level -> box_complete -> lose_level  \n",
       "1153                        start_level -> box_complete  \n",
       "1154  start_level -> box_complete -> REWARDED -> sta...  \n",
       "\n",
       "[1155 rows x 2 columns]"
      ]
     },
     "execution_count": 107,
     "metadata": {},
     "output_type": "execute_result"
    }
   ],
   "source": [
    "# Replace multiple consecutive box_complete events with a single box_complete\n",
    "sequence_df['sequence'] = sequence_df['sequence'].str.replace(r'(box_complete(?:\\s*->\\s*box_complete)*)', 'box_complete', regex=True)\n",
    "sequence_df"
   ]
  },
  {
   "cell_type": "code",
   "execution_count": 108,
   "metadata": {},
   "outputs": [],
   "source": [
    "sequence_df['sequence'] = sequence_df['sequence'] + ' -> drop'"
   ]
  },
  {
   "cell_type": "code",
   "execution_count": 109,
   "metadata": {},
   "outputs": [
    {
     "data": {
      "application/vnd.plotly.v1+json": {
       "config": {
        "plotlyServerURL": "https://plot.ly"
       },
       "data": [
        {
         "link": {
          "source": [
           1,
           2,
           8,
           8,
           3,
           3,
           1,
           2,
           2,
           2,
           7,
           6,
           6,
           7,
           7,
           7,
           6,
           7,
           2,
           5,
           5,
           2,
           3,
           1,
           4,
           2,
           4,
           6,
           4,
           4,
           6,
           4,
           1,
           8,
           7,
           6,
           1,
           4,
           3,
           5,
           8,
           7,
           7,
           8,
           1,
           2,
           3,
           6,
           1
          ],
          "target": [
           2,
           8,
           1,
           3,
           0,
           1,
           0,
           0,
           1,
           7,
           6,
           2,
           7,
           0,
           7,
           8,
           8,
           1,
           5,
           3,
           0,
           3,
           3,
           4,
           2,
           4,
           1,
           1,
           8,
           7,
           0,
           4,
           1,
           0,
           4,
           4,
           7,
           0,
           7,
           7,
           7,
           3,
           2,
           8,
           3,
           6,
           2,
           6,
           8
          ],
          "value": [
           2166,
           659,
           110,
           588,
           272,
           485,
           127,
           458,
           458,
           643,
           392,
           227,
           99,
           166,
           215,
           34,
           33,
           192,
           266,
           194,
           62,
           5,
           323,
           116,
           354,
           271,
           22,
           14,
           6,
           36,
           16,
           48,
           125,
           21,
           59,
           5,
           23,
           33,
           109,
           10,
           14,
           80,
           11,
           1,
           3,
           2,
           4,
           2,
           1
          ]
         },
         "node": {
          "color": "blue",
          "label": [
           "drop",
           "start_level",
           "box_complete",
           "INTER",
           "booster_use",
           "win_level",
           "revive_level",
           "REWARDED",
           "lose_level"
          ],
          "line": {
           "color": "black",
           "width": 0.5
          },
          "pad": 15,
          "thickness": 20
         },
         "type": "sankey"
        }
       ],
       "layout": {
        "font": {
         "size": 10
        },
        "template": {
         "data": {
          "bar": [
           {
            "error_x": {
             "color": "#2a3f5f"
            },
            "error_y": {
             "color": "#2a3f5f"
            },
            "marker": {
             "line": {
              "color": "#E5ECF6",
              "width": 0.5
             },
             "pattern": {
              "fillmode": "overlay",
              "size": 10,
              "solidity": 0.2
             }
            },
            "type": "bar"
           }
          ],
          "barpolar": [
           {
            "marker": {
             "line": {
              "color": "#E5ECF6",
              "width": 0.5
             },
             "pattern": {
              "fillmode": "overlay",
              "size": 10,
              "solidity": 0.2
             }
            },
            "type": "barpolar"
           }
          ],
          "carpet": [
           {
            "aaxis": {
             "endlinecolor": "#2a3f5f",
             "gridcolor": "white",
             "linecolor": "white",
             "minorgridcolor": "white",
             "startlinecolor": "#2a3f5f"
            },
            "baxis": {
             "endlinecolor": "#2a3f5f",
             "gridcolor": "white",
             "linecolor": "white",
             "minorgridcolor": "white",
             "startlinecolor": "#2a3f5f"
            },
            "type": "carpet"
           }
          ],
          "choropleth": [
           {
            "colorbar": {
             "outlinewidth": 0,
             "ticks": ""
            },
            "type": "choropleth"
           }
          ],
          "contour": [
           {
            "colorbar": {
             "outlinewidth": 0,
             "ticks": ""
            },
            "colorscale": [
             [
              0,
              "#0d0887"
             ],
             [
              0.1111111111111111,
              "#46039f"
             ],
             [
              0.2222222222222222,
              "#7201a8"
             ],
             [
              0.3333333333333333,
              "#9c179e"
             ],
             [
              0.4444444444444444,
              "#bd3786"
             ],
             [
              0.5555555555555556,
              "#d8576b"
             ],
             [
              0.6666666666666666,
              "#ed7953"
             ],
             [
              0.7777777777777778,
              "#fb9f3a"
             ],
             [
              0.8888888888888888,
              "#fdca26"
             ],
             [
              1,
              "#f0f921"
             ]
            ],
            "type": "contour"
           }
          ],
          "contourcarpet": [
           {
            "colorbar": {
             "outlinewidth": 0,
             "ticks": ""
            },
            "type": "contourcarpet"
           }
          ],
          "heatmap": [
           {
            "colorbar": {
             "outlinewidth": 0,
             "ticks": ""
            },
            "colorscale": [
             [
              0,
              "#0d0887"
             ],
             [
              0.1111111111111111,
              "#46039f"
             ],
             [
              0.2222222222222222,
              "#7201a8"
             ],
             [
              0.3333333333333333,
              "#9c179e"
             ],
             [
              0.4444444444444444,
              "#bd3786"
             ],
             [
              0.5555555555555556,
              "#d8576b"
             ],
             [
              0.6666666666666666,
              "#ed7953"
             ],
             [
              0.7777777777777778,
              "#fb9f3a"
             ],
             [
              0.8888888888888888,
              "#fdca26"
             ],
             [
              1,
              "#f0f921"
             ]
            ],
            "type": "heatmap"
           }
          ],
          "histogram": [
           {
            "marker": {
             "pattern": {
              "fillmode": "overlay",
              "size": 10,
              "solidity": 0.2
             }
            },
            "type": "histogram"
           }
          ],
          "histogram2d": [
           {
            "colorbar": {
             "outlinewidth": 0,
             "ticks": ""
            },
            "colorscale": [
             [
              0,
              "#0d0887"
             ],
             [
              0.1111111111111111,
              "#46039f"
             ],
             [
              0.2222222222222222,
              "#7201a8"
             ],
             [
              0.3333333333333333,
              "#9c179e"
             ],
             [
              0.4444444444444444,
              "#bd3786"
             ],
             [
              0.5555555555555556,
              "#d8576b"
             ],
             [
              0.6666666666666666,
              "#ed7953"
             ],
             [
              0.7777777777777778,
              "#fb9f3a"
             ],
             [
              0.8888888888888888,
              "#fdca26"
             ],
             [
              1,
              "#f0f921"
             ]
            ],
            "type": "histogram2d"
           }
          ],
          "histogram2dcontour": [
           {
            "colorbar": {
             "outlinewidth": 0,
             "ticks": ""
            },
            "colorscale": [
             [
              0,
              "#0d0887"
             ],
             [
              0.1111111111111111,
              "#46039f"
             ],
             [
              0.2222222222222222,
              "#7201a8"
             ],
             [
              0.3333333333333333,
              "#9c179e"
             ],
             [
              0.4444444444444444,
              "#bd3786"
             ],
             [
              0.5555555555555556,
              "#d8576b"
             ],
             [
              0.6666666666666666,
              "#ed7953"
             ],
             [
              0.7777777777777778,
              "#fb9f3a"
             ],
             [
              0.8888888888888888,
              "#fdca26"
             ],
             [
              1,
              "#f0f921"
             ]
            ],
            "type": "histogram2dcontour"
           }
          ],
          "mesh3d": [
           {
            "colorbar": {
             "outlinewidth": 0,
             "ticks": ""
            },
            "type": "mesh3d"
           }
          ],
          "parcoords": [
           {
            "line": {
             "colorbar": {
              "outlinewidth": 0,
              "ticks": ""
             }
            },
            "type": "parcoords"
           }
          ],
          "pie": [
           {
            "automargin": true,
            "type": "pie"
           }
          ],
          "scatter": [
           {
            "fillpattern": {
             "fillmode": "overlay",
             "size": 10,
             "solidity": 0.2
            },
            "type": "scatter"
           }
          ],
          "scatter3d": [
           {
            "line": {
             "colorbar": {
              "outlinewidth": 0,
              "ticks": ""
             }
            },
            "marker": {
             "colorbar": {
              "outlinewidth": 0,
              "ticks": ""
             }
            },
            "type": "scatter3d"
           }
          ],
          "scattercarpet": [
           {
            "marker": {
             "colorbar": {
              "outlinewidth": 0,
              "ticks": ""
             }
            },
            "type": "scattercarpet"
           }
          ],
          "scattergeo": [
           {
            "marker": {
             "colorbar": {
              "outlinewidth": 0,
              "ticks": ""
             }
            },
            "type": "scattergeo"
           }
          ],
          "scattergl": [
           {
            "marker": {
             "colorbar": {
              "outlinewidth": 0,
              "ticks": ""
             }
            },
            "type": "scattergl"
           }
          ],
          "scattermap": [
           {
            "marker": {
             "colorbar": {
              "outlinewidth": 0,
              "ticks": ""
             }
            },
            "type": "scattermap"
           }
          ],
          "scattermapbox": [
           {
            "marker": {
             "colorbar": {
              "outlinewidth": 0,
              "ticks": ""
             }
            },
            "type": "scattermapbox"
           }
          ],
          "scatterpolar": [
           {
            "marker": {
             "colorbar": {
              "outlinewidth": 0,
              "ticks": ""
             }
            },
            "type": "scatterpolar"
           }
          ],
          "scatterpolargl": [
           {
            "marker": {
             "colorbar": {
              "outlinewidth": 0,
              "ticks": ""
             }
            },
            "type": "scatterpolargl"
           }
          ],
          "scatterternary": [
           {
            "marker": {
             "colorbar": {
              "outlinewidth": 0,
              "ticks": ""
             }
            },
            "type": "scatterternary"
           }
          ],
          "surface": [
           {
            "colorbar": {
             "outlinewidth": 0,
             "ticks": ""
            },
            "colorscale": [
             [
              0,
              "#0d0887"
             ],
             [
              0.1111111111111111,
              "#46039f"
             ],
             [
              0.2222222222222222,
              "#7201a8"
             ],
             [
              0.3333333333333333,
              "#9c179e"
             ],
             [
              0.4444444444444444,
              "#bd3786"
             ],
             [
              0.5555555555555556,
              "#d8576b"
             ],
             [
              0.6666666666666666,
              "#ed7953"
             ],
             [
              0.7777777777777778,
              "#fb9f3a"
             ],
             [
              0.8888888888888888,
              "#fdca26"
             ],
             [
              1,
              "#f0f921"
             ]
            ],
            "type": "surface"
           }
          ],
          "table": [
           {
            "cells": {
             "fill": {
              "color": "#EBF0F8"
             },
             "line": {
              "color": "white"
             }
            },
            "header": {
             "fill": {
              "color": "#C8D4E3"
             },
             "line": {
              "color": "white"
             }
            },
            "type": "table"
           }
          ]
         },
         "layout": {
          "annotationdefaults": {
           "arrowcolor": "#2a3f5f",
           "arrowhead": 0,
           "arrowwidth": 1
          },
          "autotypenumbers": "strict",
          "coloraxis": {
           "colorbar": {
            "outlinewidth": 0,
            "ticks": ""
           }
          },
          "colorscale": {
           "diverging": [
            [
             0,
             "#8e0152"
            ],
            [
             0.1,
             "#c51b7d"
            ],
            [
             0.2,
             "#de77ae"
            ],
            [
             0.3,
             "#f1b6da"
            ],
            [
             0.4,
             "#fde0ef"
            ],
            [
             0.5,
             "#f7f7f7"
            ],
            [
             0.6,
             "#e6f5d0"
            ],
            [
             0.7,
             "#b8e186"
            ],
            [
             0.8,
             "#7fbc41"
            ],
            [
             0.9,
             "#4d9221"
            ],
            [
             1,
             "#276419"
            ]
           ],
           "sequential": [
            [
             0,
             "#0d0887"
            ],
            [
             0.1111111111111111,
             "#46039f"
            ],
            [
             0.2222222222222222,
             "#7201a8"
            ],
            [
             0.3333333333333333,
             "#9c179e"
            ],
            [
             0.4444444444444444,
             "#bd3786"
            ],
            [
             0.5555555555555556,
             "#d8576b"
            ],
            [
             0.6666666666666666,
             "#ed7953"
            ],
            [
             0.7777777777777778,
             "#fb9f3a"
            ],
            [
             0.8888888888888888,
             "#fdca26"
            ],
            [
             1,
             "#f0f921"
            ]
           ],
           "sequentialminus": [
            [
             0,
             "#0d0887"
            ],
            [
             0.1111111111111111,
             "#46039f"
            ],
            [
             0.2222222222222222,
             "#7201a8"
            ],
            [
             0.3333333333333333,
             "#9c179e"
            ],
            [
             0.4444444444444444,
             "#bd3786"
            ],
            [
             0.5555555555555556,
             "#d8576b"
            ],
            [
             0.6666666666666666,
             "#ed7953"
            ],
            [
             0.7777777777777778,
             "#fb9f3a"
            ],
            [
             0.8888888888888888,
             "#fdca26"
            ],
            [
             1,
             "#f0f921"
            ]
           ]
          },
          "colorway": [
           "#636efa",
           "#EF553B",
           "#00cc96",
           "#ab63fa",
           "#FFA15A",
           "#19d3f3",
           "#FF6692",
           "#B6E880",
           "#FF97FF",
           "#FECB52"
          ],
          "font": {
           "color": "#2a3f5f"
          },
          "geo": {
           "bgcolor": "white",
           "lakecolor": "white",
           "landcolor": "#E5ECF6",
           "showlakes": true,
           "showland": true,
           "subunitcolor": "white"
          },
          "hoverlabel": {
           "align": "left"
          },
          "hovermode": "closest",
          "mapbox": {
           "style": "light"
          },
          "paper_bgcolor": "white",
          "plot_bgcolor": "#E5ECF6",
          "polar": {
           "angularaxis": {
            "gridcolor": "white",
            "linecolor": "white",
            "ticks": ""
           },
           "bgcolor": "#E5ECF6",
           "radialaxis": {
            "gridcolor": "white",
            "linecolor": "white",
            "ticks": ""
           }
          },
          "scene": {
           "xaxis": {
            "backgroundcolor": "#E5ECF6",
            "gridcolor": "white",
            "gridwidth": 2,
            "linecolor": "white",
            "showbackground": true,
            "ticks": "",
            "zerolinecolor": "white"
           },
           "yaxis": {
            "backgroundcolor": "#E5ECF6",
            "gridcolor": "white",
            "gridwidth": 2,
            "linecolor": "white",
            "showbackground": true,
            "ticks": "",
            "zerolinecolor": "white"
           },
           "zaxis": {
            "backgroundcolor": "#E5ECF6",
            "gridcolor": "white",
            "gridwidth": 2,
            "linecolor": "white",
            "showbackground": true,
            "ticks": "",
            "zerolinecolor": "white"
           }
          },
          "shapedefaults": {
           "line": {
            "color": "#2a3f5f"
           }
          },
          "ternary": {
           "aaxis": {
            "gridcolor": "white",
            "linecolor": "white",
            "ticks": ""
           },
           "baxis": {
            "gridcolor": "white",
            "linecolor": "white",
            "ticks": ""
           },
           "bgcolor": "#E5ECF6",
           "caxis": {
            "gridcolor": "white",
            "linecolor": "white",
            "ticks": ""
           }
          },
          "title": {
           "x": 0.05
          },
          "xaxis": {
           "automargin": true,
           "gridcolor": "white",
           "linecolor": "white",
           "ticks": "",
           "title": {
            "standoff": 15
           },
           "zerolinecolor": "white",
           "zerolinewidth": 2
          },
          "yaxis": {
           "automargin": true,
           "gridcolor": "white",
           "linecolor": "white",
           "ticks": "",
           "title": {
            "standoff": 15
           },
           "zerolinecolor": "white",
           "zerolinewidth": 2
          }
         }
        },
        "title": {
         "text": "User Flow Sankey Diagram"
        }
       }
      }
     },
     "metadata": {},
     "output_type": "display_data"
    }
   ],
   "source": [
    "# Convert sequences to nodes and links for Sankey diagram\n",
    "sequences = sequence_df['sequence'].str.split(' -> ')\n",
    "\n",
    "# Get all unique events\n",
    "all_events = set()\n",
    "for seq in sequences:\n",
    "    all_events.update(seq)\n",
    "\n",
    "# Create nodes list\n",
    "nodes = list(all_events)\n",
    "\n",
    "# Create links dictionary to count transitions\n",
    "links = {}\n",
    "for seq in sequences:\n",
    "    for i in range(len(seq)-1):\n",
    "        source = seq[i]\n",
    "        target = seq[i+1]\n",
    "        key = (source, target)\n",
    "        links[key] = links.get(key, 0) + 1\n",
    "\n",
    "# Create source, target and value lists for plotting\n",
    "source_list = []\n",
    "target_list = []\n",
    "value_list = []\n",
    "for (source, target), value in links.items():\n",
    "    source_list.append(nodes.index(source))\n",
    "    target_list.append(nodes.index(target))\n",
    "    value_list.append(value)\n",
    "\n",
    "# Create Sankey diagram\n",
    "import plotly.graph_objects as go\n",
    "\n",
    "fig = go.Figure(data=[go.Sankey(\n",
    "    node = dict(\n",
    "        pad = 15,\n",
    "        thickness = 20,\n",
    "        line = dict(color = \"black\", width = 0.5),\n",
    "        label = nodes,\n",
    "        color = \"blue\"\n",
    "    ),\n",
    "    link = dict(\n",
    "        source = source_list,\n",
    "        target = target_list,\n",
    "        value = value_list\n",
    "    )\n",
    ")])\n",
    "\n",
    "fig.update_layout(title_text=\"User Flow Sankey Diagram\", font_size=10)\n",
    "fig.show()"
   ]
  },
  {
   "cell_type": "code",
   "execution_count": null,
   "metadata": {},
   "outputs": [],
   "source": []
  }
 ],
 "metadata": {
  "kernelspec": {
   "display_name": ".venv",
   "language": "python",
   "name": "python3"
  },
  "language_info": {
   "codemirror_mode": {
    "name": "ipython",
    "version": 3
   },
   "file_extension": ".py",
   "mimetype": "text/x-python",
   "name": "python",
   "nbconvert_exporter": "python",
   "pygments_lexer": "ipython3",
   "version": "3.13.3"
  }
 },
 "nbformat": 4,
 "nbformat_minor": 2
}
